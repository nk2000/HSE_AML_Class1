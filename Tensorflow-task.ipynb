{
 "cells": [
  {
   "cell_type": "markdown",
   "metadata": {
    "slideshow": {
     "slide_type": "slide"
    }
   },
   "source": [
    "# Going deeper with Tensorflow\n",
    "\n",
    "In this video, we're going to study the tools you'll use to build deep learning models. Namely, [Tensorflow](https://www.tensorflow.org/).\n",
    "\n",
    "If you're running this notebook outside the course environment, you'll need to install tensorflow:\n",
    "* `pip install tensorflow` should install cpu-only TF on Linux & Mac OS\n",
    "* If you want GPU support from offset, see [TF install page](https://www.tensorflow.org/install/)"
   ]
  },
  {
   "cell_type": "code",
   "execution_count": null,
   "metadata": {
    "collapsed": true
   },
   "outputs": [],
   "source": []
  },
  {
   "cell_type": "code",
   "execution_count": 51,
   "metadata": {
    "collapsed": true
   },
   "outputs": [],
   "source": [
    "import sys\n",
    "sys.path.append(\"..\")\n",
    "import grading"
   ]
  },
  {
   "cell_type": "markdown",
   "metadata": {},
   "source": [
    "# Visualization"
   ]
  },
  {
   "cell_type": "markdown",
   "metadata": {},
   "source": [
    "Plase note that if you are running on the Coursera platform, you won't be able to access the tensorboard instance due to the network setup there. If you run the notebook locally, you should be able to access TensorBoard on http://127.0.0.1:7007/"
   ]
  },
  {
   "cell_type": "code",
   "execution_count": 52,
   "metadata": {},
   "outputs": [
    {
     "name": "stdout",
     "output_type": "stream",
     "text": [
      "/bin/sh: 1: killall: not found\r\n"
     ]
    }
   ],
   "source": [
    "! killall tensorboard\n",
    "import os\n",
    "os.system(\"tensorboard --logdir=/tmp/tboard --port=7007 &\");"
   ]
  },
  {
   "cell_type": "code",
   "execution_count": 53,
   "metadata": {
    "collapsed": true
   },
   "outputs": [],
   "source": [
    "import tensorflow as tf\n",
    "s = tf.InteractiveSession()"
   ]
  },
  {
   "cell_type": "markdown",
   "metadata": {},
   "source": [
    "# Warming up\n",
    "For starters, let's implement a python function that computes the sum of squares of numbers from 0 to N-1."
   ]
  },
  {
   "cell_type": "code",
   "execution_count": 54,
   "metadata": {
    "collapsed": true
   },
   "outputs": [],
   "source": [
    "import numpy as np\n",
    "def sum_sin(N):\n",
    "    return np.sum(np.arange(N)**2)"
   ]
  },
  {
   "cell_type": "code",
   "execution_count": 55,
   "metadata": {},
   "outputs": [
    {
     "name": "stdout",
     "output_type": "stream",
     "text": [
      "CPU times: user 212 ms, sys: 400 ms, total: 612 ms\n",
      "Wall time: 910 ms\n"
     ]
    },
    {
     "data": {
      "text/plain": [
       "662921401752298880"
      ]
     },
     "execution_count": 55,
     "metadata": {},
     "output_type": "execute_result"
    }
   ],
   "source": [
    "%%time\n",
    "sum_sin(10**8)"
   ]
  },
  {
   "cell_type": "markdown",
   "metadata": {},
   "source": [
    "# Tensoflow teaser\n",
    "\n",
    "Doing the very same thing"
   ]
  },
  {
   "cell_type": "code",
   "execution_count": 56,
   "metadata": {
    "collapsed": true
   },
   "outputs": [],
   "source": [
    "# An integer parameter\n",
    "N = tf.placeholder('int64', name=\"input_to_your_function\")\n",
    "\n",
    "# A recipe on how to produce the same result\n",
    "result = tf.reduce_sum(tf.range(N)**2)"
   ]
  },
  {
   "cell_type": "code",
   "execution_count": 57,
   "metadata": {},
   "outputs": [
    {
     "data": {
      "text/plain": [
       "<tf.Tensor 'Sum_2:0' shape=() dtype=int64>"
      ]
     },
     "execution_count": 57,
     "metadata": {},
     "output_type": "execute_result"
    }
   ],
   "source": [
    "result"
   ]
  },
  {
   "cell_type": "code",
   "execution_count": 58,
   "metadata": {},
   "outputs": [
    {
     "name": "stdout",
     "output_type": "stream",
     "text": [
      "CPU times: user 364 ms, sys: 212 ms, total: 576 ms\n",
      "Wall time: 531 ms\n"
     ]
    },
    {
     "data": {
      "text/plain": [
       "662921401752298880"
      ]
     },
     "execution_count": 58,
     "metadata": {},
     "output_type": "execute_result"
    }
   ],
   "source": [
    "%%time\n",
    "result.eval({N: 10**8})"
   ]
  },
  {
   "cell_type": "code",
   "execution_count": 59,
   "metadata": {
    "collapsed": true
   },
   "outputs": [],
   "source": [
    "writer = tf.summary.FileWriter(\"/tmp/tboard\", graph=s.graph)"
   ]
  },
  {
   "cell_type": "markdown",
   "metadata": {},
   "source": [
    "# How does it work?\n",
    "1. Define placeholders where you'll send inputs\n",
    "2. Make symbolic graph: a recipe for mathematical transformation of those placeholders\n",
    "3. Compute outputs of your graph with particular values for each placeholder\n",
    "  * `output.eval({placeholder:value})`\n",
    "  * `s.run(output, {placeholder:value})`\n",
    "\n",
    "So far there are two main entities: \"placeholder\" and \"transformation\"\n",
    "* Both can be numbers, vectors, matrices, tensors, etc.\n",
    "* Both can be int32/64, floats, booleans (uint8) of various size.\n",
    "\n",
    "* You can define new transformations as an arbitrary operation on placeholders and other transformations\n",
    " * `tf.reduce_sum(tf.arange(N)**2)` are 3 sequential transformations of placeholder `N`\n",
    " * There's a tensorflow symbolic version for every numpy function\n",
    "   * `a+b, a/b, a**b, ...` behave just like in numpy\n",
    "   * `np.mean` -> `tf.reduce_mean`\n",
    "   * `np.arange` -> `tf.range`\n",
    "   * `np.cumsum` -> `tf.cumsum`\n",
    "   * If if you can't find the op you need, see the [docs](https://www.tensorflow.org/api_docs/python).\n",
    "   \n",
    "`tf.contrib` has many high-level features, may be worth a look."
   ]
  },
  {
   "cell_type": "code",
   "execution_count": 60,
   "metadata": {
    "collapsed": true
   },
   "outputs": [],
   "source": [
    "with tf.name_scope(\"Placeholders_examples\"):\n",
    "    # Default placeholder that can be arbitrary float32\n",
    "    # scalar, vertor, matrix, etc.\n",
    "    arbitrary_input = tf.placeholder('float32')\n",
    "\n",
    "    # Input vector of arbitrary length\n",
    "    input_vector = tf.placeholder('float32', shape=(None,))\n",
    "\n",
    "    # Input vector that _must_ have 10 elements and integer type\n",
    "    fixed_vector = tf.placeholder('int32', shape=(10,))\n",
    "\n",
    "    # Matrix of arbitrary n_rows and 15 columns\n",
    "    # (e.g. a minibatch your data table)\n",
    "    input_matrix = tf.placeholder('float32', shape=(None, 15))\n",
    "    \n",
    "    # You can generally use None whenever you don't need a specific shape\n",
    "    input1 = tf.placeholder('float64', shape=(None, 100, None))\n",
    "    input2 = tf.placeholder('int32', shape=(None, None, 3, 224, 224))\n",
    "\n",
    "    # elementwise multiplication\n",
    "    double_the_vector = input_vector*2\n",
    "\n",
    "    # elementwise cosine\n",
    "    elementwise_cosine = tf.cos(input_vector)\n",
    "\n",
    "    # difference between squared vector and vector itself plus one\n",
    "    vector_squares = input_vector**2 - input_vector + 1"
   ]
  },
  {
   "cell_type": "code",
   "execution_count": 61,
   "metadata": {
    "collapsed": true
   },
   "outputs": [],
   "source": [
    "my_vector =  tf.placeholder('float32', shape=(None,), name=\"VECTOR_1\")\n",
    "my_vector2 = tf.placeholder('float32', shape=(None,))\n",
    "my_transformation = my_vector * my_vector2 / (tf.sin(my_vector) + 1)"
   ]
  },
  {
   "cell_type": "code",
   "execution_count": 62,
   "metadata": {},
   "outputs": [
    {
     "name": "stdout",
     "output_type": "stream",
     "text": [
      "Tensor(\"truediv_1:0\", shape=(?,), dtype=float32)\n"
     ]
    }
   ],
   "source": [
    "print(my_transformation)"
   ]
  },
  {
   "cell_type": "code",
   "execution_count": 63,
   "metadata": {},
   "outputs": [
    {
     "name": "stdout",
     "output_type": "stream",
     "text": [
      "[ 0.  1.  2.  3.  4.]\n",
      "[ 4.  3.  2.  1.  0.]\n"
     ]
    },
    {
     "data": {
      "text/plain": [
       "array([ 0.        ,  1.62913239,  2.09501147,  2.62899613,  0.        ], dtype=float32)"
      ]
     },
     "execution_count": 63,
     "metadata": {},
     "output_type": "execute_result"
    }
   ],
   "source": [
    "dummy = np.arange(5).astype('float32')\n",
    "print(dummy)\n",
    "print(dummy[::-1])\n",
    "my_transformation.eval({my_vector:dummy, my_vector2:dummy[::-1]})"
   ]
  },
  {
   "cell_type": "code",
   "execution_count": 64,
   "metadata": {
    "collapsed": true
   },
   "outputs": [],
   "source": [
    "writer.add_graph(my_transformation.graph)\n",
    "writer.flush()"
   ]
  },
  {
   "cell_type": "markdown",
   "metadata": {},
   "source": [
    "TensorBoard allows writing scalars, images, audio, histogram. You can read more on tensorboard usage [here](https://www.tensorflow.org/get_started/graph_viz)."
   ]
  },
  {
   "cell_type": "markdown",
   "metadata": {},
   "source": [
    "# Summary\n",
    "* Tensorflow is based on computation graphs\n",
    "* The graphs consist of placehlders and transformations"
   ]
  },
  {
   "cell_type": "markdown",
   "metadata": {},
   "source": [
    "# Mean squared error\n",
    "\n",
    "Your assignment is to implement mean squared error in tensorflow."
   ]
  },
  {
   "cell_type": "code",
   "execution_count": 65,
   "metadata": {
    "collapsed": true
   },
   "outputs": [],
   "source": [
    "with tf.name_scope(\"MSE\"):\n",
    "    y_true = tf.placeholder(\"float32\", shape=(None,), name=\"y_true\")\n",
    "    y_predicted = tf.placeholder(\"float32\", shape=(None,), name=\"y_predicted\")\n",
    "    # Your code goes here\n",
    "    # You want to use tf.reduce_mean\n",
    "    # mse = tf.<...>\n",
    "    mse = tf.reduce_mean((y_true - y_predicted)**2)\n",
    "def compute_mse(vector1, vector2):\n",
    "    return mse.eval({y_true: vector1, y_predicted: vector2})"
   ]
  },
  {
   "cell_type": "code",
   "execution_count": 66,
   "metadata": {},
   "outputs": [
    {
     "name": "stdout",
     "output_type": "stream",
     "text": [
      "0.25\n"
     ]
    }
   ],
   "source": [
    "print(compute_mse([1,1,0,1],[1,1,1,1]))\n",
    "writer.add_graph(mse.graph)\n",
    "writer.flush()"
   ]
  },
  {
   "cell_type": "markdown",
   "metadata": {},
   "source": [
    "Tests and result submission. Please use the credentials obtained from the Coursera assignment page."
   ]
  },
  {
   "cell_type": "code",
   "execution_count": 67,
   "metadata": {
    "collapsed": true
   },
   "outputs": [],
   "source": [
    "import submit"
   ]
  },
  {
   "cell_type": "code",
   "execution_count": 68,
   "metadata": {},
   "outputs": [
    {
     "name": "stdout",
     "output_type": "stream",
     "text": [
      "Submitted to Coursera platform. See results on assignment page!\n"
     ]
    }
   ],
   "source": [
    "submit.submit_mse(compute_mse, 'nk1768@qq.com', 'UvQNsClGOGeityO9')"
   ]
  },
  {
   "cell_type": "markdown",
   "metadata": {},
   "source": [
    "# Variables\n",
    "\n",
    "The inputs and transformations have no value outside function call. This isn't too comfortable if you want your model to have parameters (e.g. network weights) that are always present, but can change their value over time.\n",
    "\n",
    "Tensorflow solves this with `tf.Variable` objects.\n",
    "* You can assign variable a value at any time in your graph\n",
    "* Unlike placeholders, there's no need to explicitly pass values to variables when `s.run(...)`-ing\n",
    "* You can use variables the same way you use transformations \n",
    " "
   ]
  },
  {
   "cell_type": "code",
   "execution_count": 85,
   "metadata": {
    "collapsed": true
   },
   "outputs": [],
   "source": [
    "# Creating a shared variable\n",
    "shared_vector_1 = tf.Variable(initial_value=np.ones(5),\n",
    "                              name=\"example_variable\")"
   ]
  },
  {
   "cell_type": "code",
   "execution_count": 88,
   "metadata": {},
   "outputs": [
    {
     "name": "stdout",
     "output_type": "stream",
     "text": [
      "<tf.Variable 'example_variable_2:0' shape=(5,) dtype=float64_ref>\n",
      "Initial value [ 1.  1.  1.  1.  1.]\n",
      "<tf.Variable 'example_variable_2:0' shape=(5,) dtype=float64_ref>\n"
     ]
    }
   ],
   "source": [
    "# Initialize variable(s) with initial values\n",
    "s.run(tf.global_variables_initializer())\n",
    "print(shared_vector_1)\n",
    "# Evaluating shared variable (outside symbolicd graph)\n",
    "print(\"Initial value\", s.run(shared_vector_1))\n",
    "print(shared_vector_1)\n",
    "# Within symbolic graph you use them just\n",
    "# as any other inout or transformation, not \"get value\" needed"
   ]
  },
  {
   "cell_type": "code",
   "execution_count": 71,
   "metadata": {},
   "outputs": [
    {
     "name": "stdout",
     "output_type": "stream",
     "text": [
      "New value [ 0.  1.  2.  3.  4.]\n"
     ]
    }
   ],
   "source": [
    "# Setting a new value\n",
    "s.run(shared_vector_1.assign(np.arange(5)))\n",
    "\n",
    "# Getting that new value\n",
    "print(\"New value\", s.run(shared_vector_1))"
   ]
  },
  {
   "cell_type": "markdown",
   "metadata": {},
   "source": [
    "# tf.gradients - why graphs matter\n",
    "* Tensorflow can compute derivatives and gradients automatically using the computation graph\n",
    "* True to its name it can manage matrix derivatives\n",
    "* Gradients are computed as a product of elementary derivatives via the chain rule:\n",
    "\n",
    "$$ {\\partial f(g(x)) \\over \\partial x} = {\\partial f(g(x)) \\over \\partial g(x)}\\cdot {\\partial g(x) \\over \\partial x} $$\n",
    "\n",
    "It can get you the derivative of any graph as long as it knows how to differentiate elementary operations"
   ]
  },
  {
   "cell_type": "code",
   "execution_count": 72,
   "metadata": {
    "collapsed": true
   },
   "outputs": [],
   "source": [
    "my_scalar = tf.placeholder('float32')\n",
    "\n",
    "scalar_squared = my_scalar**2\n",
    "\n",
    "# A derivative of scalar_squared by my_scalar\n",
    "derivative = tf.gradients(scalar_squared, [my_scalar, ])"
   ]
  },
  {
   "cell_type": "code",
   "execution_count": 73,
   "metadata": {},
   "outputs": [
    {
     "data": {
      "text/plain": [
       "[<tf.Tensor 'gradients_3/pow_6_grad/Reshape:0' shape=<unknown> dtype=float32>]"
      ]
     },
     "execution_count": 73,
     "metadata": {},
     "output_type": "execute_result"
    }
   ],
   "source": [
    "derivative"
   ]
  },
  {
   "cell_type": "code",
   "execution_count": 74,
   "metadata": {},
   "outputs": [
    {
     "name": "stdout",
     "output_type": "stream",
     "text": [
      "(50,)\n"
     ]
    },
    {
     "data": {
      "image/png": "[encoded data removed]",
      "text/plain": [
       "<matplotlib.figure.Figure at 0x7f26a0b53710>"
      ]
     },
     "metadata": {},
     "output_type": "display_data"
    }
   ],
   "source": [
    "import matplotlib.pyplot as plt\n",
    "%matplotlib inline\n",
    "\n",
    "x = np.linspace(-3, 3)\n",
    "print(x.shape)\n",
    "x_squared, x_squared_der = s.run([scalar_squared, derivative[0]],\n",
    "                                 {my_scalar:x})\n",
    "\n",
    "plt.plot(x, x_squared,label=\"$x^2$\")\n",
    "plt.plot(x, x_squared_der, label=r\"$\\frac{dx^2}{dx}$\")\n",
    "plt.legend();"
   ]
  },
  {
   "cell_type": "markdown",
   "metadata": {},
   "source": [
    "# Why that rocks"
   ]
  },
  {
   "cell_type": "code",
   "execution_count": 75,
   "metadata": {
    "collapsed": true
   },
   "outputs": [],
   "source": [
    "my_vector = tf.placeholder('float32', [None])\n",
    "# Compute the gradient of the next weird function over my_scalar and my_vector\n",
    "# Warning! Trying to understand the meaning of that function may result in permanent brain damage\n",
    "weird_psychotic_function = tf.reduce_mean(\n",
    "    (my_vector+my_scalar)**(1+tf.nn.moments(my_vector,[0])[1]) + \n",
    "    1./ tf.atan(my_scalar))/(my_scalar**2 + 1) + 0.01*tf.sin(\n",
    "    2*my_scalar**1.5)*(tf.reduce_sum(my_vector)* my_scalar**2\n",
    "                      )*tf.exp((my_scalar-4)**2)/(\n",
    "    1+tf.exp((my_scalar-4)**2))*(1.-(tf.exp(-(my_scalar-4)**2)\n",
    "                                    )/(1+tf.exp(-(my_scalar-4)**2)))**2\n",
    "\n",
    "der_by_scalar = tf.gradients(weird_psychotic_function, my_scalar)\n",
    "der_by_vector = tf.gradients(weird_psychotic_function, my_vector)"
   ]
  },
  {
   "cell_type": "code",
   "execution_count": 76,
   "metadata": {},
   "outputs": [
    {
     "data": {
      "image/png": "[encoded data removed]",
      "text/plain": [
       "<matplotlib.figure.Figure at 0x7f26a064f978>"
      ]
     },
     "metadata": {},
     "output_type": "display_data"
    }
   ],
   "source": [
    "# Plotting the derivative\n",
    "scalar_space = np.linspace(1, 7, 100)\n",
    "\n",
    "y = [s.run(weird_psychotic_function, {my_scalar:x, my_vector:[1, 2, 3]})\n",
    "     for x in scalar_space]\n",
    "\n",
    "plt.plot(scalar_space, y, label='function')\n",
    "\n",
    "y_der_by_scalar = [s.run(der_by_scalar,\n",
    "                         {my_scalar:x, my_vector:[1, 2, 3]})\n",
    "                   for x in scalar_space]\n",
    "\n",
    "plt.plot(scalar_space, y_der_by_scalar, label='derivative')\n",
    "plt.grid()\n",
    "plt.legend();"
   ]
  },
  {
   "cell_type": "markdown",
   "metadata": {},
   "source": [
    "# Almost done - optimizers\n",
    "\n",
    "While you can perform gradient descent by hand with automatic grads from above, tensorflow also has some optimization methods implemented for you. Recall momentum & rmsprop?"
   ]
  },
  {
   "cell_type": "code",
   "execution_count": 77,
   "metadata": {
    "collapsed": true
   },
   "outputs": [],
   "source": [
    "y_guess = tf.Variable(np.zeros(2, dtype='float32'))\n",
    "y_true = tf.range(1, 3, dtype='float32')\n",
    "loss = tf.reduce_mean((y_guess - y_true + tf.random_normal([2]))**2) \n",
    "#loss = tf.reduce_mean((y_guess - y_true)**2) \n",
    "optimizer = tf.train.MomentumOptimizer(0.01, 0.5).minimize(\n",
    "    loss, var_list=y_guess)"
   ]
  },
  {
   "cell_type": "code",
   "execution_count": 100,
   "metadata": {},
   "outputs": [
    {
     "name": "stdout",
     "output_type": "stream",
     "text": [
      "[ 1.  2.]\n",
      "1 1 2 3 4\n"
     ]
    }
   ],
   "source": [
    "y_true_value = s.run(y_true)\n",
    "print(y_true_value)\n",
    "X, Y = np.meshgrid(level_x, level_y)\n",
    "print(*[1,1,2,3,4])"
   ]
  },
  {
   "cell_type": "code",
   "execution_count": 99,
   "metadata": {},
   "outputs": [
    {
     "name": "stdout",
     "output_type": "stream",
     "text": [
      "Line2D(_line0)\n"
     ]
    },
    {
     "data": {
      "image/png": "[encoded data removed]",
      "text/plain": [
       "<matplotlib.figure.Figure at 0x7f2668168cc0>"
      ]
     },
     "metadata": {},
     "output_type": "display_data"
    }
   ],
   "source": [
    "from matplotlib import animation, rc\n",
    "import matplotlib_utils\n",
    "from IPython.display import HTML, display_html\n",
    "\n",
    "fig, ax = plt.subplots()\n",
    "y_true_value = s.run(y_true)\n",
    "level_x = np.arange(0, 2, 0.02)\n",
    "level_y = np.arange(0, 3, 0.02)\n",
    "X, Y = np.meshgrid(level_x, level_y)\n",
    "Z = (X - y_true_value[0])**2 + (Y - y_true_value[1])**2\n",
    "ax.set_xlim(-0.02, 2)\n",
    "ax.set_ylim(-0.02, 3)\n",
    "s.run(tf.global_variables_initializer())\n",
    "ax.scatter(*s.run(y_true), c='red')\n",
    "contour = ax.contour(X, Y, Z, 10)\n",
    "ax.clabel(contour, inline=1, fontsize=10)\n",
    "line, = ax.plot([], [], lw=2)\n",
    "print(line)\n",
    "\n",
    "def init():\n",
    "    line.set_data([], [])\n",
    "    return (line,)\n",
    "\n",
    "guesses = [s.run(y_guess)]\n",
    "\n",
    "def animate(i):\n",
    "    s.run(optimizer)\n",
    "    guesses.append(s.run(y_guess))\n",
    "    line.set_data(*zip(*guesses))\n",
    "    return (line,)\n",
    "\n",
    "#anim = animation.FuncAnimation(fig, animate, init_func=init,frames=400, interval=20, blit=True)"
   ]
  },
  {
   "cell_type": "code",
   "execution_count": 79,
   "metadata": {},
   "outputs": [
    {
     "data": {
      "text/html": [
       "<img src=\"data:image/jpeg;base64,/9j/4AAQSkZJRgABAQAAAQABAAD/2wBDAAIBAQEBAQIBAQECAgICAgQDAgICAgUEBAMEBgUGBgYFBgYGBwkIBgcJBwYGCAsICQoKCgoKBggLDAsKDAkKCgr/2wBDAQICAgICAgUDAwUKBwYHCgoKCgoKCgoKCgoKCgoKCgoKCgoKCgoKCgoKCgoKCgoKCgoKCgoKCgoKCgoKCgoKCgr/wAARCAEgAbADASIAAhEBAxEB/8QAHwAAAQUBAQEBAQEAAAAAAAAAAAECAwQFBgcICQoL/8QAtRAAAgEDAwIEAwUFBAQAAAF9AQIDAAQRBRIhMUEGE1FhByJxFDKBkaEII0KxwRVS0fAkM2JyggkKFhcYGRolJicoKSo0NTY3ODk6Q0RFRkdISUpTVFVWV1hZWmNkZWZnaGlqc3R1dnd4eXqDhIWGh4iJipKTlJWWl5iZmqKjpKWmp6ipqrKztLW2t7i5usLDxMXGx8jJytLT1NXW19jZ2uHi4%2BTl5ufo6erx8vP09fb3%2BPn6/8QAHwEAAwEBAQEBAQEBAQAAAAAAAAECAwQFBgcICQoL/8QAtREAAgECBAQDBAcFBAQAAQJ3AAECAxEEBSExBhJBUQdhcRMiMoEIFEKRobHBCSMzUvAVYnLRChYkNOEl8RcYGRomJygpKjU2Nzg5OkNERUZHSElKU1RVVldYWVpjZGVmZ2hpanN0dXZ3eHl6goOEhYaHiImKkpOUlZaXmJmaoqOkpaanqKmqsrO0tba3uLm6wsPExcbHyMnK0tPU1dbX2Nna4uPk5ebn6Onq8vP09fb3%2BPn6/9oADAMBAAIRAxEAPwD9/KKKKACiiigAooooAKKKKACiiigAooooAKKKKACiiigAooooAKKKKACiiigAooooAKKKKACiiigAooooAKKKKACiiigAooooAKKKKACiiigAooooAKKKKACiiigAooooAKKKKACiiigAooooAKKKKACiiigAorj/AAR%2B0J8A/iZ431n4Z/Dj44eD/EHiTw5JJH4h8P6J4ltbu%2B0t0kMTrcQRSNJAVkBQh1GGG088VZtfjb8Gb74p3PwLsvi54Ym8b2dgL288HRa/btqsFqQpE72gfzljIdPnK7fmXnkUAdPRRRQAUUUUAFFFFABRRRQAUUUUAFFFFABRRRQAUUUUAFFFFABRRRQAUUUUAFFFFABRRRQAUUUUAFFFFABRRRQAUUUUAFFFFABRRRQAUUUUAFFFFABRRRQAUUUUAFFFFABRRRQAUUUUAfIz%2BIrvxH/wUT0j40aVp3xZ1nw/4Z8I6/pWr2XiP4WX%2Bn6b4Ukmn0yMNpUo06CbVWu5bUtJiS%2BRUQyxvbxjbLy/g74f/EGL9qTw98N5fhR4oh17Qf2nfEnj3WvGcvhq6TSpvDt5oWp29tImpmP7NPIVvbDT/sqyGZPszMYxHCr19w0UAeIftr%2BO/wBp34WeFtF8bfAPx94D022ufF/hzw/qFj4v8B3uqyO%2Bq67Y6X9ojlttVsxGIkvDJ5ZR95jA3oDkWf8AhB/%2BChf/AEdB8Gf/AAw%2Brf8AzUUft4f8kQ0P/ss3w4/9TXRK9moA8Z/4Qf8A4KF/9HQfBn/ww%2Brf/NRVbWdA/bz8OaRdeIPEP7W3wQsLCyt3nvb29%2BB2qRQ28SAs0ju3ikKigAkkkAAZrtvhz8ddL%2BIPxC8S/DO58F65oGp%2BHTHIkWuxQx/2nZvJNEt5biOVy0JlglTLBW4UlQHUnwnxj4Y%2BMnh7SfE/w8%2BNujX%2BsaZ8RPFEvhqz8ZS%2BM3nuFS8eQ2EkOlRwrDawQsyQuY2EpCNOwKqSOulhHOfLN2emnVp9tbOyu/6dsZ1Uo3Svv/X3lHxB8b/27NYt/Cy/AD9pj4A%2BOLnxXqV3bWWPhRqtnboLWBp58y/8JHKfNCqAsRUFtwJKoC47H4Paz%2B3j8Zfh1p3xD0P9pT4RWkd4JYrqwvPgJqyz2V1DK8FxbSj/AISjiSKaOSNscbkOOKzfC3wc%2BK/xk%2BI914s8Z%2BCNU8Aatplhpl2de32sscviW1M0TXVtHHI3m272k8sT7wm%2BO5ZPvLlPb/gn8K5vhL4RuNG1LxGNX1PUtYvNV1nU0sVtUuLu5lMkjJCpYRoMgBdzHC5LMSSdcTTwtKlyxfvffvfqtNrbWflrpNKVWUrvb%2BvmeEeBx/wWR8RfFHWNF8XeKPgJ4e8H2FxPDpniCf4dapc32qbWxHMlnF4gKRRuAW/eThxkZTOcegf8IP8A8FC/%2BjoPgz/4YfVv/mor2aiuKclN3UUvS/6tm0U0tXc8Z/4Qf/goX/0dB8Gf/DD6t/8ANRR/wg//AAUL/wCjoPgz/wCGH1b/AOaivZqw/iF8T/ht8JPDsni/4qfEDRPDWlQ/63Ute1SGzgXjODJKyrn8amMZSdoq7K3PNf8AhB/%2BChf/AEdB8Gf/AAw%2Brf8AzUUf8IP/AMFC/wDo6D4M/wDhh9W/%2BaiuQn/4Kh/BjxncPpn7Lfwu%2BInxlulcx/afAPhOX%2BzEkzgB9SvDBaBf9pZH78HFNHiv/gqv8XOfD3wo%2BFXwe0%2BX5Wl8V65ceJtVjH98QWQgtVb2M7jPr1rs/s/ER/i2h/iaT%2B7WX/kpfJLrodj/AMIP/wAFC/8Ao6D4M/8Ahh9W/wDmorK8XH9tXwBpZ1vx5%2B2j8BNEsl%2B9eav8F9Stoh/wOTxUB%2BtYn/DB3xr%2BIH779or/AIKJfFfXc8PpvgZ7TwnYsvdStjGbgj63BODyTWt4R/4JZ/sB%2BE9UGv3H7NOh%2BItT6vqnjiWfX7h267i%2BoyTHOeeMY7Yo9lgYfHVcv8Mf1k1%2BQWgup4x4q/4KMP4T1I6Kf%2BCo37O2tXwyBZeD/gRrmuzE%2BgTTvEs5J7YxWb/w3d%2B3rr//ACSnwjrXi1H/AOPe8tP2O9a022l9CJdT8W2w2%2B/P0r7m8K%2BCvBvgTTRovgjwlpmjWa/dtNKsI7eIf8BjUD9K06Pa4CPw0pP1lb8Ix/ULw7HwPH8av%2BDgjxA4bwj%2BzN8I7OBz8k3jHRfsJx6lLTxNeMv0IzXffCy1/wCC7ev%2BI7T/AIW94p/ZT8N6I%2B77ZLo/hPxHqd9F8jbdsTalBE3z7QcyjAJPJAB%2BuqKieIpSjaNKK/8AAm/xl%2BgnJdjxn/hB/wDgoX/0dB8Gf/DD6t/81FH/AAg//BQv/o6D4M/%2BGH1b/wCaivZqK5STxn/hB/8AgoX/ANHQfBn/AMMPq3/zUUf8IP8A8FC/%2BjoPgz/4YfVv/mor2aigDxn/AIQf/goX/wBHQfBn/wAMPq3/AM1FH/CD/wDBQv8A6Og%2BDP8A4YfVv/mor2aigDxn/hB/%2BChf/R0HwZ/8MPq3/wA1FH/CD/8ABQvt%2B1B8Gf8Aww%2Brf/NRXs1FAHxJ4k1P/g4i8P7pdK0j9kfX0H3E0%2Bw8RW8jD3E96qg/8CNYI/aJ/wCC63hg%2Bd8Sv2XvBot1/wBZP4J8CQ6wf%2BAxyeMLaRv%2B%2BRX3zRXZHE0bWlRi/wDwJflJ/kVzLsfK/wCz98Sv%2BChPx%2B0zUr9/GnhvwRNpk8cU1j8Qf2YtX06WYspO6EjxY6TKMYLIxAJA71pfEvxF/wAFBvh74t8EeC7f9oL4M6he%2BNvEj6Xbr/wpTVYRaxRWNzeTXJ/4qZt4VLbbs%2BXLSKNwr6Wrzbx/%2BzPoHjv4y6D8dU%2BI/jDSdb8O288NhbafrKyaeVmiaKQtZ3EcsIYqeXRVf5R83XMU5Yd13Jq0bOy1lrZ27PfW/QFy3PBf2g/jh/wUO%2BCWpXmmaH8V/hH4kfQPDMniXxhJD8GdStk0nR42kDT5fxOTNKfJmKQqAWELfMOM60Hxz/aoufinb/CGL9rP4VnUrm7SyS7/AOGbde%2BwrfvaC8Wxa6/4SXyluTbETeUWB2%2B4xXb/ABj/AGSvHXxJ8U31xpHxXtLTR/Fvh6w0bx8l1ope9u7e1mkk3WsiSpHCZlkeGRWjZQrFkw2c8PqP7PH7SK6v4g8LaD4b06z0/TfFeu%2BL9B8S/wBqKf7Sv5bcppVsIBmSLySyrK78MLddmRIQnXTo4GpSScrO3e333XR9F038qSg0dT4Q179rv4gavqvh/wACftzfs%2Ba1qGhXAg1ux0r4O6hcTafISQEnRPFZaIkq2AwGcH0rf/4Qf/goX/0dB8Gf/DD6t/8ANRXF/sZeCtWfxvoXiLRPBHiDw54Z8GfCDTvCaQeJdBm0271HUzMJrl3imVXkEIiTE2NjyXc5RnBLH0f4l/ttfsqfBj4q2/wW%2BMHxs0fwr4gu7OO5s4vEbPZW1wjlgoS7mVbdnypygk3jIyBuGeethJKu6dFOVlfRXfntfyfW1yXHWyMz/hB/%2BChf/R0HwZ/8MPq3/wA1FH/CD/8ABQv/AKOg%2BDP/AIYfVv8A5qK9f0vVdM1zTodX0XUoLy0uYxJb3VrMskcqHoyspIYH1FT1x7EnjP8Awg//AAUL/wCjoPgz/wCGH1b/AOaivP8AwGP%2BCyGo/FLVfB/xL8UfATSfDkFvLNo3i/R/h1ql9HeYlVUhltpPEEMsEpRi5wHjGxhvPy5%2BpqKuM1FNOKd/XTzWv53Jaba1Pmf48eIv%2BCh/wV%2BHFx41sPjv8F9d1F7q3sdG0I/BrV7RtRvriVYbeBZB4jl2lpHUE7DhdzHhTV/4ieI/2wPhBo9pr3xY/ba%2BAnh2zvb2Ozgu9W%2BCmqQwtcPnam9/FIAzg8nA47V6B8VvgFqvxB%2BJ3hf4raX8TdStJfCt2bq28M30Edzo93N9nuIVmki2rKkyi5YrIkgA2qSjEDHC/tNQ/EnxB4m8NL4X%2BFfixvF2g3kEnhzWNKeCbQLk3Pl29/HeCQsUiSCSfJliRyozCxc7R10aVCqoQv3bezXZa6WVt9d3poZTnUhzO3a39I2bTwl/wUAv7WK/sP2qvgrPBPGskM0PwK1VkkQjIZSPFOCCDkEVJ/wg/wDwUL/6Og%2BDP/hh9W/%2BaivNdS%2BMuueHtf0z4uRfEy50Hw1a%2BK9StLHwjZ20MenQeGNKW4TULuaLZv377d3VwRtCRqnDkN7F8G/j74n%2BIXjWbwN47%2BFzeFr2Xw3a6/pVrLq4uZ3sppHj23MYjX7NOrpgx5cfNw5KsqzVwVWnHmWq/L/O11e2g4V4SdjjNS8Y/tm/CX40/Crw18Ufi38MPEvh/wAeeNbvQdTtNA%2BF2o6ReW4j8P6vqcc0VxNrl2gPm6dGjK0JysjYKkA19A14z%2B1B/wAlv/Zx/wCyzX3/AKhXiivZq4zYKKKKACiiigAooooAKKKKACiiigDxn9vD/kiGh/8AZZvhx/6muiV0/gH9pT4cfFD4t%2BIvhB4Dg1jUbnwoGj17Wo9HlXS7a8V1VrEXTAJJcru3MibtoByQRiuY/bw/5Ihof/ZZvhx/6muiV7KiJGCI0CgkkgDHJ5Jq4umovmV301tb/P00Jak2rM8u%2BLvwe%2BKHi/41eDviZ8MfGOkeHP7Ds72013Ubqwe8ub%2BynMTGzSHckajfEsgmdm2OgxGwZs9XafB34fJ4nsPHus%2BHrbV/EemWrW9l4i1W2jlvIUZmLBH2gR53EHYFyMA8AV09FW69VxUb2sraaaeb3e//AABKnFNvuFVtY1nSPD2lXOva/qttY2NnA015e3k6xRQRqMs7uxAVQASSTgAVT8bjxq3hHUV%2BHEulprptWGlPrUUj2izY%2BUyrGyuyDuFZSemR1rxI634q/ae/ZI8b/C/4i32k6V430d7vw94oxGYLAalAUeGULIzMltcxtbTKCzER3O3cWXNOlR9ouZvS6T7q/W3b9TRK50PxC/a50a2t/C6/s/aJp3xJufFUeoXGm/2P4khjtpYLKBZpglwFkR52EkYjh%2BXduLFkVGYeLeI/2k/G2seIvHnx48DfE3XI38H2eka/o3gW/mt4dP1fwsSseoRLGU3C/W5ttShLl2MU0duufLlUHV8I/Br4i/Gf40%2BIfGll4M1/4Z3UA0vV5dQ1PTY2iTxVbyPb3Eluqybby2ubGOGOZl2hl2bX3l9nr/gL9kj4Z6b4G0zw78X/AA5oHjjU7DXb3WhqeqeG4hFDfXVzJcubaGQym3iV5SI497lAifMSoNelfA4RWau9L7N66vvHbTRp63NPcid/418PXXjjwNqfhfTfFeqaDNqumy28GtaQUjvLBpEKrPF5qMqyoSGG9CARyp6V4z8Pf%2BCZ37IngzxFH498YeA7r4ieK05bxb8UtVl8QX5bsym7LRwkdvJjjA7CvfaK82nicRRg405OKe9tPxWvyvbyM1KSWgy3t4LSBLW1gSOKNAsccahVVQMAADoBT6KKwEFFFc/8SPiv8Lfg34bk8ZfF34k6B4V0iLPm6p4j1iCxt04zzJMyqPzpqMpOyV2NJydktToKK%2BVbz/gsN%2Byj4lvJdI/Zo8N/Eb4330LlJYvhD4AvNTtUYcfNfyrDYgZ4z5%2BB37UwftEf8FW/iv8Au/hN/wAE/PB3w9tZPmg1f4x/FJJZdnYtY6NDclWxztadT2OOtdX1HEr40o/4mo/g3f8AA6fqWIXxpR/xNL8G7/gfVtFfKY/Z0/4KwfEX/S/iR/wUZ8HeBkk4l0v4VfByGTYO4W61i5ujn38ketL/AMOsh4k/efF//goR%2B0x4saTm5th8UTo1rJ6jydIgtcL/ALJJ%2BtH1fDx%2BKsvkpP8ASKD2FCPxVV8lJ/okfVTukal3YKoGSScACuR8S/tBfAXwYzJ4w%2BN3hDSSn3xqXiW1gK/XfIMV4Kn/AARR/wCCal2wm8Xfs%2BXXimbOZJ/GfjjWtZaRvUi8vJF/IAV13hr/AIJX/wDBNPwkqjRP2BvhAGT7st18PdPuJB/wOWJm/WjlwC%2B1J/8AbsV%2BcmHLgl9qT%2BSX5yZtar/wUO/YB0Jimt/ty/B6zK/eF18TNKjI/wC%2BrgVjzf8ABUv/AIJoQNtf/goJ8Fyf9j4m6W38p67DSv2Nf2QdCULon7Knw2swv3Ra%2BBtPjx/3zCK2If2d/wBn%2B3XZB8DPByD0TwzaD%2BUdF8v7T/8AJP8AIP8AYe0//Jf8jzq2/wCCon/BNS7YJD/wUE%2BCuT0D/FDSl/8AQrgVvaN%2B3p%2Bwz4iYJ4f/AGz/AIT3xb7os/iLpkuf%2B%2BZzXSXX7N/7O96uy9%2BAnguYHqJfC1ow/WOsHWP2HP2KfEKlNf8A2PvhbfBvvC8%2BH%2Bmy5/76hNH/AAn/AN//AMkD/Yf7/wD5Kdn4X%2BK3wu8blV8F/EnQNXLfdGl6xBcZ%2Bnlsa36%2BdPFH/BIn/gl74vDDVv2B/hVFu6nS/BtrYn8DbIhFYB/4Iv8A7BGknz/hr4P8beBrkf6u68DfFnxDphj/AN1Ir7yx/wB8UcmAe05L1in%2BUg5cE9pyXrFP8pH1VRXyp/w7X%2BLPg7/Svgj/AMFR/wBojQrhf9VD4n1/TvE9qvplNTspZG/GWk/4Vb/wWO%2BGf/Im/tY/Bf4oQdfI%2BIPw3vNBuSPT7Rpd1LGD/tfZ8f7NP6tRl8FaPzUo/mmvxD6vRl8NVfNSj%2Baa/E%2BrKK%2BUT%2B2h%2B338Kv8Ak4f/AIJda/qljD8s%2Bu/BXx3p/iFXP95bK7%2BxXQHsFc8dzgVreB/%2BCvP7BfiXxDD4G8efF24%2BGfiWY7T4Z%2BL2gXnhe7V%2BmwHUY4opGyQP3bvycUngcVa8Y8y/utS/Jt/gDweJteMeZf3Wpfk2/wAD6YoqtpGsaR4g0yDW9B1W2vrK5jEltd2c6yxSoejK6khh7g1Zrk2OXYKzfFng3wh4%2B0Kfwt468K6brWmXK4udO1axjuYJR6NHICrfiK0qKabi7oD5r1P/AIJe/A3wrqVx4o/ZU8aeMPglrM8hmkk%2BHGuNDps8nUedpdwJbKRAf4REv1FV28af8FL/ANnH/kffh14Z%2BPfhuD7%2BseCGXQPEiRjlnfT7l2tLlsdFhmiJ7L2P05RXasfWnpWSqL%2B9q/8AwJWl%2BLL5299Txv4E/t6/s0fH/wARv8PNA8ZT6B40gH%2Bm/D/xrp8mka5btjJH2S5CtKB3eLzE/wBqvZK4T48fsxfAD9p3w4nhb48/CjSPEltCd1nLfW%2BLmyf/AJ6W9whWW3f/AG43VvevFn%2BCH7cf7JP%2Bn/syfFR/i/4Og5b4a/FHVNmr28Y/g0/W9uWPQLHeK6gDHmjrR7LCYj%2BFLkl2lt8p/wDySXqFoy20PqSivHP2eP24fgz%2B0D4hufhkU1Twd8QdNi36x8N/Gtl9g1i1UdZEjYlbqHjImgaSMgg5GcV7HXLVo1aE%2BSorP%2BvvXmm15ktNOzPOPHX7K3wb8WeG/GGmaH4K0nQNT8a2jRazrul6TCtxNIWDrLJ8uJT5gV2DcOR82au/CL4O6j4C1zXPH3jbxmfEfirxILWPVdXWw%2ByQrb2yOsFtBAHfyokaWeTBdiXnkJY547qiqeIrOm4OV0/%2BB13totPJGfs4KV7HjH7TrF/jb%2BzkShX/AIvPfjB9vBXijmvZ68Z/ag/5Lf8As4/9lmvv/UK8UV7NWJYUUUUAFFFFABRRRQAUUUUAeD%2BFPjN%2B0Fof7Z9v%2Bzp8QvEHgjxJpes%2BEdV8RLF4V8OXlje%2BFbaC9toLFb6Wa9uI7oXQmuFR1jtSXsZiiSKshiwvhX%2B1P8Xdd/bS8V/A34seJtE8M6Lb%2BJ7nTfAGgX/wn1u0ufE9tFpdvdm4tdenuxp93IrtdlreCBpBHauSAEZx0Xwm/YlvPg58QvG/xG8OftZfE27uvH2uT6rrcGrW3h2cLO7IIljm/sgXHlW8KLbwxPK6RxcBS3z1v337LUHiL45aL8a/Hvxv8a%2BIofC2tXOr%2BEfB2pHTI9J0W%2Bms7iyaeL7NZRXUxW2u7qNBc3EyqJ2IG5UZQDjP%2BChfxc%2BFHhrwf4M%2BFHiP4neHtP8AFPiD4w/D2XQfDV7rUEWoakkfjPRmka3t2cSTBVVixRSAFJOMGvoevGf28P8AkiGh/wDZZvhx/wCprolezUAFcT8ff2h/hD%2BzH8PZviZ8Z/F8OlaakqwWsexpbm/uX4jtraFAXuJnPCxoCx5PQEjH/an/AGpPBn7LXge11zV9Ivde8Ra7fLpvgvwXowD6h4h1Fx8ltAvYD7zyt8kaAs3YHhP2dv2RfGep/EGD9rX9tPVbLxL8UXiYaDpFsS%2Bj%2BBbZ%2BtppyNw05GBLeN%2B8kIwpVOG7KOHgqftq7tDolvJ9l2S6yei2V3oqUVa72PRP2afih8YvjD4JuvHvxb%2BBs3w%2BjvdRZvDWhanqaz6kdO2J5ct9Gi7LWdm3kwB3KKVViGBFJo37LXwo0z40678ftSt9Q1bxJrwgSWTVdQaS1tYoVVYo4bVdsClduRKyNNyQZCOK9GorF1pKcnT91S0sr7dtdenz/AV9dAooorEQUUV4H%2B1B/wAFAfh78BfGlt8Bfhr4M1b4o/F/VbYTaR8L/BpRrtIjgC6v53Pk6ZaZK5nnIyD8iuQRWlKlUrT5YK7/AK1fRLzdkaU6VStLlgrv%2Bt%2By82e9SyxQRNNNIqIilndjgKB1JPYV8w%2BP/wDgqp8FLjxfe/CX9kbwN4l%2BP3jayk8m70n4YWyT6bpsx6LfavKyWNoM5BBlZ1I5SsC0/YK%2BP/7YEi%2BKf%2BCnXxm%2B3aJMwktvgR8Nr%2Bew8M2y9Vj1G6UpdazIMKWDtHb7gcRFTX1L8Pfhx8PvhL4Qsvh/8LfA%2BkeHNC06Ly7DR9D06O0tbdfRIolVV/AV08uEofE%2BeXZaR%2B/d/JJeZvy4Wh8T532Wkfv3fySXmfMq/CH/AIKp/tN/6R8Z/wBofwz8AvDVx97wp8IrJdZ19om6xzazqEfkQyD%2B9bWp9nrovht/wSX/AGGvAviSP4g%2BMfhTN8S/Fy8yeMvi7q8/ifUXfOd6tftJHCfTyUjA7CvpKipljcRblg%2BRdo6fe1q/nITxle1oPlXaOn4rV/NkVlZWWm2cWn6daRW9vCgSGCCMIkagYCqo4AA7CpaKK5DlCiiigAooooAKKKKACiiigAooooAKKKKACsjxx8PvAXxO8OzeEPiV4I0jxDpNwMXGl65psV3by/70cqsrfiK16Kabi7oabTuj5W1n/gkN%2BzT4Z1OfxV%2ByV4t8cfAPXJpDK9x8JPE0llp88nUedpUwlsJUz1XyFyO44Ipv4k/4K0/stjd4r8JeDf2lvC0H%2Bs1DwwE8K%2BLI4%2BpdrSZ30%2B8YD%2BGOW3Zj0XkCvrWiutY2tLSraa/vav8A8C0l%2BLOlYyrLSraa/vav79Jfizwn9nX/AIKOfst/tH%2BLX%2BFWk%2BKdQ8I/EG3TN98MviJpUmieILfgk4tLjBuFwM%2BZA0seP4q92rzr9o79kr9nD9rfwmngv9or4QaP4otIH8ywnvYCl3p8uQRLa3MZWa1kBA%2BeJ0b3rwGb4c/8FBP2BR/afwV8Wap%2B0Z8LLUZuPAfjDUI08aaNAOT/AGfqb7Y9VVRki3u9sxCqqzMTT9lhq/8ACfLLtJ6fKWn3SS9R%2Bzw9f%2BG%2BV9pPT5S/%2BSS9T7DorzL9lz9r/wCA/wC2F4MuPF/wU8WvcTaZc/ZPEfh7VLR7PVtBvBndaX1nKBLbSqQwwww20lSy816bXLOnOlNxmrNdGc04TpycZKzQUUUVBJ5z%2B0Z%2Byj8Dv2p/D1tonxd8ICe702Xz9B8Q6dcNaarotwMFZ7O7iIlgcEA/Kdp2gMGHFeKj42/tJfsAzppH7W9/efEf4So4js/jJp2n/wDE18Px5wq65aQjEsQHH26BccZljUtur6wplxb293bva3UCSxSoUkjkUMrqRggg8EEdq66OLcIeyqrmh2fTzi94v8H1T3KUrKz2KvhvxL4d8Y6BZeK/CWu2eqaXqNslxp%2Bo6fcrNBcwuMrJG6Eq6kEEEEg1dr5I8Y/CT4if8E5NevfjV%2Byv4bvtf%2BEF3cveePvg5YL5kuhhjum1TQkP3ccvLYjCONxj2tgD6a%2BGPxN8A/GbwBpPxT%2BF3im01vw/rlkl1pWqWUm6OeJu47gg5BUgMrAqQCCKWIw6pxVSm%2BaD2fVPtJdH%2BDWqdtiUbarY82/ag/5Lf%2Bzj/wBlmvv/AFCvFFezV4z%2B1B/yW/8AZx/7LNff%2BoV4or2auUkKKKKACiiigAooooAKKKKACiiigDxn9vD/AJIhof8A2Wb4cf8Aqa6JXoXxh%2BLfgP4D/C7XvjH8T9cTTtA8OabLfapduMlY0GdqjqzscKqjlmZVHJFee/t4f8kQ0P8A7LN8OP8A1NdErg/2h7YftXfts%2BDv2S5P3/gz4c2Nv4%2B%2BJUA5ivrzzmj0XTpexXzYp7x42BDC2iz1rpwtGNar7%2BkUm5ei3t5vRLzfkVFXepe/Y4%2BC3jz4i%2BNLj9vT9qPQXtvHXiayMPgrwrd/Mvgbw%2B53RWaKeBeTLtkuZcBizCIbVQg/SlFFTiK8sRU5notklsktkvJfjq3q2KTcmFFFFYCCiivnH/goV%2B0B8UPCGmeE/wBlX9mPUYrb4t/GPUZtL8MalJF5ieG9OhQPqWuyp0ZbWFhsUn555YVw2SK1o0pV6ihHr9yW7b8ktTSlSlWqKC/4ZdW/JLU539oD9qD42/tFfGTVf2I/%2BCf2r21hq2iMsPxY%2BMdzai5sPA6uM/YrWM/JeauyHIiJ8uAENLydo9e/ZT/Y7%2BCH7HXgq48KfCXRLmW/1a5%2B2eKfFuuXRvNZ8R3xyXu7%2B7f57iViWPOFXcQiqvFaX7L/AOzR8Lf2Rvgro/wM%2BEemSxaZpaM9ze3kvm3eqXkh33F9dSnma4mkLO7nqTgYAAHoFbVq8eX2VHSH4yfd/otl5u7Nq1ePL7KlpD8Zeb/RbLzd2FFFFchyhRRRQAUUUUAFFFFABRRVfV9V0/QdJutc1a48m1srd57mUqTsjRSzNgAk4AJwOaaTbshNpK7LFFfK%2Bjf8Fof%2BCd2qLM178aL3TjFMyILzwpqLecoOBIvlQPhT1G7a3PIFaNp/wWD/AOCct7cpaQ/tHRq8jbVM3hbVo1B92a1CqPckCvWlw/nsXrhan/gEv8jx48R8PyWmLp/%2BBx/zPaPiZ%2B0F8Cvgvd21h8XfjF4Z8MT3sLy2cOva3BaPOikBmQSMCwBIHFeK%2BP8A/grv%2Bwn4CvZ7JPipca6LUIbq68N6PPeW0RckKDOq%2BWScdmP51W/aE8OfsZ/8FOfgtq/hf4f/ABD8L%2BJPEmk6dJdaDqGky202p6XIrKwxHMyskUjIqOrlY3B5IIDD8hde8Ka9408R6zoHxG13T4/F9y32vRLDw9BHf/2teyXKwf2ciafKbezblmVBGuBGFwA0YP1fDXC%2BVZpTl9blUjUh8UbKNr7Ne7zWtve1rPdar5HijizN8pqx%2Bpxpzp1Pgmm5XtvF%2B9y3vta97paPR/rv8J/%2BCxH7FXxi%2BJ%2BkfCbwz4j1231HXb2Ky0ufUdDeOCa5lcJHDuBYqzMwUEqFyeSK%2Bpa/Kv8AZs/YI/av/YV/ad8L/HGy/Zw07xtoGrahDpi6a%2BoJe6joCXQRjdNIsaRwzQbWRp9vlkGRcoJFdf1UrwuJsBlGBxNP%2BzZ81OUd%2BZS1Ts1ZJONvPfdNo9/hbMM5x%2BGqf2nDkqRla3I4%2B61dO7bUr67bbSSYUUUV80fUBRRRQAUUUUAFFFFAHzx%2B1h%2BwXp3xf8ZQftK/s7%2BNn%2BGXxw0W28vR/H2l24aLVYVwRp2r2wwuoWTbQNr/ALyLAaNlIwbf7Gn7aF/8d9V1z4CfHnwMngP41eB4oz4z8EtcmSC5t2O2LVtMlbButPmI%2BVx80THy5AGALe%2BV88/t9fso%2BLfjLoGj/H39nO9t9G%2BN3wwkk1L4da3J8sd%2BCP8ASNFvDkeZZXiAxOCRscpIpBQ57aVWNeKo1n/hl/L5P%2B73X2d11T7KVWNaKpVX6S/l8n/d8um66p/Q1FebfsiftMeEf2vv2ePDfx%2B8H6fcaemtWrLqei3oxc6RqELtDd2M4IBEsE8ckTZAzsyOCK9JrknCdObhJWa0ZyzhKnNxkrNaBRRRUkhXyP4rsP8Ah2t8fV%2BJvh5fs/wI%2BJ2vxweMtLXi38E%2BIblwkWqRDpFZXUhWOdeFjlZJAQGZa%2BuKwfih8NPBnxk%2BHOufCj4i6LHqOheItLm0/VbKUcSwSoUYA/wtg5DDkEAjkCurC11Rm4zV4S0kvLuvNbp99Nmyouz12PN/2oP%2BS3fs4/8AZZr7/wBQrxRXs1fL8/w08ffBu1/ZL%2BFPxM%2BIw8W6v4e%2BKl7YSeIjaGF72GLwZ4qWBpFLMTKIRGrvn53VmwN2B9QVhUjGE3GLuk9%2B/n8xPRhRRRUCCiiigAooooAKKKKAOQ8C/tB/AP4oeMtZ%2BHXw0%2BN/hDxF4h8OuyeINC0LxLa3d5pjK5jZbiCKRnhIcFSHAwwI61Ytfjb8Gb74p3PwLsvi54Ym8b2dgL288HRa/btqsFqQpE72gfzljIdPnK7fmXnkV81/DX4r6Z8WP239W%2BKfiz4SfEXwlpPws0nWvC/gXTbj4NeIYf7a%2B1XlmdR1ZroWH2d4JJbSBLWCKRmeNZrlwd8Yh5nwd8P/AIgxftSeHvhvL8KPFEOvaD%2B074k8e614zl8NXSaVN4dvNC1O3tpE1Mx/Zp5Ct7Yaf9lWQzJ9mZjGI4VegD3v9vD/AJIhof8A2Wb4cf8Aqa6JXIf8E7ov%2BE28Q/HP9oq/Hm3fjL406rYWl1/e0zRwmlWqD/ZBtp3HvKavf8FC9N%2BK8/g/wZqPhzxp4etfC0Pxh%2BHo17Rr3wxPcaheOfGejeW1veLexx2wVtpYPbTFgCAUyCK//BLGaOL9l/UfDr2yQ3mi/FLxlYalEhY7bhPEF8zZ3EncQ6see/AAwK7aOmBrNdXBfK8n%2BaRa%2BB/I%2Bj6KKK4iAooooAK%2BS/2RbNvjr/wUS/aH/am1lhcW3gi%2B0/4U%2BCN45s4bS2h1HViv/XW9vYlLdSLRRnjA%2BtK%2BVP8Agluy2GoftJeFLv5b/Tv2pfFUt3G3DbLpLO8gcj0MM8eD/s%2B1dmH93DVpLe0V8nLX8kjqoe7h6slvZL5OWv5JH1XRRRXGcoUUUUAFFFFABRRRQAUUUUAFFc98Wvif4V%2BC3wz134s%2BN5Z00nw9pkt9fm2hMkhjjUkhF7seg5AyeSBzXgPgv/gsX/wT78YaGNXuvjVJokqxK8%2Bna1od3HPESPu/u43R2HQ%2BWzD3xg13YbLMxxlJ1cPRlOKdm4puz3tp/kcGKzXLMDWVLEVowk1dKUkrra%2BtvzOx/bel/Yp0D4aXfiX9sC18MQ29xplzYadqOpabBPqah0IZbHdG8vmjcGBjB2nDHAGa/HD4Q/tZeGvhjr2u%2BHPHPwz/AOFleArzTbvTtA0PxhJate6TG3yW9zb3EttOLWeOPjEShCT0%2BVcfZn/BRX473H/BQbwSfDP7NXgrVNQ8CeFfD%2Bq694k8d6j8PJGjaS3hEtvb2NxOgkhMjx7JCgRtjZO9FkQ/KX7Xf7GbfDj9hL4OftQfC3TtNttQ163uI/GkD%2BKYrprtnkU2k8CMVAO0SCWOPcYiUB5V2P6HleJwXC/DsquYwrVZTko%2ByppznF7x5YRalGTWrs07bqzPiFkmYeIfG1HLsrxGGw0VGT%2BsYiao0Wkm5e0qzi4ON1yxcouLk7KV1c8UuIfAs3hKaHQPCmvXWrWVx593rbamn2IWZZUQPaLbb4n3OilzcMu5gAOQT%2BwX/BMXx9%2Bwg/wb8KXHgnw98K/Bnj/VrST7b4f0/X4LnVS4aQ4ElxI12wKL5nlMzmIMVydpNfmJ%2BxJ%2B19Y/stW%2BrxfEH4GeGPHum%2BKtNmsfEWg6nZxQyLbkoUWK9KSOAzoGeLYU/dxsPn%2BZF8bWv7MHj7UdQ8YfAr4XeNbHw9p2mtqXi3w9eanZvJpCmWO3he0vWDSywme4iR0kiJAYHJOCn1OaYWfE2CjCca1Gm7SjJ6N3WsKlNyi4NO1ou/SzTZ8RhJLgvOKsI1cPiatNypyVOXPD3X8dGtGDjUi1f348ul24tI/d7wz8YfhJ4112fwv4N%2BKXhzVtTtQTc6dpmt2888WMZ3Ro5ZcZGcjvXR1%2BVvwe/Zq%2BF19%2BxZ8MvHv7Nv7V3w18GfHDQop9SvddbxJb2cstretP5ljdlQZBJFGyxhpEYBoZEGFYMv0p/wAEp/2p/in8YdP8V/A74seLtN8aah4Ba3H/AAsLRL97m21Rbh5mERkaKPe8YTaHUEOozk43N%2BXZnw5DC4erXw1RyjSfLJSi4yVpcvMtOVxbtaz5tdtLn6jlXE08ViKWHxVJRlVipRcZKUXePNyvXmUkr3uuXTfWx9fUUUV8sfWBRRRQAUUUUAFFFFABRRRQB8m/swWq/AD/AIKZfHX9mvTx5WgfEDQtK%2BK3h6yj/wBXbXlxJLpusY95Li1tZyP71wx/ir6yr5UnZdU/4Le2n2E7v7E/ZXuV1Mr/AAm98SW5tw3uRY3JA%2BtfVddmM1nCT3cIt%2BtmvySOrF6yhJ7uMW/ua/JIKKKK4zlCiiigDxn9qD/kt/7OP/ZZr7/1CvFFezV4z%2B1B/wAlv/Zx/wCyzX3/AKhXiivZqACiiigAooooAKKKKACiiigAooooA8Z/bw/5Ihof/ZZvhx/6muiVxn7J0w%2BDf7Z/x2/Zk1H91Dr%2BsW3xL8Jh%2Btza6jEltqG32jv7ViR/09Kf4q7P9vD/AJIhof8A2Wb4cf8Aqa6JXL/t%2B%2BBPGnhI%2BFP23vg3oM%2BpeK/hDcz3Gq6LZr%2B91/w1cKq6nYKP45QiJcwg5xLbgAEvXbgmpylQk7c6sv8AEneP46f9vFw107n0dRWJ8NviN4L%2BL3gDR/ij8OfEEGq6Fr%2BnRX2lahbNlJ4JFDK3qDg4IPIIIIBBFbdccoyjJxas0RsFFFFIAr5Fvr8fsf8A/BVOXV9ab7P4I/af0W0tIb6TiKz8a6RA0ccDHhUN7poUJnl5NP2jJYV9dV5t%2B1n%2BzD4C/a/%2BBmr/AAQ8fXN1ZJeGK60bXdNk8u90PUoHEtpqFrIOY54ZVV1IPOCpyrMD04arCnNxn8MlZ/5/JpP711OjD1IQm4z%2BGSs/8/k0n9/c9Jor5p/Ym/a58d6/4pvv2L/2xYLXRvjl4NshJdNEnlWXjbS1OyPXtMzgPHJgedCvzW8u5GVRtr6WrOtRnQqcsv8AgNdGu6f9a3Szq0p0Z8sv%2BA10a8n/AF1QUUUVkZhRRRQAUUUUAFFFFAHwV%2B2h/wAEm/2hfj74%2B8RfEzwv%2B1/qGr2l7etqGk%2BBfFsMr2VuynelorLKYhCG3Bf3I2qQG3Hc5%2BfPA1r%2B2P4r%2BMN34U/Yw%2BCfwe0fxFpwSz8S678PfBsE%2BnaS6hd8Umo6kJYvMJGWjt9%2BQB8zspx9lf8ABTD9nD9s740%2BD73Uv2cPj5eWejxaOsWp/DmygS0l1Yq7tKY75fn3PGVTyWwh2dfnIr0P9gf4hfs3eNv2e9N0z9mrw3F4d03RSbTVfCUq7L3Rr0EiWG6VjvMpYMTI%2BTJ97J5x%2Bg0M%2BxeGyGNWfJXt7qjy2VPT/l5bl5uay5fdabTvO/uv84xHD%2BDxXEEqMOehf3nLnu6mv/Lq/Py8t3ze8mk1aFveXW/s86D8a4/gLo3h39qfUdG1fxc1hJB4im0m3C2twCzBQVCqpJiKh9qqhbdtUDFfHPiD/ghB8MYf2h/Dfi7wTrdqfh3ZNG3iDwtrVxdS3V4RJIzqs0bLhSGRRyuAmTuJO79BKK%2BVwee5nl1arUws%2BT2l7pK0db7Lpa75WtV0PrsbkGV5lQpU8XD2ns7WcneWlt31vZcyekup8C/HX/gnr%2B078ErvxtB%2BwDoHgGfwh4xjhurjwr4n0%2BC7udOuVR1nhs1vo3tvJnXaGWU4HCgKFBr4x%2BEH7HX7Xfiz44jxD8U/2BfEniKzso5BqOg2%2Bnx%2BELO6XBG1LiKGKHHJyIwS4OM4xX7kUV7mB43zHB4edOVOE5SVud8yltbVxlq7Ja6PS976ngZhwJluNxEKkas4Ri78i5XDe9kpR0V29NVra1tF8yfBf/gmT%2BxND4OsfFniT9jHSNB1vWLCGfWPD%2Bq63Pq402cjc8CSSSvH8rMRujChgBxwAPorwp4R8K%2BBPD9t4U8E%2BG7DSNLsoxHaadplokEEK%2BiogCqPoK0aK%2BYxeYY3HSvXqSkr3ScpNL0u3stO9up9Xg8uwOAilQpxi7WbUYxb9eVLd69r9AooorjO0KKKKACiiigAooooAKg1XVNM0PTLnW9a1CC0s7OB57u7uZQkcMSKWZ3Y8KoAJJPAAqeviv4/eN9Y/wCCn3xW1P8AYe%2BA%2BsXMfwe8N6kLf9oD4iadMUi1RkIZvCmnzL/rJJOBeSocQxExbt8hWt8PQdaWrtFat9l/m9kur%2Bdt6FF1pau0Vq32X%2BfRLq/nbof%2BCZUOpfHbxP8AFT/go1rtjNBb/GTX7e1%2BHsF1EUePwhpSSW2nTbWG6M3Uj3d4V7rcRnpivrOquhaFovhfRLPw14c0q3sNO060jtbCxtIRHFbwxqESNFXhVVQAAOAABVqliKvt6zmlZbJdktEvuX33FXq%2B2quSVl0XZLRL7l%2BYUUUViYhRRXkX7af7Sdz%2BzX8HW1Twfo66z458S30ehfDnw0py%2Bq61cZWBCO0UfM0rEgLFE5JHFaUaU69VU4LV/wBfd1b6JNjSbdkVv2oP%2BS3/ALOP/ZZr7/1CvFFezV8vT/CjxJ8D7X9kv4X%2BM/iDqXivW9L%2BKl6Nb8RateSTzX97J4M8VSzyBpCWWPzXcInRIwiDAUV9Q0qkYxm1F3Se/fz%2BYPRhRRRUCCiiigAooooAKKKKACivF/2Ofi78cPiVdfFLwd8fr3wpd6z8P/iY3h62vvB%2Bi3Nha3Fq2jaVqSForm6uXMitqDxlw4VxGrBEyRXJfsT/ALU/xd%2BNHxC8R%2BCPj34m0TR9dtbnWJdJ%2BH5%2BE%2Bt%2BH9QTTbXVpLSG/jvtRu5IdXgaH7Kzy2kKxq91Hll3qpAOv/bw/wCSIaH/ANlm%2BHH/AKmuiV7NXzx/wUL%2BLnwo8NeD/Bnwo8R/E7w9p/inxB8Yfh7LoPhq91qCLUNSSPxnozSNb27OJJgqqxYopACknGDX0PQB8hX8l5/wS5%2BKd5rwtpX/AGcvG%2BstcagIYyy/DbWbiT55to%2B5pVzI2Wx8tvM5OFR%2BfriyvbPUrOHUdOu4ri3uIlkgngkDpIjDKsrDgggggjgg1HrWi6P4k0e68PeIdKtr%2BwvrZ7e9sryBZYbiJ1KvG6MCGVlJBBGCDivk5vC/xj/4Jj3cl/8ADLQNZ8f/ALPjStJd%2BE7MPd638PlJJaSxUkvfaauSWt8mWAfMm9Qy16Pu5gtXar%2BE/n0n66S7qXxX8fr%2Bf/BPrqiud%2BFPxb%2BGnxy8Baf8UPhD4207xD4f1WHzLHVNMuBJHIO4PdWB4ZGAZSCGAIIroq4JRlCTjJWaI2CiiipA8k/a5/Y2%2BF37YHhHT9N8XXeo6D4m8N3h1DwN4%2B8N3H2fWPDN/jAuLWYDgEACSJsxyr8rqcAjxzwP%2B3T8WP2SPEtj8Cf%2BCpFhY6QLm4Wz8K/HzRrUxeFvEpJxGl91Gi3zD70Up8h2DmKTGFr6%2BrO8W%2BEfCnj7wzfeC/HXhnT9Z0fU7ZrfUtK1WzS4trqJhho5I5AVdT3BBBrqpYhKHsqq5o9O6/wv809H5PU6addKHs6q5o/ivR/mno/J6l21urW%2BtY72yuY5oZow8M0ThldSMhgRwQRyCKkr5Ck/YK/aF/ZCuZPEH/BMj422%2Bm%2BHxIZZ/gX8TZri%2B8Mtk5ZdOulLXejk5YhEMsG5h%2B6AFafhL/gqv8NfBviG0%2BGv7d/wt8Qfs9%2BK7qUQW7%2BOdk3h3UZf%2BnLXYM2co6cStDJzygqng3Nc1B867L4l6x3%2Ba5kU8K5q9B867faXrHf5q6Pqqiq%2Bk6vpOv6Zb63oWp297ZXUSy2t3aTrJFMhGQyOpIZSOQQcGrFcexybBRRRQAVz3xQ%2BLHw2%2BCvg%2B58ffFbxtp2g6RaITLe6lcrGpIBOxAeZHODhFBZjwATXQ1%2Bbv/BXDxBpv7MH7Wvw/wD2lfGnhqy%2BJWla1pt3bWvgHxesj2Glva/Zt9xa4Yxo7%2Bchw8UgDBmIOU2evkeWRzfMFhm2m02krXk0r8qb91Nq%2BstF9x42f5rLJsteKUU0mk272im7czS96STtpHV37XPWPC37af8AwUX%2BPefEH7Pv7DWmWXhXWbETeGPEnjLxMkOI3kZI7uaJWV2UhS5hQFtpUhmDKW9S/ZG/Y%2B8UfA3xx4u%2BOvxf%2BJ8Pirx948W3Gv3em6PFYWNusO7bHDFGAXPzAGV/mYIpIB3E%2Bz%2BENTvta8J6XrOp6F/Zdzd6dBNcaZ56y/ZHaNWaHenyvtJK7l4OMjitGqxWa3pzoYajGlCWkuW7cknonKTbeqTfLZN69kThMptUhiMTWnWnHWPNZRi2tXGEUktG0uZyaWndhRRRXjHthRRRQAUUUUAFFFFABRRRQAUUVzfxW%2BMfwl%2BBPg64%2BIXxp%2BJeheE9CtR%2B/wBW8Q6rFZ26nGdu%2BVlBY44UcnsDTjGUnaKuxqMpOyV2dJXO/Fb4ufDD4F%2BAtR%2BKXxk8faT4Z8O6VCZdQ1nWr5Le3hXsCzkAsTwFGSxIABJAr5nm/wCCiXxq/afJ0P8A4JofsyX/AItsZjsX4vfEqG40HwjAP%2BesAkQXuqgEEYt4lQ8Hzcc1sfDD/gmnpOvePdO%2BPf7d/wAWL344%2BP8ATZvtGjR65Ypa%2BGvDcvY6Zo6EwxuvA%2B0TGWc7Q29TXZ9VjR1xEuX%2B6tZfdtH/ALef/bp1fVo0ta75fJay%2B7Zf9vP5HG33jT9p7/gqgp8P/CJPEnwc/Z6uuNS8eXlu9j4q8eWx6xaXA4D6XYyL1vJQJ5FZfLRAWavq74OfBr4Xfs%2BfDPR/g58F/BFh4c8M6DaC20rSNNi2RQoCST3LuzEszsSzszMxLEk9NRWVbEOpFQiuWC2X6t9X5v0SSM6td1IqEVyxXT9W%2Br8/uSQUUUVzmAUUV5l%2B0x%2B1p8JP2WPD9neeO7y71DXNamNt4V8GaBbG71jX7rtBaWy/M5zjc5wiZBZlFXTpVK01CCu30Gk27I6H44fHD4Yfs5fDDVfjB8YPFMOkaFpEO%2B5uZcs8jE4SGJB80srsQqRqCzMQAOa8V/ZZ%2BEHxO%2BNPxZP7eX7U/hibR9cmsJLL4WeAL0hm8G6PLjfLMOg1K6AUzMOY0Cwg8MKb8Hf2ZPi18dfiZpf7Vn7d1taLq2kTG5%2BHnwosboXGl%2BDiR8tzO4%2BW%2B1PacGfHlxEkRDow%2BmK7Zzp4Sm6VN3m9JSWyX8sX1/vS67LS7lTairLc8Z/ag/5Lf%2Bzj/wBlmvv/AFCvFFezV4z%2B1B/yW/8AZx/7LNff%2BoV4or2avPICiiigAooooAKKKKACiiigDxf4E/seax8CfGni/wAa2n7WXxK8RyeOPFcPiDXrHxDaeHRA92lrb2ZCfZNIgdI3t7S2iYB84hDKVdnZtT4f/stQeE/jQvx58bfG/wAa%2BOtestDvtG8O/wDCVHTI4NEsby4tri6ht49PsrXeZHsrMGS4M0gW3UBxuff6pRQB4z%2B3h/yRDQ/%2ByzfDj/1NdEr2avGf28P%2BSIaH/wBlm%2BHH/qa6JWp4Z/bA%2BDWtfGnUf2efEV7f%2BFvGFpdyR6bpHiuyNkdchU4Fzp8jHy7uJucBGLjB3IuK0hSqVU3BXtq7dF3/AK%2BdiZTjG13a56lRRRWZR84/FD9hzxD4O8e6h%2B0D%2Bwn4/tfhx421Gb7R4h8PXVq03hjxZJ3N/ZoQYZm6fa7fbKMsWEmal%2BF//BQTw5b%2BM7T4Iftf%2BA7r4O/EG6fyrCy8QXSyaNrzjjdpmpgCG4zlf3LmOYFgpjJGa%2BiawPiZ8K/ht8Z/Bt38PPi14E0rxHod%2Bm270rWbFLiCT0O1wQGHUMMEHkEGu6OLhVioYlc1tpL4l89pLyl8pIvmT0kb9FfLq/sgftNfsu/6Z%2Bwj8eheeHIeV%2BEfxYuZ9Q0yJB/yzsNRBa8sAAMKjmePJ5UAVe0L/gpT4H8D6tb%2BCv21vhZ4g%2BB2uzyiGG88WKtx4evJD2ttZt82zDHOJjC4zyooeBlUV8PL2i7LSS9YvX/wHmQcl/h1PpSiquia5onibSbfX/DesWuoWF3EJLW9sbhZYZkPRkdSVYH1BxVquFpp2ZAVn%2BKfCnhbxz4fu/CXjbw1p%2BsaVfwmK%2B0zVbNLi3uIz1SSOQFXX2IIrQo6daabTugTad0fN3gj/gl1%2Bz38E/inpvxQ/Zc8U%2BNfhRDbaul9rHgzwP4nki8N62A%2BXhuNLnEttGrDK5t1hcZyGBrov%2BCgHxIk%2BHXwJtIX8eyeE7PxH4w0jQtW8VRXf2ZtIsrm6Rbi4848Q/ug6eYSNpcEEHFXvjl%2B3l%2By58AoWs/FXxPstU1tpVhtPCnhmVdQ1W6mY4WJLeJiysTwC%2B1c8ZrxX4Xfss%2BLv2%2Bdb1b42/8ABQLwl4iTw1H4kmHgL4OeIUSDT4NOVUMN1e2yEmadizKyy9CjZDIyqPdoYSvOKxmPk4047Nr3pvoop2cu7k7xit29nwV8%2BU8bChR/fVeuqtBLrOVnbyi25SaskldrzD4Tf8FJLvRfg18TPh/%2Bxb8P/ib8Z7/SvEWqx/Di%2BsbW71e3s7MQx%2BQJr69kaSaNZvM2KzOWUBdwG0CH4Q/8FAv%2BCsXxB8L%2BHPBekfAj4bzeKPEfiG%2B0Wx1TxdczaW1pLY27zXh1GygmmktHi2DI2gkzw7Y2Dbj9xa5%2BzZ8M7vwZN4H8FJqXgm1dLVbaXwJqcmlNZrbhhEsKwERxoAzKU2bGBwytgY8x8WfsD3mj6XoVx%2Bz18ZJ/Dev6Ydf/ALT8Q%2BJ9LbWp9Uk1lYvtt64E8AS9DwxvFJ80MY3J5DIQq7RzHKdVHDxu%2Bs%2BaTvbd2cY/JJ%2Be51xw9TEybxGIavK9oxUVa1rOVpStfVtOLbb2VrfNul/ET4j/ABa0Twx47/aa/bl%2BKekXWuaNaaneaJ8HtDGm2Pg23ubh7WOXVbhA5MbXEU8YZwcGCRjhEJH058NP%2BCaP7Nngjxha/Ejxu3iT4jeJbJg9rrvxJ16TVZYXyG3rG4EQYMAQ2wlSAQQa888W/sGfEew1rxN8Dvh5oumt8OfiDbeF7TXfFN5rzLqGm6XpOxbnTfswhxN9pVJiJQ4Ae/uCygBc/Snx20X46a78N7vTv2cfHfh7w54rM8T2Op%2BKdBl1KyVA4MiPBFPC53LlQwcbSc4OMVGKzfFSShQq8kZaWioxST6PlipLqmuZ3td3uc8%2BH8jjVhOMeeV73nKU7dm%2BZySa2%2BG6SudjRXyr9t/4LbeHPmm0D9l7xbGn3vs%2Bo%2BIdDlkHsrR3qg/VsVJa/tHf8FWtJkNt4k/4JmeC9TCRuxu/Dfx/hxIwUkKI7rTYiMkADLY55wBXk/U5v4Zwf/by/Wx631ST2nF/9vL9bH1NRXyr/wANo/8ABQuxP/E5/wCCPHjNlHV9K%2BL3ha4H4B7yNv0pf%2BG9/wBsCEYu/wDgkH8YlbuIfFnheQfmNTo%2Bo4jpy/8AgUP/AJIPqdfy/wDAo/8AyR9U0V8rf8N4/tmXHy6d/wAEgPi4zdhc%2BNPC0I/M6kaT/hsX/go9ff8AIK/4I%2B%2BIIQfutrPxr8NQD8fJmmI/Kj6jX68v/gcP/kg%2Bp1%2Btv/Ao/wDyR9VUV8qn47/8FefE/wC58P8A/BPX4WeGSeFn8U/HiW6A9yllpLfkGNH9k/8ABbPxR%2B4vfGn7Mfg2J/vy6doniDXZox/smWazQn6rR9TkvinBf9vJ/kmH1Rr4pxX/AG8n%2BSZ9VUV8p/8ADGP/AAUL8Z/ufiv/AMFafENrayf6%2Bz%2BGvwo0XRSB6JPdreyrj13e%2BKD/AMEff2bvFvP7Q3xc%2BNPxbH/Pv8Q/i9qktrn/AK9LOS2t8H%2B75e32p%2Bwwsfiq3/wxk/z5UHscNH4qv3Rb/PlR6h8c/wBvn9if9miOb/he/wC1T4E8M3EH39O1HxJb/bSe4W2VjM59lQ15X/w9Rt/iiPsv7GP7F/xk%2BLbTcWWup4UPhvQZT6nUNaNsCvvHHJ7A5GfXfgj%2Bw7%2Bxx%2BzZ5UnwG/Zd8B%2BFLiIfLf6N4XtobpvdrgJ5rn3Zia9To58DT%2BGDl/idl90df/Jh8%2BDh8MHL1dl90dfxPk0%2BCf8Agrx%2B0Oc%2BNfi38N/2fNBn%2BY6d4F05/FXiEIeDG99fJDZQtj%2BKO2lx1B9Oh%2BFf/BKj9kjwL4xt/it8TNF1v4ueObbmLxv8Y9bk8QXsJzkGCOf/AEa0wen2eGPHQdBX0jRSlja9uWFoLtFW%2B97v5yE8XWtywtFf3Vb73u/mxFVVUKoAAGAB2paKK5DlCivOPF37WfwA8KaD4x1eD4k6XrNz4E0%2Ba78SaNoWoQ3N7bCIDchjDja4LKp3FQrOu8rnNedeMP2p/iL4z1nwz8IvClhJ8MvFmseLjo%2BunxTpkGptpmdNu762EYguBDL9pFpIiSB2UGORNu8pXTTweIqdLLz06X9duyfTuUotn0ZVLxH4k8O%2BD9Cu/FHi3XrLS9MsIGmvtR1G6SCC3jHV3kchUUdySBXIfs3/ABa1j4x/DIeIPFejW%2Bm6/pmsahoviPTrVy0UF/ZXctrKYy3PluYhLHkkmOVDk5zXn3iX/gn94A%2BMHxXvPif%2B1H8QfEHxNs49Va68L%2BB/EMscXh7Q492Y1FhAqx3cig7fOufNJGOAeaIUaUaso15ctuyu35LZfNu1u%2BwJK%2BpzGo/tp/GD9qe8m8Gf8E6PAMOpaX5jQah8a/GNpLD4cssHa5sIvlm1eZcMB5e2AMF3SkHFd9%2Bzd%2BxT8P8A4C%2BILz4r%2BJvEWp%2BPfibrMAj1/wCJPisrJfzp1Nvbqo8uxtQSdtvCFUDG4uQDXsNlZWem2cWnadaRW9vBGscEEEYRI0UYCqo4AAGAB0qWrqYu0HTox5Ivfq3/AIpforR8mDlpZaBRRTLm5trK3kvLy4SKGJC8ssrhVRQMkkngADvXGSeOftQf8lv/AGcf%2ByzX3/qFeKK9mrwr48eKvDHjf4ofs0eK/BniKx1bS734x372eo6ZdpPBOv8AwhfikbkkQlWGQRkHtXutNpp2YJphRRRSAKKKKACiiigAooooAKK5n4WfGn4OfHPRLvxN8E/iz4Z8Y6bYalJp19qHhbXrfUILe8jCtJbySQO6pKodC0ZIYB1JHIpPB3xt%2BDPxE8X678Pfh/8AFzwxruv%2BFpxD4m0PR9ft7q80iQlgEuoY3Z7diVYASBTlT6GgDgP28P8AkiGh/wDZZvhx/wCproldz8ZvgR8IP2hfB8ngP4z/AA/07xBpjtvjhvYvnt5O0sMikPDIO0kbKw7GuG/bw/5Ihof/AGWb4cf%2BprolezVUJzpyUouzXVCaUlZrQ%2BbF%2BF/7an7Kn734GeNP%2BFxeC4fu%2BCPHmpi316yj/uWeqkbLkDtHdrnCgedXYfBv9ub4EfFvxOPhnqd/qHgrxyoHn%2BA/HlidM1QE/wDPJJDsulOMh4HkUjnNex1yXxi%2BA3wZ/aC8MHwd8avhppHiXTwS0UOqWau0DH%2BOKT78L/7aFWHrXZ9Zo1/48df5o2T%2Ba%2BF/%2BSvzMfZzh/DenZ7fJ7r8UdbRXziv7K37TnwF/f8A7In7Tc99pMX%2Bq%2BH/AMXfN1axVegjt9QQi9tlA4UMZ1H93HFPH7eutfCY/Yf2zf2bvFfw5WPiTxVpkJ17w8w6BzeWamS3B64nhjwOp4JpfUpVNaElPyWkv/AXr9zkP2yj/EXL%2BX3r9bH0XVXW9D0TxLpNxoHiPR7XULC7iMd1ZXtussMyHqrowKsD6EYrH%2BGfxe%2BFXxn8Pr4r%2BEnxH0TxLprY/wBN0PU4rqNSf4WMbHa3%2BycEdxXRVySjOnKzTTXyf6Gqaauj5t1r/gmT8IfC%2Br3Hi/8AZM%2BIPi34H61PIZpB8PNTCaRcy9jPpNwsllIo9FjQ/wC1Xjnj7/goj%2B1B%2Bx38V1%2BBnxTm8DfHa9gQG5T4e2N/pfiG1jwG8y6s1iubQttIOxZ4jgg7QME/Tn7dmuah4a/Y8%2BI3iDSfE%2BuaNd2fha5mtdT8NqTeQSKuVKEcqCcBmBBVCzblxuHJ/wDBML4W/D/wB%2Bx/4R8SeE9I0VdV8UaTDqXibVtJvGum1C9YHe0s7szNIpJDJu2o/mBQBX0eFqUv7NljMcvarm5FHZ35ea7qfEkl0V235HkYzH46pmMcBh3GL5Odzkuay5uWyjeN3fq3ZLo2eBfGz/gtHoXiFfDXw8%2BDNvdfDTW9d1Rodf1/4teH2jg8P2wTiUxwSSByzkAOx2IFJkCqdy%2Bl%2BDP2FPD/AO0poUfjH48/t2%2BL/jBp13zJaeGvEMOn6BPnkgQWLFTxxkSDj619W6zoei%2BI9Nl0fxDo9rf2kwxNa3tusscg9GVgQfxrwjxj/wAEuv2I/EutyeL/AAx8Hh4F19%2BV1/4Z6tdeHLpH/v50%2BSJHbqfnVuTnrRHN8FSpRhg4Og1e8ly1JO7/AJnFTVtko2%2B8yp5I8TVnPMqvtk7csbSjBJLW8FO0m3rd37Wsd18Gv2Qv2Y/2fGjuPg78D/D2iXUSFU1KCwEl5tIwQbmTdKRjPV%2B9ej180/8ADHv7YXw44%2BAn/BR/xXNax/MmkfFfwtYeI43P903MYtboDtkyMfXJpf8AhP8A/gq18OefFP7PHwi%2BJVuOPN8FeNrzQboj1MGoQTRZ9vPx7ivMrUqmLqe0eIU5P%2BaTT/8AJ/8A5I9qhhcPhqap0IxjFdElFfckkfStFfNf/Dwfxv4R/wBH%2BNf/AAT5%2BOnhyZP%2BPi50Tw1beIrNB3Il0u5mcgevljiprD/grT/wT/ku00zxP8e18K3jna1n438O6jojo390/breJePYke9Zf2djvs02/wDDaX/pLkbck%2Bx9HUV574M/a3/ZU%2BIwQ/D/APaY%2BH%2BuF/urpPjGyuCfbEcpOfau/t7m3vIFubS4SWNxlJI3DKw9QR1rlnTqU3acWvVNfmkS01uPoooqBBRRRQAUUUUAFFFFABRVTWNe0Pw7aHUPEGtWljAvWe8uViQfixArzLxt%2B3j%2BxL8OQ48b/tcfDfTpE%2B9bz%2BNLLzvwjEpc/gK0p0a1V2pxb9E3%2BSY0m9j1iivmxv8AgrL%2BxfrBNv8AC7xN4s8f3R/1dr4A%2BHWs6qZP92SG1MR/77pD%2B3D%2B0Z41%2BX4I/wDBNL4qX4/5%2BvHeoaX4Zg%2BuJ7mSfH/bHd/s10/2djV8UOX/ABNR/wDSmvyK5Jdj6Uor5q3/APBWf4k/dt/gj8LLKfu76l4o1G3H0Asrct/30D7Uh/YG%2BLPxC/eftI/8FBviz4mVuJdK8IXNr4U0%2BRe6MmnRi4Ze3NwTjqTR9UpQ/iVor0vJ/gkvxDlS3Z9KCWNpGiWRSygFlB5Gemfyrxb4V%2BK/iB8Lvj34v%2BD/AMaPixeeIbG%2B0aDxT4U1rWbS0tRBbCQ2t7ZAwRRRiOB/sjgsC5F58zMa6j9nz9lT4B/ssaTqOj/Ar4fpoqaxcJPq9xJqFxd3N9KilVkmnuZJJZWAJGWY9a0PEn7PHwS8Z/FPTvjX4z%2BG2m6x4n0a0Ntouq6tEbk6ahJLG2SUslu7Z%2BaSNVdgAGYgACIzw8JTjq4taOyvfS3V21vfXYScVc%2BaLb4JeJvE/inwl8HLj4d6pf6dZ%2BI/EMkvjiz2Npeo%2BEtXW6nlU3KEgXLXH2J/L2ndJFvxtJYekeA/2OfF2tz6nP8AtJ%2BNdN1yU%2BH9I0jR73w3BcWN0kmnPJJFqzSmQtFemSQH92dieWMZ3sK%2BgunSitamY15K0dPz3ve/S/ZaDc2c78Lvhf4W%2BEHhCLwZ4SN9JbrcTXNxd6pqMt3dXdxNI0ks800rM8ju7MxJOBnAAAAHRUV558a/2sf2cP2dY1Hxl%2BMWiaJdS4%2Bz6VJc%2Bbf3GegitIg08pPoiHqK5YxrYipaKcpPtq/wM5TjFXk7HodR3V1bWNtJe3txHDDEheWWVwqooGSxJ4AA7187t%2B1F%2B1X8cB9l/ZW/ZRu9I06XiPxv8Y5H0i0A7PFp0e69uFI5G8QA%2Bo6062/YHufitcx63%2B2z8dde%2BKMiuJF8Kxj%2ByPDUDA5UDT7Zs3G08brmSXI6gV0fVI0ta81HyXvS%2B5Oy%2BcvkY%2B2cv4cb%2Bey/HV/JFnxT/wAFAfB/iPXrn4efsieANU%2BMfia2kMV03hiVYtE06T/p71aT/R4%2B/wAsZlk4xszWfB%2Bxx8WP2ibiPXv29PivHrWnbxJD8KvBLzWXh2Eg5AupCRcamQQD%2B9KRZB/dYNfQXhjwr4Y8E6DbeFfBnhyw0jTLKMR2enaZZpBBAn91I0AVR7AVfp/W40dMNHl/vPWX37R/7dV/7weyc/4jv5bL/g/P7jwz4/eHPD3hD4pfsz%2BGPCehWemabY/GC9hstP0%2B2SGC3jHgnxRhERAFVR6AAV7nXjP7UH/Jb/2cf%2ByzX3/qFeKK9mribbd2b7BRRRSAKKKKACiiigAooooA%2BVf2Fvil4ah%2BLPx206H4X/EXQrTxB8Zbe%2B8Nvrfwe8Q6Ta3Vk3h3RLFZo5LqwijEYuLG5QnICCMM2EdGbiP2FPh/8QdL%2BMPwp8Mat8KPFGh6h8J/hn4x0H4la9rPhq6srPU9Tv8AWdLmha1upY1i1Nbl7O7vvOt3lWMOPMKSTFa%2B4aKAPnj/AIKF6b8V5/B/gzUfDnjTw9a%2BFofjD8PRr2jXvhie41C8c%2BM9G8tre8W9jjtgrbSwe2mLAEApkEbXjlP25/hl4x1LxZ8P5fC/xO8L3d288PhHUANF1bToyeIba7XdBcKo/wCe6ox6b%2B9T/t4f8kQ0P/ss3w4/9TXRK9mrSlU9m9k0%2BjX/AAzXyZjXo%2B2ikpOLWzTt/mn6NNHiXg39vn4Fanr8PgX4sHVvhj4nmO1NA%2BI1gdNMzdP3FyxNtcAngGOVifQZxXtcM0NxCtxbyq8bqGR0bIYHoQR1FZvjHwR4M%2BIegzeFfH3hLTNb0y4GJ9O1exjuYJP95JAVP5V4tL%2BwTofgCZ9S/ZR%2BNPi74Vz7i66TpV7/AGjojOepbTrzfGoP/TIxexFbWwlXZuD8/eX3r3l9zOa%2BYUN0qi8vdl9zvF/JxPfaCARgjIPUV4CPiH%2B318IP3fxC%2BCXhn4o6XF11j4e6p/ZmpBB1Z7C%2BYxu5HOI7j6DtV/w3/wAFC/2ZL7V4vC3xE8S6j8OtclOBovxK0ebRZc%2BiyXAEEme2yRs9uooeDrtXguZf3Xf8Fr%2BA1mOFTtUbg%2B01y/i/dfykWPiV/wAE/v2VviT4gbxzD8OT4W8UHJTxb4Dv5tE1JXP8Zms2j80/9dA49uK50fA39vT4QjPwV/ay0rx3p0fEOgfGHw%2BDOE9BqenCOQt7yQSe%2Ba%2BgdK1bStd0%2BLVtE1O3vLWdN0FzazLJHIvqrKSCPpViqjjcTFcs3zJdJLm/PVfJo6PY0n70dPNaflo/uPnaT9sH49fD2JrL9pT9hHxpaW5UpLrXw6uYPFFg69GdoovLu40xzgwHj161yH/BKfU9Pubj426T4FsTpngqy%2BLV4PDGgXkJgu9O3xo0ytAwBggY%2BWYkIBGJAQCDX1xXyh%2Bwnpd74d/ad/aY8CeMrx28aSeNbPUbnXYMBZtLurZ305Y42UqphQuDndkuAc459TC1aVbKsXGMFF2pvRtrSpa9nta%2B6bava1m7eNjoTp5vgpN3V6ivZLene11ve17Ws7XvdK/tnwU%2BJnxA8c%2BNfiF4X8ZaXoyW/hLxUmmaZfaPJLi4jezgu9sqydJUW4jVip2k5wBjFReA/wBpbw543bW9Tn8D%2BINE0DQ5NQEvi7Wo7VNMuEspniuJUljndkRWjk5lSPhGOMCqnwT%2BB3xO%2BCltr0EnxatPFTa74gu9YubrWPDyWt0880SqFeS2dYiA0cYyIQQg244Bryrxj%2BzD8XJfDnj7XNK%2BFnhLw%2BniDR7G3vfBXgXUjLDrsyagLi9vXaW2tU%2B0SW7SwojL8zM2%2BXDAjhjSwdSrJcyS92zvbsno%2B%2Bu%2Bi6nrOVaMVp3v%2BNj37wT8bfhV8Q/C11418KeNbSXTLG5NvfXVyGtvs0o2nbIswRoyQ6EbgNwdSMggnqIpYp4lmhkV0dQyOpyGB6EHuK%2BRfG9jJB480r4y/tEeCLvR/BHiXxpeahrGgappv2s5tdMNppiXsMAkUtLmWXB3KrQ2yE7toHuX7JPhrxV4H/Zr8LaL450t9Pv4dOeeTSjHzpsUksksVmFHTyInjhC9vKxWeJwtOlTU4vd7aP1V1u09%2BmqKp1ZTlytf1/wT0qob/T7DVLR7DU7GG5gkGJIZ4g6MPQg8GvA4v%2BCo37FFpItr4y%2BKGoeE7nOHtvGXhDVNKKH0LXNsifkxrt/Cf7Z37IfjsKPB37UXw%2B1F36Q2vjCyaQexTzNwPsRWcsFjaavKnJfJ/mk/zKVejJ6SX3oh8Z/sQ/sZ/EQu/jr9k/4b6tI/3p77wVYyS59Q5i3A%2B4NcDcf8Ejf%2BCdrzPc6V%2BzZZaNI5yX8Na7qOlHPt9juIsfhX0LpOt6Lr1qL3Q9Xtb2E9JrS4WRT%2BKkirVOGNx1JWjVkv%2B3pflf8AQ3U5W0Z82/8ADrn4Gabx4G%2BMvxu8MKPupoXxt11FX6CW5f8AWj/h3Lf23Gj/APBQL9pKzA6D/hY0Fzj/AMCrOXP419JUVX9o47rO/qov84sfPPufNv8AwwZ8ZrTjSP8Agpr8dkA6fbZ9CuD%2BbaYM0f8ADE37TacQf8FRPi0B/wBNNB8PMfz/ALOr6Soo/tDFd1/4DD/5AOeX9W/yPm3/AIYj/aUl4u/%2BCoXxdYd/J0Xw9GfzGnUf8MBfFK9GNb/4KX/tAyeosdV0S2z/AN86WcV9JUUf2hi%2BjX/gMP8A5AOeX9W/yPm0/wDBN6C6/wCQ3%2B3Z%2B0leg/eH/C1ntc/%2BAkMWPwxR/wAOqf2XdU/5HzxL8VfFWfvf8JF8Z/EMob6hLxAa%2BkqKP7Rx3So16WX5RQc8%2B5876P8A8Em/%2BCcuj3Yv2/ZK8L6lOP8Alt4gSbU2P1N3JJn8a9N8E/sufszfDRkb4c/s7eBdAMf%2BrbRfCVnalfoYolru6y/EfjnwT4PiM/i3xhpWloBkvqOoRwDH1dhUTxeNr6SqSl5Xk/wv%2BhLnK2rNQAKAqgAAcAUV5F4u/b%2B/Yg8DBh4l/a0%2BHsMifft4PFdrPKP%2B2cTs/wClcwf%2BCnP7Lesfu/hkPHPjmb%2BGHwX8NdYvt30kFsIz%2BD0RwONmrqnK3o0vvdl%2BJi69BOzkvv8A%2BHPoSivnv/hsj9oDxbx8I/8Agnb8TLwf8/HjPUdL8PxfXE1zJLj/ALZ59qQ6v/wVE8dfPYeDfgz8PbaXgjU9W1HxDeQj12wx2kJI/wB8j2qvqNWPxyjH1lH8lzMXt4P4U36J/rY%2BhapeIPEnh3wnpcmueKtestMsoRma81C6SGJB7u5AH4mvB/8AhkX9prxxx8av%2BChXjaWA8mw%2BHmgaf4djB7jzQk9xj/tqD6EVc0D/AIJofsbafqkfiLxj8LJfHGrIctq3xG1q71%2BZ2/vEX0skYP8AuoBR7HBw%2BOrf/DF/nLlX4Bz1pbRt6v8AyuL4l/4KVfsf6XqsnhnwR8SJ/H2tJwuifDXRrnX53b%2B7uskeNT/vOorPP7Qv7cXxWPlfA/8AYwh8KWUv%2Bp8QfGHxNHaFR6nTrDz5yfZ3j/Dt7z4b8LeGfB2kx6D4Q8OWGlWMIxFZabZpBEn0RAAPwFX6ft8JT/h0r%2Bcnf8I8q/FhyVZfFK3ov1d2fOx/ZE/aN%2BK/779pv9tjxJLaSfNJ4X%2BFtinhuxGfvRtcK0t7MmOP9cmfTrn0L4K/sh/s0fs8SNefB/4NaLpF/Ln7RrRtzcahOT1Ml3MXnkzz95z1PrXo9eeX/wAb9f0T4pad4I8SfCfUNP0fWtYk0rR/EM%2Bo2zfartbeW4/490YusTJBLtcncShyijBpPE4uvFwTtHsrRX3K1/nciSw9BqUt27Xd3%2BOtvwPQ6yvGHjfwv4C8NX/i7xXqotrDTYw97KkTysgJAACRhnZiWACqCSSAAc14b8Q/i18SvCnxI8WeNR8QJ4dL8HeJdIs7vwlLbQfZZtIvIrdJLsOI/O80Sz%2BYH8zaqwsmzqT5d4Y%2BG51KO1%2BB3w326R47Gk30fjCM2xiV9S0y8W603V7sKAJDPcBT5%2BD5ySyrk7cC6eCTXNOWmn%2Bbv8mtddzirZm4ycKcLvVa9Xqlbvqno2nZfd9e%2BAfiL4R%2BJuiNr/g7UnnhjnaC5intZLee2mUAtDNDKqyQyAMpKOoYZGRzXm/xO/as8RaN44v/AIS/A/8AZ48XePPE2nMiX0iWv9maPZO6LIom1G6Cxk7HVsQrKcHGM8VqfAjw547j8f8Ajr4keLvA914Yi8T3mnyR6Jdalb3Ja4t7QW8t2GgdlUSKkEYBIYrbqzKpYqPT6wfsaNV3XMvXr523tto0dS%2BsYjDq0uR3d3bW12tFLa%2Bj1Tt22PAfjDcePLrx5%2BzDc/E/TNLs9ff4vXp1S10S7kntYpf%2BEK8U/LHJIiMwxjkqOc179XjP7UH/ACW/9nH/ALLNff8AqFeKK9mrBu7udcVyxSvcKKKKQwooooAKKKKACiiigAooooA8Z/bw/wCSIaH/ANlm%2BHH/AKmuiVN4ytf22PBHivUPEfw/1Pwb478P3F081v4Y1iGTR9Qs4ieIIbuPzYpcD%2BKWNSe7esP7eH/JEND/AOyzfDj/ANTXRK9kjlilBMUittYqdpzgjqPrVwnyPZP1ObFYZYmKXPKDWqcXZ/k015NNHiMP7dPgfwjKunftG/DXxd8MbrcEa68SaQZ9Md/RNQtPNgI93ZPp0r1rwb488D/ETR08Q%2BAPGOl65YSfcvdI1CO5iP8AwONiK1JoYriJoJ4ldHUq6OuQwPUEHqK8l8Y/sNfsz%2BK9YfxVpfw//wCEW11sldf8D302jXit/eL2jIHP%2B%2BGq70Jbpx/FfjZ/izi5M5w/wyhVX95ezl98eaD%2BcYnrlUfEfhfwz4x0iXQPF3h2x1WwnGJrLUrRJ4ZB/tI4Kn8RXjn/AApD9rv4cfN8Iv2rovEVnH/qdF%2BKPh5LskehvrMwTfiyv%2BPf0n4Sap8X9V8MSP8AG3whomj6zDePEsfh7V5Ly1uYQqlZlaSKN48sWGxgSNoOecBShyLmjJP70/u3NqGMnXn7KtQnB26pSi/%2B3otr5NK/Y8y1T/gnX%2BzbbahLrvwls/EHwz1OZtz33w18R3GkqT726MbZh7NER26VCPg/%2B3l8OPm%2BGv7Vnh7xpap8sWmfE3wgI5Qvob3TWiJP%2B00Le%2Ba6Lxpr3iGX4%2B6HpHwx8eaxe3X2yMeLNDRYpdLsNOWKQtJKxj3Qzs/lhFWTexOShRWI88/aj/4KEr%2Bzn8eLf4QWHhVfEd7JplpcQeF9J068n1fUnnklB%2BzGNGhARYwSJCpJcYPBx30Pr%2BKqRpQ/eNq9mk/xeq9eZLzR5eJxGT4KnOrUTpJSULwbSbfZR0fmuVtPSzeh0I/aQ/a38A/L8YP2HdS1K3i4l1b4ZeKrTVVf/aW1ufs04HsAx/lXz3%2BxH%2B2r%2BzjafGj4u/Hb9on4qy%2BFfGPi3xgdLj0bxFpM9lBpel2IMdpBJKYhEtwFZhIGfcCgyBk56Bf2gv28P2q9Ut9Fij0j9n/wPqllqFyniS4kTU9XngspRHdKjZWK2IyTuZVIALI7hSa9q/Yr%2BB37Mvw18I%2BIE%2BDN3rGu32s3kTeNNd8YLcvqWrXAQvHJcC6RCVKzMylUCMJCwLZJr1WsHl%2BX1qdW3tKnKrU23ZKV2pSd4q9lpFybaV2kebSxGIzXMqE8NUbpwcmnVSTb5bJxiuWcrJ/FJRVpNrme3qfgX4v/AAm%2BKFuLv4afE/w94hiK7hJoetQXYx65idq6KvJ/HX7Cn7HPxIuDfeK/2bfCL3Zbcb%2Bx0eOzuSfXzrcJJn33Vzv/AA7%2B8DaB8vwn%2BPnxe8FRL/qrTRPiJdXNsh/643/2hMfhXgcmDltNr1jf8Yv9D6j2mYw%2BKnGX%2BGTX4Sj%2Bp71RXgw%2BAP7bHhnnwX%2B3gupxR/6q08a/Dexutw9Gms3tn/HBNH2//gpj4c%2Be58OfBTxXEnVbPUtV0eaQewkjuUB/4Fij6tF/DUi/m1%2Ba/UPrs4/HRmvRKX/pMv0Pd5Yo5o2hmjV0YYZWGQR6EVxHiz9mL9mvx6WPjn9nvwPrJf751XwnZ3BP4yRmvP8A/hor9szRefFX/BPu%2BuY1/wBZN4W%2BJOl3n4hLj7M5%2BmKP%2BG5tQ075PFn7Fvxz01l/1jQ%2BCI9QQfQ2VxMSPwq4YfFwd6b/APAZL9JITzDBNe/df4oSX5wYat/wTA/YB1a5N7/wy14ZsZj0l0SKXT2H0Nq8ePwqr/w7K/Zl07nwZqfxG8NkdDoPxa16Hb9A12wH4Crf/Dx/9mew%2BTxevjnw6/ePXvhhrcG36kWjKPxNSWv/AAUv/YRuphby/tLeH7SQ/wDLPU/OtGH1E0akV0c%2Bdpbzf3v/AOSMvreTX%2BOC%2BaX58pQH/BPq0teNF/bO/aCsgPugfFCW5x/4FRS/rR/ww/8AE6x/5Af/AAUQ%2BOEXoL6/0e6x/wB96cK6/Tf25/2LdXA%2Bw/tZ/Dgk9Fk8aWUbH8HlBrbsv2n/ANmrUgDp37Q3gafPTyfFtm2fylqHiMzXxJ/OC/WmbRqZdL4Zx%2BU1/wDJnm3/AAyP%2B0/b8ad/wUn%2BIqgdPtPhbw/N/OxFJ/wyz%2B2MvEX/AAUy8YAf7fw78ON/7Z165B8bfgxdDNr8XfDEg/6Z6/bH%2BT1YX4rfC5xlfiToB%2BmsQf8AxVR9bxi3iv8AwCP/AMgaKOFe0v8Ayb/7Y8b/AOGVv2wZOLj/AIKY%2BMyP%2Bmfw/wDDqfys6X/hj/8AaQuuNU/4KR/E5wev2TQdBg/lYHFexP8AFr4VxDMnxM8PqPVtZgH/ALPVS5%2BO/wAD7ME3nxl8KRAdTJ4itl/m9CxWNe0V/wCAR/8AkAawq3l/5N/9seT/APDCvji8%2BbW/%2BCg3x5nPdbXX9LtVP/frTgR%2BdH/DvHw1eceIP2sPj7qan70c/wAW72FG%2Bq23lCvRL79q79lvSwTqX7SfgC3A6%2Bf4xsUx%2BctYWqft9fsRaQCbv9rP4etjqLbxZazH/wAhu1Wq%2BaS%2BFP5QX6UzKVXLYfFUj85r/wCTOY/4dffsf33z%2BK/Dfi3xBIfvP4g%2BJeu3W76q15sP/fNanhz/AIJr/sDeF5RNp37I/gWdwc79U0GO%2BYn1JuA%2BTVd/%2BCmn7DBcx2H7QFhqLA426Ppd7en8BBC%2Bab/w8T%2BB2pceCPAvxR8TE/d/sL4Uay%2B76GS2QVblnTVm5perX6xMli8nT0nB%2Bln%2BSkep%2BEfgr8G/ABU%2BA/hL4Z0Qp9w6RoNvbbfp5aDFdNXgx/bU8dax%2B68EfsJ/Ge/kP3G1TRrDS4j9WurxWH4rR/wvD9u7Xf3Xh79hfS9I3/duPFXxUtF2e7R2UFxn6Bq5pYbEyd5tfOS/%2BSbNVmGEStBSfpCb/wDbUj3mivBv7N/4KYeJf3V34o%2BC3hOJ%2Br2OmaprE8Y9jJJbIT9VpP8Ahl79qTxR%2B6%2BJP/BQPxV5Dfft/BPhHS9Hx/uyPHcSj/vs1P1emviqxXpd/kv1H9cqy%2BChN%2BvLH85X/A96rhPiJ%2B1D%2Bzd8JBIPiZ8ePCOhyR53W2o%2BILeOYn0EZfex9gCa4D/h3P8AALXPn%2BLHiT4gePn/AOpz%2BIepXMf/AH5jljhx7bMe1d38O/2U/wBmb4SmOT4a/AHwfos0eNt1YeHrdJ8juZdm9j7kmjlwcd5Sl6JL82/yDnzKe0Ix9ZOT%2B6KS/E4M/wDBRP4MeI/k%2BCvgH4i/Edugk8GeBLx7fPbNzcrDBj/a8zHvR/wtv9vr4hfu/h/%2Byn4Y8FW7cx6l8R/GguJNvqbTTUkwfYzL6HFe90Ue2oR%2BCmv%2B3m3%2BHuoPq2LqfxKz9IpR/F8zOG%2BCPhb4%2B%2BHrPULr4%2B/FnRfEt7eyxvZ22geGTp1tpqgNvjQtNLJMGJB3OQRt6c1lfE74V/F/xj8bvDfjrwr4y8Oabovh/S7hI49S0ae8uhdzyIsssYWeKNT9nQxq7b9vmyHYciuw8c/FT4Y/DGz/ALQ%2BJHxF0PQINu4S6zq0NqpHsZGGa8vn/b9%2BBWsStZ/CLTfFvxFuUYq0XgTwndXkQPvcsqW4HuZMUoOvKbqRjv5advJfiYYnE5XhYKhXrJNNOznebs77Lmm//ATu9Y%2BAvw38Waxpfifx3ow1vV9Il8y01S8xHIcSCVFdYAiSojqrKrqwUqD15rs68PPxN/bk%2BIfyeAf2c/Dfgi1blNR%2BIfib7VOVPf7Hp4bDezTr74pD%2Byz8Z/H/AO8%2BPX7X/iu%2BhbltF8C20Xh6zweqM8W%2B5kXtzMM/pSlBtL2k1p8/wWn4mcMe5N/VMNOV%2BrSpp%2BrnaT/8AZ6H8Uvj78E/gnZ/bfiz8U9D0AFd0cOo6iiTS/8AXOLO%2BQ%2ByqTXnX/DX3jb4jfuP2aP2ZfFniiJ/9V4h8SRf2BpJU9JFku18%2BZfaOE59fTsPhd%2Byd%2Bzl8Gbz%2B1vh58IdHtNSLbn1m5gN1fu3ctdTl5ifq9eh1PNQjsm/XT8F/mX7HOMR/EqxpLtBc0v/AAOei%2BUDwT40SeN5fiD%2BzHJ8SLXS4Ndb4v3p1OLRJpJLRJf%2BEK8U5ETSqrsuMcsAa97rxn9qD/kt/wCzj/2Wa%2B/9QrxRXs1ZN3dz1IR5IKN27dXu/XbX5BRRRSKCiiigAooooAKKKKAPl34DftjfG34gfGLwtJ420zwsvgP4ma14u0zwVZ6XptzFqulyaLdyxQyXlw9y8V0t3b21zMVjhgNu3lx5nyZBd%2BFf7U/xd139tLxX8Dfix4m0Twzotv4nudN8AaBf/CfW7S58T20Wl292bi116e7Gn3ciu12Wt4IGkEdq5IARnHReDv2DPA3gL4kzfEbwv8XfG8AtrrWbrwpoTz6dLYeFp9WvVvNSlsUeyLs08ocf6S84hSaWOAQq%2BK3779lqDxF8ctF%2BNfj343%2BNfEUPhbWrnV/CPg7Ujpkek6LfTWdxZNPF9msorqYrbXd1GgubiZVE7EDcqMoBxn/BQv4ufCjw14P8GfCjxH8TvD2n%2BKfEHxh%2BHsug%2BGr3WoItQ1JI/GejNI1vbs4kmCqrFiikAKScYNdr4v8A2Q/hT4h8S3vjrwvf%2BIfB/iDUJ2mvta8H6/NZSXEh5LSR5aGUk9d8Zz3rL/bw/wCSIaH/ANlm%2BHH/AKmuiV03iL4rfE/wfrt3FrPwD1XUdGjnYWmq%2BGtQhu5Xjz8rPbMY5FOOoXf%2BNZVq9Ogk53t5Jv77J2%2B483MqWXVaUVjKfNFPR8snyu294%2B9HTqmu1znP%2BEL/AG0Ph9z4S%2BL3hjx3Zr0s/GWjtp92FH8IurLKM3u0P19aP%2BGofH3g7938av2WvGejKv39S8NpHrtkq92LWp85R/vQj3rotE/aj%2BB2r3q6Rf8AjaPRNQPDad4ltpNOmU%2BmLhUBP0JrvbS8tNQtkvLC6jnhkGY5YXDKw9QRwaVLEUK6vTmpejT/AOCvmkcFDCwqK%2BX42WnRyjVivVT99f8AgaOA8DftYfs3/Ea6/s7wr8Y9Ee93bTpt9dfY7sH0MFwEkz/wGtP40fH74Nfs8eEP%2BE7%2BNPxE07w/pZcJFPeSEtO%2BM7Io0BeVsc7UVjgE4wK8A/ae/aI8LfGb4gXP7Mf7NnwA8N/FrxxZkR65qfiGxSXQvC4yQWu7jBJkBB/dRENkMM7l2Hm/g/8A8Eg7PTtctviR8cvjrqt54jsZGm0Gx8H28Vlpnh%2BVipY2sc6S7j8oAYquQOVJAI96lltPDwVbHy5ItXUF/El2srNRT/mnbTVRel%2BF5tn86kqOEpU67V05pyhBNbp83MpNdoSdnpJrW1G6/aT0j4p6prd1/wAE2f2YPGes694heR7vx1LLdaF4cS5lILXcqzOiXMq4DEGNZCOAxyQfR/2eP%2BCcem/CnxRbfFP4kfFjUfFni691GHWPFGq3lnDvvtSjRgmyYr5sdqhclYAQCUjJwFC13A%2BGH7YPg8b/AAZ%2B0to3iOJOI7Hxv4PQNt9DcWMkRJ9zGfxpf%2BFo/tgeFP3Xi/8AZh0jxAicyXvgrxpGCR6iC%2BjhP4byaVfNP3LoYWHs4PfVylLspSaWi6RSSvrq7W5qGHw9OqquZUKnMndWp/u4u924qjKau%2BspJu3a7vyGtfsq/Fa5%2BFt54S1jUdM1JdE8PPpfhyx02Zkl1SN7kS3TzvKESGaeBfI2glFMjsXwQF9P%2BDfhvxZL4x8XfFnxloNzo8/iW6tIdP0W8nikmtLO1hKJ5phd4/MeWSd8I7AKyDccVz//AA2f4M0X/kpfwl%2BI/hJV/wBZcax4KuJoFP8A11sxMh%2Bua2fC37YH7LnjKQQaF8evC5mJwLa81aO1mz6eXMUfPtivOlXnOLTO/CVuHKWJi6eJSkvsykottJpaTUJaJtJWt6tXdX4jfHz4q/DnxleaWP2TfGPiLw/D5f2TxD4Wv9PuWuMxqz/6LJcRyptYsvQ525HWsP8A4b9%2BCOj/AC/Enwx4/wDBjf8AU0fDzUoUH/bSOGSPHvux717Npuq6XrNqt/o%2BpW93A/3ZraZZEP0KkirFJTpWs4fc3/wT1pYfMXJzo4nR6pShGS9E4yi7dt/Vnl3hb9tv9kHxkwj0H9pTwY0jHCwXWvwW8pPpsmZWz%2BFehaF4p8MeKIPtXhrxHYajFjPmWN4ky4%2BqEiqXin4YfDXxwGXxr8PND1gMMMNU0mG4z9fMU157rv7An7GHiCf7Vdfs2%2BFbWXORLpOnCxYH1BtihH4U/wDZ33X3P/Im%2BeQ6Up/OpB/lNHr1FeJD9gL4G6Zz4H8S/ELwwe3/AAj/AMS9XiA%2Bge4cD6YxR/wx14p075/C/wC2j8Y7Nh91bzX7O%2BQfUXNo7H/vqjkovaf3p/o2H1rNo/FhU/8ADVj/AO3Riz22oruys7%2BI299aRTRnqksYYfka8X/4Z%2B/azsPl0b9vXVnQfdXWPh9pNxj6mNIifzo/4Vj%2B3lpnNh%2B1b4K1PHQan8MHiz9TDf8A9KPZQ6TX4/5B/aOKXxYSp8vZv8qiPSdS%2BDnwi1kk6v8ACvw3dE9ftOh275/76Q1iXv7KP7LepEnUf2bPAFwT187wdYvn84q5H%2By/%2BCjNp8sXjT4L3wHRpvDurQMf%2B%2Bbtx%2BlHn/8ABRyH/mF/BK4/7f8AWIc/%2BQnrRe1jtVX/AIEzGWNoS%2BPCVP8AwVF/%2B3M3J/2IP2MLk7pv2SPhmSepHgXTwf0hqu37Bn7ErnJ/ZJ%2BHP4eDrMfyjrL/ALb/AOCi8P8ArPhx8Gpv%2BuXi7VV/9CsaP%2BEp/wCChi8H4N/CdvdfHGoD%2BdhV8%2BKX/L7/AMnf%2BZm8Rlz3wc//AAQasf7B/wCxNGcr%2ByT8OD/veDLI/wA46t237FP7G9md1r%2ByZ8NIyP4l8CaeD%2Bfk1z//AAk//BQ5%2BF%2BD/wAJU938b6if5WFH9rf8FGZvueA/gtB/108U6s5/SyH86HPFPet/5O/8wWIy9bYOf/ghHaWP7MP7NWlkHTf2efA1vjp5HhKzTH5RVu6Z8MfhtohB0b4e6HaEdDa6TDHj/vlRXl27/go7N/yx%2BCVt/wBtdYnx/wCOpR/YP/BRO/8AlufiZ8HtPB/is/COpzsP%2B/l6oP5VDVSXxVF/4E2axxtGPwYSp/4Liv8A29HtiRpEgjjQKoGAqjAFLXiX/Co/25tQ%2Ba//AGx/DVhnqml/CtGx9GmvW/lR/wAM4ftM6n8niX9vbxUYz1TRvB%2BjWf5MbeRh%2BZrP2UOs1%2BP%2BRr/aGLfw4Sp83TX5zZ7bRXiR/YtuL3nxJ%2B138atQLfeVfGyWSn6CzgiIH41Th/YU/ZI1jV5tD8TvrnifU7eNZLq21/4japeTIjdGeJrrAB9SvNHJQW8/uX%2BbJeLzV2Sw8Y3/AJqsf/bYM9d8TfE34b%2BClZvGXxB0PSQv3jqerQwY%2Bu9hXnmvft9/saeHrn7FcftF%2BGr2fOBBol4dRcn0C2okJPsKrfC79l39gi9hmvfhb8Fvhvqwsrgwz3VrplpftDKACVMjByrYPrmvWdB8K%2BF/Ctt9j8L%2BG7DTYcY8qws0hX8kAFH%2Bzru/uX%2BYqc85xEFKEqKT6rnqfjeMWeQf8N1eCdZ5%2BG/wP%2BK/i1G/1dxo/wAPbqCFv%2B2t6IEH4mj/AIXl%2B2H4o%2BXwR%2BxWNLik/wBVe%2BNvHtnbbR6tDaLcv%2BGQa9urN8ReMfCHhC3%2B1%2BLPFWm6XFjPm6jfRwLj6uQKPaUltD723/kOeFx3LzV8W4r%2B7GnBffLnf4nkX/CIf8FA/GI2a98Zvhx4KiPOPDHhW51Wce3mXk0afj5X4Gj/AIYy1TxR%2B8%2BMX7VfxR8Tl/8Aj4srbX00azlHp5OnRwnHsXNbet/tu/spaJd/2ePjbpGpXPa28PmTU5GPoFtFkJql/wANa3%2Bv/u/hn%2BzP8TNeZ/8AUXM/h9dLtn9/NvpIjj3Cmj29RfDZeiX/AAWeVKrw05ctTEOs%2B3tJ1f8AyWndfgaHgf8AYo/ZQ%2BHd5/anhr4DeHmvt27%2B0tUs/t91u9fPujJJn33V6fDDDbxLBbxKiIoVERcBQOgAHSvIP%2BEu/bg8W/8AIB%2BDngbwhF/z08TeJ5tSmx6%2BVZxImfbzfxpP%2BFEftGeLf%2BSk/td6pawPzJYeBvDtrpgX2E8wnlx7gis5TnN3k2/U7MPi6NCHJgMFO3lCNKP3zcX/AOStnrmoalp2kWcmo6rfw2tvEuZZ7iUIiD1LEgCvMfEP7an7Nmiai2haX8R4vEWpjhdK8IWk2rTs393FosgU/wC8RVGx/Yv/AGZ49Zhfxzo9z4w1gqZEm8ceILjVJZAOrCK4kaPH0QCu7%2BH2s/CiGa58FfDaHTbP%2Bz2Il0/TrAW0a7WKMUAVVcBhtJTIB4JBrJ1IKSTauzR1s6qyUW6VG%2Biu3Ul6WXs4Xt6nB/8AC9P2i/HQ2fCb9la/sIJOI9W%2BImsRaYiH1NtD505HsVQ/yoPwW/aa%2BIHz/Fj9pptFtZP9Zo/w30dLLHt9suTLMfqoT/D1XX/E3hvwrZHUvFHiCx022HW4v7tIUH/AnIFcJc/tWfCi7nex8B/2x4vukbDQeE9GmvFH1lAEIHuXrKrisNQdqk0n2vr92r/Awr4XCU3bMMXKbf2eZQT9IUrSf3yOQ%2BOHhaz8FfEf9mXwpp%2BoX93DY/GC9jS51S%2Be5uJP%2BKK8UHdJLISzsc9Sa94rwv496te678UP2aNY1HQLrS57j4w3zyafeshlgP8AwhXij5W2My5%2BhNe6VvGSlFNdT36SpxpRVNWjZW32tpvrt317hRRRTNAooooAKKKKACiiigAooooA8Z/bw/5Ihof/AGWb4cf%2BprolepWXjfwdqOqzaFY%2BKdPlvreUxT2aXaeajg4IKZz%2BleW/t4f8kQ0P/ss3w4/9TXRK9N8S/DvwJ4wB/wCEo8IadfMR/rbi0UuPo%2BNw/A1xY3%2B0VBPB8jd9VPmSa8nC7Tv1aa8iZc3Qu634e0DxNZNpniPQ7PULZvvW99bJKh%2BqsCK%2BXP25dN%2BFH7OngO2t/gh4SvtP%2BJvja%2BGkeAdH8JavPYtc3r4BmeOJxH5MQYO5KgfdUld2R6b8ZU%2BF37OvhB/GU/xJ8TeH0LGPTNH0m%2Be9l1G52krb21pKJDNI2DhVAwASSqgkePfsq/BH9qT4h/EBP27fjtDpMnijUtKaz8HeFfEMUkT%2BHdJYkqcxLtjuplJLnZuAcqdu5kVYCqlz4vNsFdUkmowlCrKpJu0VGKdOqopq85NJKMXFSc3ynz2cwjjJRwsKSdWW87J%2Bzj1lzWTUraQjzXbfNbli2%2B3/AGYf2Nvi1%2Byl8G9J%2BH3wy%2BNGl/aIoBca1a6n4WilgvL9xunk86Jop2BbIUuWYIqjjAA9B/4TL9qLw38uv/BrQPEKDrceGfEht3x/1yu0UZ9vMrW/4WN8RdI/5Gn4K6iyDgz6FqEN4D7hGMb/AKUsfx%2B%2BGsLiDX7%2B90WYnBi1vS57bH/AnTb%2BteVieIspxGJnXxGKlRnNtv2nPT1bvtWhy%2BiU7W0WiOmjlmGwlGNLDVZ04xVkua608pqS%2B5rqZH/DTuhaTx4%2B%2BF/jfw4F4kuL7w1JcQKf%2Butr5q49%2BK1fDn7SPwE8VuIdF%2BLmgtMTgW9xqCQS59PLlKt%2BldJovjLwj4kAPh7xTp19np9jvUk/9BJpniPwJ4I8YRmLxb4O0rVFIwV1HT45xj/gamvRozxFamp0K0Kke9lb/wAChJo6FTzSC9yrCa/vRa/GEv0NG1u7W9gW6srmOaJxlZInDKfoR1rK8U/Dr4feOIzD418CaNrCEYK6ppcVwCPTEimuRuv2SvgC87Xmk%2BBTo87HIn0DUriwZT6gQSKPzFR/8M867pX7zwf%2B0R49sGX7kd7qcOoRD/gNzE7H/vqtfa46PxUk/wDDJflJL8yak8dKHLWw8ZrynFr7pxRR1L9hj9lC/u2v7T4NWGlXDf8ALfw9cz6aw%2BhtZI8VB/wx9Y6Z/wAiX%2B0R8VtDVf8AVQQeM3u4k9gl4kwx7Vq/8IR%2B1Do3z6R8ddB1fHSLXfB/l5%2Br206fooo/tr9rbSPnvfAfgXWlHbTteurN2/CWBwP%2B%2BjR9ca%2BOlNfK/wD6TJ/keW8Bkyd5YCUH3jC340akfyMr/hSX7Uek/L4b/bNup41%2B5F4i8C2F1x6F4PIY/XNH9mft56R%2B7tvFnwp1tF6PeaPqNhI31Mc0yj8FrV/4XB8a9O%2BbxB%2By3rGwfefR/EVhd/krSRsfypf%2BGlbe2/5DXwO%2BI9iB95n8KNOq/jbvIKP7Qwq%2BJtesZL/20Xssph8NetT/AO36y/8AS4TRk/8ACfftsaL8uqfs6eDNZx1fRfiBJBn6C4sx%2BpFH/C/P2itP%2BbX/ANifxEEHV9J8WaVdfkDNGx/IVrf8Nb/A2D5dX1zVdNfump%2BGL%2BDH1LQY/WrNj%2B1d%2BzdqB2w/Gnw%2Bh9Lm/WHH18zGKazDAN29rH/wJL82hqeGvanmbXlKVF/%2BlQizA/4ay1e1%2BXWP2Tfi5bEfeMXhu2uV/AwXLk/lS/8ADZ3gm3/5DXwg%2BKenDubz4bajgfikbA/hXb2Pxu%2BDGp4OnfF3wxcZ6eTr9u38nrWtPGfg%2B/wbHxXps2enlX0bZ/I1vGvQn8M0/Rp/kzqhDHz/AIePjL/uHSf/AKTUR5l/w3T%2BzrDxqereJbFu63ngHWEx%2BP2Uij/hvT9lBf8AX/FNof8Ar50C/i/9DgFeuxTwzrvgmVx6owNOrU29hnvTEU3/ANwn%2BlU8f/4b6/Y%2BH3/jrpSf9dYZ1/nGKUft8/scH/m4LQPxlcf%2By16/SFVPUA/WgPY5/wD8/qX/AILn/wDLTyE/t9fscDp%2B0DoJ9lkkP8lo/wCG%2BP2Qj/q/jdp0n/XK0uH/APQYzXr4AHQUUB7HP/8An9S/8Fz/APlp5B/w3n%2Bys3%2Bo%2BJF1P/17eGNSl/8AQLc0f8NyfAaf/kEL4v1A9hZfD3V2z/31bCvX6iuL6ytBm6vIoh6ySBf50Npbg6Ge21xNNelJ/rVOb%2BFnxa0b4t6ddaponhjxHpsVrMIyPEfh6409pcjO6NZ1UuvuOM8VxHxysr3wv8SvDXxD0jUpIYhrdpBrHl%2BJrozyLI3krBFYEm3ZW3guw2v8pIBPNek3nxA8B6fn7f420iDHXztSiXH5tXJ6v8Q/2VIPEsfjTW/GvgD%2B2oECQ6pPqFkbtFGcKshO8AZPAPc%2BtYyxGHh8U0vVpfqZ42MauCjSq14c6afM2obO90lJ%2Blr2et2rnmn7Ql94ePjjWNd1O5tpdZk0nTn%2BGt1E6tLLPHdfv4LN%2BpmdiFdUO5kcg5UHEE3hO81Lx5e%2BBtP0W6tvFk/iHXWu9TFlIofTbu0cpKZ8bTHvMaIu7KtGAAAuR6Y/7V/7Mulqtna/FjRWCDCQ6eWmwPYRKf0pP%2BGsPhHdfLoEXiXV27Lpng7UJM/QmEA/nWLzHAf8/Y/Jp/lc8arhcpq4iVSeLhq7tKzeu%2BqbfN0jK11HTUxvgNp/iO78fQa3ceFNT0iHTfAVjousx6hpslskuoQSt/qdygTIq7x5iZUhkwfTqvin8KPG3xF1a2m0T4%2BeJvCmnxW3l3Fh4dt7MNO%2B4nzPOmgkdTggYHHGcZzWd/w0XqF58uhfs8/Ea7Y/dM2hR2qn6m4mQj8qT/haP7Qmof8AIH/ZhkgVvuyaz4wtIce5WESn8KX1/DP4W36Rk/8A21Ho0f7Mjgvq0pTqJu75Y1Ffb%2BRRstFdKVnq3vZZX/DFvgHVPl8efFL4k%2BJ0P3odZ8fXqxH/AIBbNEo/ACtHw9%2Bxb%2Byl4Yn%2B16f8BPDc8%2Bc/aNUsBeyZ9d9xvbPvnNSfaP2vdU%2BaLTfh5oyN0E1ze30i/gqwqT%2BNH/Ctf2jNV%2BbXP2kobJW%2B/DoHhC3jwPQPcPKfxwKPrc5fBRm/ko/%2BlS/QiGBylS5qeXuT7yhG/wB9Wc2d/onh3w/4atBYeHNCs9PgHSGytUiQfgoAq3uXds3DcRkDPOK81/4ZpstR/wCRv%2BMvxA1lW/1kM3iZ7aJ/bZarEMVv/D/4G/Cv4XalNrXgfwklpe3MHk3F7JcyzzSR7g21pJXZiMgHr2q4VMXOa5qaivOV39yVvxPYoVMa5KPsYwh/jTaXkoxt%2BKKXxr8QfEDwjpUfibwheNJDbkedp8OiG5MhGWZpZA%2BYoggOSqFs4wTkLUHxR8P6/wCK7jRPFfhu/tbrS7a3mkvLS58R3NhbTKwRo5SYARLgrwHwuGPNXPitLpup6hpHg7Ub7V4odSnaO7Gl3ghBibEYEpwWKszBcKQcnriszx1p2j2bXOkQeDdHvdM0TTodRubDVrI3AdV3RgRb22xbUjY52nJGMDOa8bHZjhaTr80m1FxTSu2pWc9u3Km5b6JqzehhiMPVq1Kqb918ttXpJa6WTsu669jjb7WLXX9Zj8cp4cu4tZ8QHRNT8KyPZu8qbl8qa28wD5VjXc0ikgESFsHdXS%2BBvBPi/SPFvh7Q7nQLqG38Ky6mh1lpYzBeWU7HyIlAbeX/ANSWyuAYTydwrSj8Q%2BKUv5r2x1oiJ9Xk0q303yI1igBiDQOoC7twyGbJIIJwABTvhXqC/wBqWNvpmoTTQ6h4dS81KCe7eZ7e8DIrbi5JUtucEcDMR4rzcNmmGqY%2BFLlleUt/dV/ednZXveUW3qpQja6avbGjlsY1VOU23dPRJX1vrvvJXvulZbHUeJvh74E8a3lnqHjDwdpmqzadvNi%2Bo2STeQX27iu8HBO1efYVqQw2mn2ohgijghiXCoihVRR7DgCsXxhoXiHxFPb2WgfEGfRVRWN3HZ2sMkswONpDSA%2BXjnkA5yOmOchPgL4Hu3E3i261bxDIDkNrmqyzKP8AtmCsf/jte3XxWYrEzhg8KpdHOVSEYt2XSKnUdttVH7rM9b2ahUcowSb3eiv66XfzOL/aYuLe7%2BNH7N9zazpLG/xlvikkbBlYf8IV4o6Eda9prxL9o7TNN0b4wfs26XpFhDa20Hxkvlht7eIIiD/hCvFHAUcCvba9en7T2a9pbmsr2va/W19bX2vr3NlcKKKKsAooooAKKKKACiiigDmPDnxt%2BDHjH4g6z8JPCPxd8Mar4r8OIr%2BIfDOm6/bT6hpatja1xbI5kgB3LguozketFr8bfgzffFO5%2BBdl8XPDE3jezsBe3ng6LX7dtVgtSFIne0D%2BcsZDp85Xb8y88ivjj9njw94z8F/GrwHofiD4QeNdO1L4Y%2BJ/iTf%2BP/Ex8D6i1rqVtrGsSSWgtblICupG9ee1vWS3MphFo3niJ4wtXfB3w/8AiDF%2B1J4e%2BG8vwo8UQ69oP7TviTx7rXjOXw1dJpU3h280LU7e2kTUzH9mnkK3thp/2VZDMn2ZmMYjhV6APe/28P8AkiGh/wDZZvhx/wCprolaH7Sf7QPwv/ZG8H3HxP8AGeo6jd3mpS/ZdB8L2dw01xrF85GyC2h5O8nAJAwoP0Bxf22fg/8AtP8Axh8K6LpnwB8VeAlttJ8YeG9d1Dw54w029hfVW0vXrHUzHHqltLILEMloVybC63MQPkDbl%2Bb/ANkT4P8A7WHinxZf/tW%2BK/gZ4G8e%2BMbHxZ4h0Kw1rx3%2B0BqTf2U2natd6ZMLO2i8MGGBGktHKMBuKMDiMsyDWjgcnxNaFfHrm9k%2BaCV7uVmtJJpRVtJNqWj0i3ZrjxtXMo0/ZYNJOejk2rRXfl3k%2ByVlf4mlv6z8Ev2a/jR4z1Wb9qb9q6zs7/x3rSbNF8LF3e18IWLsvl20IGV84fflkxywBySgJ%2BgvGcumz6fbNPfWafZ90wsrokeftUrtXlTkHocHkDjmvPv%2BE4/4KF/9Gv8AwZ/8Pxq3/wAy9I/jT/goPIAJP2W/guwByN3x31Y4P/hLV8vnmQf2viMZXU7PERhHlldwgoO8VBKzUU7PlblF21Vpzv25cqeX0KdKKvytty%2B1JvdyfVvvpbRKySS7%2B41G%2BMzS2V1NbraPawwWe4EOzgMyvnJJ2sB14xmrOna9f6hfWxuhC9nqLTiCDyjuVEzhyxOCGA6Y/iFeXyeIP295dRXVpP2UfgsblBhZT8d9WyOCP%2BhX64J596g03Vf2/NLujdw/sx/B9yFZYUk%2BPerFYVY5KoP%2BEW4BIHr0Arx6OR8RYfHxlGvem53dpNLlTVm4tNawvT9nC0E%2BWTvZW75V8NKm04627fr663eu6PU9a%2BEHwt8QsZNX%2BH%2Bkyuesy2SJJ/30oDfrWb/wonwtZf8AIs%2BIvEejDsmm%2BIJ9n/fEjOv4Yrxib45ft2eMvjLrfwOtv2aPhnY6r4Y8MaTrt1eWvx%2B1SOCWDUrjUreFFP8AwjBLOraVOWDKABJHgsSwXr9M8Wf8FELCxjs5/wBm74P3TIDmef48arvfknnHhYD26dq9WeS5dicynGrl0FG11VTgnJ6XTUFTqRe%2Brk07eaOCVGg4KV1ftZr8djuP%2BFffFDTuND%2BN926D7ser6Nb3H5sgjb9aNv7Qun8CTwhqar3Zbm0dvy8wZrjv%2BE4/4KF/9Gv/AAZ/8Pxq3/zL0f8ACcf8FC/%2BjX/gz/4fjVv/AJl66P8AV7DQ/gVq1P8Aw1ptfdP2iMvZro39/wDw52P/AAnHxesv%2BQl8EjMB959M8QwSZ9wsojNH/C5ZLbjV/hP4xtSPvMujidR%2BMLvXHf8ACcf8FC/%2BjX/gz/4fjVv/AJl65fVv2jv27dH%2BM%2BgfA64/ZQ%2BEjap4i8L6vrtncp8ddU8iODTrnTbeZHJ8Mbg7NqkBUBSCEkyVIUMf2Xm1P%2BFj5/8Ab9OjP8lTYcs%2BkvyPWv8AhoL4XRfLqerXtg3ddQ0a6hx9S0eP1ra8KfETwN45aVPCHimz1BoVDTJbTBmQHoSOorzP/hOP%2BChf/Rr/AMGf/D8at/8AMvTE8X/8FAopWnj/AGV/gsruPmdfjrqoJ%2Bp/4Rat8NRz2nXXt69OcOtqcoy%2BTVSUfvQ0qierX3f8E9D8e%2BNtS8OyQWPh/T47q4M0Bu/NDbIYZJRGCcfxMSQo9ueKg%2BIOuQ2tw1hb%2BFLDU5ILCS9vRf4CpAmRhfkbLnBwDgcckV5P4u0v9tjxrNFea3%2ByH8EHuY5on%2B1/8Lw1TzWWNwwQsfC2dpxgj0JxUHiWD/gov4gIki%2BAfwbt5JrGSxv5F%2BNuqMZ7Zznav/FMAIwBIDc43Hg152NpcRc2JdN3UnHk5WrpJSurTVk2%2BRttyTXNa1knE4zkmnqv67nf3ml/CfWtWjiuPgf4eurBri3t7m9utNty6SzIGQBDGQyjcoY7gQTwDyapaP8ACn9nDxbqkVnN%2Bz34bt4L6KWXS7tdHtlF2kbAOQqKCn3geeoNeSfF74k/t5fBewtPHGt/s1/CKXRb7xv4d0/%2BzLL416o0322/1Cz0m2bzG8NqohWa5hlkG0thHK54Q9T4Xtf%2BCh3h6702Wf8AZ3%2BC9xDo9hNaadEvxu1dGVJGQku3/CMncwEajIC9z345aWFzyWKj7anFw5tbxpWteztpdQ5dY/a59HocssDhaj9%2BlB%2BsYf8AyJ6JL%2ByF%2BzTK2/8A4U7pCH1hjaP/ANBYU3/hkH9nYf6r4eeX/wBcdWu0/wDQZRXF%2BLrv/goh4sigjh%2BBnwx0kwMx36R%2B0DqkZkzjht3hRsgY4%2BprD/4Rz/gpNH/qPBfggf8AXT9oC9b%2Bfg%2BvQxVKdGu40sujUj/MpUY3/wC3ZJNW23IllOWX0w0P/AYr9Eeof8Mi/AIfc8Kagn/XPxRqK/yuKP8Ahkb4E9vD%2BsD6eMNU/wDkmvL/AOxv%2BCnS/wCr8IfD0f73xzu2/wDdQrl/jb8Qv%2BCk3wH%2BDHi744%2BKfAngO60vwZ4Yv9d1K1sPjTcNcTW9pbSXEiRh/CaqXKxkKGZRkjJA5rn5q/8A0Kn/AOB0P/kkT/ZWW/8AQNH7onvH/DI3wI7%2BHdXP18X6of8A25o/4ZE%2BAHR/B96//XTxLqDfznry/wDsr/gqGfveE/hz%2BHxtuh/7qNH9if8ABTZv9b4P%2BH5/3Pjrdr/7qFHNXe2VP/wOh/8AJMP7Ky3/AKBo/dE9Q/4ZA/Zyb/W/DSGX/rvqFzJ/6FKalt/2SP2abU5j%2BDGhsf8Apra7/wD0ImvKv%2BEZ/wCCkL8z%2BCPBTeyftC3yfy8IUf8ACI/8FC3/ANf8NfBr/wDdyurJ/wCgeFBQvrnTKo/OpQ/%2BQY1lWWrbCw/8Bh/8iz2az/Zy/Z%2BsMG2%2BCPhQEdGbw/bsfzKE1r2Pww%2BGml4/sz4eaFb46eRpEKY/Ja8C/wCEG/brk/4/fgh4FufUT/tQeIP6eGRXL/BG9/ab%2BPfwY8IfHLQf2O/hoNN8Z%2BF9P13TrfWf2k9faeK3u7aO4jSVV8PMgcLIAwUsMg4JHNbRlnK/h4ClH1qx/wDbKDN4YTD0/gowXoor8oH10iaVo8O1Ft7WMdgFRf6VQvfiB4D03P8AaPjbSLfHXz9SiTH5tXz/AAfDb9qOB/MH7DXwIkb1uPjpq8p/8f8ADBrTstG/a/07BsP2HP2fYSO8fxj1AH8/%2BEVrZT4nltToQ9Z1ZflCB0r2iVkkvvPVrz49fBqybZJ8SNKkPYW9yJSfpszmoD8fPAFxxo0Wtak3ZdP8PXcmfofLAP51w9n4m/b509dth%2Byf8EoB6Q/HPVV/l4Wqf/hOP%2BChf/Rr/wAGf/D8at/8y9H1fiWp8WIpR/w0pS/GdVfigtV7r7v%2BCdj/AMLc1q8%2BTRPgz4snY9DdWsNqp/GWUEflR/wlnxt1D5NP%2BEdhZZ6Sap4jU4%2Bqwxv/ADrybwD%2B0d%2B3b8RPFfjfwho/7KHwkhuPAfiiLQtVkufjrqgSeeTStP1MPFt8MElPJ1GFSWCnejjGAGbqP%2BE4/wCChf8A0a/8Gf8Aw/Grf/MvR/ZWZ1P4uPqf9uQpQ/8AbJv8Q5JPeX5HY/2f%2B0DqXyXXiXwtpSnvZ6bPdOPxkkQH8q1/CPhrxho13Ld%2BKfiJcaz5ke1IG06G3jiOc7gEG4ntyxrzf/hOP%2BChf/Rr/wAGf/D8at/8y9H/AAnH/BQv/o1/4M/%2BH41b/wCZet8PkuHoVo1pVas5Lbnqza/8BXLB/OLGoJO93953vjf4Yx%2BL7t9Sh8S6jZzsLfCQXG2L9zIXQkKA2QWbGGGCc1F8QPCX9o6e90b%2Bf7ZNG9oqWu1BcwMSTBIGD5ULuJYYb7xBGTXn174p/wCCiN3c288f7OXwggWByzxQ/HjVNs3s2fCpOPpjrXLD46ftt%2BMvjHrnwJuf2SfhK2peGvDWka/c3L/HnVlt3g1G41O2hRCvhncXVtMnLgqFxJHgsSwXzczyRYvC4yGHoqFSpZKTnpJ2%2BJJc3K480krx1etnFtPanChGpGU9V1Wv%2Ba/Cx7XqvhSwvW07xhoWlTLds0LyG1ddxQx7Q22Q%2BWXCkKHI3BeAaguf7JN1JqVq7WTmylkMgxG73MMmHMmzAkbtzkY6da880/Uv2/dO0pNGt/2ZvhAsCJtVYvj7q8ZHJOQU8LAg8461PHrv7ekVolj/AMMnfBR4o33osvx21Z8NnO7LeFySc9%2BteJX4XzPHLnfJTlOMHNXbj7WMUm48nLKKbcpSkmnJxhpozsp18NRfuq9m7aJOz73vrbT0uegxCQaqjSWxTUZdUinjcRHL27Iu8FsfdUbxgnqorptUs7q/sHtLTU5bSRsYuIVUsozzjcCORx%2BNeRf8Jx/wUKHT9l74M/8Ah%2BNW/wDmXo/4Tj/goX/0a/8ABn/w/Grf/MvX0WVcPU8uw9ejOo5xq72vB7Su24yT53zO804t2j1jd41cS6koyStb5/n00216kP7SNo1j8Yv2bbR7ua4MfxkvgZp2Bd/%2BKK8UckgAZ/CvbK%2BV/if4l/at1f8AaT/Z0tfjX8F/h74f0cfFzUWjvvC3xOvtYuTP/wAIX4m2oYJ9FslCEFiX80kEAbDklfqivepUoUaUacFZRSS3eiVlq22/Vtvu29TnbcndhRRRWggooooAKKKKACiiigAqj4o8Q2HhLw1qPivVQ5tdMsZru5ES5by40LtgdzhTV6o7u0tb%2B1lsb23SaGaNo5opVDK6kYKkHggjjFAHzf8Asa/tS/Hz4qeMNG8K/H/TfCSP43%2BE%2BnfEDwuvhPT7m3/su3uJQk%2BmXTT3EwupIRNabbuMQLKXl/cRbBu8rsP%2BCj3xl%2BHXwwPxp8S/D/wZdeG/Hfwv8V%2BOvhnoGhadcWNzZS2N7aC3tNSuHnlS5e8XU4Z5J4oYPJdJlKTblevefgB%2Bwv4Q/Z01W31fwn8ZfHWpy6dounaBoY1%2B5064GleH7J5Xg0aErZITb5l%2BeaQveSCKLfct5a4xtJ/4JnfAa2tPEHh7xJ4q8W6/4e1bwlrnhjQ/DGrajbLaeFtJ1e4S4v7XTmt7eKdA8kNuUeeWeSFbaJInjVdpAOm/Zk%2BLnxj8R%2BPvH/wL%2BP8Ad%2BGdQ8TeBbrTJl1zwho9xp1jqFjf2nmxN9muLm5eGVJYrmJh5zhljjkGzeY09irzv4Afs56V8Bj4h1i4%2BJHibxp4i8V6jDd%2BIPFnjCSzN9d%2BRbR20EW2ytra3jijijAVY4lyzyO255HZvRKACvl34DftjfG34gfGLwtJ420zwsvgP4ma14u0zwVZ6XptzFqulyaLdyxQyXlw9y8V0t3b21zMVjhgNu3lx5nyZB9RV4Z4O/YM8DeAviTN8RvC/wAXfG8AtrrWbrwpoTz6dLYeFp9WvVvNSlsUeyLs08ocf6S84hSaWOAQq%2BKAKeufFT44/Dz9tTwj8M9a1HwDrulfERtTRdI0PwvdW2u6Do9hazTxajd3r3ksd1bi6eK1KC3gCzapHsZsPuyP%2BCcP7U/xd/aP8C%2Bd%2B0X4n0Sy8d/8IzpGq6z8PLf4T634UvvDjXUcpkWRdXu5n1GAyo8Ud1AkcRa2l5cnCdb4G/Y0/wCEB/aU8WftL6d%2B0p8Qru98aTqdZ8PalFoc1itvFbvDa2UMv9mC9gtbcyPNHClyF855JH3mWXzNj4N/sv23wt%2BIuqfF/wAW/Gnxl8QfFOpaJb6Mmt%2BMjpsb2enwyyTC3hi02ytIFDSys7u0bSMQgL7UVQAeo0UUUAfLv7TX7Y3xt%2BFfxT8Yv8PNM8LN4N%2BE2i%2BG9T8d22s6bczajrEeqX1xFNHYzR3Mcdo1ta2/nhpIrgTySiLEIUyGb9sj9pX4mfAr9oXwdZ22r%2BHvCXgaTwjqV54l%2BIviP4Raz4ittNkW9sEW0lvbC7t4NIhkjaWV57tvK/0ZSeErtvjP%2BxD8OPjd8Uj8TNc8c%2BKtLi1G10i18X%2BGtGurVNO8UwaXeyXtjFfLLbyTBY5ppc/Z5YDLHIYpjLGFQT/HT9km6/aE8Ey/DHx5%2B0t8Q4vDGqaPcaT4u0HTF0WGLxJZTlxNDcy/2aZ4Q0TtAWtJLdvLPXf89AHnmpftjfG21/aAu5YNM8Lf8Kx0/wCM1n8NLmwfTbk63LeXGmwTjU1uvtPkLEt5cxW32U25Yxq8/ng4hr6irxe4/Yd%2BGs/x7/4XgPG3imO0fxTD4on8Bx3NoNDm16LTl06LU2T7N9p81bZIwIhcC38yJJjCZR5le0UAFfPX7Xn7RP7QHgP4gQfC79nC18Irqen/AA113xvrNx4y025uobqCwktYodNhFvcQGCS4e4kzdMZVgEI/cTGTC/QteR/tL/seeD/2mdQsta1H4k%2BL/COoW/h/U/D99qPg28tYZtS0XUPIN5p8xubacLHI1tCwliEdxEUJimj3vuAOa/ac%2BO/jKD9iv/hrr4X%2BLPCeh6NpvgseMryz8a%2BA7jXmuoUtUvbaCCK31KyMdz5gQIcyEybAqhsGuGvf2sf2rfh98dfAfw0/aG1zwf4I0i7%2BH3hC88W67/wqHXtR0vUfEuoXt7bajpVvq0V%2BtnpAVoLRIPthmYvex/63hD7j48/Zh8F/Ef4aWXwf8T%2BJNZbw5p3ijSdXtNKtRaQxrDpt5b3drphCW43WQktYgyNmR0BRpCrEVU%2BOn7LUH7QWuWyeNvjf41t/CSzWM2p/D3TDpkelarJa3K3MZnlaya%2BAaRI96RXUaOsYUrhnDgHqlFFFAHi//BQX4u/HD9n79kfxp8evgFe%2BFI9Y8E6Fd65dQeMNFub62u7S1tpZnt0S2urZkldkRRIXKoCxKPwKu/tg/E/xd4E8HeGvAvw90zQbjXviP4ytfCmmy%2BKtNkvdMtVnhnuLma5to5YWuUW0tbnEIlj8xyil1BJGp%2B1j%2BzjZftafAjXv2fda%2BKvinwjpPieylsdcv/CC6d9rubKWJ4prbdf2l1GiOr8siLICo2uvOc7xv%2BytJ8Svh1Z%2BCPHn7QXjrUdT0nU9O1TQPGJi0eDU9J1KzJK3kIg05LZnkDOsiSwSQskjp5YVipAPBJP27v2rfGWh/wDCGfDPRvAFt428J6F461Lxxc6zpF7NpupP4c1gaVHbWUcd2kloL5t04mkkuPsigIY7kncPrb4X%2BPdM%2BKnw08O/E/RLaWGy8SaFaapaQz43pFcQpKitjuA4B968Q8Q/8E0vhPrHgXSfB%2BjfFz4gaDeWem%2BIdO13xPoupWK6l4ktNdu1vdYivXls3jBubpRN5ltHBLA2RbvApKn6C0PRNI8M6JZ%2BG/D%2BnxWlhp9rHbWVpAu1IYY1CoijsAoAA9BQBarmvjFJ8TYfhlrE/wAHNa0HTvEsVrv0y98TaVNfWMRVgXMsEE9vJKPLD4VZY/mK5bGa6WsL4meDtU%2BIPgPU/BejfEHWfCtxqNv5KeIPD8NnJeWYJBZolvbe4tySAVPmQuMMcAHBABwXwE%2BKPxg/aG/Yj%2BH/AMa/D9z4a0fxr44%2BHGia40t5pVxcaXZ3l5ZQXEp%2BzLcJNJEpkfbH56sQFBk6tXgF7%2B2Z%2B1FoPwc09fAekeFbqDR/jnd%2BBNQ8eeDvg1ruv6PJoVnol1cvqNpomm3rXUaxajCmkuRcyxJLBK2dpUL7F4S/Yan8Gfslp%2Bx5pP7W/wAV10G18EJ4V0rX4Z9EttY02xjRIonguLbS41WZIEEKylCdpLnMuJRo%2BD/2RvE3w9%2BCGk/A3wD%2B158RtEtdCuEXSdX0vRPCsNxa2CW6wR6akK6J9jW2TaHUi384McebswgAPQvg743034lfCfw18QNI8caR4mt9Z0O1u08Q%2BH7Rrex1IvErG4gieWVoY3JLLG0kjICFZ2IJPSVy/wAFfhD4N%2BAfwp0H4OfD%2BK5XSPD2npaWbX1y008oGS0ssjcvI7FnZu7MTgdK6igArxf9jn4u/HD4lXXxS8HfH698KXes/D/4mN4etr7wfotzYWtxato2lakhaK5urlzIrag8ZcOFcRqwRMkV7RXi/wACf2PNY%2BBPjTxf41tP2sviV4jk8ceK4fEGvWPiG08OiB7tLW3syE%2ByaRA6Rvb2ltEwD5xCGUq7OzAHhngj9v8A%2BKvg34b/ABi%2BInxeg8NW3i7w1pfiDWNE%2BGDfCjWvDN9fx2V%2B%2Bn2V42pX91JFq1vJGunrJc2sOyL7TFyBsQ%2B8/syfFz4x%2BI/H3j/4F/H%2B78M6h4m8C3WmTLrnhDR7jTrHULG/tPNib7NcXNy8MqSxXMTDznDLHHINm8xpma5%2BwR4G%2BImq%2BINV%2BPXxg8c/EM654J1fwlaQeJJ9Otk0XSdTkge9htP7NsrU%2BY5tLTE8xlmT7Mm11Jct2PwA/Zz0r4DHxDrFx8SPE3jTxF4r1GG78QeLPGElmb678i2jtoIttlbW1vHFHFGAqxxLlnkdtzyOzAHolFFFAHi/wV%2BLvxw1r9rj4s/AX4qXvhS60fwxoXh7XPCE/h/Rbm1uYrTUrnWYfs94811MtxKi6ZE3mRpAuZXGw4Brn/EnxE/aW8K/t%2BeC/hBpnir4c6r4c8XaRrGseIbOD4fXlvrOl6DpyJFb79R/tV4pZDqGo26qrWiqyNdFVUqTXQaL%2Bx5rGgftF%2BMP2ktO/ay%2BJQ1DxnpVlpl7oT2nh06fZ2lnPdTWkUA/sjzx5RvbpQ0k0jMsx3lyqFe00v4F%2BFdL%2BOHiX9oFNW1ObX/EnhjTdAbz5ozDp1lZS3cyLbKIwUZ5b2V5GYvvKRDgRqAAeO/8E4f2p/i7%2B0f4F879ovxPoll47/4RnSNV1n4eW/wn1vwpfeHGuo5TIsi6vdzPqMBlR4o7qBI4i1tLy5OE%2Blq8u%2BDf7L9t8LfiLqnxf8W/Gnxl8QfFOpaJb6Mmt%2BMjpsb2enwyyTC3hi02ytIFDSys7u0bSMQgL7UVR6jQAV4P%2B1r8Zv2gvgN4k8L%2BLvBniDwRe%2BHta8XaF4dtvAt94cvJNc1y5vb5YblrS9jvVihMFq0l1sa0mHl2kzO8aAvH7xXjPxJ/Y5X4iftO6J%2B1Nb/tHfEDQtV8P6GNK0zQNMh0S40uCB5vNuWjS%2B0y4mhluQI45pYpUdo4Y0VkA5AOF/bY/ah%2BM3wt8ZeILP4NeHPB10nwn%2BFN18SvEw8WaVPczajCrXUMWn2EkVxCLGeWG11BTduJ1TdGvkuruRVj/bZ%2BMWofGs69pWneFz8K4vi9YfDp7GXS7n%2B3Jbm70y3uF1Rbn7T5KRLeXUVsbU25Yxq83ng4hruPjp%2Bwj4K/aDaKbxt8YPHFtNd%2BF7vwx4vn0i406BvFehXMwlk0y%2BH2IqsX30WS2FvOiTShZR5jk2p/2HPhpN8ev%2BF3r418URWjeKYfFE/gKK5tBoc2vQ6cunRamyfZvtIlW2SMCIXAt/MiSYwmUeZQB7RRRRQAUUUUAFFFFABRRRQAUUUUAFFFFABRRRQAUUUUAFFFFABRRRQAUUUUAFFFFABRRRQAUUUUAFFFFABRRRQAUUUUAFFFFABRRRQAUUUUAFFFFABRRRQAUUUUAFFFFABRRRQAUUUUAFFFFABRRRQAUUUUAf/Z\">"
      ]
     },
     "metadata": {},
     "output_type": "display_data"
    }
   ],
   "source": [
    "try:\n",
    "    display_html(HTML(anim.to_html5_video()))\n",
    "# In case the build-in renderers are unaviable, fall back to\n",
    "# a custom one, that doesn't require external libraries\n",
    "except RuntimeError:\n",
    "    anim.save(None, writer=matplotlib_utils.SimpleMovieWriter(0.001))"
   ]
  },
  {
   "cell_type": "markdown",
   "metadata": {},
   "source": [
    "# Logistic regression\n",
    "Your assignment is to implement the logistic regression\n",
    "\n",
    "Plan:\n",
    "* Use a shared variable for weights\n",
    "* Use a matrix placeholder for `X`\n",
    " \n",
    "We shall train on a two-class MNIST dataset\n",
    "* please note that target `y` are `{0,1}` and not `{-1,1}` as in some formulae"
   ]
  },
  {
   "cell_type": "code",
   "execution_count": null,
   "metadata": {
    "collapsed": true
   },
   "outputs": [],
   "source": [
    "from sklearn.datasets import load_digits\n",
    "mnist = load_digits(2)\n",
    "\n",
    "X, y = mnist.data, mnist.target\n",
    "\n",
    "print(\"y [shape - %s]:\" % (str(y.shape)), y[:10])\n",
    "print(\"X [shape - %s]:\" % (str(X.shape)))"
   ]
  },
  {
   "cell_type": "code",
   "execution_count": 37,
   "metadata": {},
   "outputs": [
    {
     "name": "stdout",
     "output_type": "stream",
     "text": [
      "X:\n",
      " [[  0.   0.   5.  13.   9.   1.   0.   0.   0.   0.]\n",
      " [  0.   0.   0.  12.  13.   5.   0.   0.   0.   0.]\n",
      " [  0.   0.   1.   9.  15.  11.   0.   0.   0.   0.]]\n",
      "y:\n",
      " [0 1 0 1 0 1 0 0 1 1]\n"
     ]
    },
    {
     "data": {
      "image/png": "[encoded data removed]",
      "text/plain": [
       "<matplotlib.figure.Figure at 0x7f5bf5b56b70>"
      ]
     },
     "metadata": {},
     "output_type": "display_data"
    }
   ],
   "source": [
    "print('X:\\n',X[:3,:10])\n",
    "print('y:\\n',y[:10])\n",
    "plt.imshow(X[0].reshape([8,8]));"
   ]
  },
  {
   "cell_type": "markdown",
   "metadata": {},
   "source": [
    "It's your turn now!\n",
    "Just a small reminder of the relevant math:\n",
    "\n",
    "$$\n",
    "P(y=1|X) = \\sigma(X \\cdot W + b)\n",
    "$$\n",
    "$$\n",
    "\\text{loss} = -\\log\\left(P\\left(y_\\text{predicted} = 1\\right)\\right)\\cdot y_\\text{true} - \\log\\left(1 - P\\left(y_\\text{predicted} = 1\\right)\\right)\\cdot\\left(1 - y_\\text{true}\\right)\n",
    "$$\n",
    "\n",
    "$\\sigma(x)$ is available via `tf.nn.sigmoid` and matrix multiplication via `tf.matmul`"
   ]
  },
  {
   "cell_type": "code",
   "execution_count": 38,
   "metadata": {
    "collapsed": true
   },
   "outputs": [],
   "source": [
    "from sklearn.model_selection import train_test_split\n",
    "X_train, X_test, y_train, y_test = train_test_split(\n",
    "    X, y, random_state=42)"
   ]
  },
  {
   "cell_type": "markdown",
   "metadata": {},
   "source": [
    "__Your code goes here.__ For the training and testing scaffolding to work, please stick to the names in comments."
   ]
  },
  {
   "cell_type": "code",
   "execution_count": 2,
   "metadata": {
    "collapsed": true
   },
   "outputs": [],
   "source": [
    "# Model parameters - weights and bias\n",
    "# weights = tf.Variable(...) shape should be (X.shape[1], 1)\n",
    "# b = tf.Variable(...)"
   ]
  },
  {
   "cell_type": "code",
   "execution_count": 3,
   "metadata": {
    "collapsed": true
   },
   "outputs": [],
   "source": [
    "# Placeholders for the input data\n",
    "# input_X = tf.placeholder(...)\n",
    "# input_y = tf.placeholder(...)"
   ]
  },
  {
   "cell_type": "code",
   "execution_count": 2,
   "metadata": {
    "collapsed": true
   },
   "outputs": [],
   "source": [
    "# The model code\n",
    "\n",
    "# Compute a vector of predictions, resulting shape should be [input_X.shape[0],]\n",
    "# This is 1D, if you have extra dimensions, you can  get rid of them with tf.squeeze .\n",
    "# Don't forget the sigmoid.\n",
    "# predicted_y = <predicted probabilities for input_X>\n",
    "\n",
    "# Loss. Should be a scalar number - average loss over all the objects\n",
    "# tf.reduce_mean is your friend here\n",
    "# loss = <logistic loss (scalar, mean over sample)>\n",
    "\n",
    "# See above for an example. tf.train.*Optimizer\n",
    "# optimizer = <optimizer that minimizes loss>"
   ]
  },
  {
   "cell_type": "markdown",
   "metadata": {},
   "source": [
    "A test to help with the debugging"
   ]
  },
  {
   "cell_type": "code",
   "execution_count": null,
   "metadata": {
    "collapsed": true
   },
   "outputs": [],
   "source": [
    "validation_weights = 1e-3 * np.fromiter(map(lambda x:\n",
    "        s.run(weird_psychotic_function, {my_scalar:x, my_vector:[1, 0.1, 2]}),\n",
    "                                   0.15 * np.arange(1, X.shape[1] + 1)),\n",
    "                                   count=X.shape[1], dtype=np.float32)[:, np.newaxis]\n",
    "# Compute predictions for given weights and bias\n",
    "prediction_validation = s.run(\n",
    "    predicted_y, {\n",
    "    input_X: X,\n",
    "    weights: validation_weights,\n",
    "    b: 1e-1})\n",
    "\n",
    "# Load the reference values for the predictions\n",
    "validation_true_values = np.loadtxt(\"validation_predictons.txt\")\n",
    "\n",
    "assert prediction_validation.shape == (X.shape[0],),\\\n",
    "       \"Predictions must be a 1D array with length equal to the number \" \\\n",
    "       \"of examples in input_X\"\n",
    "assert np.allclose(validation_true_values, prediction_validation)\n",
    "loss_validation = s.run(\n",
    "        loss, {\n",
    "            input_X: X[:100],\n",
    "            input_y: y[-100:],\n",
    "            weights: validation_weights+1.21e-3,\n",
    "            b: -1e-1})\n",
    "assert np.allclose(loss_validation, 0.728689)"
   ]
  },
  {
   "cell_type": "code",
   "execution_count": null,
   "metadata": {
    "collapsed": true
   },
   "outputs": [],
   "source": [
    "from sklearn.metrics import roc_auc_score\n",
    "s.run(tf.global_variables_initializer())\n",
    "for i in range(5):\n",
    "    s.run(optimizer, {input_X: X_train, input_y: y_train})\n",
    "    loss_i = s.run(loss, {input_X: X_train, input_y: y_train})\n",
    "    print(\"loss at iter %i:%.4f\" % (i, loss_i))\n",
    "    print(\"train auc:\", roc_auc_score(y_train, s.run(predicted_y, {input_X:X_train})))\n",
    "    print(\"test auc:\", roc_auc_score(y_test, s.run(predicted_y, {input_X:X_test})))"
   ]
  },
  {
   "cell_type": "markdown",
   "metadata": {},
   "source": [
    "### Coursera submission"
   ]
  },
  {
   "cell_type": "code",
   "execution_count": 37,
   "metadata": {
    "collapsed": true
   },
   "outputs": [],
   "source": [
    "grade_submitter = grading.Grader(\"BJCiiY8sEeeCnhKCj4fcOA\")"
   ]
  },
  {
   "cell_type": "code",
   "execution_count": 38,
   "metadata": {
    "collapsed": true
   },
   "outputs": [],
   "source": [
    "test_weights = 1e-3 * np.fromiter(map(lambda x:\n",
    "    s.run(weird_psychotic_function, {my_scalar:x, my_vector:[1, 2, 3]}),\n",
    "                               0.1 * np.arange(1, X.shape[1] + 1)),\n",
    "                               count=X.shape[1], dtype=np.float32)[:, np.newaxis]"
   ]
  },
  {
   "cell_type": "markdown",
   "metadata": {},
   "source": [
    "First, test prediction and loss computation. This part doesn't require a fitted model."
   ]
  },
  {
   "cell_type": "code",
   "execution_count": 39,
   "metadata": {
    "collapsed": true
   },
   "outputs": [],
   "source": [
    "prediction_test = s.run(\n",
    "    predicted_y, {\n",
    "    input_X: X,\n",
    "    weights: test_weights,\n",
    "    b: 1e-1})"
   ]
  },
  {
   "cell_type": "code",
   "execution_count": 40,
   "metadata": {
    "collapsed": true
   },
   "outputs": [],
   "source": [
    "assert prediction_test.shape == (X.shape[0],),\\\n",
    "       \"Predictions must be a 1D array with length equal to the number \" \\\n",
    "       \"of examples in X_test\""
   ]
  },
  {
   "cell_type": "code",
   "execution_count": 41,
   "metadata": {
    "collapsed": true
   },
   "outputs": [],
   "source": [
    "grade_submitter.set_answer(\"0ENlN\", prediction_test)"
   ]
  },
  {
   "cell_type": "code",
   "execution_count": 42,
   "metadata": {
    "collapsed": true
   },
   "outputs": [],
   "source": [
    "loss_test = s.run(\n",
    "    loss, {\n",
    "        input_X: X[:100],\n",
    "        input_y: y[-100:],\n",
    "        weights: test_weights+1.21e-3,\n",
    "        b: -1e-1})\n",
    "# Yes, the X/y indices mistmach is intentional"
   ]
  },
  {
   "cell_type": "code",
   "execution_count": 43,
   "metadata": {
    "collapsed": true
   },
   "outputs": [],
   "source": [
    "grade_submitter.set_answer(\"mMVpM\", loss_test)"
   ]
  },
  {
   "cell_type": "code",
   "execution_count": 44,
   "metadata": {
    "collapsed": true
   },
   "outputs": [],
   "source": [
    "grade_submitter.set_answer(\"D16Rc\", roc_auc_score(y_test, s.run(predicted_y, {input_X:X_test})))"
   ]
  },
  {
   "cell_type": "markdown",
   "metadata": {},
   "source": [
    "Please use the credentials obtained from the Coursera assignment page."
   ]
  },
  {
   "cell_type": "code",
   "execution_count": 45,
   "metadata": {},
   "outputs": [
    {
     "name": "stdout",
     "output_type": "stream",
     "text": [
      "Submitted to Coursera platform. See results on assignment page!\n"
     ]
    }
   ],
   "source": [
    "grade_submitter.submit(<email>, <token>)"
   ]
  }
 ],
 "metadata": {
  "kernelspec": {
   "display_name": "Python 3",
   "language": "python",
   "name": "python3"
  },
  "language_info": {
   "codemirror_mode": {
    "name": "ipython",
    "version": 3
   },
   "file_extension": ".py",
   "mimetype": "text/x-python",
   "name": "python",
   "nbconvert_exporter": "python",
   "pygments_lexer": "ipython3",
   "version": "3.6.0"
  }
 },
 "nbformat": 4,
 "nbformat_minor": 1
}
