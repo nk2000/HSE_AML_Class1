{
 "cells": [
  {
   "cell_type": "code",
   "execution_count": 1,
   "metadata": {},
   "outputs": [
    {
     "name": "stderr",
     "output_type": "stream",
     "text": [
      "Using TensorFlow backend.\n"
     ]
    }
   ],
   "source": [
    "from preprocessed_mnist import load_dataset\n",
    "import tensorflow as tf\n",
    "from sklearn.metrics import roc_auc_score\n",
    "from matplotlib import animation, rc\n",
    "import matplotlib_utils\n",
    "from IPython.display import HTML, display_html\n",
    "import matplotlib.pyplot as plt\n",
    "# set tensorflow session\n",
    "s = tf.InteractiveSession()\n",
    "x_train, y_train, X_val, y_val, x_test, y_test = load_dataset()"
   ]
  },
  {
   "cell_type": "code",
   "execution_count": 2,
   "metadata": {},
   "outputs": [
    {
     "name": "stdout",
     "output_type": "stream",
     "text": [
      "(50000, 28, 28) (50000,)\n",
      "(10000, 28, 28) (10000,)\n"
     ]
    },
    {
     "data": {
      "image/png": "[encoded data removed]",
      "text/plain": [
       "<matplotlib.figure.Figure at 0x7fe86d80a978>"
      ]
     },
     "metadata": {},
     "output_type": "display_data"
    }
   ],
   "source": [
    "print(x_train.shape, y_train.shape)\n",
    "print(x_test.shape, y_test.shape)\n",
    "\n",
    "%matplotlib inline\n",
    "plt.imshow(x_train[5], cmap=\"Greys\");"
   ]
  },
  {
   "cell_type": "code",
   "execution_count": 2,
   "metadata": {
    "collapsed": true
   },
   "outputs": [],
   "source": []
  },
  {
   "cell_type": "markdown",
   "metadata": {},
   "source": [
    "# Begin with logistic regression from the previous assignment to classify some number against others (e.g. zero vs nonzero)\n",
    "\n",
    "## 1.data process"
   ]
  },
  {
   "cell_type": "code",
   "execution_count": 4,
   "metadata": {
    "collapsed": true
   },
   "outputs": [],
   "source": [
    "Y_train = [int(y == 0) for y in y_train]\n",
    "Y_test = [int(y == 0) for y in y_test]\n",
    "X_train = x_train.reshape(x_train.shape[0],x_train.shape[1]*x_train.shape[2])\n",
    "X_test = x_test.reshape(x_test.shape[0],x_test.shape[1]*x_test.shape[2])\n",
    "#print(X_train.shape)"
   ]
  },
  {
   "cell_type": "code",
   "execution_count": 5,
   "metadata": {},
   "outputs": [
    {
     "data": {
      "image/png": "[encoded data removed]",
      "text/plain": [
       "<matplotlib.figure.Figure at 0x7fe86d714b70>"
      ]
     },
     "metadata": {},
     "output_type": "display_data"
    }
   ],
   "source": [
    "# test the result of dimension reducing\n",
    "plt.imshow(X_train[5].reshape(28,28), cmap=\"Greys\");"
   ]
  },
  {
   "cell_type": "markdown",
   "metadata": {},
   "source": [
    "## 2.Logistic regression model"
   ]
  },
  {
   "cell_type": "code",
   "execution_count": 6,
   "metadata": {
    "collapsed": true
   },
   "outputs": [],
   "source": [
    "# set parameters\n",
    "input_X = tf.placeholder(tf.float32, shape = (None,X_train.shape[1]))\n",
    "input_y = tf.placeholder(tf.float32, shape = (None))\n",
    "\n",
    "weights = tf.Variable(tf.random_normal([X_train.shape[1],1]))\n",
    "b = tf.Variable(0, dtype= tf.float32)\n",
    "\n",
    "# Compute a vector of predictions, resulting shape should be [input_X.shape[0],]\n",
    "# This is 1D, if you have extra dimensions, you can  get rid of them with tf.squeeze .\n",
    "# Don't forget the sigmoid.\n",
    "# predicted_y = <predicted probabilities for input_X>\n",
    "predicted_y = tf.squeeze(tf.sigmoid(tf.matmul(input_X, weights) + b))\n",
    "\n",
    "# Loss. Should be a scalar number - average loss over all the objects\n",
    "# tf.reduce_mean is your friend here\n",
    "# loss = <logistic loss (scalar, mean over sample)>\n",
    "#loss = tf.reduce_mean((predicted_y-input_y)**2)\n",
    "loss = -tf.reduce_mean(input_y*tf.log(tf.clip_by_value(predicted_y,1e-10,1.0))+ \n",
    "                      (1-input_y)*tf.log(tf.clip_by_value(1-predicted_y,1e-10,1.0)))\n",
    "# See above for an example. tf.train.*Optimizer\n",
    "# optimizer = <optimizer that minimizes loss>\n",
    "optimizer = tf.train.MomentumOptimizer(0.01, 0.5).minimize(\n",
    "    loss)"
   ]
  },
  {
   "cell_type": "markdown",
   "metadata": {},
   "source": [
    "## 3.Training the model"
   ]
  },
  {
   "cell_type": "code",
   "execution_count": 7,
   "metadata": {},
   "outputs": [
    {
     "name": "stdout",
     "output_type": "stream",
     "text": [
      "loss at iter 0:2.4017\n",
      "train auc: 0.481640795875\n",
      "test auc: 0.465262907824\n",
      "loss at iter 50:1.0437\n",
      "train auc: 0.533447832296\n",
      "test auc: 0.526848613059\n",
      "loss at iter 100:0.8540\n",
      "train auc: 0.61316181285\n",
      "test auc: 0.609065512014\n",
      "loss at iter 150:0.7234\n",
      "train auc: 0.688157819155\n",
      "test auc: 0.685207362324\n",
      "loss at iter 200:0.6231\n",
      "train auc: 0.749631733836\n",
      "test auc: 0.747486311598\n",
      "loss at iter 250:0.5459\n",
      "train auc: 0.796742654031\n",
      "test auc: 0.79539085479\n",
      "loss at iter 300:0.4860\n",
      "train auc: 0.831979172988\n",
      "test auc: 0.831574279379\n",
      "loss at iter 350:0.4390\n",
      "train auc: 0.858365170418\n",
      "test auc: 0.858704805647\n",
      "loss at iter 400:0.4011\n",
      "train auc: 0.878358662635\n",
      "test auc: 0.879304210598\n",
      "loss at iter 450:0.3705\n",
      "train auc: 0.893777860486\n",
      "test auc: 0.895304199285\n"
     ]
    }
   ],
   "source": [
    "# init varables\n",
    "s.run(tf.global_variables_initializer())\n",
    "\n",
    "\n",
    "for i in range(500):\n",
    "    s.run(optimizer, {input_X: X_train, input_y: Y_train})\n",
    "    if i % 50 == 0:\n",
    "        loss_i = s.run(loss, {input_X: X_train, input_y: Y_train})\n",
    "        print(\"loss at iter %i:%.4f\" % (i, loss_i))\n",
    "        print(\"train auc:\", roc_auc_score(Y_train, s.run(predicted_y, {input_X:X_train})))\n",
    "        print(\"test auc:\", roc_auc_score(Y_test, s.run(predicted_y, {input_X:X_test})))"
   ]
  },
  {
   "cell_type": "markdown",
   "metadata": {},
   "source": [
    "# Generalize it to multiclass logistic regression. Either try to remember the week 1 lectures or google it.\n",
    "\n",
    "## 1.data process"
   ]
  },
  {
   "cell_type": "code",
   "execution_count": 8,
   "metadata": {
    "collapsed": true
   },
   "outputs": [],
   "source": [
    "#X_test,X_train are same as below\n",
    "\n",
    "# do one hot encoding for y\n",
    "Y_train = s.run(tf.one_hot(y_train,depth=10))\n",
    "Y_test = s.run(tf.one_hot(y_test,depth=10))"
   ]
  },
  {
   "cell_type": "markdown",
   "metadata": {},
   "source": [
    "## 2.Softmax model"
   ]
  },
  {
   "cell_type": "code",
   "execution_count": 9,
   "metadata": {},
   "outputs": [
    {
     "name": "stdout",
     "output_type": "stream",
     "text": [
      "Tensor(\"Softmax:0\", shape=(?, 10), dtype=float32)\n",
      "Tensor(\"Neg_1:0\", shape=(), dtype=float32)\n"
     ]
    }
   ],
   "source": [
    "# num of output\n",
    "output_num = 10\n",
    "\n",
    "# set parameters\n",
    "input_X = tf.placeholder(tf.float32, shape = (None,X_train.shape[1]))\n",
    "input_y = tf.placeholder(tf.float32, shape = (None,output_num))\n",
    "\n",
    "weights = tf.Variable(tf.random_normal([X_train.shape[1],output_num]))\n",
    "b = tf.Variable(tf.random_normal([1,output_num]))\n",
    "\n",
    "predicted_y = tf.nn.softmax(tf.matmul(input_X, weights) + b)\n",
    "print(predicted_y)\n",
    "## define the cross entroy loss\n",
    "loss = -tf.reduce_mean(input_y* tf.log(tf.clip_by_value(predicted_y, 1e-10, 1.0)))\n",
    "print(loss)\n",
    "## difine optimizer\n",
    "optimizer = tf.train.MomentumOptimizer(0.01, 0.5).minimize(\n",
    "    loss)"
   ]
  },
  {
   "cell_type": "markdown",
   "metadata": {},
   "source": [
    "## 3.Training Model"
   ]
  },
  {
   "cell_type": "code",
   "execution_count": 10,
   "metadata": {},
   "outputs": [
    {
     "name": "stdout",
     "output_type": "stream",
     "text": [
      "loss at iter 0:1.2333\n",
      "train auc: 0.49475201078\n",
      "test auc: 0.49528643575\n",
      "loss at iter 1000:0.9637\n",
      "train auc: 0.574702563866\n",
      "test auc: 0.575587623667\n",
      "loss at iter 2000:0.7802\n",
      "train auc: 0.642055298503\n",
      "test auc: 0.643915341373\n",
      "loss at iter 3000:0.6251\n",
      "train auc: 0.698702589431\n",
      "test auc: 0.701454446362\n",
      "loss at iter 4000:0.5172\n",
      "train auc: 0.746743830775\n",
      "test auc: 0.750119997962\n"
     ]
    }
   ],
   "source": [
    "# init varables\n",
    "s.run(tf.global_variables_initializer())\n",
    "\n",
    "# number of iteration\n",
    "STEPS = 5000\n",
    "batch_size = 1000\n",
    "dataset_size = X_train.shape[0] #50000\n",
    "for i in range(STEPS):\n",
    "    \n",
    "    # batch gradient descent\n",
    "    start = (i * batch_size) % dataset_size\n",
    "    end = min(start + batch_size, dataset_size)\n",
    "    s.run(optimizer, {input_X: X_train[start:end], input_y: Y_train[start:end]})\n",
    "    \n",
    "    # print the loss in the training process\n",
    "    if i % 1000 == 0:\n",
    "        loss_i = s.run(loss, {input_X: X_train, input_y: Y_train})\n",
    "        print(\"loss at iter %i:%.4f\" % (i, loss_i))\n",
    "        print(\"train auc:\", roc_auc_score(Y_train, s.run(predicted_y, {input_X:X_train})))\n",
    "        print(\"test auc:\", roc_auc_score(Y_test, s.run(predicted_y, {input_X:X_test})))"
   ]
  },
  {
   "cell_type": "markdown",
   "metadata": {},
   "source": [
    "# Add a hidden layer.\n",
    "\n",
    "## 1. data process"
   ]
  },
  {
   "cell_type": "code",
   "execution_count": 17,
   "metadata": {},
   "outputs": [],
   "source": [
    "Y_train = s.run(tf.one_hot(y_train,depth=10))\n",
    "Y_test = s.run(tf.one_hot(y_test,depth=10))\n",
    "X_train = x_train.reshape(x_train.shape[0],x_train.shape[1]*x_train.shape[2])\n",
    "X_test = x_test.reshape(x_test.shape[0],x_test.shape[1]*x_test.shape[2])"
   ]
  },
  {
   "cell_type": "markdown",
   "metadata": {},
   "source": [
    "## 2. Neural Network Model"
   ]
  },
  {
   "cell_type": "code",
   "execution_count": 18,
   "metadata": {},
   "outputs": [
    {
     "name": "stdout",
     "output_type": "stream",
     "text": [
      "Tensor(\"Softmax_3:0\", shape=(?, 10), dtype=float32)\n",
      "Tensor(\"Neg_3:0\", shape=(), dtype=float32)\n"
     ]
    }
   ],
   "source": [
    "# set parameters\n",
    "hidden_layer1_num = 300\n",
    "#hidden_layer2_num = 50\n",
    "output_layer_num = 10\n",
    "\n",
    "input_X = tf.placeholder(tf.float32, shape = (None,X_train.shape[1]))\n",
    "input_y = tf.placeholder(tf.float32, shape = (None,10))\n",
    "\n",
    "\n",
    "weights1 = tf.get_variable('W1', [X_train.shape[1],hidden_layer1_num], initializer = tf.contrib.layers.xavier_initializer(seed = 1))\n",
    "b1 = tf.Variable(tf.constant(0.1,shape=[hidden_layer1_num]))\n",
    "#weights2 = tf.Variable(tf.random_normal([hidden_layer1_num, hidden_layer2_num]))\n",
    "#b2 = tf.Variable(tf.constant(0.1,shape=[hidden_layer2_num]))\n",
    "\n",
    "weights3 = tf.get_variable('W3', [hidden_layer1_num,output_layer_num], initializer = tf.contrib.layers.xavier_initializer(seed = 1))\n",
    "b3 = tf.Variable(tf.constant(0.1, shape=[output_layer_num]))\n",
    "\n",
    "# select a Activation function\n",
    "a1 = tf.nn.tanh(tf.matmul(input_X,weights1)+ b1 )\n",
    "#a2 = tf.nn.tanh(tf.matmul(a1,weights2)+ b2 )\n",
    "\n",
    "predicted_y = tf.nn.softmax(tf.matmul(a1, weights3) + b3)\n",
    "\n",
    "print(predicted_y)\n",
    "## define the cross entroy loss\n",
    "loss = -tf.reduce_mean(input_y* tf.log(tf.clip_by_value(predicted_y, 1e-10, 1.0)))\n",
    "print(loss)\n",
    "## difine optimizer\n",
    "#optimizer = tf.train.MomentumOptimizer(0.01, 0.5).minimize(loss, var_list = [weights1,b1,weights2,b2])\n",
    "optimizer = tf.train.AdamOptimizer(0.001).minimize(loss, var_list = [weights1,b1,weights3,b3])\n",
    "\n",
    "correct = tf.equal(tf.argmax(predicted_y,1), tf.argmax(input_y,1))\n",
    "accuracy = tf.reduce_mean(tf.cast(correct, tf.float32))"
   ]
  },
  {
   "cell_type": "markdown",
   "metadata": {},
   "source": [
    "## 3.Training Model"
   ]
  },
  {
   "cell_type": "code",
   "execution_count": 19,
   "metadata": {},
   "outputs": [],
   "source": [
    "# init varables\n",
    "s.run(tf.global_variables_initializer())\n",
    "\n",
    "# number of iteration\n",
    "STEPS = 30000\n",
    "batch_size = 30\n",
    "dataset_size = X_train.shape[0] #50000\n",
    "\n",
    "accuracy_train = []\n",
    "accuracy_test = []\n",
    "for i in range(STEPS):\n",
    "    \n",
    "    # batch gradient descent\n",
    "    start = (i * batch_size) % dataset_size\n",
    "    end = min(start + batch_size, dataset_size)\n",
    "    s.run(optimizer, {input_X: X_train[start:end], input_y: Y_train[start:end]})\n",
    "    \n",
    "    # print the loss in the training process\n",
    "    if i % 500 == 0:\n",
    "        #loss_i = s.run(loss, {input_X: X_train, input_y: Y_train})\n",
    "        #loss_list.append(loss_i)\n",
    "        #print(\"loss at iter %i:%.4f\" % (i, loss_i))\n",
    "        #print(\"train auc:\", roc_auc_score(Y_train, s.run(predicted_y, {input_X:X_train})))\n",
    "        #print(\"test auc:\", roc_auc_score(Y_test, s.run(predicted_y, {input_X:X_test})))\n",
    "        accuracy_test.append(s.run(accuracy, {input_X:X_test, input_y: Y_test}))\n",
    "        accuracy_train.append(s.run(accuracy, {input_X:X_train, input_y: Y_train}))\n"
   ]
  },
  {
   "cell_type": "code",
   "execution_count": 27,
   "metadata": {},
   "outputs": [
    {
     "name": "stdout",
     "output_type": "stream",
     "text": [
      "accuracy_train: 0.998300 ; accuracy_test: 0.977000 \n"
     ]
    },
    {
     "data": {
      "text/plain": [
       "[<matplotlib.lines.Line2D at 0x7f49254c4ba8>]"
      ]
     },
     "execution_count": 27,
     "metadata": {},
     "output_type": "execute_result"
    },
    {
     "data": {
      "image/png": "[encoded data removed]",
      "text/plain": [
       "<matplotlib.figure.Figure at 0x7f4925569cf8>"
      ]
     },
     "metadata": {},
     "output_type": "display_data"
    }
   ],
   "source": [
    "%matplotlib inline\n",
    "print('accuracy_train: %f ; accuracy_test: %f ' %(accuracy_train[-1] ,accuracy_test[-1]))\n",
    "plt.plot(range(len(accuracy_train)),[1-x for x in accuracy_train])\n",
    "plt.plot(range(len(accuracy_test)),[1-x for x in accuracy_test])"
   ]
  },
  {
   "cell_type": "code",
   "execution_count": 14,
   "metadata": {
    "collapsed": true
   },
   "outputs": [],
   "source": [
    "s.close()"
   ]
  },
  {
   "cell_type": "code",
   "execution_count": 15,
   "metadata": {},
   "outputs": [
    {
     "data": {
      "text/plain": [
       "[<matplotlib.lines.Line2D at 0x7fc5ac6b2f28>]"
      ]
     },
     "execution_count": 15,
     "metadata": {},
     "output_type": "execute_result"
    },
    {
     "data": {
      "image/png": "[encoded data removed]",
      "text/plain": [
       "<matplotlib.figure.Figure at 0x7fc5ac72d828>"
      ]
     },
     "metadata": {},
     "output_type": "display_data"
    }
   ],
   "source": [
    "\n",
    "plt.plot([1,2,3])"
   ]
  },
  {
   "cell_type": "code",
   "execution_count": null,
   "metadata": {
    "collapsed": true
   },
   "outputs": [],
   "source": []
  }
 ],
 "metadata": {
  "kernelspec": {
   "display_name": "Python 3",
   "language": "python",
   "name": "python3"
  },
  "language_info": {
   "codemirror_mode": {
    "name": "ipython",
    "version": 3
   },
   "file_extension": ".py",
   "mimetype": "text/x-python",
   "name": "python",
   "nbconvert_exporter": "python",
   "pygments_lexer": "ipython3",
   "version": "3.6.4"
  }
 },
 "nbformat": 4,
 "nbformat_minor": 2
}
