{
 "cells": [
  {
   "cell_type": "code",
   "execution_count": 1,
   "metadata": {},
   "outputs": [
    {
     "name": "stderr",
     "output_type": "stream",
     "text": [
      "Using TensorFlow backend.\n"
     ]
    }
   ],
   "source": [
    "from preprocessed_mnist import load_dataset\n",
    "import tensorflow as tf\n",
    "from sklearn.metrics import roc_auc_score\n",
    "from matplotlib import animation, rc\n",
    "import matplotlib_utils\n",
    "from IPython.display import HTML, display_html\n",
    "import matplotlib.pyplot as plt\n",
    "# set tensorflow session\n",
    "s = tf.InteractiveSession()\n",
    "x_train, y_train, X_val, y_val, x_test, y_test = load_dataset()"
   ]
  },
  {
   "cell_type": "markdown",
   "metadata": {},
   "source": [
    "# Add a hidden layer.\n",
    "\n",
    "## 1. data process"
   ]
  },
  {
   "cell_type": "code",
   "execution_count": 17,
   "metadata": {},
   "outputs": [],
   "source": [
    "Y_train = s.run(tf.one_hot(y_train,depth=10))\n",
    "Y_test = s.run(tf.one_hot(y_test,depth=10))\n",
    "X_train = x_train.reshape(x_train.shape[0],x_train.shape[1]*x_train.shape[2])\n",
    "X_test = x_test.reshape(x_test.shape[0],x_test.shape[1]*x_test.shape[2])"
   ]
  },
  {
   "cell_type": "markdown",
   "metadata": {},
   "source": [
    "## 2. Neural Network Model"
   ]
  },
  {
   "cell_type": "code",
   "execution_count": 18,
   "metadata": {},
   "outputs": [
    {
     "name": "stdout",
     "output_type": "stream",
     "text": [
      "Tensor(\"Softmax_3:0\", shape=(?, 10), dtype=float32)\n",
      "Tensor(\"Neg_3:0\", shape=(), dtype=float32)\n"
     ]
    }
   ],
   "source": [
    "# set parameters\n",
    "hidden_layer1_num = 300\n",
    "#hidden_layer2_num = 50\n",
    "output_layer_num = 10\n",
    "\n",
    "input_X = tf.placeholder(tf.float32, shape = (None,X_train.shape[1]))\n",
    "input_y = tf.placeholder(tf.float32, shape = (None,10))\n",
    "\n",
    "\n",
    "weights1 = tf.get_variable('W1', [X_train.shape[1],hidden_layer1_num], initializer = tf.contrib.layers.xavier_initializer(seed = 1))\n",
    "b1 = tf.Variable(tf.constant(0.1,shape=[hidden_layer1_num]))\n",
    "#weights2 = tf.Variable(tf.random_normal([hidden_layer1_num, hidden_layer2_num]))\n",
    "#b2 = tf.Variable(tf.constant(0.1,shape=[hidden_layer2_num]))\n",
    "\n",
    "weights3 = tf.get_variable('W3', [hidden_layer1_num,output_layer_num], initializer = tf.contrib.layers.xavier_initializer(seed = 1))\n",
    "b3 = tf.Variable(tf.constant(0.1, shape=[output_layer_num]))\n",
    "\n",
    "# select a Activation function\n",
    "a1 = tf.nn.tanh(tf.matmul(input_X,weights1)+ b1 )\n",
    "#a2 = tf.nn.tanh(tf.matmul(a1,weights2)+ b2 )\n",
    "\n",
    "predicted_y = tf.nn.softmax(tf.matmul(a1, weights3) + b3)\n",
    "\n",
    "print(predicted_y)\n",
    "## define the cross entroy loss\n",
    "loss = -tf.reduce_mean(input_y* tf.log(tf.clip_by_value(predicted_y, 1e-10, 1.0)))\n",
    "print(loss)\n",
    "## difine optimizer\n",
    "#optimizer = tf.train.MomentumOptimizer(0.01, 0.5).minimize(loss, var_list = [weights1,b1,weights2,b2])\n",
    "optimizer = tf.train.AdamOptimizer(0.001).minimize(loss, var_list = [weights1,b1,weights3,b3])\n",
    "\n",
    "correct = tf.equal(tf.argmax(predicted_y,1), tf.argmax(input_y,1))\n",
    "accuracy = tf.reduce_mean(tf.cast(correct, tf.float32))"
   ]
  },
  {
   "cell_type": "markdown",
   "metadata": {},
   "source": [
    "## 3.Training Model"
   ]
  },
  {
   "cell_type": "code",
   "execution_count": 19,
   "metadata": {},
   "outputs": [],
   "source": [
    "# init varables\n",
    "s.run(tf.global_variables_initializer())\n",
    "\n",
    "# number of iteration\n",
    "STEPS = 30000\n",
    "batch_size = 30\n",
    "dataset_size = X_train.shape[0] #50000\n",
    "\n",
    "accuracy_train = []\n",
    "accuracy_test = []\n",
    "for i in range(STEPS):\n",
    "    \n",
    "    # batch gradient descent\n",
    "    start = (i * batch_size) % dataset_size\n",
    "    end = min(start + batch_size, dataset_size)\n",
    "    s.run(optimizer, {input_X: X_train[start:end], input_y: Y_train[start:end]})\n",
    "    \n",
    "    # print the loss in the training process\n",
    "    if i % 500 == 0:\n",
    "        #loss_i = s.run(loss, {input_X: X_train, input_y: Y_train})\n",
    "        #loss_list.append(loss_i)\n",
    "        #print(\"loss at iter %i:%.4f\" % (i, loss_i))\n",
    "        #print(\"train auc:\", roc_auc_score(Y_train, s.run(predicted_y, {input_X:X_train})))\n",
    "        #print(\"test auc:\", roc_auc_score(Y_test, s.run(predicted_y, {input_X:X_test})))\n",
    "        accuracy_test.append(s.run(accuracy, {input_X:X_test, input_y: Y_test}))\n",
    "        accuracy_train.append(s.run(accuracy, {input_X:X_train, input_y: Y_train}))\n"
   ]
  },
  {
   "cell_type": "code",
   "execution_count": 27,
   "metadata": {},
   "outputs": [
    {
     "name": "stdout",
     "output_type": "stream",
     "text": [
      "accuracy_train: 0.998300 ; accuracy_test: 0.977000 \n"
     ]
    },
    {
     "data": {
      "text/plain": [
       "[<matplotlib.lines.Line2D at 0x7f49254c4ba8>]"
      ]
     },
     "execution_count": 27,
     "metadata": {},
     "output_type": "execute_result"
    },
    {
     "data": {
      "image/png": "[encoded data removed]",
      "text/plain": [
       "<matplotlib.figure.Figure at 0x7f4925569cf8>"
      ]
     },
     "metadata": {},
     "output_type": "display_data"
    }
   ],
   "source": [
    "%matplotlib inline\n",
    "print('accuracy_train: %f ; accuracy_test: %f ' %(accuracy_train[-1] ,accuracy_test[-1]))\n",
    "plt.plot(range(len(accuracy_train)),[1-x for x in accuracy_train])\n",
    "plt.plot(range(len(accuracy_test)),[1-x for x in accuracy_test])"
   ]
  },
  {
   "cell_type": "code",
   "execution_count": 14,
   "metadata": {
    "collapsed": true
   },
   "outputs": [],
   "source": [
    "s.close()"
   ]
  },
  {
   "cell_type": "code",
   "execution_count": null,
   "metadata": {
    "collapsed": true
   },
   "outputs": [],
   "source": []
  }
 ],
 "metadata": {
  "kernelspec": {
   "display_name": "Python 3",
   "language": "python",
   "name": "python3"
  },
  "language_info": {
   "codemirror_mode": {
    "name": "ipython",
    "version": 3
   },
   "file_extension": ".py",
   "mimetype": "text/x-python",
   "name": "python",
   "nbconvert_exporter": "python",
   "pygments_lexer": "ipython3",
   "version": "3.6.4"
  }
 },
 "nbformat": 4,
 "nbformat_minor": 2
}
