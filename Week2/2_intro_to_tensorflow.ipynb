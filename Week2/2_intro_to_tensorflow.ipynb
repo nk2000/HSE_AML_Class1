{
  "nbformat": 4,
  "nbformat_minor": 0,
  "metadata": {
    "colab": {
      "name": "2-intro_to_tensorflow.ipynb",
      "version": "0.3.2",
      "provenance": [],
      "include_colab_link": true
    },
    "language_info": {
      "codemirror_mode": {
        "name": "ipython",
        "version": 3
      },
      "file_extension": ".py",
      "mimetype": "text/x-python",
      "name": "python",
      "nbconvert_exporter": "python",
      "pygments_lexer": "ipython3",
      "version": "3.6.5"
    },
    "kernelspec": {
      "name": "python3",
      "display_name": "Python 3"
    },
    "accelerator": "GPU"
  },
  "cells": [
    {
      "cell_type": "markdown",
      "metadata": {
        "id": "view-in-github",
        "colab_type": "text"
      },
      "source": [
        "<a href=\"https://colab.research.google.com/github/nk2000/HSE_AML_Class1/blob/master/Week2/2_intro_to_tensorflow.ipynb\" target=\"_parent\"><img src=\"https://colab.research.google.com/assets/colab-badge.svg\" alt=\"Open In Colab\"/></a>"
      ]
    },
    {
      "metadata": {
        "id": "2ipY1TTjDI-w",
        "colab_type": "code",
        "outputId": "65f25457-852f-4104-e3de-0bae962d34f8",
        "colab": {
          "base_uri": "https://localhost:8080/",
          "height": 122
        }
      },
      "cell_type": "code",
      "source": [
        "from google.colab import drive\n",
        "drive.mount('/content/drive/')\n",
        "import os\n",
        "os.chdir(\"/content/drive/My Drive/HSE_AML/intro-to-dl/week2/v2\")"
      ],
      "execution_count": 1,
      "outputs": [
        {
          "output_type": "stream",
          "text": [
            "Go to this URL in a browser: https://accounts.google.com/o/oauth2/auth?client_id=947318989803-6bn6qk8qdgf4n4g3pfee6491hc0brc4i.apps.googleusercontent.com&redirect_uri=urn%3Aietf%3Awg%3Aoauth%3A2.0%3Aoob&scope=email%20https%3A%2F%2Fwww.googleapis.com%2Fauth%2Fdocs.test%20https%3A%2F%2Fwww.googleapis.com%2Fauth%2Fdrive%20https%3A%2F%2Fwww.googleapis.com%2Fauth%2Fdrive.photos.readonly%20https%3A%2F%2Fwww.googleapis.com%2Fauth%2Fpeopleapi.readonly&response_type=code\n",
            "\n",
            "Enter your authorization code:\n",
            "··········\n",
            "Mounted at /content/drive/\n"
          ],
          "name": "stdout"
        }
      ]
    },
    {
      "metadata": {
        "id": "RzifK-huEAHf",
        "colab_type": "code",
        "colab": {}
      },
      "cell_type": "code",
      "source": [
        "import sys\n",
        "FilePath = '/content/drive/My Drive/HSE_AML/intro-to-dl'\n",
        "sys.path.append(FilePath)"
      ],
      "execution_count": 0,
      "outputs": []
    },
    {
      "metadata": {
        "id": "r8dW-kcWA2YD",
        "colab_type": "text"
      },
      "cell_type": "markdown",
      "source": [
        "# Intro to TensorFlow\n",
        "\n",
        "This notebook covers the basics of TF and shows you an animation with gradient descent trajectory.\n",
        "<img src=\"images/gradient_descent.png\" style=\"width:50%\">"
      ]
    },
    {
      "metadata": {
        "id": "xDYQF0BxA2YG",
        "colab_type": "text"
      },
      "cell_type": "markdown",
      "source": [
        "# TensorBoard"
      ]
    },
    {
      "metadata": {
        "id": "dbtV5ZiAA2YH",
        "colab_type": "text"
      },
      "cell_type": "markdown",
      "source": [
        "**Plase note that if you are running on the Coursera platform, you won't be able to access the tensorboard instance due to the network setup there.**\n",
        "\n",
        "Run `tensorboard --logdir=./tensorboard_logs --port=7007` in bash.\n",
        "\n",
        "If you run the notebook locally, you should be able to access TensorBoard on http://127.0.0.1:7007/"
      ]
    },
    {
      "metadata": {
        "id": "HtqpgQikA2YN",
        "colab_type": "code",
        "outputId": "ecf189da-ca77-4d88-d4cf-8a33168cb06a",
        "colab": {
          "base_uri": "https://localhost:8080/",
          "height": 51
        }
      },
      "cell_type": "code",
      "source": [
        "import tensorflow as tf\n",
        "import sys\n",
        "sys.path.append(\"../..\")\n",
        "from keras_utils import reset_tf_session\n",
        "s = reset_tf_session()\n",
        "print(\"We're using TF\", tf.__version__)"
      ],
      "execution_count": 3,
      "outputs": [
        {
          "output_type": "stream",
          "text": [
            "Using TensorFlow backend.\n"
          ],
          "name": "stderr"
        },
        {
          "output_type": "stream",
          "text": [
            "We're using TF 1.13.1\n"
          ],
          "name": "stdout"
        }
      ]
    },
    {
      "metadata": {
        "id": "S0TMWDwIBcwx",
        "colab_type": "code",
        "outputId": "c2d0365c-5184-4504-f489-1bf1ad86ffe2",
        "colab": {
          "base_uri": "https://localhost:8080/",
          "height": 34
        }
      },
      "cell_type": "code",
      "source": [
        "keras_utils.test()"
      ],
      "execution_count": 0,
      "outputs": [
        {
          "output_type": "stream",
          "text": [
            "Hello World!\n"
          ],
          "name": "stdout"
        }
      ]
    },
    {
      "metadata": {
        "id": "U7y777TiEUq8",
        "colab_type": "code",
        "outputId": "7cad8bc9-2956-4b14-9438-754604ae1ce1",
        "colab": {
          "base_uri": "https://localhost:8080/",
          "height": 34
        }
      },
      "cell_type": "code",
      "source": [
        "!pip uninstall keras_utils"
      ],
      "execution_count": 0,
      "outputs": [
        {
          "output_type": "stream",
          "text": [
            "\u001b[33mWARNING: Skipping keras-utils as it is not installed.\u001b[0m\n"
          ],
          "name": "stdout"
        }
      ]
    },
    {
      "metadata": {
        "id": "z8-MFHjLA2ZO",
        "colab_type": "text"
      },
      "cell_type": "markdown",
      "source": [
        "# Warming up\n",
        "For starters, let's implement a python function that computes the sum of squares of numbers from 0 to N-1."
      ]
    },
    {
      "metadata": {
        "id": "GgjrnXWDA2ZQ",
        "colab_type": "code",
        "colab": {}
      },
      "cell_type": "code",
      "source": [
        "import numpy as np\n",
        "\n",
        "def sum_python(N):\n",
        "    return np.sum(np.arange(N)**2)"
      ],
      "execution_count": 0,
      "outputs": []
    },
    {
      "metadata": {
        "id": "YjcsXHqeA2ZZ",
        "colab_type": "code",
        "outputId": "277c3fcf-ede1-4569-b226-a64332c4f18e",
        "colab": {
          "base_uri": "https://localhost:8080/",
          "height": 68
        }
      },
      "cell_type": "code",
      "source": [
        "%%time\n",
        "sum_python(10**5)"
      ],
      "execution_count": 5,
      "outputs": [
        {
          "output_type": "stream",
          "text": [
            "CPU times: user 916 µs, sys: 1.97 ms, total: 2.89 ms\n",
            "Wall time: 2.3 ms\n"
          ],
          "name": "stdout"
        },
        {
          "output_type": "execute_result",
          "data": {
            "text/plain": [
              "333328333350000"
            ]
          },
          "metadata": {
            "tags": []
          },
          "execution_count": 5
        }
      ]
    },
    {
      "metadata": {
        "id": "LgTAzl_1A2Ze",
        "colab_type": "text"
      },
      "cell_type": "markdown",
      "source": [
        "# Tensoflow teaser\n",
        "\n",
        "Doing the very same thing"
      ]
    },
    {
      "metadata": {
        "id": "BgbQei0gA2Zg",
        "colab_type": "code",
        "colab": {}
      },
      "cell_type": "code",
      "source": [
        "# An integer parameter\n",
        "N = tf.placeholder('int64', name=\"input_to_your_function\")\n",
        "\n",
        "# A recipe on how to produce the same result\n",
        "result = tf.reduce_sum(tf.range(N)**2)"
      ],
      "execution_count": 0,
      "outputs": []
    },
    {
      "metadata": {
        "id": "DHK8kgaeA2Zu",
        "colab_type": "code",
        "outputId": "5e349852-1be1-4629-aa90-36306be58218",
        "colab": {
          "base_uri": "https://localhost:8080/",
          "height": 34
        }
      },
      "cell_type": "code",
      "source": [
        "# just a graph definition\n",
        "result"
      ],
      "execution_count": 7,
      "outputs": [
        {
          "output_type": "execute_result",
          "data": {
            "text/plain": [
              "<tf.Tensor 'Sum:0' shape=() dtype=int64>"
            ]
          },
          "metadata": {
            "tags": []
          },
          "execution_count": 7
        }
      ]
    },
    {
      "metadata": {
        "id": "jvOtVqlqA2Zz",
        "colab_type": "code",
        "outputId": "1ab107b8-a93f-493b-c518-542881652bf8",
        "colab": {
          "base_uri": "https://localhost:8080/",
          "height": 68
        }
      },
      "cell_type": "code",
      "source": [
        "%%time\n",
        "# actually executing\n",
        "result.eval({N: 10**5})"
      ],
      "execution_count": 8,
      "outputs": [
        {
          "output_type": "stream",
          "text": [
            "CPU times: user 7.33 ms, sys: 7.76 ms, total: 15.1 ms\n",
            "Wall time: 39.1 ms\n"
          ],
          "name": "stdout"
        },
        {
          "output_type": "execute_result",
          "data": {
            "text/plain": [
              "333328333350000"
            ]
          },
          "metadata": {
            "tags": []
          },
          "execution_count": 8
        }
      ]
    },
    {
      "metadata": {
        "id": "qcPn4laUA2Z7",
        "colab_type": "code",
        "colab": {}
      },
      "cell_type": "code",
      "source": [
        "# logger for tensorboard\n",
        "writer = tf.summary.FileWriter(\"tensorboard_logs\", graph=s.graph)"
      ],
      "execution_count": 0,
      "outputs": []
    },
    {
      "metadata": {
        "id": "QtVgxyzeA2aD",
        "colab_type": "text"
      },
      "cell_type": "markdown",
      "source": [
        "# How does it work?\n",
        "1. Define placeholders where you'll send inputs\n",
        "2. Make a symbolic graph: a recipe for mathematical transformation of those placeholders\n",
        "3. Compute outputs of your graph with particular values for each placeholder\n",
        "  * `output.eval({placeholder: value})`\n",
        "  * `s.run(output, {placeholder: value})`\n",
        "\n",
        "So far there are two main entities: \"placeholder\" and \"transformation\" (operation output)\n",
        "* Both can be numbers, vectors, matrices, tensors, etc.\n",
        "* Both can be int32/64, floats, booleans (uint8) of various size.\n",
        "\n",
        "* You can define new transformations as an arbitrary operation on placeholders and other transformations\n",
        " * `tf.reduce_sum(tf.arange(N)**2)` are 3 sequential transformations of placeholder `N`\n",
        " * There's a tensorflow symbolic version for every numpy function\n",
        "   * `a+b, a/b, a**b, ...` behave just like in numpy\n",
        "   * `np.mean` -> `tf.reduce_mean`\n",
        "   * `np.arange` -> `tf.range`\n",
        "   * `np.cumsum` -> `tf.cumsum`\n",
        "   * If you can't find the operation you need, see the [docs](https://www.tensorflow.org/versions/r1.3/api_docs/python).\n",
        "   \n",
        "`tf.contrib` has many high-level features, may be worth a look."
      ]
    },
    {
      "metadata": {
        "id": "EP4w9_BpA2aF",
        "colab_type": "code",
        "colab": {}
      },
      "cell_type": "code",
      "source": [
        "with tf.name_scope(\"Placeholders_examples\"):\n",
        "    # Default placeholder that can be arbitrary float32\n",
        "    # scalar, vertor, matrix, etc.\n",
        "    arbitrary_input = tf.placeholder('float32')\n",
        "\n",
        "    # Input vector of arbitrary length\n",
        "    input_vector = tf.placeholder('float32', shape=(None,))\n",
        "\n",
        "    # Input vector that _must_ have 10 elements and integer type\n",
        "    fixed_vector = tf.placeholder('int32', shape=(10,))\n",
        "\n",
        "    # Matrix of arbitrary n_rows and 15 columns\n",
        "    # (e.g. a minibatch of your data table)\n",
        "    input_matrix = tf.placeholder('float32', shape=(None, 15))\n",
        "    \n",
        "    # You can generally use None whenever you don't need a specific shape\n",
        "    input1 = tf.placeholder('float64', shape=(None, 100, None))\n",
        "    input2 = tf.placeholder('int32', shape=(None, None, 3, 224, 224))\n",
        "\n",
        "    # elementwise multiplication\n",
        "    double_the_vector = input_vector*2\n",
        "\n",
        "    # elementwise cosine\n",
        "    elementwise_cosine = tf.cos(input_vector)\n",
        "\n",
        "    # difference between squared vector and vector itself plus one\n",
        "    vector_squares = input_vector**2 - input_vector + 1"
      ],
      "execution_count": 0,
      "outputs": []
    },
    {
      "metadata": {
        "id": "qtP5MsdjA2aM",
        "colab_type": "code",
        "colab": {}
      },
      "cell_type": "code",
      "source": [
        "my_vector =  tf.placeholder('float32', shape=(None,), name=\"VECTOR_1\")\n",
        "my_vector2 = tf.placeholder('float32', shape=(None,))\n",
        "my_transformation = my_vector * my_vector2 / (tf.sin(my_vector) + 1)"
      ],
      "execution_count": 0,
      "outputs": []
    },
    {
      "metadata": {
        "id": "jLJawfotA2aS",
        "colab_type": "code",
        "colab": {
          "base_uri": "https://localhost:8080/",
          "height": 34
        },
        "outputId": "369ba09e-0d52-4ed5-b5c8-49c1d3c22f2b"
      },
      "cell_type": "code",
      "source": [
        "print(my_transformation)"
      ],
      "execution_count": 13,
      "outputs": [
        {
          "output_type": "stream",
          "text": [
            "Tensor(\"truediv:0\", shape=(?,), dtype=float32)\n"
          ],
          "name": "stdout"
        }
      ]
    },
    {
      "metadata": {
        "id": "VQ2obQATA2aW",
        "colab_type": "code",
        "colab": {
          "base_uri": "https://localhost:8080/",
          "height": 68
        },
        "outputId": "80b97304-ac41-434f-93f4-5d6e33d2e21f"
      },
      "cell_type": "code",
      "source": [
        "dummy = np.arange(5).astype('float32')\n",
        "print(dummy)\n",
        "my_transformation.eval({my_vector: dummy, my_vector2: dummy[::-1]})"
      ],
      "execution_count": 14,
      "outputs": [
        {
          "output_type": "stream",
          "text": [
            "[0. 1. 2. 3. 4.]\n"
          ],
          "name": "stdout"
        },
        {
          "output_type": "execute_result",
          "data": {
            "text/plain": [
              "array([0.       , 1.6291324, 2.0950115, 2.6289961, 0.       ],\n",
              "      dtype=float32)"
            ]
          },
          "metadata": {
            "tags": []
          },
          "execution_count": 14
        }
      ]
    },
    {
      "metadata": {
        "id": "pa3qHjZ9A2ag",
        "colab_type": "code",
        "colab": {}
      },
      "cell_type": "code",
      "source": [
        "writer.add_graph(my_transformation.graph)\n",
        "writer.flush()"
      ],
      "execution_count": 0,
      "outputs": []
    },
    {
      "metadata": {
        "id": "loqzThESA2am",
        "colab_type": "text"
      },
      "cell_type": "markdown",
      "source": [
        "TensorBoard allows writing scalars, images, audio, histogram. You can read more on tensorboard usage [here](https://www.tensorflow.org/get_started/graph_viz)."
      ]
    },
    {
      "metadata": {
        "id": "CEhgSTu-A2ao",
        "colab_type": "text"
      },
      "cell_type": "markdown",
      "source": [
        "# Summary\n",
        "* Tensorflow is based on computation graphs\n",
        "* A graph consists of placeholders and transformations"
      ]
    },
    {
      "metadata": {
        "id": "gR6CLJcyA2aq",
        "colab_type": "text"
      },
      "cell_type": "markdown",
      "source": [
        "# Loss function: Mean Squared Error\n",
        "\n",
        "Loss function must be a part of the graph as well, so that we can do backpropagation."
      ]
    },
    {
      "metadata": {
        "id": "AA_WZlfHA2ar",
        "colab_type": "code",
        "colab": {}
      },
      "cell_type": "code",
      "source": [
        "with tf.name_scope(\"MSE\"):\n",
        "    y_true = tf.placeholder(\"float32\", shape=(None,), name=\"y_true\")\n",
        "    y_predicted = tf.placeholder(\"float32\", shape=(None,), name=\"y_predicted\")\n",
        "    # Implement MSE(y_true, y_predicted), use tf.reduce_mean(...)\n",
        "    # mse = ### YOUR CODE HERE ###\n",
        "    mse = tf.reduce_mean(tf.pow((y_true-y_predicted),2))\n",
        "def compute_mse(vector1, vector2):\n",
        "    return mse.eval({y_true: vector1, y_predicted: vector2})"
      ],
      "execution_count": 0,
      "outputs": []
    },
    {
      "metadata": {
        "id": "Nw9rFu4LA2aw",
        "colab_type": "code",
        "colab": {}
      },
      "cell_type": "code",
      "source": [
        "writer.add_graph(mse.graph)\n",
        "writer.flush()"
      ],
      "execution_count": 0,
      "outputs": []
    },
    {
      "metadata": {
        "id": "eoHw3si3A2a0",
        "colab_type": "code",
        "colab": {}
      },
      "cell_type": "code",
      "source": [
        "# Rigorous local testing of MSE implementation\n",
        "import sklearn.metrics\n",
        "for n in [1, 5, 10, 10**3]:\n",
        "    elems = [np.arange(n), np.arange(n, 0, -1), np.zeros(n),\n",
        "             np.ones(n), np.random.random(n), np.random.randint(100, size=n)]\n",
        "    for el in elems:\n",
        "        for el_2 in elems:\n",
        "            true_mse = np.array(sklearn.metrics.mean_squared_error(el, el_2))\n",
        "            my_mse = compute_mse(el, el_2)\n",
        "            if not np.allclose(true_mse, my_mse):\n",
        "                print('mse(%s,%s)' % (el, el_2))\n",
        "                print(\"should be: %f, but your function returned %f\" % (true_mse, my_mse))\n",
        "                raise ValueError('Wrong result')"
      ],
      "execution_count": 0,
      "outputs": []
    },
    {
      "metadata": {
        "id": "3nPayvMcA2a2",
        "colab_type": "text"
      },
      "cell_type": "markdown",
      "source": [
        "# Variables\n",
        "\n",
        "Placeholder and transformation values are not stored in the graph once the execution is finished. This isn't too comfortable if you want your model to have parameters (e.g. network weights) that are always present, but can change their value over time.\n",
        "\n",
        "Tensorflow solves this with `tf.Variable` objects.\n",
        "* You can assign variable a value at any time in your graph\n",
        "* Unlike placeholders, there's no need to explicitly pass values to variables when `s.run(...)`-ing\n",
        "* You can use variables the same way you use transformations \n",
        " "
      ]
    },
    {
      "metadata": {
        "id": "kU0nuQc9A2a3",
        "colab_type": "code",
        "colab": {
          "base_uri": "https://localhost:8080/",
          "height": 88
        },
        "outputId": "2eb3dd08-3849-4aa8-d573-76760cd21d38"
      },
      "cell_type": "code",
      "source": [
        "# Creating a shared variable\n",
        "shared_vector_1 = tf.Variable(initial_value=np.ones(5),\n",
        "                              name=\"example_variable\")"
      ],
      "execution_count": 30,
      "outputs": [
        {
          "output_type": "stream",
          "text": [
            "WARNING:tensorflow:From /usr/local/lib/python3.6/dist-packages/tensorflow/python/framework/op_def_library.py:263: colocate_with (from tensorflow.python.framework.ops) is deprecated and will be removed in a future version.\n",
            "Instructions for updating:\n",
            "Colocations handled automatically by placer.\n"
          ],
          "name": "stdout"
        }
      ]
    },
    {
      "metadata": {
        "id": "-OrAtOPnA2bJ",
        "colab_type": "code",
        "colab": {
          "base_uri": "https://localhost:8080/",
          "height": 34
        },
        "outputId": "d346ccfa-8f62-4c57-8be2-47e7996f4584"
      },
      "cell_type": "code",
      "source": [
        "# Initialize variable(s) with initial values\n",
        "s.run(tf.global_variables_initializer())\n",
        "\n",
        "# Evaluating the shared variable\n",
        "print(\"Initial value\", s.run(shared_vector_1))"
      ],
      "execution_count": 31,
      "outputs": [
        {
          "output_type": "stream",
          "text": [
            "Initial value [1. 1. 1. 1. 1.]\n"
          ],
          "name": "stdout"
        }
      ]
    },
    {
      "metadata": {
        "id": "GhOOVrqPA2bV",
        "colab_type": "code",
        "colab": {
          "base_uri": "https://localhost:8080/",
          "height": 34
        },
        "outputId": "6b58fdc2-388f-47ae-fbab-505f54402c35"
      },
      "cell_type": "code",
      "source": [
        "# Setting a new value\n",
        "s.run(shared_vector_1.assign(np.arange(5)))\n",
        "\n",
        "# Getting that new value\n",
        "print(\"New value\", s.run(shared_vector_1))"
      ],
      "execution_count": 32,
      "outputs": [
        {
          "output_type": "stream",
          "text": [
            "New value [0. 1. 2. 3. 4.]\n"
          ],
          "name": "stdout"
        }
      ]
    },
    {
      "metadata": {
        "id": "qz7AMQjXA2bn",
        "colab_type": "text"
      },
      "cell_type": "markdown",
      "source": [
        "# tf.gradients - why graphs matter\n",
        "* Tensorflow can compute derivatives and gradients automatically using the computation graph\n",
        "* True to its name it can manage matrix derivatives\n",
        "* Gradients are computed as a product of elementary derivatives via the chain rule:\n",
        "\n",
        "$$ {\\partial f(g(x)) \\over \\partial x} = {\\partial f(g(x)) \\over \\partial g(x)}\\cdot {\\partial g(x) \\over \\partial x} $$\n",
        "\n",
        "It can get you the derivative of any graph as long as it knows how to differentiate elementary operations"
      ]
    },
    {
      "metadata": {
        "id": "ghPOqWo8A2bq",
        "colab_type": "code",
        "colab": {}
      },
      "cell_type": "code",
      "source": [
        "my_scalar = tf.placeholder('float32')\n",
        "\n",
        "scalar_squared = my_scalar**2\n",
        "\n",
        "# A derivative of scalar_squared by my_scalar\n",
        "derivative = tf.gradients(scalar_squared, [my_scalar, ])"
      ],
      "execution_count": 0,
      "outputs": []
    },
    {
      "metadata": {
        "id": "iGNqVtYAA2b0",
        "colab_type": "code",
        "colab": {
          "base_uri": "https://localhost:8080/",
          "height": 34
        },
        "outputId": "9fc7f2e6-1c8b-48d4-ca21-808c4a9e3605"
      },
      "cell_type": "code",
      "source": [
        "derivative"
      ],
      "execution_count": 34,
      "outputs": [
        {
          "output_type": "execute_result",
          "data": {
            "text/plain": [
              "[<tf.Tensor 'gradients/pow_1_grad/Reshape:0' shape=<unknown> dtype=float32>]"
            ]
          },
          "metadata": {
            "tags": []
          },
          "execution_count": 34
        }
      ]
    },
    {
      "metadata": {
        "id": "TQFPkgOdA2b5",
        "colab_type": "code",
        "colab": {
          "base_uri": "https://localhost:8080/",
          "height": 269
        },
        "outputId": "504ebced-e28f-4cb8-987f-9ae3c18baa61"
      },
      "cell_type": "code",
      "source": [
        "import matplotlib.pyplot as plt\n",
        "%matplotlib inline\n",
        "\n",
        "x = np.linspace(-3, 3)\n",
        "# Note: we can pass a list to a scalar placeholder, and it returns a ndarray corresponding result\n",
        "x_squared, x_squared_der = s.run([scalar_squared, derivative[0]],\n",
        "                                 {my_scalar:x})\n",
        "\n",
        "plt.plot(x, x_squared,label=\"$x^2$\")\n",
        "plt.plot(x, x_squared_der, label=r\"$\\frac{dx^2}{dx}$\")\n",
        "plt.legend();"
      ],
      "execution_count": 35,
      "outputs": [
        {
          "output_type": "display_data",
          "data": {
            "image/png": "[encoded data removed]",
            "text/plain": [
              "<Figure size 432x288 with 1 Axes>"
            ]
          },
          "metadata": {
            "tags": []
          }
        }
      ]
    },
    {
      "metadata": {
        "id": "SFd3w9Ynxh5O",
        "colab_type": "code",
        "colab": {
          "base_uri": "https://localhost:8080/",
          "height": 34
        },
        "outputId": "0685368a-2e95-4623-a566-16439496e8f7"
      },
      "cell_type": "code",
      "source": [
        "type(x_squared_der)"
      ],
      "execution_count": 38,
      "outputs": [
        {
          "output_type": "execute_result",
          "data": {
            "text/plain": [
              "numpy.ndarray"
            ]
          },
          "metadata": {
            "tags": []
          },
          "execution_count": 38
        }
      ]
    },
    {
      "metadata": {
        "id": "_oh8Sz_iA2b9",
        "colab_type": "text"
      },
      "cell_type": "markdown",
      "source": [
        "# Why that rocks"
      ]
    },
    {
      "metadata": {
        "id": "mpoFy0WxA2b_",
        "colab_type": "code",
        "colab": {
          "base_uri": "https://localhost:8080/",
          "height": 88
        },
        "outputId": "cfd1524d-31a4-4c37-938e-cc10cc8922f0"
      },
      "cell_type": "code",
      "source": [
        "my_vector = tf.placeholder('float32', [None])\n",
        "# Compute the gradient of the next weird function over my_scalar and my_vector\n",
        "# Warning! Trying to understand the meaning of that function may result in permanent brain damage\n",
        "weird_psychotic_function = tf.reduce_mean(\n",
        "    (my_vector+my_scalar)**(1+tf.nn.moments(my_vector,[0])[1]) + \n",
        "    1./ tf.atan(my_scalar))/(my_scalar**2 + 1) + 0.01*tf.sin(\n",
        "    2*my_scalar**1.5)*(tf.reduce_sum(my_vector)* my_scalar**2\n",
        "                      )*tf.exp((my_scalar-4)**2)/(\n",
        "    1+tf.exp((my_scalar-4)**2))*(1.-(tf.exp(-(my_scalar-4)**2)\n",
        "                                    )/(1+tf.exp(-(my_scalar-4)**2)))**2\n",
        "\n",
        "der_by_scalar = tf.gradients(weird_psychotic_function, my_scalar)\n",
        "der_by_vector = tf.gradients(weird_psychotic_function, my_vector)"
      ],
      "execution_count": 39,
      "outputs": [
        {
          "output_type": "stream",
          "text": [
            "WARNING:tensorflow:From /usr/local/lib/python3.6/dist-packages/tensorflow/python/ops/math_ops.py:3066: to_int32 (from tensorflow.python.ops.math_ops) is deprecated and will be removed in a future version.\n",
            "Instructions for updating:\n",
            "Use tf.cast instead.\n"
          ],
          "name": "stdout"
        }
      ]
    },
    {
      "metadata": {
        "id": "iwVylgcTA2cG",
        "colab_type": "code",
        "colab": {
          "base_uri": "https://localhost:8080/",
          "height": 269
        },
        "outputId": "4f3fec1e-13a5-406e-8801-5130611b81c1"
      },
      "cell_type": "code",
      "source": [
        "# Plotting the derivative\n",
        "scalar_space = np.linspace(1, 7, 100)\n",
        "\n",
        "y = [s.run(weird_psychotic_function, {my_scalar:x, my_vector:[1, 2, 3]})\n",
        "     for x in scalar_space]\n",
        "\n",
        "plt.plot(scalar_space, y, label='function')\n",
        "\n",
        "y_der_by_scalar = [s.run(der_by_scalar,\n",
        "                         {my_scalar:x, my_vector:[1, 2, 3]})\n",
        "                   for x in scalar_space]\n",
        "\n",
        "plt.plot(scalar_space, y_der_by_scalar, label='derivative')\n",
        "plt.grid()\n",
        "plt.legend();"
      ],
      "execution_count": 40,
      "outputs": [
        {
          "output_type": "display_data",
          "data": {
            "image/png": "[encoded data removed]",
            "text/plain": [
              "<Figure size 432x288 with 1 Axes>"
            ]
          },
          "metadata": {
            "tags": []
          }
        }
      ]
    },
    {
      "metadata": {
        "id": "FN87TR-sA2cK",
        "colab_type": "text"
      },
      "cell_type": "markdown",
      "source": [
        "# Almost done - optimizers\n",
        "\n",
        "While you can perform gradient descent by hand with automatic gradients from above, tensorflow also has some optimization methods implemented for you. Recall momentum & rmsprop?"
      ]
    },
    {
      "metadata": {
        "id": "p0zuUNwfA2cL",
        "colab_type": "code",
        "colab": {}
      },
      "cell_type": "code",
      "source": [
        "y_guess = tf.Variable(np.zeros(2, dtype='float32'))\n",
        "y_true = tf.range(1, 3, dtype='float32')\n",
        "\n",
        "loss = tf.reduce_mean((y_guess - y_true + 0.5*tf.random_normal([2]))**2) \n",
        "\n",
        "step = tf.train.MomentumOptimizer(0.03, 0.5).minimize(loss, var_list=y_guess)"
      ],
      "execution_count": 0,
      "outputs": []
    },
    {
      "metadata": {
        "id": "iFkpspsayqEG",
        "colab_type": "code",
        "colab": {
          "base_uri": "https://localhost:8080/",
          "height": 34
        },
        "outputId": "d8a79319-3ee0-448b-e6f2-d1de05b93be1"
      },
      "cell_type": "code",
      "source": [
        "y_true.eval()"
      ],
      "execution_count": 42,
      "outputs": [
        {
          "output_type": "execute_result",
          "data": {
            "text/plain": [
              "array([1., 2.], dtype=float32)"
            ]
          },
          "metadata": {
            "tags": []
          },
          "execution_count": 42
        }
      ]
    },
    {
      "metadata": {
        "id": "OXgioRVEA2cP",
        "colab_type": "text"
      },
      "cell_type": "markdown",
      "source": [
        "Let's draw a trajectory of a gradient descent in 2D"
      ]
    },
    {
      "metadata": {
        "id": "8MFQ2EwqA2cQ",
        "colab_type": "code",
        "colab": {
          "base_uri": "https://localhost:8080/",
          "height": 269
        },
        "outputId": "6e5ab8f5-d5f0-4865-e9ba-745e62b9aa3b"
      },
      "cell_type": "code",
      "source": [
        "from matplotlib import animation, rc\n",
        "import matplotlib_utils\n",
        "from IPython.display import HTML, display_html\n",
        "\n",
        "# nice figure settings\n",
        "fig, ax = plt.subplots()\n",
        "y_true_value = s.run(y_true)\n",
        "level_x = np.arange(0, 2, 0.02)\n",
        "level_y = np.arange(0, 3, 0.02)\n",
        "X, Y = np.meshgrid(level_x, level_y)\n",
        "Z = (X - y_true_value[0])**2 + (Y - y_true_value[1])**2\n",
        "ax.set_xlim(-0.02, 2)\n",
        "ax.set_ylim(-0.02, 3)\n",
        "s.run(tf.global_variables_initializer())\n",
        "ax.scatter(*s.run(y_true), c='red')\n",
        "contour = ax.contour(X, Y, Z, 10)\n",
        "ax.clabel(contour, inline=1, fontsize=10)\n",
        "line, = ax.plot([], [], lw=2)\n",
        "\n",
        "# start animation with empty trajectory\n",
        "def init():\n",
        "    line.set_data([], [])\n",
        "    return (line,)\n",
        "\n",
        "trajectory = [s.run(y_guess)]\n",
        "\n",
        "# one animation step (make one GD step)\n",
        "def animate(i):\n",
        "    s.run(step)\n",
        "    trajectory.append(s.run(y_guess))\n",
        "    line.set_data(*zip(*trajectory))\n",
        "    return (line,)\n",
        "\n",
        "anim = animation.FuncAnimation(fig, animate, init_func=init,\n",
        "                               frames=100, interval=20, blit=True)"
      ],
      "execution_count": 47,
      "outputs": [
        {
          "output_type": "display_data",
          "data": {
            "image/png": "[encoded data removed]",
            "text/plain": [
              "<Figure size 432x288 with 1 Axes>"
            ]
          },
          "metadata": {
            "tags": []
          }
        }
      ]
    },
    {
      "metadata": {
        "id": "0tZNviz2zbv5",
        "colab_type": "code",
        "colab": {
          "base_uri": "https://localhost:8080/",
          "height": 136
        },
        "outputId": "6c643143-ffdf-43e0-d0e7-819a039f3d7e"
      },
      "cell_type": "code",
      "source": [
        "X"
      ],
      "execution_count": 46,
      "outputs": [
        {
          "output_type": "execute_result",
          "data": {
            "text/plain": [
              "array([[0.  , 0.02, 0.04, ..., 1.94, 1.96, 1.98],\n",
              "       [0.  , 0.02, 0.04, ..., 1.94, 1.96, 1.98],\n",
              "       [0.  , 0.02, 0.04, ..., 1.94, 1.96, 1.98],\n",
              "       ...,\n",
              "       [0.  , 0.02, 0.04, ..., 1.94, 1.96, 1.98],\n",
              "       [0.  , 0.02, 0.04, ..., 1.94, 1.96, 1.98],\n",
              "       [0.  , 0.02, 0.04, ..., 1.94, 1.96, 1.98]])"
            ]
          },
          "metadata": {
            "tags": []
          },
          "execution_count": 46
        }
      ]
    },
    {
      "metadata": {
        "id": "TSfiT2V1A2cU",
        "colab_type": "code",
        "colab": {
          "base_uri": "https://localhost:8080/",
          "height": 309
        },
        "outputId": "26ff0ba1-aeb6-4e7a-8255-bdebf929fca7"
      },
      "cell_type": "code",
      "source": [
        "try:\n",
        "    display_html(HTML(anim.to_html5_video()))\n",
        "except (RuntimeError, KeyError):\n",
        "    # In case the build-in renderers are unaviable, fall back to\n",
        "    # a custom one, that doesn't require external libraries\n",
        "    anim.save(None, writer=matplotlib_utils.SimpleMovieWriter(0.001))"
      ],
      "execution_count": 44,
      "outputs": [
        {
          "output_type": "display_data",
          "data": {
            "text/html": [
              "<video width=\"432\" height=\"288\" controls autoplay loop>\n",
              "  <source type=\"video/mp4\" src=\"data:video/mp4;base64,AAAAHGZ0eXBNNFYgAAACAGlzb21pc28yYXZjMQAAAAhmcmVlAABOg21kYXQAAAKuBgX//6rcRem9\n",
              "5tlIt5Ys2CDZI+7veDI2NCAtIGNvcmUgMTUyIHIyODU0IGU5YTU5MDMgLSBILjI2NC9NUEVHLTQg\n",
              "QVZDIGNvZGVjIC0gQ29weWxlZnQgMjAwMy0yMDE3IC0gaHR0cDovL3d3dy52aWRlb2xhbi5vcmcv\n",
              "eDI2NC5odG1sIC0gb3B0aW9uczogY2FiYWM9MSByZWY9MyBkZWJsb2NrPTE6MDowIGFuYWx5c2U9\n",
              "MHgzOjB4MTEzIG1lPWhleCBzdWJtZT03IHBzeT0xIHBzeV9yZD0xLjAwOjAuMDAgbWl4ZWRfcmVm\n",
              "PTEgbWVfcmFuZ2U9MTYgY2hyb21hX21lPTEgdHJlbGxpcz0xIDh4OGRjdD0xIGNxbT0wIGRlYWR6\n",
              "b25lPTIxLDExIGZhc3RfcHNraXA9MSBjaHJvbWFfcXBfb2Zmc2V0PS0yIHRocmVhZHM9MyBsb29r\n",
              "YWhlYWRfdGhyZWFkcz0xIHNsaWNlZF90aHJlYWRzPTAgbnI9MCBkZWNpbWF0ZT0xIGludGVybGFj\n",
              "ZWQ9MCBibHVyYXlfY29tcGF0PTAgY29uc3RyYWluZWRfaW50cmE9MCBiZnJhbWVzPTMgYl9weXJh\n",
              "bWlkPTIgYl9hZGFwdD0xIGJfYmlhcz0wIGRpcmVjdD0xIHdlaWdodGI9MSBvcGVuX2dvcD0wIHdl\n",
              "aWdodHA9MiBrZXlpbnQ9MjUwIGtleWludF9taW49MjUgc2NlbmVjdXQ9NDAgaW50cmFfcmVmcmVz\n",
              "aD0wIHJjX2xvb2thaGVhZD00MCByYz1jcmYgbWJ0cmVlPTEgY3JmPTIzLjAgcWNvbXA9MC42MCBx\n",
              "cG1pbj0wIHFwbWF4PTY5IHFwc3RlcD00IGlwX3JhdGlvPTEuNDAgYXE9MToxLjAwAIAAADJUZYiE\n",
              "AC///vau/MsrRwuVLh1Ze7NR8uhJcv2IMH1oAAADAADVayF8oYJVUBjg5Cl8UC950wnQObmxLpMS\n",
              "eTd2N1o7ZvU7nZLqidQWs9IRqH4qZFuUNOvgrgAArGB7WlESNB735J/CfrjEy3i5zjzWx5r7oD4b\n",
              "7vRGf5YZpSE2SfCltWRnqtLPBS3FxRjhpp/BEdar5txSfEu67R/ppgZwAi2i8ff512MwmU2ndVwZ\n",
              "0/IypwbXeLiexIGKwjGLSLtuFQ6Y/OKysfXRdbpNhUrKtfRj7PsZ4sEuP5y4zl61S+z6VZzYCdA7\n",
              "422O/g7ogLDysqUE24GpHGaJCX2wbS68ujTHQP6XxiSrNlnDwZHgbp5EeVkCuMJlhlbRejAAAW5E\n",
              "i95ObYO5PsuB/yXJXIr296w2R4KtEWts2QxCeaTyILNtSj0FAa6n+Sm+7xuX2JriZx97d2rE/cAU\n",
              "Qsh/+Ymis26EZW9S/cjgVqTEtyVS3CIlK2Ezdp99jK7/nX0GHUivuh8QdJ4bhVPEmo5B7TQYe9Nv\n",
              "n+ebyMRkTx7hvj05vOEfMTes/dwPLUI91WSm8NQ11fuo1LrBS7pJhE73vxY1JjcZWnegaFLpPjAo\n",
              "+BqceCYe5S3Av97ANnEBmzojm/SDmWarQluOhREg6XGZMu4a7snjhzyH4/KonlxVMyXTB8Ya3dGT\n",
              "vrxM2T8GRxsFP+Ki2XIeafZhzaICPKgU1x2LYZqQc9bRDlrWDpuTNmcCbrO7DXBPWt4+vc4y9j41\n",
              "N3ttOlZHSj7BLRUyn3jQ7SaqbIIfathMr5UyLG2sIhgEVnH/ucB0hSCdaRR7tfjt4u8PvhnTQjOr\n",
              "XFuMq9D+ai7PeOXVVnhjRUG1NlE+qvV7AEI5G7TdDi3Ot79+th04S+yL6kitI1paTBiMcHTxpn5X\n",
              "LBkmi7PWbDvDmg5lJAHwROy2oJRfUYjaQw3SAnY7FAERErAGIDBqqPQJaFyjGd6y15L/A4RQE90w\n",
              "26aJjRd6LiA50nY4ySvCZLA7zrAL53hpoxCwgW6XRvxgLia4L4hYOh3gf0IUhPaJ3G3bd8XpFjL2\n",
              "+h/vvhmyJo/GBlrOzeAVUV/uX2KIRw2tSA4lpY7HRLqTs9WK8UBppmkFMjiRn2ZuSYkUBfizN6PB\n",
              "9HMOtuBHNkzy5IeyqUfJ2ROw0QtO3a1al0U4xq2CypxPOHRYS6A+QB/ByUoi0qfhrx6E02xA7iTP\n",
              "5QTGTxgLQBmCInEdpSYX7K2+HpwAJPY6whtp6txK2t7LsYi8XuE9mrqJA+ndpoqCogHnXMm5SU+U\n",
              "98sP2yWQGbuSA5sLW+Bsm/v5ZbCFnkMTkZR89QTm+rh5boNsP/4E4kPm/3qG7BC5wO+Ec3HPSWKm\n",
              "NGeaXCd7Th4DBC9DSkgcA7cg9XN1u/on2zYZEMM+UYaDkdXa+hdlBmxgU0brmHXBVaaPS4ue3N5Y\n",
              "hH7lEWh9YhGOa1FfO9DbPCDHOyLyV2yH1Cg0lpTc8nJdutqYrxU0eUmJs3SXPp7v9ZFRt0LuQ+Hu\n",
              "hfuXSBIvboY0wgOOwwFFb/dKjCGFW5j9MyMA0fbF4QkX7xcrHymw6YOZNarOOfTRsLMi3ig+IIvX\n",
              "K3LwlIQdmQA5eSSyp0Es5h4bFxAyabuitHDKQBfYURKB9NiuhgaKoiSwK9n4Jr5hTHhlYEnXuAjD\n",
              "Hn2efoK+Beq189O9V7r5zDX6ZY4NBQiuuNOLdjBJdC4avvxDBNXiXBf88Ng0IQKGQOYunJWHbF+R\n",
              "NUMAl7MuEJZshqWTF3Zn9GQb0ek+gbbQk+Q/pfGpC5htdjsepo2Mq+E45GKYmA1gGAcGWDWqNpS6\n",
              "dldXZAKwybJ+ASKADBjW8WN35MCAhjboYxEARsfRT/Ohl6gKuvdk2azvrCs7nlgu35yOjUF38izI\n",
              "WFgh6FSK/7HLAnqr0I9PgSHUTGlbFGCbEg/IibtYsmUmgcq2WAAuAByYr7BwvJ9U0ZXkpmk3qRBA\n",
              "hm+KwYtIL8WSEt7Y6V77bcrXIPTJWs+5lld5D0hNRvw4ABikvwMbXZZR8mUZgesu05bpx0BrJVAg\n",
              "cDTCRKpJsww2LguA6ojO7Gu0oNJrz8smX+ibmnTXSXxzrCcSjNOOsuFSt9xBiyMuxlOFY1EMSt2F\n",
              "zVZj+0wHpkgtc7wzQ6Bn+ln1ynMcFVwzc9qY/Rf6UnYdMlk+mwBtA2WBtA0SVK4LndRBdQiOpkGH\n",
              "0fMkE3oWxyLoITilH62y6deLmwFyEWLHXvQxfjWaqAdBpG+tiYAr/ii/jr++ZnRL25mtQnnFfB/1\n",
              "s1l7hp2+EgMlSTiAtH6opXJVtMbtXBPj8+UEvVLned1NjYR43bYQQuTzhYxOK6FRyoFpX6xh2WU0\n",
              "ANyELjzkC1ErbKIZg+iBrIOjQWoyguFgssSTDxJY7HQ0F423V4XJk2747L7UOl3Dmt950C2uJVmM\n",
              "TXwbq3QhaWQ9IfkpQCdxULhZgf8sZgMv1McudnBAewNdNXHIDh+SG6WY8MFa8nLdhaX0cd++NVe7\n",
              "DDBcBoaOe24CsCWGDoOjRkycML/kqpi3BUjOiBBKosalALVQDTjbCX0aDhLqZ070mrqsyH1mU4QK\n",
              "rl4wgXmd3vcuW9N0qbkdUhj7FxRU3zTdBTE739imhoFHsL4LIJtUlTLx0JGFZO/lkECK8bDHaTQw\n",
              "UCD2idUIgBqDB4uD9BpSaSPdkkrUsrTnvIC5PrcG4lCYg+0AVBVFusaADpGhg4Z7TFhi9Vc9Atsv\n",
              "YBEXnKShOdH9Fo2/8IIm03MlEuLvqYtGxJlbpfHMxq1oj/C1cikAtkfItVaVqfW+kfNtE647d7b5\n",
              "xnG0hTY9fwc/PDfcXgSEwamXA5rX1TOu0hHtd9IkTF/6R20C7N/cLMIC3KfPedssAsgHncq4oyET\n",
              "g/WBYiqAEXVK7OM7ktAiYIvjM2NvKBV8wCh5lnF84BMiw9pp8L8LmRRZGjPnVND8DrK1gqls4Q0b\n",
              "Ht0p3OkkfQbd1QwN1LFiSLPP+/IaNshbinzCBeWVNi2uJ+vN0w80ar4jhaPxNOmK55f53Hcw2Fut\n",
              "1tnKRiNfTYYgLFTxnmR3ZpKdCVDdt1Ge6wHYILw29FeNDu2dPhcvyZupfuBvLzP57tXOZXOMel3x\n",
              "2qymRT9bPY2BFZSQ/Uz4yk/cmyGPzw364o96s+IPgVfIlqbdXXmQPweMoFesbbGMtRr061uWOMCf\n",
              "fhmzEnZHWPkNWpjGmZWRs0jEm/uPi+XAtRCCqvel+gyrpWEgm0+CK6bj+TMt2/12c1wXfo/i6vWv\n",
              "i6AKAi0jZgChXBL+neec8u9kB+OoqBfG1y8C7wN5VWrHn2FOUkzwNQD/UfNg+bnc8WLW5UfTFgGA\n",
              "SftJOD6St2wOeF7jZUHld+WntMD9b2XAJaX1w/9pLTEg4p6QgI1PZSRJJJpBiWv2aAY7U+ByItAO\n",
              "9McxHN62VbMDduKFuL7m0KEUORm/x6H1/3/HfxM9hAKfQ+bkOBc+Rit6eppfwqTpbvbkDxx5Tiof\n",
              "flcExbBTe87vElXXf3o+jXvju0oIpVYWXC119VNqqH7Kh5xg2+w0nb3ejR7Sdd/+SSmUdM1MnU+U\n",
              "R0j/XjO34LAUPvuq5LHSBwkT6XIBBaBk/UlTocbqquoKIxTp0vYpZARgcUASUBx7q/A2Gp/zpoPW\n",
              "WtLkZdD1d5I4OaE1Nvcrs9bo8D9DYgt15rFhl2FGKtNRG9oj029vArIJv+/+aczbnDIvKUfS9Ymt\n",
              "0F6clsxHZUgkBh0Aaq5LxVxDdPjZibIkmEJblnABVWZqdH66KYDmCiTPjTpCtns562ftly1DP2tJ\n",
              "BYLr68wkUq66iHagmjuUPcGXW7KKyTNzxb8XLboiZ5y15jOHfPKMLePZo1JPJ4sPRhKxuzRr4ui5\n",
              "0qeDrVDV665Zwtg64ERCInlgCZXUvZrT3y46LVYTEIW5TqGbBXqNYT31jvGXmx5YeyWJqKEsLV5P\n",
              "f/ww5P2oST60iMdOYqNjxbrRcmti/slmVMNannDj2g7XHYa53E84LGRUgR7ASaGk+WdJYfJKh2OI\n",
              "0qeavfZ1Tb+MB51u0chyh09Wnep3B57VWTkFWVfglJjx6w+CjQ+tKa+AyS9P5/Ks9Z5jofCyi/SB\n",
              "6q8RWfGRLoWkBpo4iqlHfM3l9y0YvS/73up0FlEwX3b3HmyaURjwiiSQLSjYRgZfAipaR/CorYK+\n",
              "5bAjia3a/tSCSGZEdNyri8uZe9fkNW3bWJf11iRXxPgd+YCwsUtGuyEoDPOQ6sY0v2Wa6lOGAoLL\n",
              "7k///lotms8gbvCOfm6DtXgZH0ddmKSE/UhbJI0FBvdTLga/SnocY39RGPGJlxNg9vJM+zZnb1C+\n",
              "eUo5lEuGPfVHX9xUEah8zLlLK3329nK0BlOGvdEuvZrpCYGgb8ryfaEszIYUhfEm9buEi6r5SzIR\n",
              "0/tJtKGEFR2sEBS2ub+75sLPzzOpIC6B2FgyYiep6Vedms+LcTcAl87XZxqblCnLM4gD9B2Ndwqj\n",
              "9nSpKceB70obIjzEHKaGkoT1034QoNl3RQ41Nic+p6w1XoVBVzB4vaZnGXILGGVGyyUmucMQ+Wxo\n",
              "j1v+D++ycGK4RknZN4vE7tNB0KY7NnbaFQSykxCL+obs0Np3LHjMEDfKNGgvdRze18/GbDY9quAM\n",
              "gtadx3QHLhp00ACuohKJM5oV3tRt0TLOUyMGYQpBpuOgplS/FZ1e3AARQLPL91/znZQ3Tul1McKa\n",
              "2XLSSZfCnJequKLTHg97ZBS4x8x1PUuruTvtuAZJvt3EhDA3TVGUbFsbB4oKcdrWwKU/+qMU45kh\n",
              "kTsyilgoIZZvFz0jl1Pthp/XxdaXk/aQKqjH+ngDXJWbQ/1i67NIOkcyzNRgQu64IyI/lP+i82L0\n",
              "6qZc9J8tBFGeAYYTDokWzmX2xa3aaJhVgQCpuPQ4SKiUPUqHwFETy5f3wHhvwUseVQliUHDqwEl1\n",
              "2o98kQh4pVssABWpWEUAdbVQ5tNZtCJZbLyeohH4OLvRkB1GT4nzclbOpcja+COO7WrIRDVRwBg8\n",
              "RZWZDIUqvmylu1B9h52d+pEISSqEEdbXDq201JHPuTWmOabHWWb/n4fujdWXazO9l6Ijqe3HsuFc\n",
              "8xUQULCHadTxN6ix2HdTIecrTWSLMa233BGIzNBhFP5gJufUT+tIGPV1kxQHqls8eyKb2Dap+HMy\n",
              "E9HvNFIPgFw/XYDMx+DGU5ONftlYdJg6oGVnegtIiAT5VzRHFRqOGk3VcwEU4Hc3o6SPb23o0y6X\n",
              "X0Fik67shFZ5uLw0+KT1XR4kiSPJDnBRfMN4fJKy6GKatNGiAUhT/VbyPLEHPTuIKBvrAgqPQDQQ\n",
              "wtUwUIrZPaKdmMqWa5IIuVFb7rzk+OfN/m0or/CS3ROeSAaVAPA7PYJS8tmv4dbMzyb+eCpuAV8i\n",
              "PCkeNe09UDZXc/1cupiPYuOV+KLzE9IKG7Ma1l8kcxjUNJS5x238gJkbMyzGQ9gmM5x+z/7QLiKF\n",
              "QG973xbe89QqHm96nhjwobMENwMG8hGdqxi00NnJst5g/LE17rrGtXW4GUnPpSx0/4u8DNmzGUTj\n",
              "UZokwYHH9rQZQW0pPTbS3IKksX1YFz/NLLP8elKpFcX1q+ADqJHTwOBiTrSItmby/g4GusqmYlWo\n",
              "nJAvX6gafTnQPExkNBHL4i4e+tYllmwV/agSEecrHYSZtUqxtuZDkdgPZqskExkc9C4EkA8G0IyV\n",
              "fsfgAD2TI+s5vm8S760X0dZK+6+OvATdWQh2MJ1lG+dpP7NBlBIYGyrxU0RlcIZaf9jtIIOjDbqC\n",
              "eiOqVRb/VNF/ENb5pLF+uzYNp3A5vtewUzYcH4jIKHr9AiGM8sh7AHgeyLCXP/IqyeL1m//103ww\n",
              "X3oKqAX0UkkjluOKIckBNu8vPlEnNJwRu4ABHCFmc03l6cOPWROG8aGQ05jKZfP0U3t+x/1Fv41d\n",
              "V9tRTpXpgsxEAC4QDUli9RLvNKSkqkk1CEwZb+Zm/kfYeqHOyFeOTBhZZ428SGPN2ecUFYdDneRH\n",
              "krKJqNVxxH83D2b9bBIgxckPS4znJ5h1zWvKh7KKbLlGZunXWvEoxPCOfFIDxSu9ar80FxMgtTnN\n",
              "OuO5UViRO07xw9O1uZwc0jzEGKnkEy0S2Dhkv1YMxhRcirXJOVRnYB80kyt59eejwrHNAU+DoRvP\n",
              "1cDZ7FOg4I81YWjIRuMBwQoGcKU4x0O/o2BbB0wVUIUuRKvD9CB5oPTKsWyeqH48TTcH5HZO38fV\n",
              "uEFN2/J81tm0s/TkiRUeTOEknhZnsgstJnX+/vMawQEwGlzUg9DdpsroW6noLbErwSHg2FTLJNde\n",
              "Fk60NLrHeJ12ATn5xvHHctShasLdujk3tX0C561/IA6dI1NsXbiYQ9nDS0LHlQ3166/LKZyh0WJ/\n",
              "G4noT9vhfouUQp4AFI1/3XjxLYw+1oaWjNYJ9yBwrQTZkWt9jXymL8adzooCeySreJpR6IDv0YUP\n",
              "BXH2fsy5QLEb7ImearFy0MCjsSKgCKCui+RIzj8HPmr6puX6vgF/fs3TnCw4rwvVGJLv4wS32p2K\n",
              "sGEZlPMZZ6IuMlmkc92BHyOQlwsCW3jffaZUXwrul52TlbqIW7Ik6WFC+NUgbGXg5EWcb7qq7Edv\n",
              "M61RfR0ZDAn/oo3B/pN5PU15T2YH0/pWehFI4UyS39CDWQ9ho8Q9UShySnCboDraNrsBYMyKGBgz\n",
              "0hAEWcmolkf7mTq2g/SpYPTV4m5N68q+QN6ijf7yAtjuw6nx6ew4F3YfxcpSxMm7gJIg7VnY7oHI\n",
              "iZnCClibGeAfSBJVBXpeijw221wQyo7bq0Q6ujGau8iwg83y5XvMBFY0qJ0Jh1zm6trEjzw+q9H2\n",
              "SGsUbvg7dk7Z/urPSV1yAHp1bQ3LLRvlUdwgFiD7TPSLIIo5LaGSY/1LegYt/wjmxhXUUDu/OuPc\n",
              "/qHMw/SF81E1r1xrbGAYUtcTVNhBPA/wnrrGeB6sdClY2xgruymdvnZneAKq6OanSNepHBqs09yr\n",
              "f01f2G+zo8Dr+hLCZpV6FmWn5O1cyUnfs++EQVqjbA/40tykOBnNn0FtIUQBEbZHSWz8MDbuiPWh\n",
              "KAYnwSL5snfHsmiRqqQUJ8fPBJX4f8pYIAqthdIAazhLNBy6uW97OrNwdpThtz0YTLluNnoko3pr\n",
              "egiL+9bInmqOLxbawDKSq2Rc1PAGk2usHgAjkPLcUQyOyTPFNrvPd7I0F9yYy2yATddZrZzOjpAf\n",
              "OIh+IHhTMrMc0nLvK3Xoi4Pj2aYEGFsHQcTME7t1z03vbKgnlI6u0lW91btxWplowJKRlZY/74mz\n",
              "jx0+RHS5QEVqNhUauxhmqxmxHXMxzBmzy/vPdt1HpFdNicbYYwzGaS5fFac5Y24XDzN+H+mXdb0r\n",
              "3ZFo4wri5VU7v6a5AbchjuJlUp3RFLJsoSNIvwlWyNf/7FjfO/hC3PPxuWBi41YR1hxyo5JXd4to\n",
              "4/uQslOTjqtLesNk4l82RYyMEAZ/6kody1Uf4i5y6CFxPzsn3Mpr1X3U94dyP+8wDqmT+NkAkqiT\n",
              "Y2z94GDnnX7ofn8ZUQ3jFpqZi2aqntH44VUfNGfP78SZ2DLlQ7AQ8Oorn67kN0VLMuzpYL8OR21t\n",
              "mbgtYkQ1SEIkHLoC/3WoC8Wi1SZOjsXgWqboGT9dT9qtB9E1K9i+QXmzrmGo/VHtayZiue/yr4ec\n",
              "2RoOwRpBEfunzJQ/JGvmobNAy9H3ChYYwiYV6BUivx0oouOSyIBoGRa5BbHbBd4MbTGCsx3aTBfS\n",
              "GigqAfCz4p5T67SLLZgHHYYcbHCQbDJRdIe4CigzwPnJHgWUBjsRR7p9pq7J7vGYVDMPHCKEepM2\n",
              "XZRADTFeWFJ3Tc2eRUzKByDDvT2J5jVJ0an7z7RHJuko3wcqlbunywWUkFDIsH6S6+f12BRUi7aS\n",
              "vfMX8Is8MIYVK0N7P7doL78HdYjwYjm/tHBjT5JTvJKLI2gdzQ7sEbR+rBcbT7evSbzDLCAZwy5W\n",
              "ccg0pzROuFCSM//Tb47O6QYuGkRvtVmAQu7dMy7sAINcz0p+M5460dduVP3A85HQ68hFVqUX8tct\n",
              "ISX9WLwUn2zTGNn9xMGZF1YLS9f8HHxz5Sjth+UopurGPTorRT1NPi5csuNSL+TmGfvd+UYP8iTf\n",
              "LE4035KT773jlOoNyTZMqS857XP76eBaqvmj+yuXFoRCS2RNYYJe/HWVr1hHmGTkxQD0HRbt6tZC\n",
              "hhPoN8m3TnB/Ye559YdulEzDLTTwMMqWqdTm1AsCj9oCK+zAmG/uA7Rqf0BA3Lvx7NQPoobbcftV\n",
              "G4sOmxmRp+uEJYp7UQVMU9Xrk8arOCtm1RjMC4MpGAp/zIfEp/+3miia1vNYMB7CSyMlvEGed8dK\n",
              "xWKVh6kMu6YcSsgwWzyc6hoqPv/i2zqK1nxWMHAEKRDlCxZ8sDZXL+BhPEaczN/GB51oU5lP4ukI\n",
              "OTOvFIGmV+LzMFymHVx8HUwnmH766xYIDQ4Ne87ONIZBY2r0ORVoofsd2x+Y6XXp4OniganyFhNs\n",
              "aPLYTYXqXJqf6G+Y1ZS66oXO8MVD5yFsUYT0zGUaYWX9l5BeRwqISjK16T5maIgyfyLRjD2Msox/\n",
              "61lOOKWdvcWZFF+7zRCV/wJplB+WVgiCEf+7m9EDDCPVfUg8UOdFMFU8n+O2DI3J79YV3R/+fGVX\n",
              "uWb1RlzaXcEiqNOpb3/11D/s01SZLl3P1fER7jwCYbEEFx7yBBJ8ZdgCebraa3zZxW/ULt5YD451\n",
              "NXhR832Qv4bk6XS7rtEfdEFgM7dm6pi+P0vxFBoNQqevjWHaupaWAKNpv9cH2vsQvadlPjH6oGhL\n",
              "Lydg4+YwN2LKtyWOozLVe2/YNKTfGrvRit5XBYvRZjSGnD+NC3eK3L+vdrjCVuLg+ajSu+rYJ0mm\n",
              "y0YDRPVsBO4oFEkTSqJMl+HmyFWogb93UKVQ2PnlGiOFASRGW44Pk5DYsLggVHFbjVRYlRfJpCJv\n",
              "XsxTyrNneG2eUL6N8/tu/ern37177/gW8fx925vCr69kLeGAAIfMl0Hh829PKa2NKBmnzz3qTm45\n",
              "0N6R2lvLEv3UWwp29eveyRm0ougU1DmNvL1AGrP7W0sIFBJ/nto8Iy2eKhi15q0mlaDhtlgOuVJd\n",
              "mp74opkVgyjm9GEzap65oG2S2fd1xaoEcXjhV+rErqviGRlfJKKwHVCyS5wEf1zR7rVGKbW3lRq+\n",
              "uQvZekKsqJTywroXlb5Z32mh49bl1KV2kMFLigRGm5/HUpmONjEoob9FgAx4/5EsTeTkuHI2aehP\n",
              "wCOlDr7OkyjK7EXBEfA7cM8sQmpm9lckgjPcgCgYnlDSwG+gfaYXFg9OMZjiOPVGEwat0F3dGT31\n",
              "9T7pAUoas9dDmAGBJXqz2uZ+rXiAZUdlU6vC0tSMB7EsHaBgkJ7OCjaW7hS/u9vAUhfdZZyj/vED\n",
              "6Carkau1DTb2/KxgE/aqT1Vi64sowHiMq8udicCZ1w/FJTM66h3eU3mbbxbIDpqM23X0GDQGtT90\n",
              "ph7288TThpat+foL3U/aJSYeQhZoNd2Xpjp+iVYTMifZJGv30e5Sncd49Loz6xQl6PssIZHsAxn8\n",
              "j9NGmizyYii8JWf8s/4ZSWPkBeMoL/3xh/RhH06uaJIHpEwRIEdyCGtGVcVeWrOsbPaKtx4UDhuk\n",
              "abMZZULsLjAQsRzLQ5VGjkr9FMZjPmsw4xvaCYEPwGFyLmnc+eY9N/s3KwnswHaYH0XKD0+ht8TK\n",
              "N4KMFnozTigcUdDyGEBLX4LxoYPUKy41s21aGR3UYBpCGuEYcv/BkJ1FT5b/dE8X86SB8hcdnyIW\n",
              "fUxf+5zifnj2EPQaFs8lsRGbNSC+nndajmib6vgAW2LOXcYqO0R0CNRfs2La/gBB3APKqODWeifW\n",
              "xTsCEWVDbl/0KtN84C/K/OFjmbDsj/Q8jCiuercjpqKWcSXnNUiqb9iQBQ1Eb6nHa5Hc9f9+RB9m\n",
              "ohT1G4QfB+F9XzP0oURlN67hzOPoatg3+C7Q2N0woVsbwZw9PL1U25iATjcKVRqmKuntqQ7/y1O6\n",
              "rT9L5sq3+m5xriGkjj6LDUaTziajat0vyR6Lm3odv6dGvcYj9r76vdCnCrytnzfZTAKo7a21nj9U\n",
              "upSVFl45a1FQdEOBbkRkAYqgayaaFEkQ+Z7ZEV48mQAJEc3PrrQ4RFhDT7AsVoHJlE3wKy0D6hn5\n",
              "55NfWaqYPsYDwgAzx+gS7gCdJbIbqOepcMR3v/NKuoj6tIS3jANadBI1guI/A32P4ggd2l7RO20R\n",
              "YIkadSOIs3ano/94ZLvGhOtx89wzxNWUpS0jx99Yn8juXZiZmw+GD/dS5rcGAWGPFIJQl2xvximC\n",
              "m5xuxqNmhfuBELyUnEDed0K0VKpdBdbNFEx5JaT/xRPYPSwcDu6ErjrXlMpzWmCF/TT0P2sa5kn6\n",
              "fe3nKa10yBZA3ICC2R4QfZ6LG7ujOjV/i4HUzsstXmpLQC8Nyu5Vshx9LjyqeKtLzSl7Ukd38ebB\n",
              "fKCCOGqvyjSU0nFYMUE8eNUIIBLyd8IAb+HdeCjhtboSdbEEpZTUVbCiPzF2oNoHZsFzD0Nac+EY\n",
              "9CVfiq0f2gCfOQLDV4+B/XFeWP317jtE5n1iGWeI53PLj5m9V//BnJINeacQRyFNRiw4el3deoL7\n",
              "b2iO3Lft11oABMELA+QxU+wHDHYtrLDSYRStQL3rdwfRhUwpDWXP4togeHYa0OPGdhL7ptl+Dryc\n",
              "iC+qYYp1gYXfxhNgOvM9+ovHMZi9fr8d9QrmAOY0oQWNuszhEKhSw2dYjFS6j6OEp7QCGkRO8GxK\n",
              "VESzZGDtlxI/s6Q9a7YczO2506wrNLUBknkPgmsBfrl53DV1MjNUT+B6no8LIZ3l71upQwwZDDDN\n",
              "vaXuPqV7T53FqTTYWyl1PfPkdiQUSiXGb2DagQHQ75yVr96quyDxEvLAbVdNImX4OudZVpJKwVjs\n",
              "Doeh9Cm31vWONrHYgV48NSZQ+3yt0aQMW4ko293CujVX0vkaggJOdCSVShPD/cPUoRJOqJUFdbe4\n",
              "YOx8R/HQ90NxSjRyQrCUxrOd9eIkN0MPx6PFRc7zWHPTIy4zqr8ghZ8nQgypzcEMBpzf/RatoZdy\n",
              "OROJS06Ai/FOe0Huk2evlaRfqvMui9/9skxrtUOpaFO9jQul2ArREC7NAoeuLHJtySFqFq7qRj4Z\n",
              "Ghr6AnVt8haMlgBUyrqU6l76lb15tXcS0Okh0tp8B+i31MselSj5VDT00Xu2zrS4fljVB6YBLbLH\n",
              "9BB76WKHBQyqSm/6vr3gcVn1Vx0qhrfUi1aaVC/5F86b9n8oS6xi8acx8KGARwRmN8S3vpe4Flc7\n",
              "gdnpIVursHD0rgByXvbvhCpmfmWhJYBThAQL/dqTvN25CZ3WCHjiVTDsp5pL6y4uUCkn3ml5E323\n",
              "/FuaccaVMbRLNsAF8Jf642Sni4VU2dubUoJjutEvVPqvecz/zepNAkBWOgwckS2ATEdbfR/vCJZ+\n",
              "Ti6lSA8RtiH2FGQUJmcGsEJeFFJluoDQr8hq4lllAGiuIBZBueNt57tFzGAQABwiHjbgaonFF5yF\n",
              "ulmoGrCgWirrRYyvOdL/pZdPddkWO1AXkL7wNgzAGzHgACAc4isJAnwqcX8NrBEyhWKOWi1Qa4vK\n",
              "LQ4M7DKR31lqqAs+HOshmRef5FculShKFtVl2mbactcygqGWnBS6WDaUCPbMljOn5me0TQGv/aZ+\n",
              "8OKyV03sCs+Jz9kXZlgam0vBvo5gCCEeHaz/RTfIr9uhJ6/X5Yxb1zctlhFFBvRqI1RbQMsnf6bx\n",
              "3tREgSsCE3esLcYbMmVRP/oc/qsOyHilu8WDOaXCEeo9QbgS8V3yqAetkg/h2t5rbn8x4bL18pfx\n",
              "hxf4ujs0AxiPPPgq1xf4nAfQyc2ibPvdPaloERlezLLHCJek96G8TFT9EQcmtfjnYmdDO7nXF1dd\n",
              "xsYSqIQVzG7KZouB0krG0SkocrPTZ5tbbnlrxWsAvE73J/iRihCRIxKYkok3355JMrJof+IE9Ep4\n",
              "qbpPjZPT7VrVYzcYrCRdBY+pR6hfPN3GlWLMsFbMMD9fkeG4A69bhKVM9lm03w7QxceKOYC4mDS7\n",
              "N8vx2dFgMZK896mFmJbjYSsjU6OB0gWEqFekvZEla2kzq4nC4+KRZAo9vfCsPgVt4ypqdf6xg7Cv\n",
              "cPGV3E9t7FjRFYuJBiYNYvvYZP8gILZc1BpSQxPgdzUmJHpPLt1MHaHW2yDh+5owa1JMG1olJAir\n",
              "d4NJkLZdJX3N7vhCtVcJHAj9MEn8l/EPYnYljeP4CX02gk8LcNOSu1/9R9orEfW5XHmjk26fyPC3\n",
              "GuaU8TpwpAgakaDLiKNGf0fgrfNKy6Zfhs6etlrmO50RUG9/QVhllr8caLPM95D6SsyjasWeOrzu\n",
              "ZaD/4kE03jv8xa4q4n1OlfT3C7LNt5x6HpyNnThX1jJSsMdJravw4LLKTtYdLkP8ihZTI8FmoSKS\n",
              "Nb1Ea5ihSprPjHx9DdQZ0ZzdZPYX+dRU3WOHmM33wc5IZtrvSD26fdt9H1ETurxQpZAmsBNvrMxy\n",
              "IzUzHrdAjiwhJBpfVp2CF4g+Mv0ZmsdJrpuovkETagsBUorYR1eajw+98k74SXIplvST4Xb8iy5p\n",
              "osqFcd5PcHxLsL0QpNoLrHyZw+EDaxYFWPZ8EWTwNU/vN4ObGvCRchvJkdgNvSuPmFQRJUs026+O\n",
              "97zm9nzwIqH/8G/6BvZh2mHAzXWbeSnh/kq6+cWqYR945OGFHH2s4Sg0fRmP/QI8GmniphS6JNoC\n",
              "BapLo2T44zg6ntKxasylGnmS6anOJEucPBiRMTYrE4yGWfgzlcKbdtseHP+uxJAO/EhwSoprAiFT\n",
              "hpwAmvdTCY5BqkqRSrauapB9CwbElZhIlolIovqHsNpm6JlaBX01Tywv715OOFX3qDCwyU5BQBOD\n",
              "jDiJkLrm3WPu398BlWHYhj+UDUv1u7K0qFOjkrGB/TmYMzzF5ySAxNp68csXScoRbqOrHTuUCSJP\n",
              "gzIY8RZxEa1Bb8+SKl/rm3+yDj8c5Bxmf2dsXB47pWgyH42wV4T0hDDWCnbl2aCsUg5c7WRVh6Ec\n",
              "WXKNwGhKPxDUlITA16JOR7JkDQQOsWwDL9M1eCyr6ChJ7ytTo/MpKQsK69A6mD5yYdIj+UuSisLy\n",
              "U/myWF5iDKz83FywB7dhPALzuunrv8KBnb/fGXbQ1cgPtIEVBPzUFDi5U/sfmqfmh7zy1W1YhUFo\n",
              "UQedaM0tx7GIYT2g3jb+Z2fU2Wq67PTheITYP9gEjhOl4fZT/YYfpTcpw2L8uZV3gFBt0GXYBNXH\n",
              "s8cc1JcuU2Gaf9xYLYs2yc2g+WrjWucAOBPNlyEqFlEkQmC6nLN3EIVZX9udDpNpF/yPvmJhPTAh\n",
              "ASZVCIRd1iGM+vPIdGBhNU3JhiYHJK7slj4Y2RnaKOYg4X7QvUkvwS3U25vIJwCwWZFbW7GPu9oa\n",
              "g6g6NuZVS1QSvSz69jhbHNWYkpuqbvaLkN851TowsABz60SX7XGdmoE3EoZpzLf0k2kbB8GUyP/n\n",
              "Qi2jbgk33KEo1Yp5cIsQpeO8if635eNr5vvu2gVDsk8XxrLg6PQdc16N74pZEw8iGORbMkAFjClI\n",
              "TOaeCTJ5npjOcgOWFlOMBMYk18Vch/wrjO9z0DzOONK/tLo3YrAJY6belJyMU+jl01Tp1+VT37uo\n",
              "I8pYDg+BVWxVTYUBzNVUIhI4bYZklgYoMJUqt9JIfm7p89GaSt5IaYQwv+o2UFhJUN+mI2I+rvV3\n",
              "4gGqK8pmynS73Oa7k1EvldX0u3NvbK3Ds2kn0azRYfhb4pT1AthZ9N/ZWyouo/U7ieh75Q5SqxIZ\n",
              "+qbooLV/JG/KjyZXgXbb292Pzs5jmyzn2LFxb5CAwZBoBk9AGuetyVDSaMurvxm0dkMhUaCc4beV\n",
              "l2t2cgcDMc4u/wyYhjPXib5MXz+ZmTsh5JMJ4WbaDbbHR/w8fvJ1McJQgGvE07j1VfxKGtkKmF58\n",
              "5YSD4Z4ViO3epOH4QvOaiX8wbW5NzTtzO2w/UUWDk5Q0bxUj+w+SlWwDNkFPeIWJFhKcRAhE7WYE\n",
              "sIkldzZqWmyq5pgYAh10KBcDp1dkCijOAJggc959xOv5whNPX6gJN4KD47l+NcVhkevnnhO72Im1\n",
              "O3zhLG5XFlaqgU3JKgOXrMmcH69i+mWWWoOA/Kd4//MhFfUZKtsykdrA/7XzEV4fcN7lVmsr6Wb2\n",
              "Xc4lxxy9R3+jv/GoLvxoPy7sgpRa2J3kNF5yRUvjjAWzWTSjCR+EpmbiysNHl1ICC3wQ35XBsLRG\n",
              "BLw07NkwQfBQYfYBJh4LGxYXlBaBraYmaNWOgRu+gToGWg92n7UHI+uf038QWyUlarMgaTB9nrJI\n",
              "/r6q+UY3fnm/DBNM4Rrcf1bsZsU+HSs1yooHTN/qnkh6vkylh75Uh1GdzCv7xJNoWErrnelBtMBg\n",
              "bbYEWaq7LV3iDbJFpPjtDdAYsn/irmEvMP+pjI7nVd4VT4MBzfcHdScTRq6QrwXhDiehZB3IbNa/\n",
              "RH3wAC7Z32EBjge/vTfF8ecsDKtOvk1ul5fX1c1UaAtiaFx9JDbUbn5vvKb6e35M26qJdjxzjEH6\n",
              "ZXj9yqZHp1OMuH9Xc895dUxTr6fQDvUVzuBLnHquhsIYAN6NTx9INXmwhh3JGuHw9hwPNiARsa1D\n",
              "s6YXInXHJy9sJA6Hy4uDPNa/ChxDzERIk6Fr7SRZn/nePiz41BwdsL3KN0E3KwCMVmHZvkSU8Jul\n",
              "0UHYaOxqhnbmwCzBXfOECbC34RucQK3WJgtFFQ0Pc9UFFPcHCreNfVicTsFP//45VBizHolalLUM\n",
              "56urYQ28eJXqvJC89IPI6WQsPhWGrpx85/8QSpk29wezAcxM5a+9HFssTvlFPScYBz3anHHLrU4R\n",
              "UQCMIHFUvcyUkCp88GOxH+7j9KTdcLJfydF6B6E5t/GXVXnqtI90AXyHw4YTfFk8ceGazotXiEGa\n",
              "OYJRbr63gmq+ulRBSHNbmRg+/X8xMfJX8LmFHDkku8V47ukxRymUxSxa4OBMYq5okSleCEGVC8Yh\n",
              "iYxKRzU3N1VBAZs/1c8f+l8sFT9UlLobyvJywGF9lHVafUudn008xu9pL7Pqv5+ZPvPmUsu9JVgx\n",
              "aI2Gexju+UPys2Hb2pk8WCcR/ai7hi9XvPTws2pdZ5Z2auoZRWGydtTS+mplhYGTWLgLgBTed7mY\n",
              "vVyWRvSXTZ0iT9Em0OZROqjwJCOHVPjF0IxlpNmW85DnOHBbgfczvX3irRb1gw+z3sCk0XzJ5LiF\n",
              "0EGg0CnZmA9oa0+vbZfB7D0v+e4twu3odpdygktJIiE+mVYIX+L/2mB96vhSvGu+1gWXAbT0IWPP\n",
              "NEe/k6tn/3N9kp7L/hG2nTBvqODT4M9rRig1f/u/MIfeDoAlYmiIwmqFW3K7j/vGsm4FlyVEZX19\n",
              "+FwyZggGY40Ld1LmZP8VESYGIuT7YG/h13L1NF+Alh/82v9hYmzi77dLPiq9JneNgxNBdPeOZXsV\n",
              "0Pp12rcV1WXZycmzbP6V/L1vesnnK8VdYGKimFO7Rhs5zcbkzf3vJ7oz3BNf7OHVJmVkMxBrv1wN\n",
              "JJSfqh/EaPK5WJ+3ROPiNLyeXboV0c7U5AQm4bIl8pw2gwo+x2kumWRhFsdmVnZMeYE6uIsBMRql\n",
              "VtU/aW6sAncUeioZdfrHirOh0HVqM7t2U/u91a/WQS0Avt+fMWaJsqIfZ8OhiWSUPS+7Sb/sbEWU\n",
              "znZJ1jROMoKfYJB4pT2SUe7vUEhgey+wKRWt7G5sbcmEJ5RLweSKV07ySn9ctKHRuYwxMdJsCmDN\n",
              "cBB2dgs8ROKRrReOHe9MSEhD8eORaJ28PSB9a3OPaxX5RWR6q+o9bRpQHQqpUbA83SOE2rRMdGBo\n",
              "G1j9plX3YzYIeTZFO130w5tqwEQgtO+OQsHBIS9mVHQOlawehC+ezq9Y38ZG/qnjf4ZXeZIhhhq6\n",
              "iHSuw0hWsvwxwMED04gJ22y7kbKChLJpUaNYzXKTzDQZj00N8GjhH1FRfwYkOqAn8B8bOPECjT95\n",
              "l3PpqZOfQ8DE+M4AacsbhWgqgIu4ontiUNhla2gDG+GFzYOxSe9mitzo1omnKYoqJbhwZkT7RmM5\n",
              "Vo7K9UK95Sdf/5TCzN6Dn0xyWaHzPZRk30clWfqyZH2vzeYUBLX/wspntPZmfrl20DNgODVE8ZJT\n",
              "BQ40fxlUOT00SyL4T9xreq3T/CtxoEHsLvfgpl0q96V7iOyA18BFD0em7600oi4be/A6U77lGnVE\n",
              "yFxBZgTSPEdtmhgsRi2rjwJ9xanXsmXvRBIlJqjOctJ0hnzb/VsWeZGmsoQBmQF86KwOMLbWhEqK\n",
              "Siy4uXeNBbPO2ILbG77SO+wEeKZ3AcaJf4jX4XrLNS9Qg1hl3Zqk/SzR+Jt0ohfZdEFL68MtIz6x\n",
              "8YWB+egO9smUYAPJnfCstN3DQGAwk7a2M5uVnmsIuAb2Ct+AoaeJFfgRs5pYLZC9Z7yf5EcBFXOK\n",
              "SOpRnS/5j9bW1/COfJkn4JbXe7P3loUqAAADASoNt8c/kLJGeXFVm1oq0hHhja6gZxveGL0PIzuH\n",
              "HdJ2BADgwDfEgswRNZqyfZEEhA4WWKCMPH5GcS00d7rVeyeJzY6nNDJ9fu396lakxNqDwMs/sLMu\n",
              "iwb1JbKbuA6818WQy5XNB/F/Iar8Xc++Kw5PnsUv9qZasv59BHgd8MEY3+TBjc/L2PO0Wirwlps0\n",
              "VB/pjFfZOxrdOjYWo+v1onbLE0Dbg928pSW2ZDkvyWpReQzngiY5gGypQ50yDu1WOwVbsaWh2aio\n",
              "2m+4RssOM6xCYBjVlnV+sXahCLZFY8Cx7bXM/4chehcgVHKFhgXzjE7dYc3yzUpafeBXv806a9wF\n",
              "ZVhyA4RNyMWsL8p5D+qPTj09wUtg5/CCF/8mSAMHPGgjgVPapGvqcUdz8RabQbsJH+dp+eKKcoZ6\n",
              "RcrxMO76KPipcUIxuxYVWQidxUwWfrJ6+subjt7KbafNbu0miUHswdsre0UeZOlEhXNdFzrnWWt9\n",
              "ds+GN50Ry5m5hQTBJeoMV+qnkFv5S1jUznDVYh73HOGTCdS/iX7LrYfNqpDL1CY8i+9fEsEl7rQS\n",
              "JQBm03OvxbYFxjP6qaNxLTH0rnA8gb0xfjtJo7Hf9GldfIPnrLY7/UAAADI6PVQAJ+jsYAdXSscA\n",
              "AAO0QZokbEL//oywB9KQoCgFiSF/C5Gt4wjZ8DStReoce0sNCv78x5XgzAwAriaAaqg0W60mi31M\n",
              "rnhlY7sIw9Tp2iQb5Uivv3KCb0fssDL/Zed3+npblg8ixnOvLig+1YZgfg/p/igE+/EoJo8qhB7F\n",
              "WHyc+Y27PK+VQqjrXW5fanBQz3RjPQ8jpGZuL3wVG1ibmsUb39yRgCuTir3TJFffI60nhhR2++Qy\n",
              "zAjNT5YNXnX7BUzdr2dLMzokmaL+TnVoAf7kKB+FwZwVZwL9d657xEURQz/szeF9FARLlKb/mvm4\n",
              "NcsrzDU66U1GPCqKdunDgQwv6BEU67PsuJm/OaosCHXDH2/TANasj+HtdvJAlE0KjBj00Fi6T3g1\n",
              "/zb/H0wInslrD3Pt3jfcpKkbxo6JLC3D6lEtaWfrMdewMU1tVVo0W0bHq74QzlnQ3o4m4Ml4G/9A\n",
              "7c6SBTcbWsSgjbBq1iNDNu4syOQy1Lqr1241wmBrjEb5UIwXX7BzhI1TJghzXcRdPay/To/WJWti\n",
              "aDdUmdKkelHS5qPGOF0snO1YEH9fHKh03hcltMsXXdHQnforZLMjDtQE7nC6eBA7gGIqDBykPb3y\n",
              "7/tqUF3I6w9l459fjbgr4XaHFsMLB0o3BkNwR1YwkDg1aqinLlquw9nhrWI/9wWmLk2mzseNRaPt\n",
              "znDCe/Tf0PXYCJthZHMuTq7O69+/s9P2mEopfhRygCW9WhTTtliy+uHCPfaCYhscUocxX/J4mi5H\n",
              "HN6GPe2//WLW3TOCtpPBTvlIiGMbr0XDoqCbSPPJ+z4FwvafYIPcU+AXUrnHz4A9h6/UbuBRvVF/\n",
              "Z//hm+RGBhg9cNalVNMgfF++BlyImoW5ti84sP4nZkULkjX8tanx8coHi3tKIF6ojXU84etTl/+a\n",
              "0P4PDGwUHffpe9V9fmyunu4QuB7OYRtQKyG9zDPhVJAsTWJsyMB6357+StfemGJ12yj2agelhxYv\n",
              "3UfSvQlud9rFFNvBWFsy2heh1F0lFbWlirpC/cX+slgD25GbWaaWLm81gXIb/Pu53H8ZO5qZQWnY\n",
              "B/hoIT/aMYjuVXyCUXPv0D2qLH6KahF7CrJlnr7LOSJR+JLxvAbB+SNkXyVtnocX3V8ZAbYZVihP\n",
              "XAxHyhNTdtT+HByzJproqLL96gM9nn510C4d637luJNm+ElTJc06gbBIkvbkm9Greq39kAR+DTKZ\n",
              "bJsOFKfI40eLV54eE32rkl7Itg7uArHYez4hv/eDYzyAUpmVgJCAAAAAaEGeQniEfwUz3hfQdMAe\n",
              "hDr4sicbeRwAAt7n4ZGP5OYuUV2FhMYIYauCxB3bwblC3mPaJpvtc+UdRSrj8647b/fmlJhmFDAA\n",
              "E7O5JymTzrMzx7AvsWeRoZVw4y2xcy6rsYUW2H+c0oOzAAAASAGeYXRH/wfilSaabdkhBPWw+yAS\n",
              "WT0cUZ8bhABdkglP6HOUIxVX5bDS3jHhDhgzoAON1xNzmaGyJuN5HPnPeBI36Ndzuc6ChgAAADUB\n",
              "nmNqR/8H6jSmlFzOsHweLv+GbKfZTZHAG+J8bFRadQgALigXBxbN4C/KVm38blW3mZ4VWwAAASJB\n",
              "mmdJqEFomUwIX//+jLCE4nJznwA9kmHayq836UPoC3edLtGAAZZ2dPHtmBrIRKcNnJAWz45AJt/H\n",
              "v6BZOHoq4iEpiabSodW/Coac3hVgtTg1B8kZoYbCzB0+AzITAqdb7pi1s2uD+UjdlLnUyT9beQMh\n",
              "/N1V8b3OQPq/OW5bCrAbl9UfEDWcS2Q7MNT3eDu0gnXxhRApH2BjVBbGm1vvavDQQPPszZY/JA0O\n",
              "pb2UxqEjqNZanGyQXKPNFpMV1mLTS8gvxYJsPtzJsvK1jkkyFNC7El3vkWALO4XGQyH6yiu+BTWW\n",
              "zn1mTOH0RQa4YvorpNbFiu8cDVlveMlYUZZOS6Wx+FuH0Ljl+hZk+AB2cEqOQUZqfeYfpvpEh91s\n",
              "+b16gQAAAEhBnoVFESwj/wVVNWKKNWXs1XFnEt9UIanmwuNUgAceerZSuIFFs6eQRluomdh5vLez\n",
              "gAmbr+zi6GLCbvCO5tjRnBVADDxUNnEAAAAuAZ6makf/BZoGMwfaZ2cuv8J3sxy1C5TN87gAnGgm\n",
              "dAcdrq93BRCfiYgndqJaIQAAATdBmqtJqEFsmUwIX//+jLAD5oyOO7pZcZOih96HqlcAUc0oS4Mw\n",
              "seCNzSv+eCrrOXvKbFpm682bTA1kU1t9Bw3RNs2Sa0daQDCXpJd8Xwmkj4iQe9JMbacj88bVdhif\n",
              "qzrnXDWJkhOWYfXyd5jhJ4oUPOOQKL9CYbPM6UvqIiGIreM4H+DqMesopOeBAN/8HBJqb/x0YYfL\n",
              "Ti1vuN6G6CEPkXyCbfRQZw+Mk27gChSiN759T5sdgItksbtOrvutdvTDZk7uj4DiNPEXENVaiyTL\n",
              "r3xdllcRcTFx7VOeTCo+/+ZkmGZa7ILRwgIHhuWUnin3RvfcBD/2IJIxDnRsDM6uWy5fq9NrfUsG\n",
              "NgHfH6oMa2ECTvbDTWVec4AMg4hhTP6WtPAT5xnKxNwZhFew6fQ3tHV33SHBDQAAADpBnslFFSwj\n",
              "/wMrNQDVR4nqPEwHhs5K79+JwZr+7mU3WkHtwOgWAAfiMhJf/unkrUYbcXOk9GfijvP4AAAALAGe\n",
              "6HRH/wTxjUCq8OKvj8J7Y0R5zg8oALZ1uYE+Y9HkTz+DvxuxYHQEe+JZAAAAHgGe6mpH/wTz5wAx\n",
              "VR65s0gI8WGVJbVaL89XXUtL3gAAAJ1Bmu5JqEFsmUwIX//+jLAA1QcsInKut1wAdAKnQ8wFt7W9\n",
              "emJlvv5IUG4/X/71ycDHH/0dhs1IRQlHhov2D4WMgfoGifWvXLVdV9nf9wia683itl6CfSvslSM2\n",
              "X0OIMr+l+eUbBa5pmUgllSTyeFaHtBbedVI2gV+cuVFT9U4SsLUQYLBWmG2vb/XyYWvCt4YPfboW\n",
              "HO3hXyIKuq88AAAANUGfDEUVLCP/Ays1ANVFVTdn6Qnyu045YgdGeWF5ygEmlcxACWRUmUOopB/p\n",
              "dZJiSYMkyVpNAAAAJQGfLWpH/wTz5wAxVR65s0gI8WL74PRgAtv1o7EDGcEh/MksdqEAAACkQZsx\n",
              "SahBbJlMCFf//jhAACsW2zAFb82MTOwDd6wIQj67wufCy5t4LwLZruUr6AM7oamuLWYjU/itifPx\n",
              "ByCTM6QuA9/UsvCjx0zzomVjBvkuy9uhBmMNRoS9TouRMYlqFIFkfZba7IsZ9n6zo4bNNl7cy2PX\n",
              "SWhcumpD0wcRNS/sI8QK8zUOaqWdUyGSH8XsnsUQ/x9Lr1mrcifusNp+fdmbDLEAAAA0QZ9PRRUs\n",
              "I/8DKzUA1UVVN2fpCfK7TjliB0Z5YXnKAjyoopVfwAbl/rZGsD2DPcUwBw8xgAAAACMBn3BqR/8E\n",
              "8+cAMVUeubNICPFl1yxUaAASlXXgmDhYkpiJgAAAAEdBm3NJqEFsmUwUTCv//jhAACsXvCgEHnyV\n",
              "roSrgei9d27IXvb8hMCzZ4KVHSUXD4CvDo7HUKZR9d5kZgKD2Q3yewv7H7hNgQAAAC4Bn5JqR/8E\n",
              "9PpVGqqqYCBOflvuv1GZRya+i4COQmOaACR+sDp2/l6FUY5oGY1IAAAAJEGblEnhClJlMCF//oyw\n",
              "AAsjYSBlY5hgB0AqeM1+Fh3JHCzP8AAAAHlBm7dJ4Q6JlMCFf/44QABWt2+CgrJgHwxU4x3c9hHm\n",
              "vtMo52F7Feux3kXMdzz26aZVKJj50CaIM5xU+muTHWdhpy7KZ4wD2/GJZrYanEIUIvBy60hTdwZA\n",
              "UUjicA4fd+P/t0t5PXGFGFwRAjpRvcK1ORgRJQ1iGVDBAAAANUGf1UURPCP/Ayra3thiqmGTWSCk\n",
              "rnSYDvB8omwJlxAucEDnsTQAAhsvI7xCrAQJC86oFQZ8AAAAGgGf9mpH/wTz5wAxVR65s0gI8Wut\n",
              "c4GmZgHVAAAATEGb+EmoQWiZTAhf//6MsAAWUcI6WwCa+pQmRwZ4nAjx8Xi+Mb1uz8Z3q/kTfXyX\n",
              "a11ihBq1QUadqrPjh+v0yibtBXruovKzTq1dj4EAAABxQZobSeEKUmUwIX/+jLAALNvj4GsSEVRc\n",
              "JkxeEy/nWa/lnD4mV6KwimdWcoSCyTYjJJzsWg9v8zIbDOTa2anl9WK/r6QI+z9evzjKS7bkbp1J\n",
              "RGrKH0mPgMwxyVrvC/Kz3Xq0VUhFYfYvgWHE33jUhYAAAAA+QZ45RTRMI/8DKtre2GKqYZNZIKSu\n",
              "dJgO8HyibAmXENusv9Qd8eiQQoALqGEt0bMWttTXSgirSvnHnDBAXcEAAAAfAZ5aakf/BPPnADFV\n",
              "HrmzSAjxjBbytlmAC0ANLNhDPgAAADJBml1JqEFomUwU8L/+jLAALJT3ALxAEJMJQVxw31wLovnr\n",
              "VsQxRhMQrUawtfjVu+vhvQAAACgBnnxqR/8E9PpVGqqqYCBOflvuv1GZRya+i4U9zgml4AIwGr9B\n",
              "6gVNAAAAZ0Gaf0nhClJlMFLDP/6eEAAsNE0cBQGqcJbwUMmW0d5KkCVQt99afE9mLNMYX+A8hTFG\n",
              "tAx+2PWgZvd3FtkoHFqcNxC6BjsJL1IkGKFegTba/nRBz1r209AZ1resWOlR78c3W818PyAAAAAW\n",
              "AZ6eakf/AHFCeI+tgMSqa08u9W5wVwAAAGZBmoNJ4Q6JlMCGf/6eEAArLHHzdtgEI9Rujgzvzwfj\n",
              "lwSMyJOtHyHyDd7VYl7oQHHpjXNP5YNrR8TGH/ED1qbqKAsJXc0ZteASbOBvq7F+RGcMIM3fx4bG\n",
              "daXC6O9v5IG1oJDyYUEAAAAlQZ6hRRU8I/8BGlFXHLkTcc4Vkaq/gC1R5Jy0C4aFB90Ft4hvCwAA\n",
              "ABwBnsB0R/8BxIqXk7V8IbcAC4rIdgjwy/dkkvdnAAAAEQGewmpH/wHFgC/4SJG9OoLuAAAAVkGa\n",
              "x0moQWiZTAhf//6MsABUsu7YArVAzJ8ZX6XZC+X9D33tbLGYUgndI3PrrJd0tbWYbSSOWqpVdcEX\n",
              "0Gjrlhb9BKY+KOKHqFCMC15f3XKy8QoHtRGxAAAAKUGe5UURLCP/AR4qOYEcm5NN8uoq22pLoE7u\n",
              "KKhAAtUnIXB+AnJBeH5BAAAAGQGfBHRH/wHEipeTtVuWGgAt4jwM9j8eBd0AAAAVAZ8Gakf/AcWA\n",
              "L/hNfrDWbNYcG835AAAAPkGbC0moQWyZTAhf//6MsABUst0QBEpUorF8R3CUimiVDh4sgkhsviMU\n",
              "u4K6Vm/3HlG3xlNz7TRcb8/eeDpgAAAAIEGfKUUVLCP/AR4qOYEcm5NN8uoq22pLnIsQYJQgYSpg\n",
              "AAAAEQGfSHRH/wHEipeTvUBslSQdAAAAGwGfSmpH/wHFgC/4TX7iXIREdAC1d5epTqBCTgAAAFJB\n",
              "m09JqEFsmUwIX//+jLAAVLHbYAhHhQ2+VnwGl/y85QeVfDJbS2HR09kLCJcr04+iexUM3ySC+20W\n",
              "q7+NK8pLU4j8Aa8yuzHhOAu155N6pAMaAAAALEGfbUUVLCP/AR4qOYEcm5NN8uoq22pLnJmWAAG3\n",
              "KQQYq8zx7EAAPPLkYXMrAAAAGQGfjHRH/wHEipeTvP17gATq/U7Zm2KU0u8AAAAWAZ+Oakf/AcWA\n",
              "L/hNRjKABMxEI1xk3QAAAEhBm5BJqEFsmUwIX//+jLAAVLXWQAOkenKEC9/tztEpFFmNYVDrOOgo\n",
              "sejyXFM8ZdpuRt0s3364KisIxuxixVZY5+cHVRrmYg4AAABLQZu0SeEKUmUwIX/+jLAAVvO1YS/q\n",
              "UJl1GYYeF9hZ5H+0o70DwOesZCkZBnM96w6u4Bz5KM6ytYoadpLrpb49OYv+4Q/YAJI7FofMAAAA\n",
              "L0Gf0kU0TCP/AR4KklvOPdtnxtYKW2dUXi+pg3iDslzSAE0tLOUSPUHG4DX4Ign5AAAAFAGf8XRH\n",
              "/wHEipeTvUAS531EPE3AAAAAGQGf82pH/wHFgC/4TXaheR0AJphjIKy78TcAAABZQZv4SahBaJlM\n",
              "CF///oywAKlSvIINQApELkltmF+eCUbcwHSD2RyX3dLTv+r81/juJyDcdog3cAA4/jPHTfu0xZzH\n",
              "POsgGFYNRIyKDRhpn78+vPZTk9NUYsEAAAAhQZ4WRREsI/8BHio5gRybk03y6jxAhmBbgAORAC6g\n",
              "dJcQAAAAGQGeNXRH/wHEipeTz7I0vDoAQfQqoT7Qu4EAAAAQAZ43akf/AcWAL/hNOhIybwAAAINB\n",
              "mjxJqEFsmUwIV//+OEACjsb3uaAxYjMKRKT0USe5bogrd/ceLjgcjNK3yLNTFLsrK6YfM4TzjKTN\n",
              "KOsqFsiEEzQrKtT/9UijTddXO8/iz1UHRPH0sCMPqifnpA9Lf1AwdiMZMoXAEBSN6dvpAW1blEr4\n",
              "ooGOmJFHi3/HS/gk5XIb8AAAACpBnlpFFSwj/wEeKjmBHJuTTfLqPH/TNR9b7C0gAhsuzS6hh8ik\n",
              "RnDDdsEAAAAQAZ55dEf/AcSKl5PPW/TDfgAAAB4BnntqR/8BxYAv+FbWWEV5owAC1M+3bku/rK+d\n",
              "EDEAAAAxQZp9SahBbJlMCF///oywAKT9mxD76nCKAL+TzKv/rymcmZIduhYvd+sRLyK6lZGCRwAA\n",
              "ADdBmp5J4QpSZTAhf/6MsABSWiGqyphAF5pRhwqMoODvIPBe4jpczn8nhBM+co/oigLlDDi7KA9o\n",
              "AAAAikGaoknhDomUwIX//oywAFJy8tABGptB+SJWrSVNKs2EtD2irPINXKqyVMKXEevbK8z77PQl\n",
              "M6Hv3x+dFkR6/61Y8OQYKOfuTeSlfEVhNkKnTr6ltt2PF6eOlEJ2QlbuJ6hGuDMZjGLdLNEhWFEQ\n",
              "n7XgtcZf6iYMyvVC1RIUWRswOu1tYpHXkgw5gAAAACxBnsBFETwj/wEeCpJbzj3bZ8bWDDK8O6pB\n",
              "hDfABOoNIi/KCBog4HaKoC/U0QAAABwBnv90R/8BxIqXk7ymSYgA+oNQHJfX9m9bVAxYAAAAEwGe\n",
              "4WpH/wHFgC/4TPmQflplyhcAAABLQZrmSahBaJlMCF///oywAFSxmQAOMYGCA4o/YWZZaIEmZTm9\n",
              "/9zCi7rsWRdFLLUqIwKbGRim+mg22LWjBsj3zI/1YKl5RN5xXwdMAAAAKkGfBEURLCP/AR4qOYEc\n",
              "m5NN8uoq22pLhK3wLF4OjAB8BruScfCPbRXFtQAAABoBnyN0R/8BxIqXk7w4xuAUwAH4VwEK9ucx\n",
              "dwAAABMBnyVqR/8BxYAv+E06YNsM5iThAAAAKUGbJ0moQWyZTAhn//6eEABT8bjgBrpWn/xBO5WC\n",
              "7X5jw4sFvOY2E4JvAAAAQ0GbS0nhClJlMCF//oywAFSzeGAIkNC9gnM4RW/wc9XLr8J4tckP5QkV\n",
              "4h8A6XJYPRkI6aW60a1DM56iA/QdKUFmYQ8AAAAiQZ9pRTRMI/8BHgqSW84922fG1gpbZ1RcK5Z4\n",
              "8ABUphwBYAAAABgBn4h0R/8BxIqXk7z+2UACHsH35Wfex6UAAAAQAZ+Kakf/AcWAL/hMvtqBiwAA\n",
              "ADZBm49JqEFomUwIX//+jLAAVLKdAAirm9AEJlsc7csBHiYU2EC7nOs0n5Q/dt6jQXof038gqYAA\n",
              "AAAgQZ+tRREsI/8BHio5gRybk03y6irbakuHOfgAaeYGwoEAAAASAZ/MdEf/AcSKl5O89c1lqhbR\n",
              "AAAAEAGfzmpH/wHFgC/4TL7agYsAAABeQZvTSahBbJlMCF///oywAFbqCoF9wAHGLxrc9n7BRTnb\n",
              "hIZ/FrdAraVZyii+Onan8kbEtjV+3mIhYMwUe4Obb8sTuHf+PC3mFWm5R2ss5MD1OtpSsJnf41bz\n",
              "howqoAAAACFBn/FFFSwj/wEeKjmBHJuTTfLqKttqS6A+DaUAA5qxGVQAAAAQAZ4QdEf/AcSKl5O8\n",
              "OLUDFwAAABcBnhJqR/8BxYAv+E10ITiPRA7fR8VHdAAAADhBmhRJqEFsmUwIX//+jLAAV1zEGeAB\n",
              "YfUoTDSdWnouIjakIWfuhWPlPAP0PJI8BN50DlXMh8gpIAAAADBBmjdJ4QpSZTAhf/6MsABW2UYv\n",
              "kHkAAsPpJjdg/joz0xXn32w3fWLEFhUL4FOZhB0AAAAmQZ5VRTRMI/8BHgqSW84922fG1gpbZ1Re\n",
              "X4czAAfzO10FyIAAPuAAAAAVAZ52akf/AcWAL/hNcXxaIR9+MIT/AAAALEGae0moQWiZTAhf//6M\n",
              "sABW2iIADvoARj9PRypBh+RgI0jKKwzQAf/Jmg6ZAAAAI0GemUURLCP/AR4qOYEcm5NN8uoq22pL\n",
              "vG/cHlomomQqM3SAAAAAEAGeuHRH/wHEipeTvUC1AtsAAAAQAZ66akf/AcWAL/hNehIyXgAAADlB\n",
              "mr9JqEFsmUwIV//+OEABRq9YAFvB+jeu8mNMegRzroBrQG4+t/+ScJf5vQAfOQaSHRe73RmQy4EA\n",
              "AAAgQZ7dRRUsI/8BHio5gRybk03y6irbaku8UJ4wANwD1Z8AAAAOAZ78dEf/AcSKl5OtwVsAAAAQ\n",
              "AZ7+akf/AcWAL/hM/tqBgQAAACJBmuNJqEFsmUwI//yEABNN/gAEMeAgi9TgSsShu8ypzgpJAAAA\n",
              "IEGfAUUVLCP/AR4qOYEcm5NN8uoq22pLvFIgkAGWBuKaAAAADgGfIHRH/wHEipeTrcFbAAAAEAGf\n",
              "ImpH/wHFgC/4TP7agYEAAAembW9vdgAAAGxtdmhkAAAAAAAAAAAAAAAAAAAD6AAAB9AAAQAAAQAA\n",
              "AAAAAAAAAAAAAAEAAAAAAAAAAAAAAAAAAAABAAAAAAAAAAAAAAAAAABAAAAAAAAAAAAAAAAAAAAA\n",
              "AAAAAAAAAAAAAAAAAAAAAgAABtB0cmFrAAAAXHRraGQAAAADAAAAAAAAAAAAAAABAAAAAAAAB9AA\n",
              "AAAAAAAAAAAAAAAAAAAAAAEAAAAAAAAAAAAAAAAAAAABAAAAAAAAAAAAAAAAAABAAAAAAbAAAAEg\n",
              "AAAAAAAkZWR0cwAAABxlbHN0AAAAAAAAAAEAAAfQAAACAAABAAAAAAZIbWRpYQAAACBtZGhkAAAA\n",
              "AAAAAAAAAAAAAAAyAAAAZABVxAAAAAAALWhkbHIAAAAAAAAAAHZpZGUAAAAAAAAAAAAAAABWaWRl\n",
              "b0hhbmRsZXIAAAAF821pbmYAAAAUdm1oZAAAAAEAAAAAAAAAAAAAACRkaW5mAAAAHGRyZWYAAAAA\n",
              "AAAAAQAAAAx1cmwgAAAAAQAABbNzdGJsAAAAs3N0c2QAAAAAAAAAAQAAAKNhdmMxAAAAAAAAAAEA\n",
              "AAAAAAAAAAAAAAAAAAAAAbABIABIAAAASAAAAAAAAAABAAAAAAAAAAAAAAAAAAAAAAAAAAAAAAAA\n",
              "AAAAAAAAAAAAGP//AAAAMWF2Y0MBZAAe/+EAGGdkAB6s2UGwloQAAAMABAAAAwGQPFi2WAEABmjr\n",
              "48siwAAAABx1dWlka2hA8l8kT8W6OaUbzwMj8wAAAAAAAAAYc3R0cwAAAAAAAAABAAAAZAAAAQAA\n",
              "AAAUc3RzcwAAAAAAAAABAAAAAQAAAvhjdHRzAAAAAAAAAF0AAAABAAACAAAAAAEAAAUAAAAAAQAA\n",
              "AgAAAAABAAAAAAAAAAEAAAEAAAAAAQAABAAAAAACAAABAAAAAAEAAAUAAAAAAQAAAgAAAAABAAAA\n",
              "AAAAAAEAAAEAAAAAAQAABAAAAAACAAABAAAAAAEAAAQAAAAAAgAAAQAAAAABAAADAAAAAAEAAAEA\n",
              "AAAAAQAAAgAAAAABAAAEAAAAAAIAAAEAAAAAAQAAAgAAAAABAAAEAAAAAAIAAAEAAAAAAQAAAwAA\n",
              "AAABAAABAAAAAAEAAAMAAAAAAQAAAQAAAAABAAAFAAAAAAEAAAIAAAAAAQAAAAAAAAABAAABAAAA\n",
              "AAEAAAUAAAAAAQAAAgAAAAABAAAAAAAAAAEAAAEAAAAAAQAABQAAAAABAAACAAAAAAEAAAAAAAAA\n",
              "AQAAAQAAAAABAAAFAAAAAAEAAAIAAAAAAQAAAAAAAAABAAABAAAAAAEAAAIAAAAAAQAABQAAAAAB\n",
              "AAACAAAAAAEAAAAAAAAAAQAAAQAAAAABAAAFAAAAAAEAAAIAAAAAAQAAAAAAAAABAAABAAAAAAEA\n",
              "AAUAAAAAAQAAAgAAAAABAAAAAAAAAAEAAAEAAAAAAgAAAgAAAAABAAAFAAAAAAEAAAIAAAAAAQAA\n",
              "AAAAAAABAAABAAAAAAEAAAUAAAAAAQAAAgAAAAABAAAAAAAAAAEAAAEAAAAAAQAAAgAAAAABAAAF\n",
              "AAAAAAEAAAIAAAAAAQAAAAAAAAABAAABAAAAAAEAAAUAAAAAAQAAAgAAAAABAAAAAAAAAAEAAAEA\n",
              "AAAAAQAABQAAAAABAAACAAAAAAEAAAAAAAAAAQAAAQAAAAABAAACAAAAAAEAAAQAAAAAAgAAAQAA\n",
              "AAABAAAFAAAAAAEAAAIAAAAAAQAAAAAAAAABAAABAAAAAAEAAAUAAAAAAQAAAgAAAAABAAAAAAAA\n",
              "AAEAAAEAAAAAAQAABQAAAAABAAACAAAAAAEAAAAAAAAAAQAAAQAAAAAcc3RzYwAAAAAAAAABAAAA\n",
              "AQAAAGQAAAABAAABpHN0c3oAAAAAAAAAAAAAAGQAADUKAAADuAAAAGwAAABMAAAAOQAAASYAAABM\n",
              "AAAAMgAAATsAAAA+AAAAMAAAACIAAAChAAAAOQAAACkAAACoAAAAOAAAACcAAABLAAAAMgAAACgA\n",
              "AAB9AAAAOQAAAB4AAABQAAAAdQAAAEIAAAAjAAAANgAAACwAAABrAAAAGgAAAGoAAAApAAAAIAAA\n",
              "ABUAAABaAAAALQAAAB0AAAAZAAAAQgAAACQAAAAVAAAAHwAAAFYAAAAwAAAAHQAAABoAAABMAAAA\n",
              "TwAAADMAAAAYAAAAHQAAAF0AAAAlAAAAHQAAABQAAACHAAAALgAAABQAAAAiAAAANQAAADsAAACO\n",
              "AAAAMAAAACAAAAAXAAAATwAAAC4AAAAeAAAAFwAAAC0AAABHAAAAJgAAABwAAAAUAAAAOgAAACQA\n",
              "AAAWAAAAFAAAAGIAAAAlAAAAFAAAABsAAAA8AAAANAAAACoAAAAZAAAAMAAAACcAAAAUAAAAFAAA\n",
              "AD0AAAAkAAAAEgAAABQAAAAmAAAAJAAAABIAAAAUAAAAFHN0Y28AAAAAAAAAAQAAACwAAABidWR0\n",
              "YQAAAFptZXRhAAAAAAAAACFoZGxyAAAAAAAAAABtZGlyYXBwbAAAAAAAAAAAAAAAAC1pbHN0AAAA\n",
              "Jal0b28AAAAdZGF0YQAAAAEAAAAATGF2ZjU3LjgzLjEwMA==\n",
              "\">\n",
              "  Your browser does not support the video tag.\n",
              "</video>"
            ]
          },
          "metadata": {
            "tags": []
          }
        }
      ]
    }
  ]
}