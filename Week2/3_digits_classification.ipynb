{
  "nbformat": 4,
  "nbformat_minor": 0,
  "metadata": {
    "colab": {
      "name": "3-digits_classification.ipynb",
      "version": "0.3.2",
      "provenance": [],
      "collapsed_sections": [],
      "include_colab_link": true
    },
    "language_info": {
      "codemirror_mode": {
        "name": "ipython",
        "version": 3
      },
      "file_extension": ".py",
      "mimetype": "text/x-python",
      "name": "python",
      "nbconvert_exporter": "python",
      "pygments_lexer": "ipython3",
      "version": "3.6.5"
    },
    "kernelspec": {
      "display_name": "Python 3",
      "language": "python",
      "name": "python3"
    }
  },
  "cells": [
    {
      "cell_type": "markdown",
      "metadata": {
        "id": "view-in-github",
        "colab_type": "text"
      },
      "source": [
        "<a href=\"https://colab.research.google.com/github/nk2000/HSE_AML_Class1/blob/master/Week2/3_digits_classification.ipynb\" target=\"_parent\"><img src=\"https://colab.research.google.com/assets/colab-badge.svg\" alt=\"Open In Colab\"/></a>"
      ]
    },
    {
      "metadata": {
        "id": "LG7iaXhr0zn4",
        "colab_type": "code",
        "outputId": "0559d1ef-d06e-4916-800c-d824b2d19fda",
        "colab": {
          "base_uri": "https://localhost:8080/",
          "height": 34
        }
      },
      "cell_type": "code",
      "source": [
        "from google.colab import drive\n",
        "drive.mount('/content/drive/')\n",
        "import os\n",
        "os.chdir(\"/content/drive/My Drive/HSE_AML/intro-to-dl/week2/v2\")"
      ],
      "execution_count": 1,
      "outputs": [
        {
          "output_type": "stream",
          "text": [
            "Drive already mounted at /content/drive/; to attempt to forcibly remount, call drive.mount(\"/content/drive/\", force_remount=True).\n"
          ],
          "name": "stdout"
        }
      ]
    },
    {
      "metadata": {
        "id": "zOt-Csgq0yWM",
        "colab_type": "text"
      },
      "cell_type": "markdown",
      "source": [
        "# MNIST digits classification with TensorFlow"
      ]
    },
    {
      "metadata": {
        "id": "JdGAXSaN0yWP",
        "colab_type": "text"
      },
      "cell_type": "markdown",
      "source": [
        "<img src=\"images/mnist_sample.png\" style=\"width:30%\">"
      ]
    },
    {
      "metadata": {
        "id": "C-FG8YRk0yWR",
        "colab_type": "code",
        "outputId": "e91140a0-e083-4ac3-92e3-007dfe23d48d",
        "colab": {
          "base_uri": "https://localhost:8080/",
          "height": 51
        }
      },
      "cell_type": "code",
      "source": [
        "import numpy as np\n",
        "from sklearn.metrics import accuracy_score\n",
        "from matplotlib import pyplot as plt\n",
        "%matplotlib inline\n",
        "import tensorflow as tf\n",
        "print(\"We're using TF\", tf.__version__)\n",
        "\n",
        "import sys\n",
        "sys.path.append(\"../..\")\n",
        "import grading\n",
        "\n",
        "import matplotlib_utils\n",
        "from importlib import reload\n",
        "reload(matplotlib_utils)\n",
        "\n",
        "import grading_utils\n",
        "reload(grading_utils)\n",
        "\n",
        "import keras_utils\n",
        "from keras_utils import reset_tf_session"
      ],
      "execution_count": 2,
      "outputs": [
        {
          "output_type": "stream",
          "text": [
            "We're using TF 1.13.1\n"
          ],
          "name": "stdout"
        },
        {
          "output_type": "stream",
          "text": [
            "Using TensorFlow backend.\n"
          ],
          "name": "stderr"
        }
      ]
    },
    {
      "metadata": {
        "id": "4sA1kk7R0yWY",
        "colab_type": "text"
      },
      "cell_type": "markdown",
      "source": [
        "# Fill in your Coursera token and email\n",
        "To successfully submit your answers to our grader, please fill in your Coursera submission token and email"
      ]
    },
    {
      "metadata": {
        "id": "SsmCrSel0yWa",
        "colab_type": "code",
        "colab": {}
      },
      "cell_type": "code",
      "source": [
        "grader = grading.Grader(assignment_key=\"XtD7ho3TEeiHQBLWejjYAA\", \n",
        "                        all_parts=[\"9XaAS\", \"vmogZ\", \"RMv95\", \"i8bgs\", \"rE763\"])"
      ],
      "execution_count": 0,
      "outputs": []
    },
    {
      "metadata": {
        "id": "9yMu0o3A0yWe",
        "colab_type": "code",
        "colab": {}
      },
      "cell_type": "code",
      "source": [
        "# token expires every 30 min\n",
        "COURSERA_TOKEN = \"E7DEzGtoleZpYUEV\"\n",
        "COURSERA_EMAIL = \"niukai1995@gmail.com\""
      ],
      "execution_count": 0,
      "outputs": []
    },
    {
      "metadata": {
        "id": "MbTasCkB0yWl",
        "colab_type": "text"
      },
      "cell_type": "markdown",
      "source": [
        "# Look at the data\n",
        "\n",
        "In this task we have 50000 28x28 images of digits from 0 to 9.\n",
        "We will train a classifier on this data."
      ]
    },
    {
      "metadata": {
        "id": "cCtiDQAX0yWn",
        "colab_type": "code",
        "colab": {}
      },
      "cell_type": "code",
      "source": [
        "import preprocessed_mnist\n",
        "X_train, y_train, X_val, y_val, X_test, y_test = preprocessed_mnist.load_dataset()"
      ],
      "execution_count": 0,
      "outputs": []
    },
    {
      "metadata": {
        "id": "F3aXoDfc0yWr",
        "colab_type": "code",
        "outputId": "9c1c6700-7600-49db-feb6-c5725a4fc683",
        "colab": {
          "base_uri": "https://localhost:8080/",
          "height": 691
        }
      },
      "cell_type": "code",
      "source": [
        "# X contains rgb values divided by 255\n",
        "print(\"X_train [shape %s] sample patch:\\n\" % (str(X_train.shape)), X_train[1, 15:20, 5:10])\n",
        "print(\"A closeup of a sample patch:\")\n",
        "plt.imshow(X_train[1, 15:20, 5:10], cmap=\"Greys\")\n",
        "plt.show()\n",
        "print(\"And the whole sample:\")\n",
        "plt.imshow(X_train[1], cmap=\"Greys\")\n",
        "plt.show()\n",
        "print(\"y_train [shape %s] 10 samples:\\n\" % (str(y_train.shape)), y_train[:10])"
      ],
      "execution_count": 6,
      "outputs": [
        {
          "output_type": "stream",
          "text": [
            "X_train [shape (50000, 28, 28)] sample patch:\n",
            " [[0.         0.29803922 0.96470588 0.98823529 0.43921569]\n",
            " [0.         0.33333333 0.98823529 0.90196078 0.09803922]\n",
            " [0.         0.33333333 0.98823529 0.8745098  0.        ]\n",
            " [0.         0.33333333 0.98823529 0.56862745 0.        ]\n",
            " [0.         0.3372549  0.99215686 0.88235294 0.        ]]\n",
            "A closeup of a sample patch:\n"
          ],
          "name": "stdout"
        },
        {
          "output_type": "display_data",
          "data": {
            "image/png": "[encoded data removed]",
            "text/plain": [
              "<Figure size 432x288 with 1 Axes>"
            ]
          },
          "metadata": {
            "tags": []
          }
        },
        {
          "output_type": "stream",
          "text": [
            "And the whole sample:\n"
          ],
          "name": "stdout"
        },
        {
          "output_type": "display_data",
          "data": {
            "image/png": "[encoded data removed]",
            "text/plain": [
              "<Figure size 432x288 with 1 Axes>"
            ]
          },
          "metadata": {
            "tags": []
          }
        },
        {
          "output_type": "stream",
          "text": [
            "y_train [shape (50000,)] 10 samples:\n",
            " [5 0 4 1 9 2 1 3 1 4]\n"
          ],
          "name": "stdout"
        }
      ]
    },
    {
      "metadata": {
        "id": "gLmmTAsP0yWw",
        "colab_type": "text"
      },
      "cell_type": "markdown",
      "source": [
        "# Linear model\n",
        "\n",
        "Your task is to train a linear classifier $\\vec{x} \\rightarrow y$ with SGD using TensorFlow.\n",
        "\n",
        "You will need to calculate a logit (a linear transformation) $z_k$ for each class: \n",
        "$$z_k = \\vec{x} \\cdot \\vec{w_k} + b_k \\quad k = 0..9$$\n",
        "\n",
        "And transform logits $z_k$ to valid probabilities $p_k$ with softmax: \n",
        "$$p_k = \\frac{e^{z_k}}{\\sum_{i=0}^{9}{e^{z_i}}} \\quad k = 0..9$$\n",
        "\n",
        "We will use a cross-entropy loss to train our multi-class classifier:\n",
        "$$\\text{cross-entropy}(y, p) = -\\sum_{k=0}^{9}{\\log(p_k)[y = k]}$$ \n",
        "\n",
        "where \n",
        "$$\n",
        "[x]=\\begin{cases}\n",
        "       1, \\quad \\text{if $x$ is true} \\\\\n",
        "       0, \\quad \\text{otherwise}\n",
        "    \\end{cases}\n",
        "$$\n",
        "\n",
        "Cross-entropy minimization pushes $p_k$ close to 1 when $y = k$, which is what we want.\n",
        "\n",
        "Here's the plan:\n",
        "* Flatten the images (28x28 -> 784) with `X_train.reshape((X_train.shape[0], -1))` to simplify our linear model implementation\n",
        "* Use a matrix placeholder for flattened `X_train`\n",
        "* Convert `y_train` to one-hot encoded vectors that are needed for cross-entropy\n",
        "* Use a shared variable `W` for all weights (a column $\\vec{w_k}$ per class) and `b` for all biases.\n",
        "* Aim for ~0.93 validation accuracy"
      ]
    },
    {
      "metadata": {
        "id": "61R37uqX0yWy",
        "colab_type": "code",
        "outputId": "8a788704-fbf4-4d3b-e807-83478ae6864e",
        "colab": {
          "base_uri": "https://localhost:8080/",
          "height": 51
        }
      },
      "cell_type": "code",
      "source": [
        "X_train_flat = X_train.reshape((X_train.shape[0], -1))\n",
        "print(X_train_flat.shape)\n",
        "\n",
        "X_val_flat = X_val.reshape((X_val.shape[0], -1))\n",
        "print(X_val_flat.shape)"
      ],
      "execution_count": 7,
      "outputs": [
        {
          "output_type": "stream",
          "text": [
            "(50000, 784)\n",
            "(10000, 784)\n"
          ],
          "name": "stdout"
        }
      ]
    },
    {
      "metadata": {
        "id": "pa97Uarx0yW3",
        "colab_type": "code",
        "outputId": "aa3dad92-a37c-4624-8eb5-decf61cffdab",
        "colab": {
          "base_uri": "https://localhost:8080/",
          "height": 85
        }
      },
      "cell_type": "code",
      "source": [
        "import keras\n",
        "\n",
        "y_train_oh = keras.utils.to_categorical(y_train, 10)\n",
        "y_val_oh = keras.utils.to_categorical(y_val, 10)\n",
        "\n",
        "print(y_train_oh.shape)\n",
        "print(y_train_oh[:3], y_train[:3])"
      ],
      "execution_count": 8,
      "outputs": [
        {
          "output_type": "stream",
          "text": [
            "(50000, 10)\n",
            "[[0. 0. 0. 0. 0. 1. 0. 0. 0. 0.]\n",
            " [1. 0. 0. 0. 0. 0. 0. 0. 0. 0.]\n",
            " [0. 0. 0. 0. 1. 0. 0. 0. 0. 0.]] [5 0 4]\n"
          ],
          "name": "stdout"
        }
      ]
    },
    {
      "metadata": {
        "id": "B5T0LKHV0yW8",
        "colab_type": "code",
        "colab": {}
      },
      "cell_type": "code",
      "source": [
        "# run this again if you remake your graph\n",
        "s = reset_tf_session()"
      ],
      "execution_count": 0,
      "outputs": []
    },
    {
      "metadata": {
        "id": "CvfQYHcE0yXG",
        "colab_type": "code",
        "colab": {
          "base_uri": "https://localhost:8080/",
          "height": 88
        },
        "outputId": "b18bc414-8c7c-4e49-d023-860bb97bd2d9"
      },
      "cell_type": "code",
      "source": [
        "# Model parameters: W and b\n",
        "W = tf.get_variable(name='W',dtype=tf.float32,shape=(784,10))### YOUR CODE HERE ### tf.get_variable(...) with shape[0] = 784\n",
        "b = tf.get_variable(name='b',dtype=tf.float32,shape=(10))### YOUR CODE HERE ### tf.get_variable(...)"
      ],
      "execution_count": 11,
      "outputs": [
        {
          "output_type": "stream",
          "text": [
            "WARNING:tensorflow:From /usr/local/lib/python3.6/dist-packages/tensorflow/python/framework/op_def_library.py:263: colocate_with (from tensorflow.python.framework.ops) is deprecated and will be removed in a future version.\n",
            "Instructions for updating:\n",
            "Colocations handled automatically by placer.\n"
          ],
          "name": "stdout"
        }
      ]
    },
    {
      "metadata": {
        "id": "wtoh7LA40yXP",
        "colab_type": "code",
        "colab": {}
      },
      "cell_type": "code",
      "source": [
        "# Placeholders for the input data\n",
        "input_X = tf.placeholder(dtype=tf.float32,shape=(None,784),name='input_x') ### YOUR CODE HERE ### tf.placeholder(...) for flat X with shape[0] = None for any batch size\n",
        "input_y = tf.placeholder(dtype=tf.int32,shape=(None,10),name='input_y') ### YOUR CODE HERE ### tf.placeholder(...) for one-hot encoded true labels"
      ],
      "execution_count": 0,
      "outputs": []
    },
    {
      "metadata": {
        "id": "yuvESUxc0yXZ",
        "colab_type": "code",
        "colab": {}
      },
      "cell_type": "code",
      "source": [
        "# Compute predictions\n",
        "logits = tf.matmul(input_X,W) + b ### YOUR CODE HERE ### logits for input_X, resulting shape should be [input_X.shape[0], 10]\n",
        "probas = tf.nn.softmax(logits)### YOUR CODE HERE ### apply tf.nn.softmax to logits\n",
        "classes = tf.argmax(probas,axis=1)### YOUR CODE HERE ### apply tf.argmax to find a class index with highest probability\n",
        "\n",
        "# Loss should be a scalar number: average loss over all the objects with tf.reduce_mean().\n",
        "# Use tf.nn.softmax_cross_entropy_with_logits on top of one-hot encoded input_y and logits.\n",
        "# It is identical to calculating cross-entropy on top of probas, but is more numerically friendly (read the docs).\n",
        "loss = tf.reduce_mean(tf.nn.softmax_cross_entropy_with_logits(labels=input_y,logits=logits))### YOUR CODE HERE ### cross-entropy loss\n",
        "\n",
        "# Use a default tf.train.AdamOptimizer to get an SGD step\n",
        "step = tf.train.AdamOptimizer().minimize(loss)### YOUR CODE HERE ### optimizer step that minimizes the loss"
      ],
      "execution_count": 0,
      "outputs": []
    },
    {
      "metadata": {
        "scrolled": false,
        "id": "9C9yN0Zy0yXk",
        "colab_type": "code",
        "colab": {
          "base_uri": "https://localhost:8080/",
          "height": 309
        },
        "outputId": "c510e273-aba3-4ced-f3da-20451ad24e93"
      },
      "cell_type": "code",
      "source": [
        "s.run(tf.global_variables_initializer())\n",
        "\n",
        "BATCH_SIZE = 512\n",
        "EPOCHS = 40\n",
        "\n",
        "# for logging the progress right here in Jupyter (for those who don't have TensorBoard)\n",
        "simpleTrainingCurves = matplotlib_utils.SimpleTrainingCurves(\"cross-entropy\", \"accuracy\")\n",
        "\n",
        "for epoch in range(EPOCHS):  # we finish an epoch when we've looked at all training samples\n",
        "    \n",
        "    batch_losses = []\n",
        "    for batch_start in range(0, X_train_flat.shape[0], BATCH_SIZE):  # data is already shuffled\n",
        "        _, batch_loss = s.run([step, loss], {input_X: X_train_flat[batch_start:batch_start+BATCH_SIZE], \n",
        "                                             input_y: y_train_oh[batch_start:batch_start+BATCH_SIZE]})\n",
        "        # collect batch losses, this is almost free as we need a forward pass for backprop anyway\n",
        "        batch_losses.append(batch_loss)\n",
        "\n",
        "    train_loss = np.mean(batch_losses)\n",
        "    val_loss = s.run(loss, {input_X: X_val_flat, input_y: y_val_oh})  # this part is usually small\n",
        "    print(val_loss)\n",
        "    train_accuracy = accuracy_score(y_train, s.run(classes, {input_X: X_train_flat}))  # this is slow and usually skipped\n",
        "    valid_accuracy = accuracy_score(y_val, s.run(classes, {input_X: X_val_flat}))  \n",
        "    simpleTrainingCurves.add(train_loss, val_loss, train_accuracy, valid_accuracy)"
      ],
      "execution_count": 27,
      "outputs": [
        {
          "output_type": "display_data",
          "data": {
            "text/html": [
              "<img src=\"data:image/jpeg;base64,/9j/4AAQSkZJRgABAQEASABIAAD/2wBDAAIBAQEBAQIBAQECAgICAgQDAgICAgUEBAMEBgUGBgYFBgYGBwkIBgcJBwYGCAsICQoKCgoKBggLDAsKDAkKCgr/2wBDAQICAgICAgUDAwUKBwYHCgoKCgoKCgoKCgoKCgoKCgoKCgoKCgoKCgoKCgoKCgoKCgoKCgoKCgoKCgoKCgoKCgr/wAARCAEgA2ADASIAAhEBAxEB/8QAHwAAAQUBAQEBAQEAAAAAAAAAAAECAwQFBgcICQoL/8QAtRAAAgEDAwIEAwUFBAQAAAF9AQIDAAQRBRIhMUEGE1FhByJxFDKBkaEII0KxwRVS0fAkM2JyggkKFhcYGRolJicoKSo0NTY3ODk6Q0RFRkdISUpTVFVWV1hZWmNkZWZnaGlqc3R1dnd4eXqDhIWGh4iJipKTlJWWl5iZmqKjpKWmp6ipqrKztLW2t7i5usLDxMXGx8jJytLT1NXW19jZ2uHi4%2BTl5ufo6erx8vP09fb3%2BPn6/8QAHwEAAwEBAQEBAQEBAQAAAAAAAAECAwQFBgcICQoL/8QAtREAAgECBAQDBAcFBAQAAQJ3AAECAxEEBSExBhJBUQdhcRMiMoEIFEKRobHBCSMzUvAVYnLRChYkNOEl8RcYGRomJygpKjU2Nzg5OkNERUZHSElKU1RVVldYWVpjZGVmZ2hpanN0dXZ3eHl6goOEhYaHiImKkpOUlZaXmJmaoqOkpaanqKmqsrO0tba3uLm6wsPExcbHyMnK0tPU1dbX2Nna4uPk5ebn6Onq8vP09fb3%2BPn6/9oADAMBAAIRAxEAPwD9/KKKKACiiigAooooAKKKKACiiigAooooAKKKKACiiigAooooAKKKKACiiigAooooAKKKKACiiigAooooAKKKKACiiigAooooAKKKKACiiigAooooAKKKKACiiigAooooAKKKKACiiigAooooAKKKKACiiigAooooAKKKKACiiigAooooAKKKKACiiigAooooAKKKKACiiigAooooAKKKKACiiigAooooAKKKKACiiigAooooAKKKKACiiigAooooAKKKKACiiigAooooAKKKKACiiigAooooAKKKKACiiigAooooAKKKKACiiigAooooAKKKKACiiigAooooAKKKKACiiigAooooAKKKKACvPfjt%2B1J8FP2b5NGsfil4g1Maj4ilnTQNB8OeF9R1zVNR8lVed4bHTbee5kjiVkMkixlI96biu5c%2BhV4N%2B0P8D/j5/wANJ%2BDv2tv2bLLwfrWueH/B2seFNX8KeOdcutLtLywv7mwuxcQXtraXj288U2noCpt3WVJSCUKK1ABpf/BTL9izWLvxPb2nxXv0h8FWsk/jLUrvwXrEFjoIS0iu9l5dy2iwWsrQzRskMjrJIWKorMrKL2n/APBQ/wDZK1HwBrXxFTx/q9vB4f1ay0vVdE1DwNrNrrkV5ebfscC6PNaLqEr3AYGER27eaAxTcFYjy2b9gH4y%2BMf2a/jn8NfGHinwppHin4o/FS38daHc6U1xeWFpeW0OiywQ3IkihkkiN3pRRwoyYHGDuJVaPi79i/8AaV%2BLmr/Ef45fG34S/CjWvFnjWx8KaPp/gKy%2BI2s2Wm6fY6Hcaldw3qa7b6al5DqDXOqTOksVoPJSKNFZiWcgHsviH9vv9mzwv4a8OeI9XvvG3meK0v5NE8P2vwm8SXGuSRWUscV3NJpMWntf28MLzQq8s0CIpmiy37xM%2Bmaz8RPBHhv4e3XxX8T%2BJbbSvDljo76rf6vqrfZYbSySIzPPMZdvlKsYLNvxtAOcYNfGHin9hH9s/WPgX4X8Nay3hfxV470a58RHRfGV/wDHbxNpGr%2BCLW%2BuUktLO11q1sJLzXIYkjhEy3qw/aTbReYCFGPUfjR/wTotfj1%2Bzb4n%2BHHxD%2BOfjW78d%2BMPhfH4Z17xS3jbWho818tpDE2oJoS3y2FuzzQLK3kRRSEPIBIrSM5AOkg/4KUfsZf8K58V/FbWPite6Jo3giysr7xQ/ifwdq%2Bk3NlZXkxhtb37LeWsVxJaSyK6pcxxtC3luQ%2BEYjj/AI3f8FZP2d/hn8ENU%2BMfgPRfFXiqbQfiD4X8L674Y/4QXXbHU7A6zqVrax3T2cmnNdeV5Fw88DeT5d48aW8MhknjB8r1T/gmJ8ZPHfwq8faR4i8DeG9G8Y%2BI9D0fR7DxDqv7RfjPxut3aWusW%2BoTRyf27AfsEZ8likUSzHe%2BGkxknv8A9qH9gz40/GD4g/F/4g%2BBfEPheOTxfB8LbzwlZ6tfXMSvf%2BE/EdzrUsN40dvJ5ENwGt4VljEzrl2MfyKrgHqFh/wUE/Zb1H4m2XwZh8T%2BJo/Fd5oun6xLoF38N9egudO0%2B9adILu/SSyU6dDut5VeS68pYiFEhQum6j4a/wCCmH7FPi3wZ4s%2BIWkfGC4TR/Bfgi68Zaxe6h4S1W0Fx4et0Z5tWsVntUbVLNVQ4nsxPGxZArEugbB0P9kP4ofEP4mfG74g/G9fD2gxfGj4O%2BHfCF1Y%2BE9duNRl0u4tE11Ltlnns7XzYwNViMT7FZikm6OPA3fN37Y37Kn7UOj/ALDHxS%2BJv7TF34AtIfhD%2BxT8QfBHhePwFqF5cNrzXukWxn1G6W5toBYqE0i3CWcbXAVppCZ22oKAPrPw9/wUl/Yy8TaHrHiPT/i1dQWehppU1/JqnhLVbJmtNSu1s7HUIUuLVGubCWdgovoQ9qoDO0qorMPT9E%2BLvw88R/FLX/gvofiH7T4k8LaXp%2Boa/YR2k22zgvmuBa7pinlF3%2ByzHy1cyKoRmVVkjLfJOofsz%2BIPFegeKfjb/wAFIvF/wz8J%2BBbf9nu5%2BHUlx4f8QTLay6beyQyXmq3k17BbpYOTBbCG2QzCAmT/AEiQsuOw/wCCPngP4u2f7I9r8f8A9pDUDf8AxJ%2BL15H4n8V6g9nJbtJCLSCy01fKl%2BeH/iX2lpI0TYKSzTZAYtkA%2BqqKKKACiiigAooooAKKKKACiiigAooooAKKKKACiiigAooooAKKKKACiiigAooooAKKKKACiiigAooooAKKKKACiiigAooooAK8R0j/AIKMfse6ld69Z6n8Urzw83hzw5c%2BINQk8a%2BEdV0GObSbd0jnv7WTUrWBb63R5IlaW2MqAyxjOXXPtN7FczWcsNndCCZ4mWKYx7/LYjhtp64POO9fmJq//BHL9uX4v6t4X1z43fHHQ31vw14P1Cz1DxRqHxW8TeJx4h1v7ZpV9a6idLvoobLSbaS50xfPsLIBRHJtWWQKgUA%2B2X/b/wD2YbX4aN8WNY8QeKtK0ttcg0axs9c%2BGWv2GqanfzIZIYLLTbixS9v2kQM6/Z4ZAyo7AkIxHReA/wBqz4H/ABH1%2By8J%2BHPEOqQ6vf8AhSfxJDpGteFdS0y7TTYbv7JLLLDeW8UkDrP8hhkVZe%2BzbzXk3xO%2BDn7bvxib4e/G3XPBvwq0P4h/Cjx1NrHh/wAM2vjjUr/Rdcs7jSbvTLmO4vn0qGaxmKXskkbpa3AjMQU%2BYJGxV%2BJPwG/bg1/4y%2BHf2mvA%2BjfCu08WX3ww1XwX4x0LUvFepSWGkLcX8N1a39lcJpwk1AxCN1kt5YrQSlxiWLHIB3Gk/wDBRv8AZA8R694F8LeFfiNqus6n8SfBuleLfBunaJ4H1m9nvND1F9lrqMiQWjNa2%2B7HmSTiNbcMpm8oMCdj4a/tufs3fFf4jXPwn8M%2BL9Ws9ft9LudThsvE/gzVtEW/sbeRI57uyl1G1gjv4I3liDy2zSIvmISQGUnyj9hT9hL4sfsw6/8ADjWfHniDw1dnwd%2Byl4R%2BGN%2B%2BkXM8rNq2lvM1zNF5kEe61bemxmKu235o0wK8a%2BGn/BKv9sbxP8UfC/ib9qb4w2eqRaf4A8V%2BF/GniaD4v%2BJNavPEUur2KW39p2umX0Men6EcqWNpaKUXKgTOI1WgD6l8J/8ABRf9kfxrosfirQfHeuf2Hcarpen6f4lvfh/rdrpWoy6lex2VlJaX09mlteQS3M0UYuIJHhBlQs4VgT6X4W%2BLvw88a/EDxT8LvC/iH7XrnguSzj8T2iWkwWxkuoPtEEZlZBG7tCVkKIzMiyRlgokTd8w%2BOPAnxF8K/wDBPbxp8CP%2BChnif4VeCPAWg/DSLQLb4meHfFt2GadI0trXUntLqzgTTZlmFvJDBHcXTGcoiOTtDdr/AMEr/h98WPDf7ImlfFX9oqwS3%2BJ3xYvpfHXxEhW3aL7Pf36xmG02N8yfZbGOys9pyQLXBoA%2BjaKKKACiiigAooooAKKKKACiiigAooooAKKKKACiiigAooooAKKKKACiiigAooooAKKKKACiiigAooooAKKKKACiiigAooooAKKKKACvF/j14/8A2i/%2BGi/AvwI%2BAvjPwV4fTX/BXiXXtX1Pxf4Lu9aJOnXeh28MMMdvqVj5Yb%2B1JWZmZ8%2BWgAXkn2ivCviNraWX/BSv4QaJIo/074KfEMo3fdHq3g04/IsfwpNpblwhKo7R7N/crsv/APCD/wDBQv8A6Og%2BDP8A4YfVv/moo/4Qf/goX/0dB8Gf/DD6t/8ANRXs1FMg8Z/4Qf8A4KF/9HQfBn/ww%2Brf/NRR/wAIP/wUL/6Og%2BDP/hh9W/8Amor2aigDxn/hB/8AgoX/ANHQfBn/AMMPq3/zUUf8IP8A8FC/%2BjoPgz/4YfVv/mor2aigDxn/AIQf/goX/wBHQfBn/wAMPq3/AM1FH/CD/wDBQv8A6Og%2BDP8A4YfVv/mor2aigDxn/hB/%2BChf/R0HwZ/8MPq3/wA1FH/CD/8ABQv/AKOg%2BDP/AIYfVv8A5qK9mooA8Z/4Qf8A4KF/9HQfBn/ww%2Brf/NRR/wAIP/wUL/6Og%2BDP/hh9W/8Amor2aigDxn/hB/8AgoX/ANHQfBn/AMMPq3/zUUf8IP8A8FC/%2BjoPgz/4YfVv/mor2aigDxn/AIQf/goX/wBHQfBn/wAMPq3/AM1FH/CD/wDBQv8A6Og%2BDP8A4YfVv/moq1r/AMb/ANkT4U2mkaT8dPjD8OfDmuahosGoG28XeIbC0u7iOTI8/bcOrsjOkgDdMowzwQM3/hr/AP4Jwf8AR0XwR/8AC20f/wCO1zTxmDpycZ1Ypro5RT%2B5yTPaw/DfEmLoRrUMDXnCSupRo1pRa7qUaMotaPVNrTcsf8IP/wAFC/8Ao6D4M/8Ahh9W/wDmoo/4Qf8A4KF/9HQfBn/ww%2Brf/NRVf/hr/wD4Jwf9HRfBH/wttH/%2BO16doGi/CzxXoVl4p8LaT4f1LTNStI7rTtR0%2BCCaC6gkUPHLHIgKujKQyspIIIIODV0sTh67apzjK3aSf5NnPjsmznK4RnjcLVpKTsnUp1Kab3snOnBN21sm3bW1tTzn/hB/%2BChf/R0HwZ/8MPq3/wA1FH/CD/8ABQv/AKOg%2BDP/AIYfVv8A5qK88%2BH3/BRr9i/xf4Hs/GHiH4e%2BJ9Bn1TxxrXhbRNGufg9rc95q17p1xfxyLaRQ6ez3RMOnzzssSuYQDHJskVlHZfEL9qj9lrwLZePbS80SLT9Y8BeENa8Q3lt4s8CatpNnd2emL/pc9vdSac4vbeJmiEktkl0VE0bBH3or7Hmmj/wg/wDwUL/6Og%2BDP/hh9W/%2Baij/AIQf/goX/wBHQfBn/wAMPq3/AM1FVbD9qz9jDUPjPJ%2Bz9DeW/wDwlFv4gj0G6j/4Qa/FhDqr6dHqUdi2oNaC0Wd7SVJkjMoZwcKCwKjZ%2BNfxV%2BCvwk/Z5139ofR/COjeKNO0uwaTTbfQ1tpBqt00oggtYpgCgaS4ZIdxO1WYluhoAof8IP8A8FC/%2BjoPgz/4YfVv/moo/wCEH/4KF/8AR0HwZ/8ADD6t/wDNRTv2c/iJZ/Fe58Z%2BC/it8DfDXhPxd4B1%2BLTfEOmaTqS6rYOk1jb30Fzb3clpavJG0VyFO%2BCNllhlXDKqu/mPwY/bFu/jFpFvqQ/ZZ8F6B/wl/wAMD8QfhVPrnjER2ur6CssCvJqco00nSZo47yxmeNEu1VbnHmFkcAA9M/4Qf/goX/0dB8Gf/DD6t/8ANRR/wg//AAUL/wCjoPgz/wCGH1b/AOaivBNT/wCCm/w30/4G6T8XJfhD8J7S31P4hah4W/4TDWPiZFa%2BBCbSye6N5D4i/s1vOilKm2j/ANFXfcxzRZHl7m6TSP29/h/4x8Z/Dj4d%2BGfgr4B0HXvGngnw/wCJtW0T4oeNrfw/eWUerNKLfT7GEWdw%2Bp6gv2a5LQAQqoWLdIpmUAA9X/4Qf/goX/0dB8Gf/DD6t/8ANRR/wg//AAUL/wCjoPgz/wCGH1b/AOaiuB8Mftq/B3xZ8Z/HHg7T/CPwxh8L/D46wuvXd142gHiVxpaul7dQ6GlmzNZx3Mctv573EbF4XIjK7GfktT/4KCp4G%2BF2u%2BMvjD%2ByD4Z8MatZ%2BGfC3iTR7KfxbHLpy6NrmoNYpdapffYF/s0WTo0t8ViuIoIsPHLON20A9r/4Qf8A4KF/9HQfBn/ww%2Brf/NRR/wAIP/wUL/6Og%2BDP/hh9W/8Amorx/U/22/EV5%2BxPqv7avw8/Za%2BF%2Bs6L4Zi8QS6/5vxHlSy1CLTZniin0S7t9EuP7VhujE4idorbcxRVD78juviJ8aPiH8IdU8Far8SP2RfBdp4Z8Ua74e0DULmy8Zi41ay1bVJYrfy4bH%2BzVjureC4mAkm%2B0xv5MU0wh2pggHTf8IP/AMFC/wDo6D4M/wDhh9W/%2Baij/hB/%2BChf/R0HwZ/8MPq3/wA1FclJ8ZfjDYftUS/s1ah%2ByD8N7lZvA2s%2BJ9N1XRviDLPMsFrcQW1jFeQTaLClq95JMwUpNMIxa3By4jG6f4f/ABc%2BLHj%2B%2B8e/DC0/ZP8AhpB8RPAN/pkd/pZ8fzSaHcW97b/aEZdSXRfPSdEBLQNZDAaJt5WVWoA6b/hB/wDgoX/0dB8Gf/DD6t/81FH/AAg//BQv/o6D4M/%2BGH1b/wCaivC7L/go94Yl%2BC/w18beIfgZ8JvDHiT4nrruoaFbeMvijHpnh4aJp19FapqP9rS6X5jm7F1YS28C2m91vMnaInYej/F79pSw%2BC/x38AfCPxN8GvhndReP9SsbDTtP0zx0sviZ3n%2BWe6g0g6coubG2bLzXIuV2QpJIUG3YQDrf%2BEH/wCChf8A0dB8Gf8Aww%2Brf/NRR/wg/wDwUL/6Og%2BDP/hh9W/%2BaivO/iR%2B1d4g%2BB2t%2BMtA%2BMv7JPg%2B1udE%2BEXib4g%2BGU8PeMBqBv7LRntlkt77fpsP9nzTG8g8sp9qQ7Lj5iYcPvfBv4x%2BOfj78AYfiz8IPgl8CfFOq3esLbW1r4X%2BMDaho0duIVeR59Si0TfHcI52G3S2k6oTIATtAOm/4Qf/AIKF/wDR0HwZ/wDDD6t/81FUPA/jj9qzwd%2B1Z4c%2BCPxu%2BI/w98TaN4m%2BHviHXIZvCvw8vtFurS602%2B0S3RWe41e%2BSWN01SUlQiMGiQhsZB0fgT8SvCH7Qf7Mdr8eNH%2BG1l4eu7uz1AG2tmimFtdWc89tI8FyiJ58Jlt2eKYKvmxMj7V3bQ3xx/ykL%2BF//ZGfHn/p28IUAezUUUUAFFFFABRRRQAV84/CbxV%2B3f8AHXR9e8d%2BF/jf8JNA0u3%2BIXirQ9L0q/8Ag/ql/cRWul69f6ZC0twniKBZZHjs1dmWKNdzkBQAK%2Bjq8E/ZCHmfs663bsTsm%2BOnjyKUA43I/j7VlZfoVJB9jQBq/wDCD/8ABQv/AKOg%2BDP/AIYfVv8A5qKP%2BEH/AOChf/R0HwZ/8MPq3/zUU/X/ANqD/gn74U1298LeKf2iPg5pup6bdyWuo6dqHi7SoZ7WeNikkUkbyhkdWBVlYAgggjIqp/w1/wD8E4P%2Bjovgj/4W2j//AB2uV47Ap2dWH/gcf/kj3ocK8U1IKcMvxDTSaaoV2mnqmmqDTTTTTTaaaabTTLH/AAg//BQv/o6D4M/%2BGH1b/wCaij/hB/8AgoX/ANHQfBn/AMMPq3/zUU/QP2oP%2BCfvivXbLwt4W/aI%2BDmpanqV3Ha6dp2n%2BLdKmnup5GCRxRxpKWd2YhVVQSSQAMmr37VfxL%2BFX7KH7N/jX9pLxT8Ll1bT/BXh641W603SNEE1xcrEudiLHGxGTjLkbUXLuVVWYa0q9Cum6c1K3Zp/k2efjsrzPK5xhjcPUpOSulUhOm2trpThBtX0uk1fS99DO/4Qf/goX/0dB8Gf/DD6t/8ANRR/wg//AAUL/wCjoPgz/wCGH1b/AOaiqGk/tZ/sf6543l%2BGul%2BGtfl8Q23hxde1DRf%2BFNa6t1p9g8d28Ut1G2nhrVpfsNysUcwSSZ4xHGru6KztM/ac/Zg8TSeHf%2BEV0ywQ6z46m8K3th4l8Jajo%2Bo2N9Ho11q5hayubATJKbW3WZVuFt43hk8xZWYxRzanCXf%2BEH/4KF/9HQfBn/ww%2Brf/ADUUf8IP/wAFC/8Ao6D4M/8Ahh9W/wDmoqh8FP2v/wBhf9oLRpvEfw28TaX/AGdF4f0/XUv/ABF4Ru9FgudLvmZbW9gk1G2gW5t5HUoJYi6h8ISGIFXf2jfiI3wr1/wf8NPhB8APDXi7xn42vbxNK0vWtVXSLGC1s7Vri5uZ7pLO6dAP3MSqsLlpLiPOxA7qAO/4Qf8A4KF/9HQfBn/ww%2Brf/NRR/wAIP/wUL/6Og%2BDP/hh9W/8Amorntf8A2pPhbB%2Bxb4a/a/8ACfwUsrweLx4dt9G8O6oYLPyL/WL%2B00%2BCC7uRHItvHFc3iLNKqybVjkKLIdqtxVr%2B24viK%2BsvhZ4J/Zm8BXnxKTxd4g0DxFo1945W20LTp9Htbe7udmqDTXknZoLy0dIzaRt803meUIHNAHq3/CD/APBQv/o6D4M/%2BGH1b/5qKP8AhB/%2BChf/AEdB8Gf/AAw%2Brf8AzUV51f8A7Ydld/CD4c/tU%2BB/2ZvCuqfCbx/aeFZE1m48TJBrkMuu3dvawRQaatjJDcmJ7uDeDdxsw8wRq5VQ%2B9cftQeD9S/bPn/ZE8Bfs96ZrMdt4G1rVpfFjXcMEDazp0mleZo6RmBtxEWr2kklxvCxlxHtdhIIgDp/%2BEH/AOChf/R0HwZ/8MPq3/zUUf8ACD/8FC/%2BjoPgz/4YfVv/AJqKqfs9/E6%2B%2BJPxP8a/A/4xfs9eEfDPinwVYaRqF4PDGvDW9OmttRF35Ki4lsbORLhDZymSFoflSSBw7CUY9c8GDZoZgUnZDfXcUQJztRLmRVX6BQAPYUAeXf8ACD/8FC/%2BjoPgz/4YfVv/AJqKP%2BEH/wCChf8A0dB8Gf8Aww%2Brf/NRXs1FAHjP/CD/APBQv/o6D4M/%2BGH1b/5qKP8AhB/%2BChf/AEdB8Gf/AAw%2Brf8AzUV7NRQB4z/wg/8AwUL/AOjoPgz/AOGH1b/5qKP%2BEH/4KF/9HQfBn/ww%2Brf/ADUV7NRQB4z/AMIP/wAFC/8Ao6D4M/8Ahh9W/wDmoo/4Qf8A4KF/9HQfBn/ww%2Brf/NRXs1FAHjP/AAg//BQv/o6D4M/%2BGH1b/wCaij/hB/8AgoX/ANHQfBn/AMMPq3/zUV7NRQB4z/wg/wDwUL/6Og%2BDP/hh9W/%2Baij/AIQf/goX/wBHQfBn/wAMPq3/AM1FezUUAeM/8IP/AMFC/wDo6D4M/wDhh9W/%2Baij/hB/%2BChf/R0HwZ/8MPq3/wA1FezUUAeM/wDCD/8ABQv/AKOg%2BDP/AIYfVv8A5qKP%2BEH/AOChf/R0HwZ/8MPq3/zUV7NRQB4z/wAIP/wUL/6Og%2BDP/hh9W/8Amoo/4Qf/AIKF/wDR0HwZ/wDDD6t/81FezUUAeM/8IP8A8FC/%2BjoPgz/4YfVv/moo/wCEH/4KF/8AR0HwZ/8ADD6t/wDNRXs1c147%2BM/we%2BF0Rn%2BJnxX8NeHUVcs%2Bu67b2gA9cyutTOcKceabSXm0vzsb4fDYnF1VSw9OU5PZRjKTfooqTfyR59/wg/8AwUL/AOjoPgz/AOGH1b/5qKP%2BEH/4KF/9HQfBn/ww%2Brf/ADUVyvjr/grv/wAE4fh9I1vq37Vnh%2B%2BlDbUi8PRXGqF27BTZxSA5%2BuK5r/h7r8PfFHyfBL9kX49ePd/%2Bpu9B%2BG0qWh92lndNg9ytebPOsohLl9vFvsnzP7oqTPs8P4Y%2BIWJpKqsrrQg/tVIexj/4FXlQj%2BPyPT/%2BEH/4KF/9HQfBn/ww%2Brf/ADUVb/ZW%2BI3xp8Yax8UPAnx01/wvq2qeAfiFFodnqvhPw1c6Tb3VrLoOj6mrPb3F7eMsiyajKhYS7SsaHapznyX/AIbQ/wCCjXjA4%2BGn/BKXVLaB/uX3jL4nadp5Qdi0G1nP0Brov%2BCdes/GTxBrfx51j9oDwbpPh/xdP8ZoDq2j6HqJu7W2A8I%2BGxEElIG8mERs3ozMBwK2w2YUMXNxpqW17uEor75JXPNzvhDNeH8Kq%2BMqUNXy8kMRQq1Fo3dwpVKjilazbas2l1PpOiiiu4%2BXCiiigAooooAKKKKACiiigAooooAKKKKACiiigAooooAKKKKACiiigAr5a/aK1v8Asn/grX%2BzFYb8f2n8NPibbY9cN4Zmx/5C/SvqWviv9tvWG0T/AILFfsU3DPiO40b4mWsnv5lho4Uf99bfyrkxs/Z0Obzj%2BM4r9T3%2BGcN9czb2PenXf/gNCtL/ANtPtSiiius8AKKKKACiiigAooooAKKKKACiiigAooooA8z1L9mT9m340aPoPin4xfs9%2BB/Fmp2/h%2B1tYNR8S%2BE7O/njgVS6xLJPGzBAzuwUHALscZJql/wwP%2Bwr/wBGWfCX/wANzpn/AMYrk/i9/wAFIP2L/wBj6Xw58NP2i/jL/wAI7rd94Us9TtbL/hHdRu99q%2B%2BJZN9rbyIMvDKNpYN8ucYIJ5D/AIfm/wDBLL/o6L/yydc/%2BQq8XEYvh2nXlGvOkpp683s7387q9/U0XiHiMqX1SOcTpKnpyLE1IKPWyiq8VHfZRW%2B2p63/AMMD/sK/9GWfCX/w3Omf/GK9O0DQNC8KaFZeFvC2i2mm6ZptpHa6dp2n2ywwWsEahI4o40AVEVQFVVAAAAAwK%2BVv%2BH5v/BLL/o6L/wAsnXP/AJCr6e8A%2BOvCvxQ8CaL8S/AuqfbtE8RaRbano975DxfaLW4iWWKTZIqum5HU7WUMM4IB4rowOIyetOSwcqbaWvJy3t58qWl%2B4pcXVeJP3U8xlieTWzrzq8t9L2lVqWvtdJX2v0PCfhh%2Bwv4r8AePPCmtan8Z9N1DQfA/xQ8VeL/DWlw%2BEJILsLrv9rPPaXFyb10lMUuqsUlSGL93CEZCzGQeR61/wRhl17xT498SXnx28OxXHjLwF4/8L/21a/C9E1u5j8TSK4uNV1E3xfVHstojhQLbp5Y27UwGHu1h%2B358I9X06xm0nwp4jmvrrRfFupXeky/YLeXS08OXq2Gox3ck92kEDC7dIEZpfLYksXWNXdeE8G/8FPvA/wAdpvhxqPwEgs5bHXfjPqPgbxvBf31jqUunm38G6v4hQ21zpV9cWcrsbSwO9J5kCTTRsElU%2BV6RB10n7DAfxDquvj4oYOp/HXSfiOYhon%2Br%2BxaRp%2Bm/YM%2Bf82/7B5nnYG3zdvltt3N3nxr%2BB2oftAfs8678EvH/AIxit7/WrBo08QaHpZgFldJKJrW6igllly0MqQvtZ2V2jOcBsD548W/8FVpX%2BCHhTxr8IvhTr/iO91SD4eyeI/FMvh%2BC30bRW8SXenKkFzANSa5juGtb3zVSA3UUDTQebMyklvpD4w/Hjw/8JPgF48%2BPt1o2pXNj4C8P6xql9ZXGnzWktwNOhlllWMTopZW8lgkqho3BDIzKQSAc58CP2e/iZ8LtU8R%2BN/HXxX0HxH4n8deLItV8bX9p4OlsbOW0h0yKwt7KxtmvpmtAv2eCVpJZbnczXA2qJU8ngPgf%2Bwh8XPgPa6dL4c/aO0W/vvAnw6j8C/CGbVPAErw6Hoa3NtK6agiairapcPFY2MLTRvaDFsGEYZmJ6f8AZa%2BNnx%2B8Q/FTxN8Bv2lR4RufEWjeCvDviu11LwXpVzZWgtdVk1KA2TR3NzcO8tvPpc2Zw6LKk0ZEUZDLXkk//BQf9onRNJvfi1feD/BWpeFvEul/EB/h1oEfm6dfW134cNybZdQ1C4uWt3ivYrOeR3ENuLQlELTjdIADrbf9gT4waRrUPxc0D9pHQF%2BIr/EDU/FOpXl/8OZZ/Dksl7pFtpMkMOkrqSSwbbe0hdZftjOZZbpmLi5dBztx/wAElNO0nwXY/DfwF8Z7Wx0jUfhl4c8DeP7jVPBq3eoapp2jXdxc20thOlzCmlzlry4XcYrhEAgMaI0AZsjwN%2B3X%2B1d8R/2aPjX478Iat4IHiT4ZaHbazpOqeJvhRrugpcwtpj300E%2Bg3%2BoJfoB5eyK789IZ97FFPkPu9N/ap/aE/aL%2BFP7LVt%2B1J8OfEfgG2h07wbFql94X8QeGb68ufEuqTJEbXSbCWC%2Bi%2Byy3MzrbRExXbGWeMCNsYYAzLn/gmjouqfFGe91j4gaa/wAPZPHfiLxknhK08KeTqcur63pV7p1%2BJ9UF0RLasmo3cixC2SQMYVMzJEEOZa/8E2fidfeG2uvHH7Utpq/i7SNP8I6d4N10eAzDZWtn4e1F7%2B1W/svtzfb5biZ83Lxy2yt5cRhjt2TcdDxb%2B2V8cdG%2BOGtXljovheL4ceEfi94a%2BG/iDSrrT7h9budQ1iz0uVL%2BG7S5EEUMM%2Bt2MJga3dnEVw4lT5FNf4cf8FFNQ8QfGX4o6v410nS7H4R%2BGPh9pniXwLq9lazy6rr0E1/qVi9wAJCksdzNYgWUUUe%2BZJInDubhI4wDotN/YM1O6%2BE0Hwz8b/F%2B2v21b4yw/EHx82m%2BGDZ2esSxX6agun21sbmQ2Vubm3s2ffJcNII5g%2B43DMun4%2B/Zd%2BOvjP8AbJ0H9pT/AIXx4Tn8L%2BGbOG38PeBde%2BHd1dyaSz7l1C9truLVYY1vriFjAtxLbS/Z4tyIhEtwJvI9a/bU/bbX/gn/APFr9pZ/Dvw48O%2BO/hb4j8QNf6DqOj3uo2I07ToGnFiTFfQtJd8xwtdK4iLK8iwYKoPR/wBt/wDbG8ffAPxH4R8CfBPw7o%2BratdeMPCq%2BOptajleDR9A1XxDZ6KrqIpEP2yeW6l%2BzhjsxZXTsG8kRyAHc6d%2Bzx4p0H4mfFn42aB8TLZPFvxA0mw0vwvqN7oBng8NWVjZyraQPD56m9Vb%2B7v7xgHg3i68r5dnmtwXwb/Yt%2BOnwz/ZL8c/s56t%2B0poFx4j8X6ZfKnxL0P4f3NlqX9q3sLx3OsXqz6rci8uyzI6bWgjjESRqgiRERvxI/ar%2BLXwb/bG0D4ReK9T0fVfCPiKDVLqSCD4b6rpk2j2dpplxeiVNauLt7DVrgvbiNrG3ijuFSZpiBHbyFsL9jP9r/4xftm/DS/8QeF/jL4A0bxLrfhfSfEXhnw9ffCbXFGh2N47PvlludRtl8QQFAYVvbL7PAJkZgXUhKAOv%2BMf7Cln4gTwDqHwA8TeHfB%2Bo/DvwHqngjQv%2BEi8Gf27Yx6BqEVjHPbrbC6tisqjTbQRymRlCiVGjdZSBXvf2J/iNc%2BHvh18FIvjzpi/C/4b3nha70rSn8Gyv4iuJdCNtJbh9XN/5QSWa1QzbbMO8Uk0W8CQkeP6d/wUa/aCsvgt4F1Hxbr/AIM/4SH4nfEDxNZ%2BD/E2h/CrXNRtJPDekvOseoJollf3F7eTXQhjmRIrlVS3uvOcgQOj%2BifGz9or9pnSfB3we%2BIH7Pvxt%2BFHiSz%2BJ%2Bu%2BGtF020f4dahOutvdk3Oo6haXMetILeCPTYb28jheKdlFrtaR92VANz4I/sn/ALS3wu8e/Er4leMP2jfAvirXPH6XJttauvhTdw3en7Wb%2BzLN2OtPHLp1nG8ii0ijgMrySzNKsssrvz/jf9gz9onxh4B%2BIsFl%2B1roWieNPipr2ly%2BMtf0P4b3Ntp8ukWdutu2nwWkeri5gluIl8uW8F6ZtjFY/KKxNHe%2BDH7Unxs8a/tReMvgv8T/ABf4e8LJBrus2Hw%2B8N6p8INcs59atrVYzHewaxcXy2WpABneS3tYg4RSdyBS1cP4p/bJ/bJ%2BFujfHLUfEmufDnxbafDLXvCPhzS9a8PfDrU7LbqupXFq2p7rH%2B17qXUvsljqOnzR2ttJHPdTs9sn7wpQB9MeEvBeufDj9nePwB4huPDck%2Bi%2BG5rKMeEPDT6PpkUEcbLDFb2T3NybeNIhGgXznHyEjaCFXlPHH/KQv4X/APZGfHn/AKdvCFZX7J37QXjf9pH9mPxN41%2BIEenHUNN1rXdG%2B06foN3ozXUdrI8STTaXfSSXelzMB81rcOZVADnAkUDV8cf8pC/hf/2Rnx5/6dvCFAHs1FFFABRRRQAUUUUAFeC/sf8A/JvWr/8AZe/HP/qwNVr3qvBf2P8A/k3rV/8Asvfjn/1YGq0AdZr/AOxN%2Bxl4r1298U%2BKf2R/hjqWp6ldyXWo6jqHgHTpp7qeRi8kskjwlndmJZmYkkkknJqp/wAMD/sK/wDRlnwl/wDDc6Z/8Yrzvx//AMFlP%2BCbnwv8d638NPHX7R32HW/Dur3OmaxZf8IhrEv2e6t5Wilj3x2jI%2B10YblYqcZBI5rI/wCH5v8AwSy/6Oi/8snXP/kKvBnjeGFNqU6N7u9/Z3v1vpve9zT/AIibiaH7pZ5OPLpb63VVraWt9YVrWtayta1lay9m0D9ib9jLwprtl4p8Lfsj/DHTdT027jutO1HT/AOnQz2s8bB45Y5EhDI6sAyspBBAIORWt%2B018E7L9pP9nTx3%2Bz3qGvy6TD438I6hob6rBAJXs/tVu8ImCEgOULhtpIDbcZGc1414B/4LKf8ABNz4oeO9F%2BGngX9o77drfiLV7bTNHsv%2BEQ1iL7RdXEqxRR75LRUTc7qNzMFGckgc17j8dfjD4c/Z9%2BD3iP43%2BMtM1G60bwrpUup6ymlQpJPFZxDdPMFd0DLHGHlYZztjbaGbCn0MDWy2tCTwcoNJ68nLa/nypa27ky4kqcSfvZ414nk0u6sqvLfW15VKlr72TV97dTyPxF%2BxN8QvH%2Bg/F2Xx78fbWLxJ8W/h3pvhm%2B1rwn4Vm02HTZLMaiFuYopL6eRkcX4DRGYHETYkHmDZw3wR/wCCU0Xwi8RQ%2BJofiT4QsNvxcHjl9B8BfC%2BPQNIgYeEbzw4bO2tUvJTCG%2B1C7aVnkZnRlI%2BcOnovxn/4KIfB34LaX4u1zVPDep6hY%2BCvFtn4b1jUR4g0HSrR7%2B402LUQkNxq%2BpWcMmyCeAMA%2B/fMFRX2SFORtf8Ago7pPinx9Hf%2BCbi0uPAWueDPhJrvhHVYtCknvLr/AITDxBq2mlZke7hWOMRWdmVYAvA0kzslzhYK7iTq/gb%2BxR4h%2BAUfgS78I/Fyyub/AMDfA3Svh1by6h4Xdobv7HJAxvmjS7Vl3rCwEIc7C4PmNt2t1n7RvwC8cfFTxB4P%2BJnwf%2BJ%2BneEfGfgm9vH0rVNa8NPq9jPa3lq1vc209ql1au4P7mVWWZCslvHnehdG8w8G/wDBRo/Ez9orwf4I8IfB/wATWXgHxH4K8Wa/aeLNU0JZ28Qw6TcadDHPpcdlczTmN/tUreVPbpPMGgaFCCc%2Bk/tSfGj4gfD3RvAvhb4OJpEPij4k%2BN7fw7oWoeJ9LnuLLTc2V5qE9zPaxzW8s221sLgLEJYiZGQFlGaAKfh39ljWPAX7Ltr%2Byt4M8U%2BF9Q0PTPA9hoVj/wAJ34JbWI7yePcLu51CBbyCO7juE25gQQ7HMjb3V1RPO7P/AIJrxeG/2eX%2BC/hG9%2BEj3mreMpvEniOfxN8D4dR0ZLt4Et4jpmki/ij0428ENtFAXkuNqQfOJWdnPQ6V%2B118U3/YJ8a/tHv8O7LWPHHgX/hK9MvtE0eG4FnqGp6HqV9pss0MYMk628slkZxEDJKsb7Mu4yeT%2BCP7ZnxH%2BPXg/wCJmj%2BCv2mvhBdX/wAMNQsrvUPilpfga9vvDOo6PPp5umaO2TWVZJYZEnjeRb2aMeQcqHZo4gDStv8Agn98SvB3xA%2BErfC/48%2BG0%2BHvwc8JWOkeE/AvjD4f3OqSRXcMZt5tXN1BqtqjXz2v7mOSSCRYPMnZFJmer1t/wTQ%2BGfgn9pnSf2oPgp488UeHtV0nRvF6RaNqXjHXtU0uTVteurO7kvjZzamIEhWeCeSSzjjWOeS4jkJR7aFl8kn/AOCk3x90X4X/AAk034o%2BIvBXgfxl4z%2BFt38QPGOuXXwr13WbDR9M8%2BEW0TaZY3xntAsVyrXV3Pd%2BRbNAQ27zk2fdVjeW2oWUN/ZXUU8M8SyRTwOGSRWGQykcEEHII7UAeL/sQ/sy/Fr9l/wXq/hn4tfGPw3471LWdSGqan4o0vwPcaRqOralICLq8v3m1K8W4dwsCRpEsEdvFAsUaeWsaR%2Bs%2BD/%2BQTN/2Fb7/wBK5a1Ky/B//IJm/wCwrff%2BlctAGpRRRQAUUUUAFFFFABRRRQAUUVi%2BOPiT8OvhlpR134k%2BPtF8PWIBzea5qsNpEMdfnlZR%2BtTKUYR5pOy89DWjQrYmqqVGDlJ6JRTk2%2BySTb%2BSZtUV8xeO/wDgsH%2BwV4S1T/hGfCvxauPHWtsSLfRPh7olzq805H9x4U8k9v8AloOtYi/ty/t4fFb5/wBnb/gmF4mtbCX/AFWs/FXxPa6C0Y7FrI75WH%2B61eZLOssUuWFTnfaCc3/5Iml85I%2B4o%2BGXG8qSrYrC/Vab1UsTOnhotd17edOUv%2B3acvv0PriivkkeCP8AgtD8Tfm8Q/HH4LfDC3k%2B4vhXw1d61dwr/t/bSImYf7PFIf8AgmX8XviL/wAnMf8ABSb4w%2BKom/1%2Bm%2BF7qDw3ZXHqskNsrbl9gw%2BtL%2B0cXU/g4Wb85OMF%2BMpP8DT/AFN4fweuY57ho940I18VL5OFKlT/APKlvlqfQ/xS/aD%2BBHwQszffGP4y%2BF/C8YXcv9va7Bas4/2VkcFj6AAk14Brf/BYz9lbVtTl8Nfs6%2BG/Hvxh1mJtjWHw38GXV0sb9t80qxxhe5dSwA5rp/hd/wAEoP8Agn18Jrsato37NGh6tqBffLqXi0y6xNJJ/wA9D9seRQ2ecqBzXv2i6HovhzTYtG8PaPa2FnAu2G0srdYoox6KqgAD6CjkzuvvKFJeSdR/fLlj%2BDH7fwvyz%2BHQxWOkv%2Bfk6eFpv/t2kq9Zr/uJF%2BZ8op8ff%2BCt/wAXR5vwq/Yn8B/Dmyl/49r/AOKfjV7yUr/fe209Q8Z/2GyR704fssf8FSfiR%2B9%2BKf8AwUi0rwrbyf67SPhz8N7bA9ku7pvOXH0r62oo/slVP49epP8A7f5V90FH8xf8RBqYTTK8sweGXRrDqvP/AMGYqdd38%2BRa7W2Pkkf8Ei/AXir978c/2vPjx4%2BZ/wDXWmufEaWKzPqFhgRNi%2Bwaum8Cf8EiP%2BCcPw9lFzpP7KmgX82dzy%2BIprjVC7dywvJZFOfpivpCiqhkuUwlzewi33a5n98nJmGI8TvELE0nS/tStCD%2BzTn7GP8A4DQjQj%2BHzOa8C/Bf4O/C%2BJYfhn8J/DXh1FXCpoWhW9oAPQCJFrpaKK9KEIU48sEkvJJflY%2BMxGJxOLquriKkpye7lKUm/Vycm/mwrxn9l/8A5Lf%2B0d/2Wax/9QrwvXs1eM/sv/8AJb/2jv8Ass1j/wCoV4XqjA9mooooAKKKKACiiigAooooAKKKKACiiigAooooAKKKKACiiigAooooAjvb2z06zl1DULuKC3giaSeeaQKkaKMszMeAAASSelc98MvjN8H/AI1eEP8AhYPwb%2BK3hrxboAmkiOueGddt7%2Bz8yP76edA7JuXIyM5HeuH/AG%2B/h940%2BK37FHxT%2BHHw80aXU9Z1nwNqNrZaRA4V9TLQNus1LEKDOu6EbiF/eckDJrxTw5ca58RbL9pbxr4B%2BAPiuTTfiT4XFp4L8JeKvCGqaAfEN/ZeH/s9wZ1nhhksEmMlrYrJN5LSfY2MW5EVyAfTvwo%2BO3wQ%2BPGmXetfA74yeFPGdnp919mv7vwp4ittRitptoby5Gt3cI%2B0g7SQcEGvi/8A4Kiat/YH/BUf9h7Vt23d4g8U2mf%2Bu8mhQ4/HdXaf8Ev/AAL4y8N/Enxz4g1W5%2BI2u6RP8P8AwXpVn4x%2BKvgN/DeqvdWS6qs%2BkRWhtLRZLS0WaCRJ/JZmkv5ka5ufLHleG/8ABXqx%2BLWgf8FDP2VvHPjTxv4ev9A0vxxd33h/T9K8MT2d3YQDWPDUcq3VzJezJdlvMTDJDbhcHIbcNvl51JwyypLtyv7p0z7rw0oxxHHGEov7fto/%2BBYbFpfe7L5n6c0UUV6h8KFFFFABRRRQAUUUUAFFFFABRRRQAUUUUAZXgb/kSdH/AOwXb/8Aota1ayh4M0NMrA19CmSRFb6tcxovsqrIFUewAFL/AMIfpP8Az96r/wCDy7/%2BO0AalFZf/CH6T/z96r/4PLv/AOO0f8IfpP8Az96r/wCDy7/%2BO0AeH%2BIP%2BCaf7PniXxH8ZvEuoav4mEvxt062s9ct01GHydEESktJpqGEiBppyLmYS%2BaksyqWUr8hf4K/4J3fDnwt4uj%2BIXiD4xePvFPiA/E6Tx3eax4gvdP8y71NvCs/hfy2S1soYktxYTlljiSPEyI2dm6Nvbf%2BEP0n/n71X/weXf8A8do/4Q/Sf%2BfvVf8AweXf/wAdoA%2Bcv%2BHUnwYs/C%2BgeAfDnxn%2BJGkeHdIsfCEOqaDp2p6eIPEE3hprU6Zd3jPYtKJttlbJL9neCOVIlDJ8q4%2BgdY%2BHWkeLfA%2Bu/Dr4hX1z4j0nxFDfW2pWuqRwqGsroOr2Y8iOMGJY3MalsyFQN7u2WNz/AIQ/Sf8An71X/wAHl3/8do/4Q/Sf%2BfvVf/B5d/8Ax2gDzP4Hfse6X8C5NS1nTvjn478Qa/qkOi2N14o8TT6bPfHSNKkle00keXZRxfZh9ouwzmM3LG8mcz%2BYVkXlr/8A4Jl/AbXp/E%2BmeL/Fni/WfDHiLSfE%2Bn2Xgq91K2TTvD6eIZGk1eSxaG3juVkmd5CrTTTeQJXSARIxWvdf%2BEP0n/n71X/weXf/AMdo/wCEP0n/AJ%2B9V/8AB5d//HaAPE9R/YB0zWvh38Q/COu/tQfE2%2B174naJaaJ4m8f3J0M6v/ZNuk6R2EKDSxZRxbbu7y/2Uyk3UjeZu2stbxT/AME95vFtt8MDf/tlfFmO9%2BFFvcr4e1BbXwxIbq4lXy47y5t5dFe2a5gty1vDLHDGUjkk6vJI7e6/8IfpP/P3qv8A4PLv/wCO0f8ACH6T/wA/eq/%2BDy7/APjtAHlOu/sNfDnxH8bT8ZNS8f8Aiw2134i07xHrvgtLmzGjazrthaR2lpqlyn2X7R58cVvaYSOeOBms4GaJmjBrE8O/8EqP%2BCenhT4k678RdA/ZC%2BG9rH4j8I2nh3VPDUHgDSU0mS1t7yW7Dm3W1GZHlePeWJVhaW3ygxA17j/wh%2Bk/8/eq/wDg8u//AI7R/wAIfpP/AD96r/4PLv8A%2BO0AfPd//wAEqf2btL/Zz%2BIn7MPwV1HVPhd4d%2BKOtXt94uk%2BHmjaHaTzQXULQy2EYm06aKO2CNhMR%2BbHj5ZRk52vjh/wTS/ZQ/af8K6Rp37S/wAOdH8feJdLn0d5fiL4l8H6JLr19Hp2oxX6W006WCRC3laNoZoYoo0eG4mQBDIWr2r/AIQ/Sf8An71X/wAHl3/8do/4Q/Sf%2BfvVf/B5d/8Ax2gDznUf2StL8T/GLSPit8RPjN4y8TWHhrV7vU/CngfVl0tNH0e7uLK4sWkjFtYxXM4W1vLqJEuZ5kUTsdu5UK4Xwo/YF8C/CHS9S0/QfjL4%2Bu5X%2BH48E%2BE7%2B/v7Hz/CGhqG8q209orNAzRkxETXYuZmNvFvdwpB9j/4Q/Sf%2BfvVf/B5d/8Ax2j/AIQ/Sf8An71X/wAHl3/8doA808SfsY/Dy7%2BG3w8%2BHnw28YeIfAUvwqs4bPwJ4g8J/YWvdNtUsTYtb7b61uLeSN7chWV4W5RHXa6Kwn8DfsbfCL4eX3wtm8O3OsfZPhB4dvtK8JaZdXyywl7qKCF7%2Bcshklu1iimjWTeq7b653KxdSnon/CH6T/z96r/4PLv/AOO0f8IfpP8Az96r/wCDy7/%2BO0AefxfstQah8dNM%2BOXj343%2BNfFLeHNRvr/wf4X1g6ZHpmgXN1BLbPJALSyhuJmW3nngQ3M0%2B1Jnx8x3DNv/ANh74X3vwT1T4MReLfE9s%2BqfECbxsfFkF5b/ANrW%2ButrH9rRXaO0BhbyZ1ijjjkhePyIY4nR1BB9S/4Q/Sf%2BfvVf/B5d/wDx2j/hD9J/5%2B9V/wDB5d//AB2gDhfh38BdA%2BAHwl8W6RpvizW/EOpeILvUNb8SeJPEctu17ql/NCqNNILaGGBMRRQxKkUUaKkSALnJOP44/wCUhfwv/wCyM%2BPP/Tt4Qr1E%2BDNDfCztfTJkExXGrXMiN7MrSFWHsQRXl3jj/lIX8L/%2ByM%2BPP/Tt4QoA9mooooAK%2Bfv%2BClx0wfs12v8Awmnl/wDCFf8ACwvC/wDwsj7R/wAe/wDwj39s2n237Vnj7H5f/Hzu/d/ZvP8AM/d76%2BgaKAPgvwRafC/x9%2BwF8Wvhf8P/AIy%2BCvC3gSPx3qWreAm1bWo7XRD4Rh1iKR4nZG/c6HdTwahZiaMGEWsx8oNGEU%2BD30Oi%2BIvhjY2/jO/%2BCfgj4Saj%2B0pqV14Cu9a04a78KbLTI/BsMbweVK2nRX0EmqnUWt5N1rEbxZpYw4EUcv62UUAeBfsKX3xAtP8AgnJ8MJ/B/hRr3X7X4eadFp2neM9fntlu2jhVEeW7FpJLHHIqiRG%2BzlgjoDGOgp/sM3HiW6/ZYuLrxnpNjYavJ8b/ABo2p2Omai93bW858faqZI4p3hhaZA2QHaKMsACUXOB9E14n%2Bw9YWmp/AXX7G%2BgEkUnxl%2BIwZSSP%2BZ21og5HIIOCCOQRQB7ZRWV/wh%2Bk/wDP3qn/AIPLv/47S/8ACH6T/wA/eq/%2BDy7/APjtAGpVTXtC0fxRod74Z8RabFeafqNpJa31ncJujnhkUo8bDurKSCPQ1W/4Q/Sf%2BfvVf/B5d/8Ax2j/AIQ/Sf8An71X/wAHl3/8doA%2BfvBP/BMH4UfDT4R%2BA/hh8PPjV8R9K1D4fa3qeqaX45XU9PudbvJb9JoroXUlzZSQSbopvKV1hSWNIYhG6bSTY8Df8ExPgH8P/DXh7wroni3xhJbeGvDXw80Owa71K2eR7bwbqt3qmltI32cbpJZ7yVbhuA6KgjELAu3vP/CH6T/z96r/AODy7/8AjtH/AAh%2Bk/8AP3qv/g8u/wD47QB4h8Nv%2BCd3gX4U/ETS/iB4S%2BOvxEVfC/hvXdC8B6FcXmmyWHhaz1Wa2mmS0Q2O%2BUxPaQeSbp7jYqbDuT5a9I%2BOfwD0T47%2BDdL8Oav4013RNU0DWrXWPD3izQHtV1HTNQgDKtzEJ4Jbdi0ck0TpJC8bxzSKUweOn/4Q/Sf%2BfvVf/B5d/wDx2j/hD9J/5%2B9V/wDB5d//AB2gDi/ht%2BzbYfCL4YQ/Cv4e/FXxVYWqadq63Gok2E15dapqV015ca1I8toym9%2B0y3EwAUWxe5k3QOBGE5m5/YV8Aa78FfiD8HfHfxP8ZeI5viq23x/4u1S5sY9U1a38iK2Nofs1pFbQW5tYvs/lwwRjZLKwxLI8p9a/4Q/Sf%2BfvVf8AweXf/wAdo/4Q/Sf%2BfvVf/B5d/wDx2gDzb9ov9jrwb%2B0TfW2ry/EXxV4Ovo/DOoeG9QvvBs1lFJqOi3phNzp8v2q1nCxs0EZWWIRzxEN5cqb33eo%2BHtA0fwpoFj4W8O2CWun6bZxWtjaxklYYY0CIgzk4CgDn0qv/AMIfpP8Az96r/wCDy7/%2BO0f8IfpP/P3qv/g8u/8A47QBqVleD/8AkEzf9hS%2B/wDSuWj/AIQ/Sf8An71T/wAHl3/8dq/YWFpploljYwCOKMYVQSe%2BScnkknJJPJJoAmooooAKKKwviN8UPhx8IPC8/jb4qeO9I8O6RbDM%2Bpa1qEdtCvtukIBJ7AcnoBUylGEXKTsl1eiNaFCviq0aNGDnOTsoxTk23skkm230STfkbtFfId5/wU88Y/HfUZvDf/BOz9lrxD8UhHI0U3jjWSdE8NwMDglbi4UPclSDmNVUkYKk5pq/sc/8FBP2i/8ATP2uf25p/CGlz/6zwT8DLM6ciKeqtqU4a4cEcFSpHXB5ryv7Xp1tMHTlV81pD/wOVov/ALdUj75eHmLy1KfEWLpZet%2BSo3UxH/hNR56sX5VZUPNI95%2BPH7W/7NH7MWlNq3x5%2BNnh/wANhY96Wl7fA3cw/wCmdsm6aX/gCGvBV/4KH/tKftEn7L%2BwV%2BxHr%2BtabLxD8QfibL/YWjFT0mhib9/eR/7m1uvFejfAr/gmb%2BxL%2Bz1qieJ/BPwM06/18Sea/ibxO76pqDTd5RLdF/Lc%2BsYSveaPY5viv4tRUo9oe9L/AMDkrL/t2HzH/afh3kX%2B4YOpj6q%2B3in7KivNYehPnl/3FxCXeO6PkSL9iD9uv45k6l%2B1j/wUO17Q4Zh83hX4IWi6NbW4PVReyK1xMp6fOucd%2Ba3fBH/BHn9gTwpqo8TeJvg/P421k487WPH2uXWrSzY/vpM5hP8A37719PUVUcly1SUqlP2ku825v/yZtfdFGFfxO42lTdHCYr6rSenJhoww0bdv3MYTa/x1Zt7tt6mH4F%2BGfw3%2BF%2BljQ/hp8PtE8O2QAAs9C0mG0i46fJEqj9K3KKK9OMYwjyxVl5afkfD1q9fE1XVrTcpPVuTcm35uTbfzbCiiqGveKfDPhW0%2B3%2BKPEVhpsH/Pa/vEhT83IFNtRV2YuUYq7dkX6K8t139uL9i3wzO1r4h/a6%2BGVlMn3oLnx3p6SD/gJmz%2Blc1qf/BT3/gnrpOftX7YngJ8dfs2vxz/APostXJPMMvh8VaC/wC34/8AyRwzzXK6fx4imvWcP/kj3eivmfU/%2BCxf/BNHSc/av2stDfHX7NYXs/8A6LgasSf/AILb/wDBPO9lNp4E%2BJfiDxZdDg2nhvwJqs0mfT57dB%2BtYSzvJ474iH/gSf5NnLLiLIIOzxdP/wADi39ybf4H1nRXyLJ/wUs%2BOHxSb%2Bzf2T/%2BCb/xX8RztwNU8d20PhjTVz/EJrhn8wAclQAT0HWnxR/8FwPFSf2ibj9m/wAKwzfNHp0kes3tzbr/AHZHU%2BW7e68VP9sYaf8ABhOp5xhK33y5F91yf7fwlT/d6dSqu8Kcmv8AwKXs0/lc%2Bt6K%2BST%2Bz/8A8Fe/Gp8nxV%2B394D8HRHhz4N%2BF8d85HfBvXG0%2B46Uo/YC/bRA88/8FZviJ57cyt/wieneWW/2U6KPbNH9oYuXwYSdvN04/g5th/auOl8GBqW83Sj%2BDm3%2BR9a14z%2By/wD8lv8A2jv%2ByzWP/qFeF68w/wCHev7W%2BrfJ4s/4Kv8AxRmj6Y0fRbCwbH%2B8gbn3rov%2BCdfwv1P4M638efhtrPxQ8R%2BNLnTvjNB5viXxbeC41C8MnhHw3L%2B9dVUHYJBGoxwiKO2a6MNicVWm1UoOC7uUH8rRbfzOrCYvG4io1Vw0qcbbuUHr2tFt/O9j6TooortPRCiiigAooooAKKKKACiiigAooooAKKKKACiiigAooooAKKKKACiiigAr85f%2BC7//ABLvGfwv8Z9P%2BEc8L6zqW/8AubfFHgpM/wDkSv0ar89/%2BC7eiHXvCclmqktD8CfFt0pHUeT4o8Cy5/JK8rPE3k2It/JJ/cr/AKH3vhZUjT8S8mctniaMX6TnyP8ACbP0IorN8Ha0PEnhHSvEStkX%2BmwXII7741b%2BtaVepFqUU11PhalOVKpKnLdNp%2BqbT/FMKKKKZAUUUUAFFFFABRRRQAUUUUAFFFFABRRRQAUUUUAFFFFABRRRQAUUUUAFFFFABRRRQAUUUUAFFFFABRRRQAUUUUAFeM%2BOP%2BUhfwv/AOyM%2BPP/AE7eEK9mrxnxx/ykL%2BF//ZGfHn/p28IUAezUUUUAFFFFABRRRQAV4z%2Bwf/yRDXP%2ByzfEf/1Ndbr2avGf2D/%2BSIa5/wBlm%2BI//qa63QB7NRRRQAUUUUAFFFFABRRRQAUUUUAFFFFABRWd4t8X%2BFPAXhy78YeOfE1ho2k2EJlvtT1S8S3t7dB1Z5HIVR7k18oax/wUZ%2BLX7S2t3HgL/gmX8DT40SCZoL/4qeMUmsPC9g4OG8tsCa%2BZT1WMAjhhvU5rixeYYXBtRqO8ntFK8n6RWvz0S6tH0uQcI57xJGdXCU1GjT/iVqklTo07/wA9WdoJvpFc9SX2acj621rXNF8NaTca94j1e10%2BxtIjJdXt7cLFFCg6s7sQFA9ScV8v%2BN/%2BCsXwf1XxPcfDT9j74b%2BJ/jr4pgbZNb%2BBLT/iV2jdjcalIPJjQ/8APRPMX3rP0T/glzf/ABm1e38c/wDBRP8AaG1/4vajFKJrfwnBI2l%2BGbB%2BoEdnAVMxXp5jkbwPmU16D8Q/2wv%2BCe/7CehRfDvxL8VfBPgm3sBth8K6Bbq81v8A9uVkjyJnHUoMnvXn18VmE6fPUlHDU%2B8nGU/ubUI/NzfkeziavhjwhSdTGVnmNVdpPDYRP/r5L/aay/wRoRfR21POk%2BFf/BWL9ppvtXxW%2BOnhj4DeHpeR4c%2BH1kurayyH%2BCa%2BmPlxOP78GRx0rd8Af8Eh/wBj/QPEsHj74t2HiT4s%2BJYG3Lr3xV8Rzau5PU5hbbAwz2aNsYrHk/4K3eG/Hqm0/Zd/Y9%2BM/wAS7mXizvrHwa%2Bn6U5PTzLy5I8pT/eKGo00P/gsV%2B0UfP1jxl8PP2fNFm%2B7aaTZDxNrkYPVZHkItOnAZMEHPtXDFZPVkpRhPFT7tOa%2B%2BXJSXyTPDr%2BNWeTpSw%2BQ/wCz0mrcmBoqimn0lXsqk79XPFSv1Xb61s7PStB0yOxsLW3srK0hCRQwoscUMajgADAVQB06ACvIPir/AMFE/wBhn4KTSWfxH/an8GWd1FnzbG11hLy5jx/ehtvMkX8Vry6L/gkB8JvH8q6h%2B1p%2B0H8VfjBOWDS2PinxlNb6ardf3VramPyhnnbvIr2f4UfsR/shfA6JE%2BFX7NngzR5YwAL2DQIXujjpunkVpW/FjXqqpnNVe5ThTX96Tk/ugkv/ACY%2BCdfiLFNyjSp079ZzlUl81BJX9Zv1PGX/AOCzH7MfidjD8A/hf8WvilIxxD/wgnw3vJkc%2Bu64EOB6nHAoX9tP/gov45P2j4T/APBKrVbaxP3L3x18SNP0uX2za7WcfnX1sqqihEUAAYAA6UtP6nmVT%2BJimv8ABCMfxlzsP7Pzer/GxjXlTpwj%2BMvaM%2BSh8Uv%2BCz2tfNpv7LPwX0QHous%2BN7u5K/U2680bf%2BC42u/unl/Zj0GJussa69dTp9AfkP419a0Uf2XJ/Fiar/7fS/KAf2LN/Fi6z/7fS/8ASaaPkofAf/gsFrX7/U/29vh5ornrb6P8LkuY1%2BjTuGpG/Y8/4KbeJsWfjf8A4KvSWtif9bF4Z%2BEOmWs7/ScuWT8BX1tRR/Y%2BGfxTqP1qz/RoP7Awb%2BKpVfrWqfpJHySP%2BCSPhfxP%2B/8AjR%2B2r8f/ABpI/wDrrfUfiM9vaH2WGGNdg9g1X9B/4Isf8E2tGu/7T1D9no61en/WXniDxPqV48n%2B8slwUP8A3zX1PRTWSZQnd0It/wB5cz/8mchrhzIk7yw0ZPvJOb%2B%2Bcpnjeg/8E8P2DPDcCwaX%2Bxt8Mvk%2B7JdeCrK4kH/A5Y2b9a6bTP2U/wBl3Rcf2N%2Bzb4BtMdPs3g6yjx/3zEK76iuuGCwVP4aUV6Rj/wDIndDLsupfBRgvSEF/7aYWmfC74Z6Lj%2Bxvh1oVpjp9m0iGPH/fKituGCG3jENvCsaDoqKAB%2BAp1FbxhCPwqx1RhCC91JeiS/JBRRRVFBRRRQAV4z%2By/wD8lv8A2jv%2ByzWP/qFeF69mrxn9l/8A5Lf%2B0d/2Wax/9QrwvQB7NRRRQAUUUUAFFFFABRRRQAUUUUAFFFFABRRRQAUUUUAFFFFABRRRQAUUUUAFfE3/AAVs0P8A4SGXUrDZu8v9ln4nXOP%2BuOoeEZs/%2BQ6%2B2a%2BVv28tE/4Sb4uL4b8vd/aH7K3xWttuOvmXHhZcfrXJj4e1wFaHeEl/5LI%2Bg4SxX1LizLsR/JiKEvurUm/wue0fsla5/wAJN%2Byp8MvEhfd/aHw%2B0W53evmWML5/WvQa8O/4Jn63/wAJB/wT8%2BDl/v3eX8PdMts5/wCeMCw4/wDIde40YCftcBRn3hF/%2BSxDizC/UuK8ww/8mIrx%2B6tVS/CwUUUV1nz4UUUUAFFFFABRRRQAUUUUAFFFFABRRRQAUUUUAFFFFABRRRQAUUUUAFFFFABRRRQAUUUUAFFFFABRRRQAUUUUAFeM%2BOP%2BUhfwv/7Iz48/9O3hCvZq8Z8cf8pC/hf/ANkZ8ef%2BnbwhQB7NRRRQAV5h%2B1t8ZPGXwY%2BGFhffDWz0yXxL4k8YaL4a0CTW4JJbK1uNQv4bY3U8cUkbyxwxySTeUskZlMQjDx796%2Bn1xvx4%2BCXhr9oH4dS/DvxNrGp6Xt1Kx1PS9a0SaOO90vULK6iu7S7gaWOSPfHPDG22RHjcAo6OjMpAPE7/APbH%2BM/hn9kP4ifEjXfD3h698c/DfxvN4W1u%2BsNNuk0YBb62i/tlrbzpJ0tYbK7jvp4BMzIIZoxMcCWvMI/%2BCreu6h4THgrwr488F%2BIfE7/GWfwNZ/EHwp4F1bWNF1GCLw7D4gbULLR7C6mvL0%2BVcJaeTDdMDIks/m%2BUhWvpf4c/ssD4U/D3VvA3gv49eOILrXJLy91LxNKuky6hNq11dPcT6qS9gYfPJcRiLyvsqRRRokChawT%2BwZ4Ii8L2ken/ABg8b2vjS08bzeLm%2BKUcmmPrlxq81g2myzyLJYtYsraewtBD9kESRRRbEVo0dQDtvh/8cfAd1%2Bzro/x68bfGbwncaFLoEN/qXje3/wCJVpEilRvuAt1NIbSMtn93LKzRn5GYsDXE/wDBOnxP4a8a/s3X3jDwb4hsdX0jVPi38Q7vTNU0y7S4truCTxnrTRyxSoSsiMpDBlJBBBBr0r4I/B7wj8AfhVovwg8CtePpuiWxjiuNRuPOubmR3aSWeZ8ANLJK7yOQACznAUYA4P8AYP8A%2BSIa5/2Wb4j/APqa63QB7NRRRQAUUUUAFFFFABRRRQAUVX1fV9J0DTJ9b13VLeysrWIyXN3dzrHFCg5LM7EBQPUnFfHvxu/4LWfs5eGPGCfB/wDZZ8Ka38cPHdzIY7TQ/AsTPaFx13Xmx1Kgcl4UlUAfMVGTXHjMwwWXwUsRUUb7Lq/JJXbfomc9bFUKE405P3pfDFJylK2r5YxUpOy1do2S1bS1X2BrWt6N4b0m417xFq9rYWNnC0t3e3twsUUEYGS7uxAVQOpJwK%2BUvG3/AAVGi%2BJfiG9%2BF3/BPL4Oaj8Y/ENq5ivvEkLGz8L6Q/8AeuNQkwsuB8wSLhwDtfNeDfFT9gL/AIKvf8FG9bttc/a6%2BMXhL4Y%2BEop1msPh7pCvqiWjK2VeeCNxBdyDAO6WeRclgEUErXsfg7/gi58KJPDdr4U%2BO37R3xN8c6PaxiNPCUevDRtARO6x6fYqixA9wr14NXHZ9mE3HC0HTp/zScYyfonzcq83GUvJH02X53wtlOFjWjl9XMMU9o1X9VwkH059ZYrEPvGMcPTe3NLU8H8d%2BJv2YdS%2BIlnrX/BSD9qe7/aF%2BIENx5uj/BH4RafNfaHpcw6xpa25C3Eq9N1y6MwOHR8Zr3/RP2kP%2BCjPxP0e28Mfsn/8E8NH%2BGfh%2BGFYdM1j4vayllHbRAYVRpVkPOiCjsCR27V9IfBT9m/4Cfs46D/wjXwL%2BEWgeFrRlCzDSNOSOSfHQyy43zN/tOzH3rtq6MJk2JpJuVbkct%2BRe8/8VSfNN/JRS6JHkZ/n3GvGDgs2xyp0ad/Z0MPCNKjST6U42aj5yUOeW8pyep8hN/wT2/aq%2BOo879s//goR4tv7Cbmfwd8LbSPw9p23vDJMgaa5jP8AthW9%2BK9i/Z%2B/YR/ZE/ZciRvgj8BdA0m9Qc6zLbfatQf1zdTl5jk843Y9q9bor0qGVYChU9ooc0/5pNyl98m7fKx4eGyTLMNVVVU%2Baf8ANNucv/ApuTX/AG6ohRRRXoHqhRRRQAUUUUAFFFFABRRRQAUUUUAFFFFABRRRQAUUUUAFFFFABXjP7L//ACW/9o7/ALLNY/8AqFeF69mrxn9l/wD5Lf8AtHf9lmsf/UK8L0AezUUUUAFFFFABRRRQAUUUUAFFFFABRRRQAUUUUAFFFFABRRRQAUUUUAef/tV/Gq5/Zz/Zv8bfHHT9BTVbzwx4cur7T9MlmMUd3dKh8iF3AJRGlKKzgEqpJwcYrzzwB%2B1J8Sfh9o3xm0n9qOTw/quq/BvR4devtY8D6LPp9rqely6a94uy1ubq5eGZHt7uIgzurhI5Pk3mNPYfi58LPBvxw%2BFniL4N/EOwkutC8U6Lc6Vq0EMzRSNbzxNG%2Bx1w0bgMSrqQVYAgggVwXwz/AGOvDXgO28SR%2BK/ix4u8cz%2BNhKnjm88YDTHk1%2BE2cVlFBMLSygSKKGCMhEt1hDNNM8nmvIWoA5z9gn9qPxV%2B0t4f1HVPHvxH8K3%2BrDStL1UeGdA8B6vokuj216kzxky6nOx1a2cxukOoQRQQTm3mKL1VMf4ifEL4T/F7/goLoXwg8FfEzw7rWuaP8C/H9l4m0TS9aguLvSXn1LwoqJdQxuXgLbXwHCk7Wx0Neg/s6/si%2BF/2d9e1DxZF8T/F3jDVrzw9pvh%2B21Lxhc2byWGj6e1w1pYxC0trdSiNdTsZZVknkLjzJX2rtpeOP%2BUhfwv/AOyM%2BPP/AE7eEKUkpRafUulUlRqxqR3i016ppr8UjhP%2BCL%2Bt/wBv/wDBMn4VXpbJi02%2Btjnt5OpXUOP/AByvqGvkv/git/xLv2IY/BnT/hHPHfiLTdv93bqU0mP/ACJX1pXl5G3LJsPf%2BSK%2B5W/Q%2B68U6caXiXnKjs8TWkvSc3NfhNBRRRXqnwQUUUUAFFFFABRRRQAUUUUAFFFFABRRRQAUUUUAFFFFABRRRQAUUUUAFFFFABRRRQAUUUUAFFFFABRRRQAUUUUAFeM%2BOP8AlIX8L/8AsjPjz/07eEK9mrxnxx/ykL%2BF/wD2Rnx5/wCnbwhQB7NRRRQAUUUUAFFFFABXjP7B/wDyRDXP%2ByzfEf8A9TXW69mrxn9g/wD5Ihrn/ZZviP8A%2BprrdAHs1FFFABRRRQAUUV49%2B2l%2B2B4V/Y%2B%2BGMHiS50GfxF4q1%2B/TS/AvgrTn/0vXtSkIVIYwASqAsC8mDtBAwWZVbHEV6OFoyq1XaMdW/6%2B5JattJaswxWJoYPDyr1pcsYq7f8AWrb0SSu22kk2z1%2BSSOGNpppFREUlmY4AA6kmviH9rD/grdp1imt%2BC/2NJdC1c6A4i8X/ABa8STMvhXwyT0QSR5bULo87IIA5Y42iTDKPKf2trj4zanbadp//AAUY%2BOeo6vrfikhfCP7KvwHlkgfVmbO2O/u13TSw8YkY/ICjGJmI2161%2ByT/AMEwbrU7rQfi1%2B2f4b0JDoH7zwF8FvD0Q/4Rzwep53yJki/vTwXnkL5bJLSYQp8xicyzTMqzwuCg4fzN/FFedrqF1tG8qj6RgvePo8m4UxuZZdDOM/nPL8tlfk0i8Zi7OzjhqUrxpwvpPE1bwp6qKqVFyL5g%2BHn7CX7Z/wDwVZ8S2vj79of4%2BeOY/heJhNDrXia1XTn1lc5D6ZosR8m0iI4FxNvLrsdVJ3IP0p/Zb/Yx/Zv/AGNvB/8Awh/wB%2BGtnpAljVdQ1Vx5t/qBH8U9w3zvzkhchFydqqOK9SAAGAMAdBRXpZZkOCy2brP36r3nLWXyu3yryTv3bHj82wTpywuUYSGDwz05INyqVLbPEYid62InfV88o00/4dCCSCiiivbPCCiiigAooooAKKKKACiiigAooooAKKKKACiiigAooooAKKKKACiiigAooooAKKKKACvGf2X/APkt/wC0d/2Wax/9QrwvXs1eM/sv/wDJb/2jv%2ByzWP8A6hXhegD2aiiigAooooAKKKKACiiigAooooAKKKKACiiigAooooAKKKKACiiigAooooAK8Z8cf8pC/hf/ANkZ8ef%2BnbwhXs1eM%2BOP%2BUhfwv8A%2ByM%2BPP8A07eEKAPMf%2BCSP/Et8KfHTwYeP7A/aV8WWUaeke%2BB1I9jvNfWlfJf/BOD/iTftD/tUeDOnkfGp9S2/wDX5aRvn8dlfWleTkemVwj2cl906iP0DxS97jrFVf8An5GhU/8AA8LhJfi7v5hRRRXrH5%2BFFFFABRRRQAUUUUAFFFFABRRRQAUUUUAFFFFABRRRQAUUUUAFFFFABRRRQAUUUUAFFFFABRRRQAUUUUAFFFFABXjPjj/lIX8L/wDsjPjz/wBO3hCvZq8Z8cf8pC/hf/2Rnx5/6dvCFAHs1FFFABWb4w8ZeEPh54Xv/HHj/wAV6boei6XbNcanrGsX0dta2cKjLSSyyEJGgHVmIArSrxD9v7w34i134J6Nq2ieFNS1%2B08N/Evwrr/iDQ9H06S8urzTbHWrS5uDFbRK0ly8Kx/aRCitJJ9n2oruVUgHpmmfGH4R618Mh8a9H%2BKXhy78GnT3vx4tttct5NMNogJe4%2B1K5i8pQrZfdtG05PFQaL8dfgj4k%2BFc/wAdPDvxj8K3/gi2sri8ufGNl4htpdKit4N3nzNdq5hWOPY%2B9y2F2NkjBr5Y8NfD20%2BJP7J/xb8PeL9C8deEdO8T/Eu/8eeE7b/hWWqXV3Z2sWswXdrK%2Bmi38yZri9s3vJNOwty8N2Q8cbSHHl%2Bpfs%2Bft4fFz4FfFDxLaeGNB8VaF47%2BK2oeLL/w34ts9U8E3GsWVr4b0uxskg0w2eo3NtE2p2Mt19juCss/kQNI%2BLiZCAfoxoutaP4k0e08ReHdWtr/AE%2B/to7mxvrKdZYbmF1DJJG6kq6MpBDAkEEEV5F%2Bwf8A8kQ1z/ss3xH/APU11upP2WdD%2BOFn%2Bwr8PPDN/Y6P4O8dWvw60q1e31SyudUtdNuY7WJNs8JNjNIwVfnj3QlHLLuO3c2b/wAE6bfxLafs3X1r4y1axv8AV4/i38Q11O%2B0zTntLa4nHjPWvMkigeaZoULZIRpZCoIBdsZIB7pRRRQAUUV5F%2B2h%2B134P/Y7%2BEv/AAm2q6VNrfiLV7tNM8E%2BELAk3evapJ8sVvEoBOMkF3AO1egLFVbKvXpYajKrVdoxV2/6/BbttJaswxOJoYPDyr1pcsYq7f8AX3JLVtpJNtG9%2B0p%2B058Gf2TPhhd/Fn43eLotM023%2BS1gHz3OoXBBK29vEPmllbHCjgDLMVUFh%2Bddh8UP2i/in%2B0tF8TrXwPDqn7SPjPTGj%2BHPgvUl8zTfg14Xk/5iOo5BC30qOH2Mu/94AV/eLA0Mdl8ffjH%2B0qIorrSvip%2B0skQN1eyJ5ngr4IWzn7qL8yXGoJj/bIkT%2BNkJf74/Y3/AGNfAH7H3gS60rR9TuvEHivxBc/bvG/jnV/nv9fvmJLSyMSSqAs2yPJCgk5ZmZ2%2BSc8bxDi0o3hSg9%2Bqf4p1OyV40rttyq2UPs8n4doZHSo8RcWUE5tKpg8BP4ptq8MVjYp3hRiveo4dtTrOzfLS5pyy/wBkP9g74dfsuz3/AMRNc1298b/E3xCN/iv4keIz5l/eucboosk/ZrcYAWJD0VQxbauPdaKK%2Brw2GoYSiqVGPLFf023u29222292eRnWd5rxFmM8dmNV1Ksrau2iStGMYpKMIRVlGEIxhGKSjFLcooorc8oKKKKACiiigAooooAKKKKACiiigAooooAKKKKACiiigAooooAKKKKACiiigAooooAKKKKACvGf2X/%2BS3/tHf8AZZrH/wBQrwvXs1eM/sv/APJb/wBo7/ss1j/6hXhegD2aiiigAooooAKKKKACiiigAooooAKKKKACiiigAooooAKKKKACiiigAoqO9vbPTrOXUNQu4oLeCJpJ55pAqRooyzMx4AABJJ6VgfC34w/CT44%2BFV8d/BT4peHPGGhtcPAus%2BFtbt9QtDKmN8Ymgd03LkZXORnmgDo68X8dTwr/AMFEfhbbNKokf4L%2BPWVCeSBq/g8E49sj8xXqHhj4ifD/AMbaprWh%2BDPHOj6ve%2BG9SGneIrPS9TiuJdLvPKSb7PcpGxMEvlSxyeW4DbZEbGGBPxx/wUJ%2BM118CP8AgqV%2Bx54unuWj0nWbTxt4a1kjhfL1CXw9FCWPZVuBAxJ4%2BWsMTiIYWi6s9la/zaX6o5sZiqeDw7rT2TV/nKMb/LmR1f7HH/El/wCCmP7W/hY8JLdeDNStx/e87SZPMP8A30AK%2BtK%2BS/g5/wASL/gsd8ZdK%2B7/AG98KfDupY/veRI9vn9cV9aVwZNphqke1Sqv/J2//bj9J8SPfzvC1/8An5g8DL/y1hB/jSYUUUV6x%2BfhRRRQAUUUUAFFFFABRRRQAUUUUAFFFFABRRRQAUUUUAFFFFABRRRQAUUUUAFFFFABRRRQAUUUUAFFFFABRRRQAV4z44/5SF/C/wD7Iz48/wDTt4Qr2avGfHH/ACkL%2BF//AGRnx5/6dvCFAHs1FFFABRRRQAUUUUAFeM/sH/8AJENc/wCyzfEf/wBTXW69mrxn9g//AJIhrn/ZZviP/wCprrdAHs1FFYXxP%2BJngf4NfD3WPin8SvEMGlaDoNhJeapf3B%2BWKJBk8DlmJwqqMlmIUAkgVMpRhFyk7JatkznCnBzm7JatvZJbtmX8e/j18Lf2ZvhTq3xn%2BMfieLStC0aDzLid%2BXlc8JDEnWSV2wqoOST6ZNfmL4j1L9pj9sb9pvTNUa1m0f4uePNKf/hDtHl3NH8HfBMnEuqTjjbqt3G2E%2B66iQHKM8Kx9b8aPi74z%2BMun6T/AMFAP2k/h/c3GlTapHY/sq/AK5XfLruqz/LbavqESn94xyJFT7qpjB%2BZDL9i/sFfsiX/AOzP4B1Hxf8AFLXB4g%2BKnj27Gr/EjxTIQzXF4wJW1iP8NvAGKIowv3mAUMFX4%2BvKvxDjY0Y3jRjaT6O3ST7Slr7Nbxjeq7N00vp%2BD8Bh8PgocaZvSUqEJtYDDzV1iK8LXxVWD3w%2BGbUoQkrVazpxloppdx%2BzN%2BzF8H/2SvhTY/CL4MeGI7DT7YB7y6cBrnUbkgB7q4k6yyuRkk8AYVQqgKPQaKK%2BupUqVCkqdOKUUrJLRJHjZhmGOzXHVMZjasqlWpJylOTblKT1bberf/ASSSSRRRRWhxhRRRQAUUUUAFFFFABRRRQAUUUUAFFFFABRRRQAUUUUAFFFFABRRRQAUUUUAFFFFABRRRQAUUUUAFeM/sv/APJb/wBo7/ss1j/6hXhevZq8Z/Zf/wCS3/tHf9lmsf8A1CvC9AHs1FFFABRRRQAUUUUAFFFFABRRRQAUUUUAFFFFABRRRQAUUUUAFFFFAHkX7ffw%2B8afFb9ij4p/Dj4eaNLqes6z4G1G1stIgcK%2BploG3WaliFBnXdCNxC/vOSBk15Z8GNd%2BJfijxp8d/ij8Afh5q/hq78e2NnH8MYfiL4H1fRrO51mw0VIXvr6GW1E1pbmR7O23Sxo8y2D%2BSsiojH6wooA%2BPv8Aglt8Fvj/APArx/8AHDwl8YPg5pPhyxuvFukXljrWn%2BLbzVzr942g6et7eme40uxFy0s6vLLOq83MtxGUHlB382/4KufAn4zfGH4k3enar4z0G/XTPgV438RfDq00TwvPZ6hplzp2s%2BELsrNcyXs6Xckgj8tWjht9u5shtwK/oVXi3xAgguv%2BCgnwytbqFZI5Pgt49WSN1BVlOreEAQQeoIrnxeHhi8LOhLaSa%2B9W/DR/I5cdhaeOwVTDT2nFx%2B9NX%2BWj%2BR82fE7402nhbxz%2Bzv8A8FcNBkEPhvxr4csvB/xYWNv3drZX%2BJYJ37KLa93q7ck4RR1r78BBGQa%2BD/2Ivgn4c%2BJX7LXx6/4JZ/EdyLfwH4z1XRNMMg3vb6TfM17pd2Af4lkZ5VB4zGtexf8ABLz45%2BKfiz%2BzNF4A%2BKrlPH3wv1Wfwd44t5Xy5u7I%2BXHOSeXEsIjff0Zt%2BM4rwcmxE41kp/8AL6PN6VYe5VXz5VP7z72hip8Y%2BFuBzWeuKy%2B2Gr93SlKfsJv/AK91o18O30U6XkfR1FFFfTHxgUUUUAFFFFABRRRQAUUUUAFFFFABRRRQAUUUUAFFFFABRRRQAUUUUAFFFFABRRRQAUUUUAFFFFABRRRQAUUUUAFeM%2BOP%2BUhfwv8A%2ByM%2BPP8A07eEK9mrxnxx/wApC/hf/wBkZ8ef%2BnbwhQB7NRRRQAUUV5h%2B1t8ZPGXwY%2BGFhffDWz0yXxL4k8YaL4a0CTW4JJbK1uNQv4bY3U8cUkbyxwxySTeUskZlMQjDx796gHp9FfMN/wDtj/Gfwz%2ByH8RPiRrvh7w9e%2BOfhv43m8La3fWGm3SaMAt9bRf2y1t50k6WsNldx308AmZkEM0YmOBLWN8Kf2y/ir8dfgz8Q/FngP8AaP8Ag1ZJ8JPGlzpnir4pXPhC9u/DWraemjWOqi8tLdNXjaBFS/WJ5DeTJutZWXcrrtAPrevGf2D/APkiGuf9lm%2BI/wD6mut1vfB/4%2BJrn7KPhP8AaS/aDsrD4dPqngrTtb8VWmv34tbfQpZ7eOSWKaW42eWEdyv7wKwxhgDkVyf/AATp8T%2BGvGv7N194w8G%2BIbHV9I1T4t/EO70zVNMu0uLa7gk8Z600csUqErIjKQwZSQQQQaAPdK%2BDfib4y0H/AIKUfG7Vm8Ra5FZ/svfA%2B%2BkvvGOsSyYtfGes2qmVod3SSxtgNzkZVz03B0ZPZf8AgqL8dfFPwh/ZhuPBHwsYv49%2BJuqQeDfA1tE%2B2T7bfExtMCOV8uIyOHxhXCZ614V8WPg/pPieb4Y/8EUfgTeSReGdA0O01n44a3Yfu2XSomWQWzMv3Z764JkYfeAdWwULCvmc6xTq1Pq0VzRjy3j/ADzk/wB3Tf8Ad0c5/wByNno3ffh7h1cc8VRymvU9ngqEPb4upa/LRh7zT6O6Wkf%2BXk50ae05HbfsSeCPEf7Zvxwk/wCClPxk8PzWOg21vLpfwD8J3kYX%2By9JJKSaq8fRbi5wdp7R9Cy%2BUw%2BzKraLo2k%2BHNGtPD2gabDZ2NhbR29laW0YSOCFFCpGqjhVVQAAOgFWa9nAYNYKhyt80m7yl/NJ7v06JdIpLoe9xXxFLiTNfbU6fsqFOKp0KSd1SowuoQXd6udSW9SrOpN6yViiiiu0%2BaCiiigAooooAKKKKACiiigAooooAKKKKACiiigAooooAKKKKACiiigAooooAKKKKACiiigAooooAKKKKACvGf2X/wDkt/7R3/ZZrH/1CvC9ezV4z%2By//wAlv/aO/wCyzWP/AKhXhegD2aiiigAooooAKKKKACiiigAooooAKKKKACiiigAooooAKKKKACiiigAooooAK8Z8cf8AKQv4X/8AZGfHn/p28IV7NXjPjj/lIX8L/wDsjPjz/wBO3hCgDxj9rBvFv7Bn7XB/4KHaJo0uq/Dfxjpdj4f%2BNFjZ27Nc6T5LbLPWUC8yJGGWJ1xkL0yXBSD9oSw8cfsk/Ge6/wCCm/7MloPGfw78baTYv8YvCujbZJLiyijxb69YspxI0cLZdejIWYnDM8f2Tr2g6J4p0O88M%2BJdJt7/AE7UbWS2v7G7hEkVxC6lXjdW4ZWUkEHgg18PeHPEvj//AII/eI7/AOHvxD8Naz4m/Zn1PUjP4Y8V2Sve3PgEzsTJY3kQBkey3tlJRkrnHzs%2B0fMZhhVhJuTk40pS51JaulU/m86c/tJ6Jt3tGV4vhviWr4fZzVxFSkq2X4lShiKUr8vLNxc02ryhGUoxqQqR96hXjGovdck/sz4VfFT4f/G74eaT8VfhZ4ottZ0DW7RbnTdRtGysiHggg8qykFWRgGVlKkAgiugr4bj%2BFHxb/ZD1C7/aq/4JmyaZ8R/hB4wm/tjxH8H9OvFKBmH7y%2B0OZMqrkD5rbGDt2qrYRY/pX9lr9sD4F/tg%2BCX8Y/BzxQZZ7R/J1vw/qEfkalo9wCQ0F1bk7o2DAjPKNtO1mAr08FmKqyVDEJRq2vb7M1/NB/aT3tfmjezX2n9tn/CdKjgf7byKr9Zy2TVpqzqUXLVUsTCN/Zz6RqK9GtbmpVNXTh6fRRRXqHxAUUUUAFFFFABRRRQAUUUUAFFFFABRRRQAUUUUAFFFFABRRRQAUUUUAFFFFABRRRQAUUUUAFFFFABRRRQAV4z44/5SF/C//sjPjz/07eEK9mrxnxx/ykL%2BF/8A2Rnx5/6dvCFAHs1FFFABXG/Hj4JeGv2gfh1L8O/E2sanpe3UrHU9L1rRJo473S9QsrqK7tLuBpY5I98c8MbbZEeNwCjo6MynsqKAPKfhz%2BywPhT8PdW8DeC/j144gutckvL3UvE0q6TLqE2rXV09xPqpL2Bh88lxGIvK%2BypFFGiQKFriPHX/AATd8G%2BPPh3aeBb39on4k2t03xBj8aeKPEcD6LNd%2BK9Xiijit5NShudMls5YoVgtPKgjt44kNlbEL%2B6Wvo2igDP8KaNqPh3w1Y6Fq/izUNeurS1SK41rVo7dLm9dRgzSrbRQwh26kRxomTwoHFeU/sH/APJENc/7LN8R/wD1Ndbr2avmb4M/Fmx%2BA/7CvxP%2BNGoFPL8LeP8A4qamqP0keHxfrrpH7lmCqB3LCoqVIUqcpydkk2/RJt/kZ1asKFKVSbtGKbfok2/wTPG/i18cvDHjT9tP4j/te%2BNWF18Of2SfClzp2iRM%2BI9R8XXceLhUJ4LoPLtcEfLK0bA817V/wTF%2BAPif4a/A%2B4%2BOPxiZrn4m/F68HijxzfTR7XiaYFrayUHlI4IXCiPorNIBxgD5E%2BDPwfuviT4A/Zv/AOCet2j3UniqM/GT49XEp3SXdq8v2i2guf7xmleKFgcMPJjNfqcAAMAV8tkdKeMxMsXVW2v/AG/NJy/8Ap%2Bzprt7/dn2OBp1eGPDHD0Z%2B7i84l9br91h4txwtJ9eWUoyrNbNU6bs1YKKKK%2BsPkgooooAKKKKACiiigAooooAKKKKACiiigAooooAKKKKACiiigAooooAKKKKACiiigAooooAKKKKACiiigAooooAK8Z/Zf8A%2BS3/ALR3/ZZrH/1CvC9ezV4z%2By//AMlv/aO/7LNY/wDqFeF6APZqKKKACiiigAooooAKKKKACiiigAooooAKKKKACiiigAooooAKKKKACivMP20/i94q%2BAf7JnxD%2BMfgaO1Ot%2BH/AApeXWjvfRF7eG6EZEUsqggtEjlXdcjKqwyM5HI/s56/8aD49%2BLv7M3jj446p4pvvCK6XN4e8eapo2nQ38SajYM3lzRWdvBayPBPDLIuIVzHNEjhypdwD32vGfHH/KQv4X/9kZ8ef%2BnbwhWL%2BxR47%2BJ/i/xp8S9F1P4z6x8SPAvh7WrXTPCvjvxBpenW1zfalEkqatbRtp1ra29zbW8ywxLMsIPn/a4i7%2BTxBf8AxO8N%2BMf%2BCm3gvwZpOm%2BIYbzw98HvHEd/NqvhHUbG0lL6t4Swba6uYI4L0DactbvIFyNxG5cgH0PUOoafYatYT6XqtlDc2tzE0VzbXEQeOWNhhkZTwykEgg8EGpqKNwaTVmfH3if/AIJ/fG39l/xTqPxU/wCCY/xUs/DUF/dG71n4OeK0efw1qMp%2B8bYqfM0%2BRsf8s/lJ2rmNFxXiHxG8c/su/Gr4u29/%2B0Jpfij9j/8AaTtxssfGQlENjqrjAz9sXba6jbnCqfNKMQAgkYAg/phXP/Ez4U/DP4z%2BE5/Avxa8A6R4k0e5/wBdputafHcRE44YK4O1hnhhgg8givAxWR05QccO0o3vySTcL942alTfnTkv8JjkmJz/AIOx/wBe4axbw82mpQfvUZxfxQlTd1yS%2B1DllTfWl1Xyjo37eH7S/wCyJbwaR/wUO%2BEZ1jwrhfsXx0%2BGVo17pM8JxtmvrSMeZaEjBLoCjM2EQgZP1V8KvjD8LPjl4Ot/iB8HviBpPiTRrofutQ0e9SaPdjJRtpyjjPKNhgeCAa%2BYr/8A4JhePvgTJcar/wAE9P2q/EPw7tpGZ3%2BHvicHXPDM%2B7O6NYLgmS2DZ%2BZ1LtjoBXy98T/gn8bvgF4vuPif4z/ZJ8afCHxSDm6%2BK/7K17/aeh35H/LS90KRlKwAkswJQsTkg9D56x%2Bb5TpiKbnBd/et6VIrX/uLCL7ze59i%2BJ%2BB%2BINM9wk8oxL3rUISxGBm%2B86UL1sPfdulz01r%2B6SVj9YqK/NX4Cf8Flfi7oXlaP4/s/Cnxv0qNth134ZXX9m%2BJVAOD5%2BgXoilml67vs4ES4%2B8cgn67/Z9/wCCjX7HH7S12ug/Dr406db6/wCZ5U3hXxDnTdUilBw0X2e42tIwPB8veM969fBZ9leOsoVEpPpKyfy1tL/t2T9C8TwTnccvlmWXuGOwi3r4SccRSS/v%2BzvUpPyrUqTWt3oz2%2BiiivYPkQooooAKKKKACiiigAooooAKKKKACiiigAooooAKKKKACiiigAooooAKKKKACiiigAooooAK8Z8cf8pC/hf/ANkZ8ef%2BnbwhXs1eM%2BOP%2BUhfwv8A%2ByM%2BPP8A07eEKAPZqKKKACiis3xh4y8IfDzwvf8Ajjx/4r03Q9F0u2a41PWNYvo7a1s4VGWkllkISNAOrMQBQBpUVzmmfGH4R618Mh8a9H%2BKXhy78GnT3vx4tttct5NMNogJe4%2B1K5i8pQrZfdtG05PFY15%2B1P8Asxad8JYfj5qH7R3gODwJcT%2BTB41m8X2S6TJJ5hj2LeGXyS29WTAbO4EdRigDvK/OL9qPW5tc/wCCf8H7Nemagbe8%2BL/7Vni7wzJJG2Ggsz491q5uZyeyKkADH0f0r9F9O1HT9X0%2BDVtJvobq1uoVmtrm3lDxyxsAVdWGQykEEEcEGvyH%2BL/xI/tbx74nEU%2BbP4HaJ8a/FLPn92us6r4y1zTLKNv9tS0cq%2BmSRXicRV1Rymaf27R%2BT1l/5LGX3nLicurZ5Vw%2BT0fjxlajh1/3Gqwg38oOb9EfXf8AwSX8OD4paX48/b51nTRb3HxX8Qvb%2BErRl503wzprNZ2NsB/Af3blgMBtqNX2HXk37B3w3/4VF%2Bxd8Lfh5Jb%2BVPp3gXTftqYxi5e3SSb/AMiu9es11ZTQeHy2lGXxNJy85S96T%2B%2BT%2B5Lofd%2BIGZ0s14zx1WhpRhUdKkltGjR/c0YryVOlH1cnLeTCiiivRPjgooooAKKKKACiiigAooooAKKKKACiiigAooooAKKKKACiiigAooooAKKKKACiiigAooooAKKKKACiiigAooooAK8Z/Zf/AOS3/tHf9lmsf/UK8L17NXjP7L//ACW/9o7/ALLNY/8AqFeF6APZqKKKACiiigAooooAKKKKACiiigAooooAKKKKACiiigAooooAKKKKAMzxp4N8K/EXwdq3w%2B8daBa6romu6bPp%2BsaXexB4by1mjaOWGRTwyOjMpHcE1wPgX9jf4D/DfwxqvhPwhp3ieC311bv%2B3Lu5%2BIWt3N7qLXFrFaM895NePcTSJbwQxQyPIWt1jUQmPFeo0UAed/s5fss/B39lDwevw/8AgjbeJLPQ4bS2tbLStb8d6xrMFhBAhSKK1TUbqcWqBWxth2BgF3A7Vxzvjj/lIX8L/wDsjPjz/wBO3hCvZq8Z8cf8pC/hf/2Rnx5/6dvCFAHs1FFFABRRRQAUUUUAeVfHX9h79kb9pdZX%2BN/7PnhnXbqZcPqkmniG%2Bx6C6h2TL%2BDivlD47f8ABvh8C/iJaOnwt%2BPnjHw6wg8mysfESxa/Z2UfZIBcbJ4R7rNngelfoJRXl4zJMpzC/t6MW31tZ/erP77mFDDwwePjj8I5UcRHarSnOjUXpUpTpz%2B9td0z8tdB/YX/AOC5n7Gr4/Zm/ab0bxxoNuQLTw1qGstInlgf6tYNUVkgB4/1VwO/Iru/Dv8AwVl/b2%2BBwWw/be/4Jk%2BLo7eDi98TeAbSWa3QDqdh82Ek9f8Aj5Uegx0/Q%2BivPp8PTwf%2B5YqpTX8raqR%2B6auvlJHqYzOuIsd/vWJVd961KlUn86sY0KzfnKdR9W29X8o/B3/gtf8A8E5vjBLBprfHVPCmpTHa%2Bm%2BNtOl04wH0knYG2X/v7X0l4D%2BJ/wANfinpX9vfDH4h6H4jsc4%2B26Dq0N5F/wB9xMw/Wsn4m/s6/AD41AD4wfBDwl4pIUqkniDw7bXjoCMfK0qMVPuCDXzX8Rv%2BCEv/AAT08ZXP9reCvA/iDwFqgkMiap4L8T3EMiN/spcGaJB7Ki11X4hoLVU6vzlTf488fxR4t81lPalb1qx/Sp5W382fY1Ffnzrf/BJ/9v34W7rn9lf/AIKt%2BNlhj/49NE8cy3FxBGB0BkEkqflbiuS1XWP%2BDkP4CMZL2z8H/FCytwd1xYWWnyFgOn7tPsc759lJrnnnuJw/%2B8YKqvOKjUX/AJK7/gethsrzzF/waNOo%2B0MTQv8A%2BA1pYaTfkmz9M6K/Ki9/4Lj/APBQL4IQPN%2B1L%2BwXZ6V5Bw4m07WNHWX3SSaK4jwfXcRXffD3/g4b8D%2BJUhPif9lPW45ZgMWfhXxvpWr3J/3YC8MjH22iop8XZDOXLKo4PtKEov8AFHVjMg4ry6h7fF5Vi6dP%2Bf6tWnT/APBlGOJp/dNn6M0V8h2H/BaX9l23tI9Q%2BInwr%2BL/AIMgdd3n%2BJ/hrdIij13QGUEfTNdL4V/4LE/8E0/GJVdL/av0O3Zjjbq1jeWGD7/aYUxXowzvJ5uyxEL%2Bckn90uVnyi4gyNz5HiYKXaUuV/dNQf4H0vRXmXhb9tX9jrxvtXwj%2B1X8OdRd%2BkVp41sXk%2BhQS7gfYivQNF8R%2BHvElv8Aa/DuvWV/F/z1srpJV/NSRXfTr0K38Oal6NP8mz0aWJw2IV6VSMvSUX%2BTZdooorU3CiiigAooooAKKKKACiiigAooooAKKKKACiiigArxnxx/ykL%2BF/8A2Rnx5/6dvCFezV4z44/5SF/C/wD7Iz48/wDTt4QoA9mooooAK8Q/b%2B8N%2BItd%2BCejatonhTUtftPDfxL8K6/4g0PR9OkvLq802x1q0ubgxW0StJcvCsf2kQorSSfZ9qK7lVPt9FAHxd4a%2BHtp8Sf2T/i34e8X6F468I6d4n%2BJd/488J23/CstUuruztYtZgu7WV9NFv5kzXF7ZveSadhbl4bsh442kOOA%2BF3hX45%2BCPiLZfthfHTwn4t8T%2BFdR/aA1jxALTRPhNqltfWdtP4LtNFg1NfDqi51C1ja6tLyIRuJJwl%2Bs8oUSysn6IUUAeF/sY/Db4yfDv8AYF8B/DaP7F4U8XWPhCCOys/EWkvfw6Fu%2BeGznt4biAyfZ4WSAokyAGLCtgDP5i%2BG/hX4zvP2f/2gk8eapbXniP43/tqTfDWO906xktIbhLTxNeXE0ltC8szwQyTGb92ZZCNmGdyNx/a6vzc8MabYeNf2mv2fvgnptoi29v8AtD/GXxtriIvSSy8U6yLaVvUmZmXJ6YFeDxDh44jBJP8AmUV6zap/gpSPtvDXCQnx9gcxntgfbYv54fDV5xfyn7O3np1P0ggghtYEtraJY440CxogwFUDAAHpT6KK94%2BJbbd2FFFFABRRRQAUUUUAFFFFABRRRQAUUUUAFFFFABRRRQAUUUUAFFFFABRRRQAUUUUAFFFFABRRRQAUUUUAFFFFABRRRQAV4z%2By/wD8lv8A2jv%2ByzWP/qFeF69mrxn9l/8A5Lf%2B0d/2Wax/9QrwvQB7NRRRQAUUUUAFFFFABRRRQAUUUUAFFFFABRRRQAUUUUAFFFFABRRRQAUUUUAFeM%2BOP%2BUhfwv/AOyM%2BPP/AE7eEK9mrxnxx/ykL%2BF//ZGfHn/p28IUAezUUUUAFFFFABRRRQAUUUUAFFFFABRRRQAUUUUAIyq6lHUEEYII615j8Sf2Kf2QvjB5knxL/Zm8D6vPLndeXXhm2%2B0c9cTKgkH4NXp9FZVaFCvHlqxUl2aT/NM7sBmmZ5TW9tga86M%2B9Oc4P74Si/xfofJ%2Bof8ABF79iOxvJNV%2BEdh41%2BHF9I25r3wF48v7Rw394CSSRF/BQPaub8Vf8EpPjcqsvgL/AIKI%2BLr5APkh%2BKvg3S/Focf3Xa6RSc9M4zX2pRXmzyHKJK0aSj/hco/hGSX4H178T%2BOa8OTG4v61HtiadHEr/wAuKNWX/k5%2BcPin/gmB%2B1tp%2B5pfgP8Asg/EOD/lrLqXw6n0C/mHqGsFWMMfVjivP9a/YKvPDlx9t%2BIH/BDKC4aPk658LPjxNEyn/YtGnDGv1eorgqcK5fP4ZNeqhP8A9Kp3/H5nnVc%2B4YzB/wDCnw3l1Z944eWHl63w9aCv/wBufI/JX/hGf2bfAX7rxJ8Hv29fhD5f3r3R7%2B7lsov92dXl3Y/3a0fDnxt/ZG%2B1/wBl%2BDv%2BC5/x68OXqHBsviHDc3DxH0drmzRD/wB9V%2BrNZ3iPwf4S8Y2n2Dxd4W07VYMY8nUrGOdMfRwRWX%2BrdSn/AA6kfnCUf/TdaP8A6SYfVPBzE/xcirYd98PjqiS9I1qcl8ub5nwR4O1f4yeItg%2BD3/Bwx4H1Yn7mnaz4N8O3Mzem7NwJV/75r0nSfh7/AMFffsg1DwZ%2B2p8GPFsH8E%2BpeCJYUf6m0cj8q9c8Y/8ABPT9hXx7vbxP%2ByL8PJZJPv3Fv4UtbeVvrJCisfzrzfVv%2BCKn/BOa7vDqnh34JXvhy%2BPS98OeL9TtXX6KLgoP%2B%2BaP7KzSn8Ov%2BGvWj%2BE1UQf6r%2BEGI/g4/MsM/wC8qVZL5wxEHb/t2/kVftn/AAXG0L/j40f9mTXYh0%2By3GvWszfXf8g/Cj/hd3/BYrRP%2BQn%2Bw/8ADLXMdf7G%2BJRtt30%2B0IcfjS/8OlvD%2BgfP8Lf25/2i/Cu3/V2th8TXltR9YpYm3D6tR/wwt%2B3p4Z5%2BGv8AwVo8XQqv3I/FXw%2B0zV8j0LSFT%2BNHsc1p7xrf9u1qU/8A0qEQ/wCIf8H1v904rnHyrUMTD72qVdfcJ/w2N/wU40jjxH/wSNuJUHWfSPjXpE%2B76R%2BWGo/4eH/tV6X/AMjT/wAEpPixDj739k6lY32PpsYZpf8AhU3/AAWW8K/8gH9rb4P%2BK9vT/hKPAdxY7/r9jY4/Cj/hN/8Agtb4X/5DnwO%2BAPikL1/4RvxLqdiX%2Bn2sHFHtsfD4p4hetKlP/wBJD/iF2Pqf7nxNhKn%2BKtTg/urYSl%2BMkJ/w9S8Q6bx4n/4JnftPW%2BPvPYfDVLtB%2BK3A4oP/AAWC%2BD9n/wAjJ%2Byv%2B0Do2PvDU/hTcJt%2Bu2RqX/hr7/gp14c%2BXxf/AMEojfRL9688OfGLTJc/SF4w/wCtH/Dy/wCNGgf8j/8A8EuPj3bbfv8A/CO6Hb6tj6eXKuaPr9aPxYqS/wAWGa/JB/xCTxHl/u2Mw9b/AAVsvn%2BWLpv8EJ/w%2Bp/YotP%2BRhT4gaRj739pfDnUV2/XbE1Pg/4Lh/8ABMZpBBf/ALRc9jKf%2BWV74K1lCPx%2ByEfrTf8Ah8N8DtM/5Hz9nD47%2BFcff/4SH4V3Mez6%2BWz06L/gtf8A8E0ryQab4l%2BOF1pMzdbTXPBOrRH8c2pUfnR/azX/ADH0f%2B3oOP5ziJ%2BEPjUlengp1F/cwzqfjRxFVGxYf8Fkf%2BCZ2pY%2Bz/tYaKuf%2BfjTL6L/ANDgFbVh/wAFVP8AgnVqODb/ALX/AILXP/PfUvK/9DArCsf%2BCiH/AASk8c4Mvx%2B%2BGku//oL28cH5/aI1x%2BNbFj8TP%2BCU/jrH2Lx1%2Bz/qjP8AwDUNElb8VJJH4iumGOxdT4MVh5ff%2BlRnjYrgbxWwF/rGBnG382Excf8A21r8Tdsf%2BCjX7AuoY8j9sz4Zrn/nv40s4v8A0OQVr2f7cX7Feo4/s/8Aa/8AhdPnp5PxA01v5TVhWPwF/wCCcHjjH9m/Bj4I6xv6eR4c0e43fkhzVq6/4J5fsD6kvmP%2Bxn8LcMMgweBrCMH/AL4iFdcZ51JXi6L9Pafo2fP1sNxbhZctaFKL7SjXi/uaR09p%2B1R%2BzDqGPsH7R3gKfPTyfGFk38pa8/vviB4D8d/8FCPhrJ4H8baRrK23wZ8dfaG0rUorgRbtW8I7d3lsdudrYz1wfSpbz/gl9/wTzvsmb9jzwGuf%2BeOhRx/%2BgYrjfh9%2Byb%2Bzj%2By//wAFDfAr/s//AAi0nwqde%2BDPjX%2B1/wCyo2UXXk6t4U8rcCx%2B750mMY%2B%2Ba3oSzX2qVaNPl68rnf5Jq34jw0s7dZLERpcnVxlUv8lKNt/M%2BqqKKK9A9QKKKKACiiigAr84/wDgm3/xc7/gpp8Udf8A9ZbfDCLxtomzqIbzUfiDrl7v9mMKlfpX6OV8Lf8ABFvwG1n47/aw%2BLlxb7JNe/ak8X6WjEcvFYatebT9N11IPqDXmZhTlVr4aC29pzP/ALdjJr8Wj7jhDF0svyrOsTJ%2B%2B8K6UPWvXoU5f%2BU4z/pn3TRRRXpnw4UUUUAFFFFABRRRQAUUUUAFFFFABRRRQAUUUUAFFFFABRRRQAUUUUAFFFFABRRRQAUUUUAFFFFABRRRQAUUUUAFFFFABXjP7L//ACW/9o7/ALLNY/8AqFeF69mrxn9l/wD5Lf8AtHf9lmsf/UK8L0AezUUUUAFFFFABRRRQAUUUUAFFFFABRRRQAUUUUAFFFFABRRRQAUUUUAZvjPxj4V%2BHfg/VviB451%2B10rRNC02fUNY1S9lCQ2drDG0ks0jHhURFZiewBrlfhJ%2B0x8GPjb4R1jxt4G8T3UVl4duWt/EMXiPQr3RbrS3FvHc/6Ta6jDBPADBLFMrOiq0ciupKkGsz9tT4Q%2BKvj5%2ByZ8Q/g74Fe1Gt%2BIPCl5a6PHfSlLea6MZMUUrAErE7hUdsHCsxwcYPi6/BH47ftAeH/wBoZvGXwa1v4eTfHPwbJ4a0W11fVtLuZdFWDRZLRby9NjeTIGmuLyZY1gaYiK0RpDEXCAA93%2BAn7UXwS/aasL/UPg74nvb0aYLd7y31Xw7f6VcLDcR%2BZb3CwX0EMklvMgZorhVMUoRtjttbHM%2BOP%2BUhfwv/AOyM%2BPP/AE7eEK539kfwX8bdX%2BOXi79ob4xfBO6%2BHh1P4ceEvCFn4bv9XsLyaabSptZubm7V7GeaMWzPqyxQhmWXEEjPHHvVa5f4zaD%2B0d4H/wCCjfgPxV8JNct/H82s/CjxuYvC3xA8T22h6boFuuqeE932OfTtEuLmYsxQFLkycDKyLgq4B9YUV4z/AMJx/wAFC/8Ao1/4M/8Ah%2BNW/wDmXo/4Tj/goX/0a/8ABn/w/Grf/MvQB7NRXjP/AAnH/BQv/o1/4M/%2BH41b/wCZej/hOP8AgoX/ANGv/Bn/AMPxq3/zL0AezUV846T%2B0d%2B3brHxn1/4HW/7KHwkXVPDvhfSNdvLl/jrqnkSQajc6lbwohHhjcXVtLnLAqAA8eCxLBeo/wCE4/4KF/8ARr/wZ/8AD8at/wDMvQB7NRXjP/Ccf8FC/wDo1/4M/wDh%2BNW/%2BZej/hOP%2BChf/Rr/AMGf/D8at/8AMvQB7NRXjP8AwnH/AAUL/wCjX/gz/wCH41b/AOZeuX8A/tHft2/ETxX438IaP%2Byh8JIbjwH4oi0LVZLn466oEnnk0rT9TDxbfDBJTydRhUlgp3o4xgBmAPo6ivGf%2BE4/4KF/9Gv/AAZ/8Pxq3/zL0f8ACcf8FC/%2BjX/gz/4fjVv/AJl6APZqK8Z/4Tj/AIKF/wDRr/wZ/wDD8at/8y9H/Ccf8FC/%2BjX/AIM/%2BH41b/5l6APZqK%2BcfhF%2B0d%2B3b8ZfCl34v8OfsofCS2t7PxRrehSR3vx11RXM%2Bl6rdaZO42%2BGGGxprSRkOclGUkKcqOo/4Tj/AIKF/wDRr/wZ/wDD8at/8y9AHs1FeM/8Jx/wUL/6Nf8Agz/4fjVv/mXo/wCE4/4KF/8ARr/wZ/8AD8at/wDMvQB7NRXjP/Ccf8FC/wDo1/4M/wDh%2BNW/%2BZeuX%2BCP7R37dvx4%2BDHhD44%2BFf2UPhJa6X4z8L6frum22ofHXVFnhgu7aO4jSQJ4YZQ4WQBgrMMg4JHNAH0dRXjP/Ccf8FC/%2BjX/AIM/%2BH41b/5l6P8AhOP%2BChf/AEa/8Gf/AA/Grf8AzL0AezUV4z/wnH/BQv8A6Nf%2BDP8A4fjVv/mXrl/jd%2B0d%2B3b8B/gx4v8Ajj4q/ZQ%2BEl1pfgzwvqGu6lbaf8ddUaeaC0tpLiRIw/hhVLlYyFDMoyRkgc0AfR1FeM/8Jx/wUL/6Nf8Agz/4fjVv/mXo/wCE4/4KF/8ARr/wZ/8AD8at/wDMvQB7NRXjP/Ccf8FC/wDo1/4M/wDh%2BNW/%2BZej/hOP%2BChf/Rr/AMGf/D8at/8AMvQB7NRXzj8Xf2jv27fg14UtPF/iP9lD4SXNveeKNE0KOOy%2BOuqM4n1TVbXTIHO7wwo2LNdxs5zkIrEBjhT1H/Ccf8FC/wDo1/4M/wDh%2BNW/%2BZegD2aoryxsdRgNrqFnFPE33o5owyn8DXj3/Ccf8FC/%2BjX/AIM/%2BH41b/5l6P8AhOP%2BChf/AEa/8Gf/AA/Grf8AzL0bjTcXdPU7XXf2dv2fvFO4%2BJvgX4O1Hd977f4YtJs/XfGa43XP%2BCeH7B3iLJ1P9jj4abm%2B89v4LsoGP1aONTTP%2BE4/4KF/9Gv/AAZ/8Pxq3/zL1y/j79o79u34d%2BK/BHhDWP2UPhJNcePPFEuhaVJbfHXVCkE8elahqZeXd4YBCeTp0ygqGO90GMEsvNPBYOr8dKL9Yxf5xPZwvEvEmB/3bHV6f%2BGtWj/6TVS/Ai1v/gj/AP8ABNfX93279kzw/Hu6/Yrq7tvy8mZcVz7/APBEb/gnRaMZPC3wl1vQnJzu0fx5q8ZB9RuuWFem/wDCcf8ABQv/AKNf%2BDP/AIfjVv8A5l6P%2BE4/4KF/9Gv/AAZ/8Pxq3/zL1ySyTJpu7w0P/AI/okfQUfFDxJw8eWnnOKS7e3qtfdKUl%2BB5j/w53%2BAth/yKX7QPxx0DH3f7H%2BKV0m36b1aqfwU/ZOT9l3/goX4Mjt/2jfip4%2Bh1v4M%2BMvLi%2BJni/wDtUab5OreFeLU%2BWnlCTzRv67vKj6Y59a/4Tj/goX/0a/8ABn/w/Grf/MvVDwP4H/as8Y/tWeHPjd8bvhx8PfDOjeGfh74h0OGHwr8Q77Wrq7utSvtEuEZkuNIsUijRNLlBYO7FpUAXGSNKGVZdhqqqUqai12cvy5rfgcuacf8AGed4CeDzDGyq052upRpNuzTXvewU1qltUV9ndXT91ooor0D48K8h/bX%2BJHj74efCfSLL4ZeJW0LWPFnj/wAO%2BGIfESWkM76TFqGp29vPcxxzo8TTCF5BF5iPGJWjLo6go3r1c78WPhP4B%2BN/gK9%2BGfxN0NtQ0e/eCSaGK9mtpY5YZkngnhngdJYJopoo5Y5YnWSOSNHRlZQQAfMmt/tI/tAeEv2Ivi3fwfEb%2B1vHPw%2B%2BIF34Q0HxXd6ZaJd62zX9rFabII4VtDqLx3sdrGPKS3e8VC0aRsyL5aP2qv21r/Q4fhLY%2BJfiZceKbb4y6to2oeG9N0zwevxCh0iDw5balCsxnT/hHWxNdwzPNE202t1aRq5uTKh%2BvLX9i79nK0%2BFN78Ev%2BEL1CfwxqVvIl/p174q1O4NxNJevfPevLLcNK18bpzOb4t9q8wK3m5RcZUv/BPz9lmTwzB4bTwl4ihmt/EM%2BuL4jtfiJrkOvPqE1qtpLPJrCXo1CUvbRxQMHnZTFDFGRtjQKAWf2ZPj1qXiv9iHwH%2B0L8U9WfXNRv8AwFpupeJLvwh4Zvrlrm8e3j%2B0G3sYYGuifNLjyli3rggoMEDl/wDgmJZ%2BGpP2c/EPjHwvaahDD4o%2BN3xG1iVNV0yeyud0vjHVwBLb3Ecc0DhERTHIiupXDAEEV7f8P/APg34VeBtH%2BGnw78O22kaDoGmw2Gj6XZptitbaJAkcajrgKAOck9SSa%2BYv2SvFn7Z2n/D3xRZ/DH4B/DDV9CT40/EX%2Bz9R174u6jpt3Mv/AAmesljJbRaBcpEQ24ACZ8gA5BO0JxTab6Fxq1IQlCLspWuu9ndX9HqfWtFeM/8ACcf8FC/%2BjX/gz/4fjVv/AJl6P%2BE4/wCChf8A0a/8Gf8Aw/Grf/MvTIPZqK8Z/wCE4/4KF/8ARr/wZ/8AD8at/wDMvR/wnH/BQv8A6Nf%2BDP8A4fjVv/mXoA9mor5x%2BCP7R37dvx4%2BDHhD44%2BFf2UPhJa6X4z8L6frum22ofHXVFnhgu7aO4jSQJ4YZQ4WQBgrMMg4JHNdR/wnH/BQv/o1/wCDP/h%2BNW/%2BZegD2aivGf8AhOP%2BChf/AEa/8Gf/AA/Grf8AzL0f8Jx/wUL/AOjX/gz/AOH41b/5l6APZqK%2Bcfjd%2B0d%2B3b8B/gx4v%2BOPir9lD4SXWl%2BDPC%2Boa7qVtp/x11Rp5oLS2kuJEjD%2BGFUuVjIUMyjJGSBzXUf8Jx/wUL/6Nf8Agz/4fjVv/mXoA9morxn/AITj/goX/wBGv/Bn/wAPxq3/AMy9H/Ccf8FC/wDo1/4M/wDh%2BNW/%2BZegD2aivGf%2BE4/4KF/9Gv8AwZ/8Pxq3/wAy9cv8Xf2jv27fg14UtPF/iP8AZQ%2BElzb3nijRNCjjsvjrqjOJ9U1W10yBzu8MKNizXcbOc5CKxAY4UgH0dRXjP/Ccf8FC/wDo1/4M/wDh%2BNW/%2BZej/hOP%2BChf/Rr/AMGf/D8at/8AMvQB7NRXjP8AwnH/AAUL/wCjX/gz/wCH41b/AOZej/hOP%2BChf/Rr/wAGf/D8at/8y9AHs1FfOPj79o79u34d%2BK/BHhDWP2UPhJNcePPFEuhaVJbfHXVCkE8elahqZeXd4YBCeTp0ygqGO90GMEsvUf8ACcf8FC/%2BjX/gz/4fjVv/AJl6APZqK8Z/4Tj/AIKF/wDRr/wZ/wDD8at/8y9H/Ccf8FC/%2BjX/AIM/%2BH41b/5l6APZqK8Z/wCE4/4KF/8ARr/wZ/8AD8at/wDMvXL6t%2B0d%2B3bo/wAZ9A%2BB1x%2Byh8JG1TxF4X1fXbO5T466p5EcGnXOm28yOT4Y3B2bVICoCkEJJkqQoYA%2BjqK8Z/4Tj/goX/0a/wDBn/w/Grf/ADL0f8Jx/wAFC/8Ao1/4M/8Ah%2BNW/wDmXoA9morxn/hOP%2BChf/Rr/wAGf/D8at/8y9H/AAnH/BQv/o1/4M/%2BH41b/wCZegD2aivnHSf2jv27dY%2BM%2Bv8AwOt/2UPhIuqeHfC%2Bka7eXL/HXVPIkg1G51K3hRCPDG4uraXOWBUAB48FiWC9R/wnH/BQv/o1/wCDP/h%2BNW/%2BZegD2aivGf8AhOP%2BChf/AEa/8Gf/AA/Grf8AzL0f8Jx/wUL/AOjX/gz/AOH41b/5l6APZqK8Z/4Tj/goX/0a/wDBn/w/Grf/ADL1y/gH9o79u34ieK/G/hDR/wBlD4SQ3HgPxRFoWqyXPx11QJPPJpWn6mHi2%2BGCSnk6jCpLBTvRxjADMAfR1FeM/wDCcf8ABQv/AKNf%2BDP/AIfjVv8A5l6P%2BE4/4KF/9Gv/AAZ/8Pxq3/zL0AezV4z%2By/8A8lv/AGjv%2ByzWP/qFeF6P%2BE4/4KF/9Gv/AAZ/8Pxq3/zL1b/ZW%2BHPxp8H6x8UPHfx00DwvpOqePviFFrlnpXhPxLc6tb2trFoOj6YqvcXFlZs0jSadK5URbQsiDcxzgA9booooAKKKKACiiigAooooAKKKKACiiigAooooAKKKKACiiigAooooAKKKKACvlf9p79rT4ufDD4x%2BLNa8A%2BHfB8nhj4P%2BH/D9741OtaRcTarqlvq9/KlzBYXEdxGll5FtZx3GZIpxcyFIyIfL80/VFeM/Gf9iH4cfG74pH4ma5458VaXFqNrpFr4v8NaNdWqad4pg0u9kvbGK%2BWW3kmCxzTS5%2BzywGWOQxTGWMKgAPZqKKKACiiigD5j8OftK/EyH9v/AMUfB/4jax4e8J%2BG18QWmieDItR%2BEWspdeMYBoEGo4g8RtdrpzSx3dzqAFoIXk8u0mAUFmkX6cryvxZ%2By1B4/wDjJpHxT8e/G/xrq%2BleHtdj1rQPAFwdMi0ax1CO3eCOcNDZJey7PMkkVJrqSMSPu2fIgX1SgAooooA8X/4KC/F344fs/fsj%2BNPj18Ar3wpHrHgnQrvXLqDxhotzfW13aWttLM9uiW11bMkrsiKJC5VAWJR%2BBXn/AI8/a0%2BLngv48eLdT8KeHfCEXw88IfGPwj8PvGVnNpFwdb1XVddg0VI9Qhu0uFhjjg/tzSYzFJbyvIkM%2BJY9qCvYf2sf2cbL9rT4Ea9%2Bz7rXxV8U%2BEdJ8T2Utjrl/wCEF077Xc2UsTxTW26/tLqNEdX5ZEWQFRtdec8XB%2BwD4On%2BItn8RfFXxx8fa6x1nSdc8TaNqEulRWPifXNMSNLHVr2O2sImW4iEFphbZoIGNjbF4mMeSAe90UUUAFeL/tk/F344fBK18A%2BMfhZe%2BFP7G1D4meHPD3i%2Bx8QaLc3N1c2uq6zY6aDZyw3UKW0ka3Msm%2BRJ1JRF2ck17RXlX7V37Lb/ALVXhvQvC8/x98b%2BBrfQvElhrqN4Lh0dnu72xvILyzaU6lp94NsVxbxuFjCBuVk3qdoAPOP2ef2lfiZrf7VXi34I/FDV/D3hPTofFOt2/gnwlJ8ItZ0y5162hdJTf2%2BtXF39g1B2Mk0ssVtAX5LsVwxP05Xkuk/soh/jJovxl%2BI/7QHjvxrN4Xu7y78J6F4hGkw2Gj3VzbyWslxEthp9tLK/2eaeFfPklVFnfaASCPWqACiiigDw/wDbu%2BLnx4/Z%2B%2BDWr/HX4UeMfAtjp/hbRbm8vdF8WeGb2/ufEN7lFs9Ms5La9g%2BzzXEpFujeVdM0s8QWFj8ref8AwR/a%2B%2BM%2BufEvwV/a3gzwlpHw08b/ABP8UfDbwr4a07S5o9X0S/0CHVt889yLhreaCRvD%2BposMdvEY1a2PmSZYD0/9pX9kGD9pLx54I%2BIE37QPjvwhc%2BAbu5vdFsfDEWjT2cl7KgjW8mg1PTrxHnhj8xYZAFMYnlI%2BZsir4D/AGGvh74D%2BMtv8XYfiL4u1KDTtd1PXtE8Ialc2X9k6VreoxvHqGqQJFapP584nuyyvM8KNfXJjij8zgA9rooooAK%2BX/2ufjx%2B0v8ABb4iaf4U0qHwB410fxzDrVtovw5i8H30msJa2mh3V3Jf3E4vXiurYXUVvbSQi1iB%2B3woJjIyJJ9QV4dN%2BxNcR/tH%2BK/2mtE/ar%2BJenav4t02HTrnS4YPD89pp9nDA0cNtZtc6TLc28Syu91sWba87l3Dg7aAGfsIftB%2BN/j38Pby6%2BK/j7Rr7xdpws21/wAN2Xwu1fwjeaA89ssogubLV7qe4cFt/l3ACRyKh2htpNe6V5v8Dv2btO%2BDPifxJ8Q9Y%2BKXinxx4q8VxWNvrHifxc1gty9pZib7LapFp9ra20cUbXNy42whma4kLM2Rj0igAooooA%2BOf%2BCgn7cfxU/Yw8c/2nrmi6B4x8Ivo2o63b%2BFZfhzqdlLbppujX2pJJ/wkU10%2BmT3f2vTRssVgS6EcyygbYWkb179mj4u/HPVvip43/Z6/aOufCmoeJ/COk6HrUeteCtIubCxubHVBeRpEYLm5uXWWK4067Uv5uJEMTbIySorfHX9hLwR%2B05rV1a/H/4t%2BNfFHgu5kuJF%2BGV5JpsOixSTWM1kzb7eyjvpAI7iZgkt06B33bfkQL0/7Pn7M2kfAO817xFd/FDxZ448R%2BJDZx6t4q8a3Fm99LbWkRitbUfY7a3hWKIPKwxHvZ55XdnZyaAPSqKKKACviP8Aan/bK/az%2BDfxq8QfCjwd4b8OeNdTsNFuNd8MBPgf4gjk0UDUdMtUMLfbnHiaQWOqXHnf2X5TwtCVlEYmEdfbleH69%2BxbqfiXx6fidrX7XPxRm1vT4LyLwbeFNAA8KrdTQyT/AGSMaTsnZo4Ft916t0yxM4Uq7s5AOq/ZY%2BLD/GT4RweLL34maN4qv4dRurLVL7RvBl94dFtcRSsrWs2m6hcT3VnPGMK8czh8/NtUMBXo1cN8A/gL4e%2BAHhnU9G0rxTrfiDUdf1641vxJ4k8RzQNe6rfzBEaeUW8UMCYjihiVIYo41SJAFGCT3NABRRRQAUUUUAFFFFABRRRQBR8UeIbDwl4a1HxXqoc2umWM13ciJct5caF2wO5wpr5z/Ym/aT%2BNfj/xTo/gz42eHvBlmPHXwtsviN4Zh8GaVcWg0yO8uCbvT7szXEou5o3ubZ/tiCATtLMTBHtBf6Wu7S1v7WWxvbdJoZo2jmilUMrqRgqQeCCOMV5D%2BzN%2BxX4C/Zg1V9X0D4g%2BLfEstt4YsfDPh0eLL21mGgaFZvI9vptqbe3hLRqZPmlnM1xII4vMmfy1wAexUUUUAFcL%2B1B48%2BIvws/Zo%2BInxO%2BD/hRde8W%2BHPAur6p4W0NrGa6Go6jb2csttbGGBllmEkqInlxsHbdhSCQa7qs7xbol/wCJfDGoeH9L8V6joVze2kkNvrWkLA11YuykCaIXEUsRdTyBJG6ZHzKwyCAeXfsU/Fqf4ofDO%2BstW%2BIXh/WdT8O6qunXmmaJ8MNT8HPoaC2gkis7jStUuZ7mFwjiRXby0eKWLYmBvf2KvPPgP%2BztpPwOvPEviO5%2BIniTxj4k8X6jDeeIvFPit7MXd0YbdLeCIR2NtbW0UUcaAKscKZLOzFmZmPodABRRRQB8uftUftY/FD9nD4veOLL4laN4S8RfC%2Bw/Z38X%2BPbbQrfRLhNVdtEGlrPbXFzJcvbzRTrfTgILZCoRMu%2BWFdv%2BzP8AF/4%2Bap8XPGX7Ov7Sz%2BErzxR4Y8MeHvEseq%2BCtJubGykstWfUrdbYw3NzcuZYbjSLsGUSBZEeJvLjO5ag%2BMf7Cvh346fHVvjL48%2BO3jmXTZvBWp%2BEb74ewwaL/Yl3o2pLbfb7SQvprXpE7WkDs4ug6lCEZEZkPSfs7/su6H%2Bz7fa14jn%2BKHi3xv4h1%2B1sLK/8T%2BNrm0kvTYWKSLZ2Y%2ByW1vH5URnuHBKGR3uZXd3Zs0Aen0UUUAFfInxr/aX/AGtvBmu/tAeBLfwr4M8WXvgLw/4U8SfDax0n4f6nfzrHqOq6lCEvLWK8eXUZ4F02OdTbC3JckKvyq1fXdeFy/sUeIYvjp42%2BP%2BhftofFbStW8b6RY6Zc2NlZ%2BGGtNNtrK4uZ7NLYS6K8n7o3l0oMzyl1nIk8wqhUA6v9lT4tzfGX4UjxNqPxO0bxTqNrqtzY6tdaP4Iv/DZs7iJvmtZ9M1G4nurSdFK7kmYMQyttVWFek1wnwD%2BAegfAHQtZsdP8W654j1XxN4gl1zxP4m8SS27Xuq38kMMHmyC2hhgjCwW9vCqRRRoqQoAuck93QAUUUUAfG37S37Xf7S37PHxmg%2BG2sp8M/Gt9rcEE3hGHTvC17aS%2BC7zUvEOmeHtIm1OV76YXUU7avOC0S2cjixuljDL5hi9x/ZV%2BL/xI%2BIw8f/D74xHRJ/FXw08eN4a1nVfDWnTWdhqfmaXp2rW9xDbzTzyW%2BbXVLdHjaaXEkcmGIIxwtt/wTV8JNdfEN/EP7S/xO1m3%2BJOvHXNYt9SOheZZ6lFcQz6fc211FpaXSmwe3txaRvNJFEsKBkfnPrHwD%2BAuh/APw9q2m2Xi/XPEmreItem1rxP4o8SvbG/1e%2Bkjih86YWsEEC7IILeBEiijRY4I1C8EkA7qiiigBlz9p%2BzSfY9nnbD5Xm527scZxzjNfEHxW/a5/bT%2BGnxE1z4bW9t4D8Z694YvfDVvq3jrwR8Fdf1aPw5b6s1497YS6VZ6lPd3M0cNlY3RMU6fu7qFpYEBiaT7eu4ZLi1lt4bqSB5I2VZ4gpeMkYDLuBXI6jII9Qa%2Be/gx%2BwF4g%2BAnw2uPhp8O/wBur4xRR3WrPqc2s3ll4Tn1CW7leWS5nmmfQj9pkneXdJJOJHzGmwoBggHrPwE%2BIdl8Vvg74f8AiFYfEDRvFSanp4kfX/D%2BkzWFpdyAlZClrPNNLbFXVkaGSR3jZWVjuUgdfXJfAv4L%2BEv2ffhfp3wp8FXN/cWVhLdXE19qtyJrq%2Bu7q5lurq6mcKoaWa4nmlfaqrukO1VXCjraACqPieHxJc%2BG9Qt/Bup2Nlq8llKul3mp2D3VtBcFCI5JYY5YmmjVsFkWSMsAQHUncL1ZvjHQb/xR4Wv/AA7pfi3UtBuby1eKDWtHEBurFyOJohcRSxF1PIEkbocfMrDIoA%2BHvhv%2B3Z%2B1r8YPinrfwS%2BFmm/D5PGem2uu30njPxX8Lta0NdU0zSLXRZUsZdEvL5NQ0%2BV7vxDsSaeZ4/KhkuEhdZ0B%2BxvgF8WtN%2BPnwJ8FfHXRtNls7Pxr4S03XrSzmfc8EV5ax3CxsQBkqJACfUV4tq//AATI8D61rl98Rbv9pT4pp8QNWS8tda%2BJNte6RDq1/pl1bWttNphRNNFnDbFLK0YeRbRSrJAsqyhyzH6D8F%2BD/DXw88HaT4A8GaTFp%2Bj6HpkGn6TYQ52W1tDGscUa55wqKqj6UAadFFFAHL/GnUfHGjfC3Wtb%2BHPiGx0vVrCzN1Dfah4PvfECJHGQ8oGnWM8FzeSNErqkUMgcuy4Vz8jfFvwl/wCCiPx%2B8SeNND1PxvceEfAngzUp518QeOLz4GeIprbWL%2BHX7rSES5lW%2BjTwzPJa2lr%2B41RpJYHlWN87AlfbfxM8Ga7498JTeHPDfxS1/wAG3kksbxa/4ZisXu4NrAlVW/trmBgwBUh4m4Jxg4I8Vuv%2BCc3hTUPB9x8NtW/aQ%2BJt34Y1zUJr/wAeaBNcaOIvGF3PeNdXE19Kumi4i80ssLR2ctrEIYkjVFG7cAfRNFFFABRRRQAUUUUAFFFFABRRRQAUUUUAFFFFABRRRQAUUUUAFFFFABRRRQAUUUUAFFFFABRRRQAUUUUAFFFFABRRRQAUUUUAFFFFABRRRQAUUUUAFFFFABRRRQAUUUUAFFFFABRRRQAUUUUAFFFFABRRRQAUUUUAFFFFABRRRQAUUUUAFFFFABRRRQAUUUUAFFFFABRRRQAUUUUAFFFFABRRRQAUUUUAFFFFABRRRQAUUUUAFFFFABRRRQAUUUUAFFFFABRRRQAUUUUAFFFFABRRRQAUUUUAFFFFABRRRQAUUUUAFFFFABRRRQAUUUUAFFFFAH//2Q%3D%3D\">"
            ]
          },
          "metadata": {
            "tags": []
          }
        }
      ]
    },
    {
      "metadata": {
        "id": "QCKmuwnJ0yX6",
        "colab_type": "text"
      },
      "cell_type": "markdown",
      "source": [
        "# Submit a linear model"
      ]
    },
    {
      "metadata": {
        "id": "4RgIQ1yA0yX8",
        "colab_type": "code",
        "colab": {}
      },
      "cell_type": "code",
      "source": [
        "## GRADED PART, DO NOT CHANGE!\n",
        "# Testing shapes \n",
        "grader.set_answer(\"9XaAS\", grading_utils.get_tensors_shapes_string([W, b, input_X, input_y, logits, probas, classes]))\n",
        "# Validation loss\n",
        "grader.set_answer(\"vmogZ\", s.run(loss, {input_X: X_val_flat, input_y: y_val_oh}))\n",
        "# Validation accuracy\n",
        "grader.set_answer(\"RMv95\", accuracy_score(y_val, s.run(classes, {input_X: X_val_flat})))"
      ],
      "execution_count": 0,
      "outputs": []
    },
    {
      "metadata": {
        "id": "0AlpuDEm0yYC",
        "colab_type": "code",
        "colab": {
          "base_uri": "https://localhost:8080/",
          "height": 34
        },
        "outputId": "898a5a77-d3e9-4801-985f-9fa68fc6febb"
      },
      "cell_type": "code",
      "source": [
        "# you can make submission with answers so far to check yourself at this stage\n",
        "grader.submit(COURSERA_EMAIL, COURSERA_TOKEN)"
      ],
      "execution_count": 23,
      "outputs": [
        {
          "output_type": "stream",
          "text": [
            "Submitted to Coursera platform. See results on assignment page!\n"
          ],
          "name": "stdout"
        }
      ]
    },
    {
      "metadata": {
        "id": "kDJu9bF70yYH",
        "colab_type": "text"
      },
      "cell_type": "markdown",
      "source": [
        "# MLP with hidden layers"
      ]
    },
    {
      "metadata": {
        "id": "gMixuu150yYJ",
        "colab_type": "text"
      },
      "cell_type": "markdown",
      "source": [
        "Previously we've coded a dense layer with matrix multiplication by hand. \n",
        "But this is not convenient, you have to create a lot of variables and your code becomes a mess. \n",
        "In TensorFlow there's an easier way to make a dense layer:\n",
        "```python\n",
        "hidden1 = tf.layers.dense(inputs, 256, activation=tf.nn.sigmoid)\n",
        "```\n",
        "\n",
        "That will create all the necessary variables automatically.\n",
        "Here you can also choose an activation function (remember that we need it for a hidden layer!).\n",
        "\n",
        "Now define the MLP with 2 hidden layers and restart training with the cell above.\n",
        "\n",
        "You're aiming for ~0.97 validation accuracy here."
      ]
    },
    {
      "metadata": {
        "id": "oM_HHlSV0yYK",
        "colab_type": "code",
        "colab": {
          "base_uri": "https://localhost:8080/",
          "height": 88
        },
        "outputId": "dc12cc65-20a5-466e-eb67-468f8e07a1f1"
      },
      "cell_type": "code",
      "source": [
        "# write the code here to get a new `step` operation and then run the cell with training loop above.\n",
        "# name your variables in the same way (e.g. logits, probas, classes, etc) for safety.\n",
        "hidden1 = tf.layers.dense(input_X, 256, activation=tf.nn.sigmoid)\n",
        "logits = tf.layers.dense(hidden1, 10) ### YOUR CODE HERE ### logits for input_X, resulting shape should be [input_X.shape[0], 10]\n",
        "probas = tf.nn.softmax(logits)### YOUR CODE HERE ### apply tf.nn.softmax to logits\n",
        "classes = tf.argmax(probas,axis=1)### YOUR CODE HERE ### apply tf.argmax to find a class index with highest probability\n",
        "\n",
        "# Loss should be a scalar number: average loss over all the objects with tf.reduce_mean().\n",
        "# Use tf.nn.softmax_cross_entropy_with_logits on top of one-hot encoded input_y and logits.\n",
        "# It is identical to calculating cross-entropy on top of probas, but is more numerically friendly (read the docs).\n",
        "loss = tf.reduce_mean(tf.nn.softmax_cross_entropy_with_logits(labels=input_y,logits=logits))### YOUR CODE HERE ### cross-entropy loss\n",
        "\n",
        "# Use a default tf.train.AdamOptimizer to get an SGD step\n",
        "step = tf.train.AdamOptimizer().minimize(loss)### YOUR CODE HERE ### optimizer step that minimizes the loss"
      ],
      "execution_count": 26,
      "outputs": [
        {
          "output_type": "stream",
          "text": [
            "WARNING:tensorflow:From <ipython-input-26-206ba45e0fac>:1: dense (from tensorflow.python.layers.core) is deprecated and will be removed in a future version.\n",
            "Instructions for updating:\n",
            "Use keras.layers.dense instead.\n"
          ],
          "name": "stdout"
        }
      ]
    },
    {
      "metadata": {
        "id": "apwnPY1c0yYO",
        "colab_type": "text"
      },
      "cell_type": "markdown",
      "source": [
        "# Submit the MLP with 2 hidden layers\n",
        "Run these cells after training the MLP with 2 hidden layers"
      ]
    },
    {
      "metadata": {
        "id": "JzCzPI1e0yYQ",
        "colab_type": "code",
        "colab": {}
      },
      "cell_type": "code",
      "source": [
        "## GRADED PART, DO NOT CHANGE!\n",
        "# Validation loss for MLP\n",
        "grader.set_answer(\"i8bgs\", s.run(loss, {input_X: X_val_flat, input_y: y_val_oh}))\n",
        "# Validation accuracy for MLP\n",
        "grader.set_answer(\"rE763\", accuracy_score(y_val, s.run(classes, {input_X: X_val_flat})))"
      ],
      "execution_count": 0,
      "outputs": []
    },
    {
      "metadata": {
        "id": "SqMp0ft00yYZ",
        "colab_type": "code",
        "colab": {
          "base_uri": "https://localhost:8080/",
          "height": 34
        },
        "outputId": "0bbcebbc-e6bd-4d96-ecd7-f01b3a4c8fa3"
      },
      "cell_type": "code",
      "source": [
        "# you can make submission with answers so far to check yourself at this stage\n",
        "grader.submit(COURSERA_EMAIL, COURSERA_TOKEN)"
      ],
      "execution_count": 29,
      "outputs": [
        {
          "output_type": "stream",
          "text": [
            "Submitted to Coursera platform. See results on assignment page!\n"
          ],
          "name": "stdout"
        }
      ]
    },
    {
      "metadata": {
        "id": "Vc216zRt0yYh",
        "colab_type": "code",
        "colab": {}
      },
      "cell_type": "code",
      "source": [
        ""
      ],
      "execution_count": 0,
      "outputs": []
    }
  ]
}